{
 "cells": [
  {
   "cell_type": "markdown",
   "id": "danish-powell",
   "metadata": {},
   "source": [
    "탐험가 공포도에 따른 최대 그룹 수 구하기"
   ]
  },
  {
   "cell_type": "code",
   "execution_count": 8,
   "id": "extreme-rhythm",
   "metadata": {},
   "outputs": [
    {
     "name": "stdout",
     "output_type": "stream",
     "text": [
      "4\n"
     ]
    }
   ],
   "source": [
    "n = [5,1,2,2,2,2,2,3,3]\n",
    "n.sort()\n",
    "count = 0\n",
    "result = 0\n",
    "for i in n:\n",
    "    count += 1\n",
    "    if count >= i:\n",
    "        result += 1 \n",
    "        count = 0\n",
    "print(result)"
   ]
  },
  {
   "cell_type": "markdown",
   "id": "prime-corps",
   "metadata": {},
   "source": [
    "삼각 달팽이"
   ]
  },
  {
   "cell_type": "code",
   "execution_count": 14,
   "id": "green-induction",
   "metadata": {},
   "outputs": [
    {
     "data": {
      "text/plain": [
       "[1, 2, 9, 3, 10, 8, 4, 5, 6, 7]"
      ]
     },
     "execution_count": 14,
     "metadata": {},
     "output_type": "execute_result"
    }
   ],
   "source": [
    "n = 4\n",
    "maps = [[0 for _ in range(n)] for _ in range(n)]\n",
    "y, x = -1 , 0\n",
    "number = 1\n",
    "for i in range(n):\n",
    "    for j in range(i, n):\n",
    "        if i % 3 == 0:\n",
    "            y += 1\n",
    "        elif i % 3 == 1:\n",
    "            x += 1\n",
    "        else:\n",
    "            y -=1; x-=1\n",
    "        maps[y][x] = number\n",
    "        number += 1\n",
    "result = [val for val in sum(maps, []) if val != 0]\n",
    "result"
   ]
  },
  {
   "cell_type": "markdown",
   "id": "behavioral-addition",
   "metadata": {},
   "source": [
    "체스 나이트가 갈 수 있는 모든 경우의 수 체크하기"
   ]
  },
  {
   "cell_type": "code",
   "execution_count": 3,
   "id": "unknown-extreme",
   "metadata": {},
   "outputs": [
    {
     "name": "stdout",
     "output_type": "stream",
     "text": [
      "8\n"
     ]
    }
   ],
   "source": [
    "input_x = 3\n",
    "input_y = 4\n",
    "start_x, start_y = input_x, input_y\n",
    "n = 8\n",
    "move_type = {\"case1\":[2,1], \"case2\":[2,-1], \"case3\":[-2,1], \"case4\":[-2,-1], \n",
    "             \"case5\":[1,-2], \"case6\":[-1,-2], \"case7\":[1,2], \"case8\":[-1,2]}\n",
    "count = 0\n",
    "for i in move_type:\n",
    "    x, y = move_type[i] \n",
    "    dx = start_x + x\n",
    "    dy = start_y + y\n",
    "    if dx >= 0 and dx <= n and dy >= 0 and dy <= n:\n",
    "        count += 1\n",
    "        start_x, start_y = input_x, input_y\n",
    "print(count)"
   ]
  },
  {
   "cell_type": "markdown",
   "id": "controlled-capability",
   "metadata": {},
   "source": [
    "문자열 처리"
   ]
  },
  {
   "cell_type": "code",
   "execution_count": 35,
   "id": "accessible-julian",
   "metadata": {},
   "outputs": [
    {
     "name": "stdout",
     "output_type": "stream",
     "text": [
      "r..!#FQEF#F#!QEQf1rqr3133af..f......ㄹㄹㄷ..가나다..r\n",
      "rFQEFFQEQf1rqr3133affㄹㄹㄷ가나다r\n",
      "rF갈!EFF갈!E갈!f1rqr3133affㄹㄹㄷ가나다r\n"
     ]
    }
   ],
   "source": [
    "import re\n",
    "\n",
    "s = \"...!#FQEF#F#!QEQf1rqr3133af..f......ㄹㄹㄷ..가나다...\"\n",
    "s = re.sub(\"^[.]|[.]$\", \"r\", s) # 맨 앞, 맨 뒤 . r로 교체\n",
    "print(s)\n",
    "s = re.sub(\"[^a-zA-Z0-9ㄱ-ㅎ가-힣]\",\"\", s) # 특수문자 제거\n",
    "print(s)\n",
    "s = re.sub(\"[Q]\",\"갈!\", s) # Q를 갈!로 교체\n",
    "print(s)"
   ]
  },
  {
   "cell_type": "code",
   "execution_count": null,
   "id": "hidden-frank",
   "metadata": {},
   "outputs": [],
   "source": []
  }
 ],
 "metadata": {
  "kernelspec": {
   "display_name": "Python 3",
   "language": "python",
   "name": "python3"
  },
  "language_info": {
   "codemirror_mode": {
    "name": "ipython",
    "version": 3
   },
   "file_extension": ".py",
   "mimetype": "text/x-python",
   "name": "python",
   "nbconvert_exporter": "python",
   "pygments_lexer": "ipython3",
   "version": "3.7.3"
  }
 },
 "nbformat": 4,
 "nbformat_minor": 5
}
