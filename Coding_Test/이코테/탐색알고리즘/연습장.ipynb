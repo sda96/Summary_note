{
 "cells": [
  {
   "cell_type": "markdown",
   "id": "atlantic-symposium",
   "metadata": {},
   "source": [
    "### 그래프 탐색 알고리즘 : DFS / BFS"
   ]
  },
  {
   "cell_type": "markdown",
   "id": "unexpected-curve",
   "metadata": {},
   "source": [
    "- 탐색(search)이란 많은 양의 데이터 중에서 원하는 데이터를 찾는 과정을 말합니다\n",
    "- 대표적인 그래프 탐색 알고리즘으로는 DFS와 BFS가 있습니다"
   ]
  },
  {
   "cell_type": "markdown",
   "id": "described-worker",
   "metadata": {},
   "source": [
    "#### 스택 자료구조 (pop 활용)"
   ]
  },
  {
   "cell_type": "markdown",
   "id": "fluid-azerbaijan",
   "metadata": {},
   "source": [
    "- 먼저 들어온 데이터가 나중에 나가는 선입후출 방식의 자료구조입니다\n",
    "- 입구와 출구가 동일한 형태로 스택을 시각화 할 수 있습니다"
   ]
  },
  {
   "cell_type": "code",
   "execution_count": 3,
   "id": "vietnamese-omega",
   "metadata": {},
   "outputs": [
    {
     "name": "stdout",
     "output_type": "stream",
     "text": [
      "[5, 2, 3, 1]\n",
      "[1, 3, 2, 5]\n"
     ]
    }
   ],
   "source": [
    "stack = []\n",
    "stack.append(5)\n",
    "stack.append(2)\n",
    "stack.append(3)\n",
    "stack.append(7)\n",
    "stack.pop()\n",
    "stack.append(1)\n",
    "stack.append(4)\n",
    "stack.pop()\n",
    "print(stack)\n",
    "print(stack[::-1]) # 역순"
   ]
  },
  {
   "cell_type": "markdown",
   "id": "atlantic-pound",
   "metadata": {},
   "source": [
    "#### 큐 자료구조(popleft 활용)"
   ]
  },
  {
   "cell_type": "markdown",
   "id": "european-developer",
   "metadata": {},
   "source": [
    "- 먼저 들어온 데이터가 먼저 나가는 선입선출 방식의 자료구조입니다\n",
    "- 큐는 입구와 출구가 모두 뚫려 있는 터널과 같은 형태로 시각화 할 수 있습니다"
   ]
  },
  {
   "cell_type": "code",
   "execution_count": 11,
   "id": "independent-induction",
   "metadata": {},
   "outputs": [
    {
     "name": "stdout",
     "output_type": "stream",
     "text": [
      "deque([3, 7, 1, 4])\n",
      "deque([4, 1, 7, 3])\n"
     ]
    }
   ],
   "source": [
    "from collections import deque\n",
    "# list를 이용하여 큐를 구현하면 시간복잡도가 높기에 비효율적임 deque 쓰세요\n",
    "que = deque()\n",
    "que.append(5)\n",
    "que.append(2)\n",
    "que.append(3)\n",
    "que.append(7)\n",
    "que.popleft()\n",
    "que.append(1)\n",
    "que.append(4)\n",
    "que.popleft()\n",
    "print(que)\n",
    "que.reverse()\n",
    "print(que)"
   ]
  },
  {
   "cell_type": "code",
   "execution_count": 14,
   "id": "indoor-blowing",
   "metadata": {
    "scrolled": true
   },
   "outputs": [
    {
     "ename": "TypeError",
     "evalue": "sequence index must be integer, not 'slice'",
     "output_type": "error",
     "traceback": [
      "\u001b[1;31m---------------------------------------------------------------------------\u001b[0m",
      "\u001b[1;31mTypeError\u001b[0m                                 Traceback (most recent call last)",
      "\u001b[1;32m<ipython-input-14-85e9b4f80ec1>\u001b[0m in \u001b[0;36m<module>\u001b[1;34m\u001b[0m\n\u001b[1;32m----> 1\u001b[1;33m \u001b[0mque\u001b[0m\u001b[1;33m[\u001b[0m\u001b[1;36m0\u001b[0m\u001b[1;33m:\u001b[0m\u001b[1;36m4\u001b[0m\u001b[1;33m]\u001b[0m\u001b[1;33m\u001b[0m\u001b[1;33m\u001b[0m\u001b[0m\n\u001b[0m",
      "\u001b[1;31mTypeError\u001b[0m: sequence index must be integer, not 'slice'"
     ]
    }
   ],
   "source": [
    "que[0:4] # deque는 인덱싱은 가능하지만 슬라이싱은 안됩니다"
   ]
  },
  {
   "cell_type": "markdown",
   "id": "lucky-transsexual",
   "metadata": {},
   "source": [
    "#### 재귀함수"
   ]
  },
  {
   "cell_type": "markdown",
   "id": "earlier-internet",
   "metadata": {},
   "source": [
    "- 재귀함수(recursive function)은 자기 자신을 다시 호출하는 함수를 의미합니다\n",
    "- 재귀함수는 어느 정도 출력하다가 최대 재귀 깊이 초과 메시지가 출력됩니다"
   ]
  },
  {
   "cell_type": "code",
   "execution_count": 38,
   "id": "departmental-heart",
   "metadata": {},
   "outputs": [
    {
     "data": {
      "text/plain": [
       "3628800"
      ]
     },
     "execution_count": 38,
     "metadata": {},
     "output_type": "execute_result"
    }
   ],
   "source": [
    "# 팩토리얼 재귀 함수\n",
    "def factorial(n):\n",
    "    if n <= 1: # 종료 조건\n",
    "        return 1\n",
    "    return n * factorial(n-1) # 재귀함수\n",
    "\n",
    "factorial(10)"
   ]
  },
  {
   "cell_type": "code",
   "execution_count": 42,
   "id": "advanced-threat",
   "metadata": {},
   "outputs": [
    {
     "data": {
      "text/plain": [
       "6"
      ]
     },
     "execution_count": 42,
     "metadata": {},
     "output_type": "execute_result"
    }
   ],
   "source": [
    "# 유클리드 호제법 재귀 함수\n",
    "# Greatest Common Divisor(GCD)\n",
    "def GCD(a, b):\n",
    "    if a > b:\n",
    "        r = a % b # 두 자연수 a,b에 대하여 a를 b로 나눈 나머지를 r이라 한다\n",
    "        if r == 0:\n",
    "            return b # 이때 a와 b의 최대공약수는 b와 r의 최대공약수와 같다\n",
    "    return GCD(b, r)\n",
    "\n",
    "GCD(192, 162)"
   ]
  },
  {
   "cell_type": "markdown",
   "id": "registered-destruction",
   "metadata": {},
   "source": [
    "재귀 함수를 잘 활용하면 복잡한 알고리즘을 간결하게 작성할 수 있습니다  \n",
    "단, 오히려 다른 사람이 이해하기 어려운 형태의 코드가 될 수도 있으므로 신중하게 사용해야 합니다  \n",
    "모든 재귀함수는 반복문을 이용하여 동일한 기능을 구현할 수 있습니다  \n",
    "재귀 함수가 반복문보다 유리한 경우도 있고 불리한 경우도 있습니다  \n",
    "컴퓨터가 함수를 연속적으로 호출하면 컴퓨터 메모리 내부의 스택 프레임에 쌓입니다  \n",
    "그래서 스택을 사용해야 할 때 구현상 스택 라이브러리 대신에 재귀 함수를 이용하는 경우가 많습니다"
   ]
  },
  {
   "cell_type": "markdown",
   "id": "healthy-boost",
   "metadata": {},
   "source": [
    "#### DFS (Depth-First Search)"
   ]
  },
  {
   "cell_type": "markdown",
   "id": "operating-roman",
   "metadata": {},
   "source": [
    "- DFS는 깊이 우선 탐색이라고도 부르며 그래프에서 깊은 부분을 우선적으로 탐색하는 알고리즘입니다\n",
    "- DFS는 스택 자료구조(혹은 재귀함수)를 이용하여, 구체적인 동작과정은 다음과 같습니다\n",
    "    1. 탐색 시작 노드를 스택에 삽입하고 방문처리를 합니다\n",
    "    2. 스택의 최상단 노드에 방문하지 않은 인접한 노드가 하나라도 있으면 그 노드를 스택에 넣고 방문처리합니다. 방문하지 않은 인접 노드가 없으면 스택에서 최상단 노드를 꺼냅니다\n",
    "    3. 더 이상 2번의 과정을 수행할 수 없을 때까지 반복합니다"
   ]
  },
  {
   "cell_type": "code",
   "execution_count": 46,
   "id": "burning-drinking",
   "metadata": {},
   "outputs": [
    {
     "name": "stdout",
     "output_type": "stream",
     "text": [
      "1 2 7 6 8 3 4 5 "
     ]
    }
   ],
   "source": [
    "# 그래프 문제는 2차원 리스트 형태의 데이터를 다룹니다\n",
    "# 인덱스 노드와 인접 노드를 표현한 인접 리스트 방식\n",
    "graph = [\n",
    "    [],\n",
    "    [2, 3, 8],\n",
    "    [1, 7],\n",
    "    [1, 4, 5],\n",
    "    [3, 5],\n",
    "    [3, 4],\n",
    "    [7],\n",
    "    [2, 6, 8],\n",
    "    [1, 7]\n",
    "]\n",
    "visited = [False] * 9\n",
    "\n",
    "def dfs(graph, v, visited):\n",
    "    visited[v] = True # v 위치는 방문 처리.\n",
    "    print(v, end=\" \")\n",
    "    for i in graph[v]: # 모든 리스트를 훑어봄.\n",
    "        if not visited[i]: # 방문하지 않은 부분은\n",
    "            dfs(graph, i, visited) # graph에 맞게 방문 처리 하겠음.\n",
    "\n",
    "dfs(graph, 1, visited)"
   ]
  },
  {
   "cell_type": "markdown",
   "id": "virgin-sheep",
   "metadata": {},
   "source": [
    "#### BFS (Breadth-First Search)"
   ]
  },
  {
   "cell_type": "markdown",
   "id": "purple-mounting",
   "metadata": {},
   "source": [
    "- BFS는 너비(거리) 우선 탐색이라고도 부르며, 그래프에서 가까운 노드부터 우선적으로 탐색하는 알고리즘입니다\n",
    "- BFS 알고리즘은 특정 조건에서의 최단 경로 문제를 해결하는데에도 사용이 가능합니다\n",
    "- BFS는 큐 자료구조를 이용하여 구체적인 동작과정은 다음과 같습니다\n",
    "    1. 탐색 시작 노드를 큐에 삽입하고 방문처리를 합니다\n",
    "    2. 큐에서 노드를 꺼낸 뒤에 해당 노드의 인접 노드 중에서 방문하지 않은 노드를 모두 큐에 삽입하고 방문처리 합니다\n",
    "    3. 더 이상 2번의 과정을 수행할 수 없을 때까지 반복합니다"
   ]
  },
  {
   "cell_type": "code",
   "execution_count": 48,
   "id": "ordinary-request",
   "metadata": {
    "scrolled": true
   },
   "outputs": [
    {
     "name": "stdout",
     "output_type": "stream",
     "text": [
      "1 2 3 8 7 4 5 6 "
     ]
    }
   ],
   "source": [
    "from collections import deque\n",
    "\n",
    "graph = [\n",
    "    [],\n",
    "    [2, 3, 8],\n",
    "    [1, 7],\n",
    "    [1, 4, 5],\n",
    "    [3, 5],\n",
    "    [3, 4],\n",
    "    [7],\n",
    "    [2, 6, 8],\n",
    "    [1, 7]\n",
    "]\n",
    "visited = [False] * 9\n",
    "\n",
    "\n",
    "def bfs(graph, start, visited):\n",
    "    queue = deque([start])\n",
    "    visited[start] = True # 첫 노드를 방문 처리\n",
    "    while queue:\n",
    "        v = queue.popleft() # 방문 처리 완료된 노드 방출\n",
    "        print(v, end=\" \")\n",
    "        for i in graph[v]: # 방문처리 완료된 주변 각 노드들이\n",
    "            if not visited[i]: # 방문처리 안된 노드라면 \n",
    "                queue.append(i) # 큐 자료구조에 추가후\n",
    "                visited[i] = True # 방문 처리\n",
    "\n",
    "bfs(graph, 1, visited)"
   ]
  },
  {
   "cell_type": "markdown",
   "id": "hollywood-timeline",
   "metadata": {},
   "source": [
    "음료수 얼려먹기(연결 요소 찾기 : connected component 찾기)"
   ]
  },
  {
   "cell_type": "code",
   "execution_count": 50,
   "id": "electric-legend",
   "metadata": {},
   "outputs": [
    {
     "data": {
      "text/plain": [
       "['00110', '00011', '11111', '00000']"
      ]
     },
     "execution_count": 50,
     "metadata": {},
     "output_type": "execute_result"
    }
   ],
   "source": [
    "n, m = 4, 5\n",
    "graph = [\"00110\", \"00011\", \"11111\", \"00000\"]\n",
    "\n",
    "visited = [[False for _ in range(m)] for _ in range(n)]\n",
    "graph"
   ]
  },
  {
   "cell_type": "code",
   "execution_count": null,
   "id": "patent-ebony",
   "metadata": {},
   "outputs": [],
   "source": []
  },
  {
   "cell_type": "code",
   "execution_count": null,
   "id": "specified-generator",
   "metadata": {},
   "outputs": [],
   "source": []
  }
 ],
 "metadata": {
  "kernelspec": {
   "display_name": "Python 3",
   "language": "python",
   "name": "python3"
  },
  "language_info": {
   "codemirror_mode": {
    "name": "ipython",
    "version": 3
   },
   "file_extension": ".py",
   "mimetype": "text/x-python",
   "name": "python",
   "nbconvert_exporter": "python",
   "pygments_lexer": "ipython3",
   "version": "3.7.3"
  }
 },
 "nbformat": 4,
 "nbformat_minor": 5
}
