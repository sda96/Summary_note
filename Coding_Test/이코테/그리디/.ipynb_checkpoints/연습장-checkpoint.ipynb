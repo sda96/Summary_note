{
 "cells": [
  {
   "cell_type": "markdown",
   "id": "wrapped-scheduling",
   "metadata": {},
   "source": [
    "#### 그리디"
   ]
  },
  {
   "cell_type": "markdown",
   "id": "native-eligibility",
   "metadata": {},
   "source": [
    "- 일반적인 상황에서 그리디 알고리즘은 최적의 해를 보장할 수 없을 때가 많습니다\n",
    "- 대부분 코테의 탐욕법으로 얻은 해가 최적의 해가 되는 상황에서, 이를 추론할 수 있어야 풀리도록 출제합니다\n",
    "- 정당성 분석을 통하여 문제 풀이를 위한 최소한의 아이디어를 떠올리고 이것이 정당한지 검토할 수 있어야 합니다"
   ]
  },
  {
   "cell_type": "markdown",
   "id": "white-water",
   "metadata": {},
   "source": [
    "#### 1번"
   ]
  },
  {
   "cell_type": "code",
   "execution_count": 1,
   "id": "divine-salem",
   "metadata": {},
   "outputs": [
    {
     "name": "stdout",
     "output_type": "stream",
     "text": [
      "1.09 µs ± 41.5 ns per loop (mean ± std. dev. of 7 runs, 1000000 loops each)\n"
     ]
    }
   ],
   "source": [
    "n, k = (25, 5)\n",
    "def solution1(n,k):\n",
    "    count = 0\n",
    "    while True:\n",
    "        count += 1\n",
    "        if n % k == 0:\n",
    "            n /= k\n",
    "        else:\n",
    "            n -= 1\n",
    "        if n == 1:\n",
    "            break\n",
    "    return count\n",
    "\n",
    "%timeit solution1(n,k)"
   ]
  },
  {
   "cell_type": "code",
   "execution_count": 2,
   "id": "abroad-concert",
   "metadata": {},
   "outputs": [
    {
     "name": "stdout",
     "output_type": "stream",
     "text": [
      "1.13 µs ± 61.6 ns per loop (mean ± std. dev. of 7 runs, 1000000 loops each)\n"
     ]
    }
   ],
   "source": [
    "n, k = (25, 5)\n",
    "def solution2(n,k):\n",
    "    count = 0\n",
    "    while True:\n",
    "        target = (n // k) * k\n",
    "        result += (n - target)\n",
    "        n = target\n",
    "        if n < k:\n",
    "            break\n",
    "        result += 1\n",
    "        n //= k\n",
    "        result += (n -1)\n",
    "    return result\n",
    "\n",
    "%timeit solution2(n,k)"
   ]
  },
  {
   "cell_type": "markdown",
   "id": "generic-means",
   "metadata": {},
   "source": [
    "#### 2번"
   ]
  },
  {
   "cell_type": "code",
   "execution_count": 40,
   "id": "radical-scotland",
   "metadata": {},
   "outputs": [
    {
     "name": "stdout",
     "output_type": "stream",
     "text": [
      "56\n"
     ]
    },
    {
     "data": {
      "text/plain": [
       "30"
      ]
     },
     "execution_count": 40,
     "metadata": {},
     "output_type": "execute_result"
    }
   ],
   "source": [
    "inputs = list(map(int, input()))\n",
    "\n",
    "result = 1\n",
    "for i in inputs:\n",
    "    if (i <= 1):\n",
    "        result += i\n",
    "    else:\n",
    "        result *= i\n",
    "result"
   ]
  },
  {
   "cell_type": "markdown",
   "id": "viral-contamination",
   "metadata": {},
   "source": [
    "#### 3번"
   ]
  },
  {
   "cell_type": "markdown",
   "id": "adaptive-disclaimer",
   "metadata": {},
   "source": [
    "1. 공포도가 작은 사람부터 그룹을 만듭니다\n",
    "    - 공포도가 작은 사람의 그룹에는 최소한의 인원만 배정합나디\n",
    "    - 각 그룹마다 최소한의 인원이 배정되기에 마지막에 남은 공포도가 높은 사람을 배정을 안하면 됩니다\n",
    "2. 공포도가 큰 사람부터 그룹을 만듭니다\n",
    "    - 공포도가 큰 사람의 그룹에 최소한의 인원만 배정합니다\n",
    "    - 공포도가 큰 사람부터 만드면 나머지 그룹의 인원이 제대로 배정될 가능성이 낮아지게 됩니다\n",
    "\n",
    "목표: 그러면 여행을 떠날 수 있는 그룹의 수가 최대가 됩니다. 단, 모든 인원을 배정할 필요는 없습니다"
   ]
  },
  {
   "cell_type": "markdown",
   "id": "impressive-bicycle",
   "metadata": {},
   "source": [
    "1. 공포도가 작은 사람부터 그룹을 만듭니다"
   ]
  },
  {
   "cell_type": "code",
   "execution_count": 94,
   "id": "capable-tuner",
   "metadata": {},
   "outputs": [
    {
     "name": "stdout",
     "output_type": "stream",
     "text": [
      "5\n",
      "5 1 2 2 2 3\n"
     ]
    }
   ],
   "source": [
    "n = int(input())\n",
    "scared_index = list(map(int, input().split()))\n",
    "scared_index.sort(reverse=True)"
   ]
  },
  {
   "cell_type": "markdown",
   "id": "conservative-water",
   "metadata": {},
   "source": [
    "2. 앞에서 부터 공포도를 하나씩 확인하며 현재 그룹에 포함된 모험가의 수가 현재 확인하고 있는 공포도보다 크거나 같다면 이를 같은 그룹으로 설정합니다"
   ]
  },
  {
   "cell_type": "markdown",
   "id": "cosmetic-paste",
   "metadata": {},
   "source": [
    "3. 이러한 방법을 이용하면 공포도가 오름차순으로 정렬되어 있다는 점에서, 항상 최소한의 모험가의 수만 포함하여 그룹을 결성하게 됩니다"
   ]
  },
  {
   "cell_type": "code",
   "execution_count": 99,
   "id": "gothic-galaxy",
   "metadata": {},
   "outputs": [],
   "source": [
    "# 원본 배열을 복사하여 임시 변수에 저장합니다\n",
    "tmp = scared_index.copy()\n",
    "# 결과를 담을 빈 리스트를 생성합니다\n",
    "result = []\n",
    "# pop을 반복하여 뽑아올 원소가 부족한 경우 pass를 합니다\n",
    "try:\n",
    "    # 배열의 원소 개수 만큼 pop을 반복합나디\n",
    "    for i in range(len(tmp)):\n",
    "        # 공포지수를 작은 값부터 popping 합니다\n",
    "        index = tmp.pop()\n",
    "        # 공포지수가 1인 경우 result에 길이 1인 리스트를 추가합니다\n",
    "        if index == 1:\n",
    "            result += [[index]]\n",
    "        # 공포지수가 2 이상인 경우 공포지수 만큼 popping을 하고 result에 결과를 추가합니다\n",
    "        elif index >= 2:\n",
    "            small_group = []\n",
    "            for _ in range(index):\n",
    "                small_group += [tmp.pop()]\n",
    "            result += [small_group]\n",
    "except IndexError:\n",
    "    pass"
   ]
  },
  {
   "cell_type": "code",
   "execution_count": 103,
   "id": "trained-musical",
   "metadata": {},
   "outputs": [
    {
     "name": "stdout",
     "output_type": "stream",
     "text": [
      "3\n",
      "2\n"
     ]
    },
    {
     "data": {
      "text/plain": [
       "0"
      ]
     },
     "execution_count": 103,
     "metadata": {},
     "output_type": "execute_result"
    }
   ],
   "source": [
    "n = int(input())\n",
    "scared_index = list(map(int, input().split()))\n",
    "scared_index.sort(reverse=True)\n",
    "\n",
    "def solution(array):\n",
    "    # 원본 배열을 복사하여 임시 변수에 저장합니다\n",
    "    tmp = scared_index.copy()\n",
    "    # 결과를 담을 빈 리스트를 생성합니다\n",
    "    result = []\n",
    "    # pop을 반복하여 뽑아올 원소가 부족한 경우 pass를 합니다\n",
    "    try:\n",
    "        # 배열의 원소 개수 만큼 pop을 반복합나디\n",
    "        for i in range(len(tmp)):\n",
    "            # 공포지수를 작은 값부터 popping 합니다\n",
    "            index = tmp.pop()\n",
    "            # 공포지수가 1인 경우 result에 길이 1인 리스트를 추가합니다\n",
    "            if index == 1:\n",
    "                result += [[index]]\n",
    "            # 공포지수가 2 이상인 경우 공포지수 만큼 popping을 하고 result에 결과를 추가합니다\n",
    "            elif index >= 2:\n",
    "                small_group = []\n",
    "                for _ in range(index):\n",
    "                    small_group += [tmp.pop()]\n",
    "                result += [small_group]\n",
    "    except IndexError:\n",
    "        pass\n",
    "    return len(result)\n",
    "\n",
    "solution(scared_index)"
   ]
  },
  {
   "cell_type": "code",
   "execution_count": 106,
   "id": "indoor-mongolia",
   "metadata": {},
   "outputs": [
    {
     "name": "stdout",
     "output_type": "stream",
     "text": [
      "5\n",
      "1 1 2 2 3 3 3 2 4\n",
      "4\n"
     ]
    }
   ],
   "source": [
    "# 답안\n",
    "n = int(input())\n",
    "scared_index = list(map(int, input().split()))\n",
    "scared_index.sort()\n",
    "\n",
    "result = 0 # 총 그룹의 수\n",
    "count = 0 # 현재 그룹에 포함된 모험가의 수\n",
    "\n",
    "for i in scared_index: # 공포도를 낮은 것 부터 하나씩 확인하며\n",
    "    count += 1 # 현재 그룹에 해당 모험가를 포함시키기\n",
    "    if count >= i: # 현재 그룹에 포함된 모험가의 수가 현재의 공포도 이상이라면 그룹 결성\n",
    "        result += 1 # 총 그룹의 수 증가 시키기\n",
    "        count = 0 # 현재 그룹에 포함된 모험가의 수 초기화\n",
    "print(result) # 총 그룹의 수 출력"
   ]
  },
  {
   "cell_type": "markdown",
   "id": "horizontal-designation",
   "metadata": {},
   "source": [
    "#### 4번 삼각달팽이"
   ]
  },
  {
   "cell_type": "code",
   "execution_count": 107,
   "id": "greatest-thomson",
   "metadata": {},
   "outputs": [],
   "source": [
    "n = 4"
   ]
  },
  {
   "cell_type": "code",
   "execution_count": 108,
   "id": "introductory-belief",
   "metadata": {},
   "outputs": [],
   "source": [
    "from itertools import chain\n",
    "def solution(n):\n",
    "    maps = [[0 for _ in range(n)] for _ in range(n)]\n",
    "    y, x = -1, 0\n",
    "    number = 1\n",
    "    for i in range(n):\n",
    "        for j in range(i, n):\n",
    "            if i % 3 == 0:\n",
    "                y += 1\n",
    "            elif i % 3 == 1:\n",
    "                x += 1\n",
    "            elif i % 3 == 2:\n",
    "                y -= 1; x -= 1\n",
    "            maps[y][x] = number\n",
    "            number += 1\n",
    "    result = [i for i in chain(*maps) if i != 0]\n",
    "    return result"
   ]
  },
  {
   "cell_type": "code",
   "execution_count": 110,
   "id": "fixed-madonna",
   "metadata": {},
   "outputs": [
    {
     "data": {
      "text/plain": [
       "[1, 2, 12, 3, 13, 11, 4, 14, 15, 10, 5, 6, 7, 8, 9]"
      ]
     },
     "execution_count": 110,
     "metadata": {},
     "output_type": "execute_result"
    }
   ],
   "source": [
    "solution(5)"
   ]
  },
  {
   "cell_type": "code",
   "execution_count": 121,
   "id": "whole-survey",
   "metadata": {},
   "outputs": [
    {
     "data": {
      "text/plain": [
       "[[0, 0, 0, 0], [0, 0, 0, 0], [0, 0, 0, 0], [0, 0, 0, 0]]"
      ]
     },
     "execution_count": 121,
     "metadata": {},
     "output_type": "execute_result"
    }
   ],
   "source": [
    "maps = [[0 for _ in range(n)] for _ in range(n)]\n",
    "maps"
   ]
  },
  {
   "cell_type": "code",
   "execution_count": 123,
   "id": "elementary-shannon",
   "metadata": {},
   "outputs": [
    {
     "name": "stdout",
     "output_type": "stream",
     "text": [
      "[[1, 0, 0, 0], [2, 9, 0, 0], [3, 10, 8, 0], [4, 5, 6, 7]]\n"
     ]
    },
    {
     "data": {
      "text/plain": [
       "[1, 2, 9, 3, 10, 8, 4, 5, 6, 7]"
      ]
     },
     "execution_count": 123,
     "metadata": {},
     "output_type": "execute_result"
    }
   ],
   "source": [
    "y, x = -1, 0\n",
    "number = 1\n",
    "for i in range(n):\n",
    "    for j in range(i,n):\n",
    "        if i % 3 == 0:\n",
    "            y += 1\n",
    "        elif i % 3 == 1:\n",
    "            x += 1\n",
    "        elif i % 3 == 2:\n",
    "            y -= 1; x -= 1\n",
    "        maps[y][x] = number\n",
    "        number += 1\n",
    "print(maps)\n",
    "[fin for fin in sum(maps,[]) if fin != 0]"
   ]
  },
  {
   "cell_type": "code",
   "execution_count": 140,
   "id": "proper-uniform",
   "metadata": {
    "scrolled": true
   },
   "outputs": [
    {
     "name": "stdout",
     "output_type": "stream",
     "text": [
      "0 0 [[1, 0, 0, 0], [0, 0, 0, 0], [0, 0, 0, 0], [0, 0, 0, 0]]\n",
      "0 1 [[1, 0, 0, 0], [2, 0, 0, 0], [0, 0, 0, 0], [0, 0, 0, 0]]\n",
      "0 2 [[1, 0, 0, 0], [2, 0, 0, 0], [3, 0, 0, 0], [0, 0, 0, 0]]\n",
      "0 3 [[1, 0, 0, 0], [2, 0, 0, 0], [3, 0, 0, 0], [4, 0, 0, 0]]\n",
      "1 1 [[1, 0, 0, 0], [2, 0, 0, 0], [3, 0, 0, 0], [4, 5, 0, 0]]\n",
      "1 2 [[1, 0, 0, 0], [2, 0, 0, 0], [3, 0, 0, 0], [4, 5, 6, 0]]\n",
      "1 3 [[1, 0, 0, 0], [2, 0, 0, 0], [3, 0, 0, 0], [4, 5, 6, 7]]\n",
      "2 2 [[1, 0, 0, 0], [2, 0, 0, 0], [3, 0, 8, 0], [4, 5, 6, 7]]\n",
      "2 3 [[1, 0, 0, 0], [2, 9, 0, 0], [3, 0, 8, 0], [4, 5, 6, 7]]\n",
      "3 3 [[1, 0, 0, 0], [2, 9, 0, 0], [3, 10, 8, 0], [4, 5, 6, 7]]\n"
     ]
    }
   ],
   "source": [
    "n = 4\n",
    "maps = [[0 for _ in range(n)] for _ in range(n)]\n",
    "\n",
    "y, x = -1, 0\n",
    "number = 1\n",
    "\n",
    "for i in range(n): # 높이\n",
    "    for j in range(i, n): # 좌우길이\n",
    "        # 좌표 이동 경우의 수가 3가지 이므로 3의 나머지를 구함\n",
    "        if i % 3 == 0:\n",
    "            y += 1\n",
    "        elif i % 3 == 1:\n",
    "            x += 1\n",
    "        elif i % 3 == 2:\n",
    "            y -= 1; x -= 1\n",
    "        \n",
    "        maps[y][x] = number\n",
    "        number += 1\n",
    "        print(i,j, maps)"
   ]
  }
 ],
 "metadata": {
  "kernelspec": {
   "display_name": "Python 3",
   "language": "python",
   "name": "python3"
  },
  "language_info": {
   "codemirror_mode": {
    "name": "ipython",
    "version": 3
   },
   "file_extension": ".py",
   "mimetype": "text/x-python",
   "name": "python",
   "nbconvert_exporter": "python",
   "pygments_lexer": "ipython3",
   "version": "3.7.3"
  }
 },
 "nbformat": 4,
 "nbformat_minor": 5
}
