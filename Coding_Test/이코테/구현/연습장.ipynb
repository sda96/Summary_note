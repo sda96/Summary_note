{
 "cells": [
  {
   "cell_type": "markdown",
   "id": "characteristic-cassette",
   "metadata": {},
   "source": [
    "## 구현 연습장"
   ]
  },
  {
   "cell_type": "markdown",
   "id": "rising-place",
   "metadata": {},
   "source": [
    "- 구현이란 머릿속에 있는 알고리즘을 소스코드로 바꾸는 과정입니다\n",
    "- 구현 유형의 문제는 풀이를 떠올리기는 쉽지만 소스코드로 옮기기 어려운 문제를 지칭합니다\n",
    "- 일반적으로 알고리즘 문제에서 2차원 공간인 행렬을 이용하는 문제가 많습니다"
   ]
  },
  {
   "cell_type": "markdown",
   "id": "vietnamese-england",
   "metadata": {},
   "source": [
    "1. 알고리즘은 간단한데 코드가 지나칠 만큼 길어지는 문제\n",
    "2. 실수 연산을 다루고 특정 소수점 자리까지 출력해야 하는 문제\n",
    "3. 문자열을 특정한 기준에 따라서 끊어 처리해야 하는 문제\n",
    "4. 적절한 라이브러리를 찾아서 사용해야하는 문제\n",
    "5. 모든 순열이나 조합을 활용하는 경우"
   ]
  },
  {
   "cell_type": "markdown",
   "id": "complete-security",
   "metadata": {},
   "source": [
    "### 시뮬레이션"
   ]
  },
  {
   "cell_type": "markdown",
   "id": "understood-mapping",
   "metadata": {},
   "source": [
    "- 요구사항대로 충실히 구현되는 문제\n",
    "- 일련의 명령에 따라서 개체를 차례대로 이동시킨다는 점에서 시뮬레이션 유형으로도 분류 되며 구현이 중요한 대표적인 문제 유형입니다\n",
    "- 코딩 테스트에서의 시뮬레이션 유형, 구현 유형, 완전 탐색 유현은 서로 유사한 점 많습니다"
   ]
  },
  {
   "cell_type": "markdown",
   "id": "short-rocket",
   "metadata": {},
   "source": [
    "#### 1번"
   ]
  },
  {
   "cell_type": "code",
   "execution_count": 17,
   "id": "expensive-hawaiian",
   "metadata": {},
   "outputs": [
    {
     "name": "stdout",
     "output_type": "stream",
     "text": [
      "R R R U D D\n",
      "1 2\n",
      "1 3\n",
      "1 4\n",
      "0 4\n",
      "2 4\n",
      "3 4\n"
     ]
    },
    {
     "data": {
      "text/plain": [
       "(3, 4)"
      ]
     },
     "execution_count": 17,
     "metadata": {},
     "output_type": "execute_result"
    }
   ],
   "source": [
    "# [동, 서, 남, 북]\n",
    "dx = [0, 0, 1, -1]\n",
    "dy = [1, -1, 0, 0]\n",
    "move_type = [\"R\", \"L\", \"D\", \"U\"]\n",
    "diretions = input().split()\n",
    "\n",
    "start_x, start_y  = 1, 1\n",
    "n = 5\n",
    "for one_dir in diretions:\n",
    "    coordinate = move_type.index(one_dir)\n",
    "    move_x = start_x + dx[coordinate]\n",
    "    move_y = start_y + dy[coordinate]\n",
    "    print(move_x, move_y)\n",
    "    if move_x >= 1 and move_x <= n and move_y >= 1 and move_y <= n:\n",
    "        start_x, start_y = move_x, move_y\n",
    "(start_x, start_y)"
   ]
  },
  {
   "cell_type": "markdown",
   "id": "moved-vulnerability",
   "metadata": {},
   "source": [
    "#### 3번"
   ]
  },
  {
   "cell_type": "code",
   "execution_count": null,
   "id": "known-girlfriend",
   "metadata": {},
   "outputs": [],
   "source": [
    "input_x = 3\n",
    "input_y = 4\n",
    "start_x, start_y = input_x, input_y\n",
    "n = 8\n",
    "move_type = {\"case1\":[2,1], \"case2\":[2,-1], \"case3\":[-2,1], \"case4\":[-2,-1], \n",
    "             \"case5\":[1,-2], \"case6\":[-1,-2], \"case7\":[1,2], \"case8\":[-1,2]}\n",
    "count = 0\n",
    "for i in move_type:\n",
    "    x, y = move_type[i] \n",
    "    dx = start_x + x\n",
    "    dy = start_y + y\n",
    "    if dx >= 0 and dx <= n and dy >= 0 and dy <= n:\n",
    "        count += 1\n",
    "        start_x, start_y = input_x, input_y\n",
    "print(count)"
   ]
  },
  {
   "cell_type": "markdown",
   "id": "rental-guess",
   "metadata": {},
   "source": [
    "### 완전 탐색"
   ]
  },
  {
   "cell_type": "markdown",
   "id": "dental-cuisine",
   "metadata": {},
   "source": [
    "- 가능한 모든 경우의 수를 모두 세서 푸는 문제입니다\n",
    "- 완전 탐색(Brute Forcing)이라고 불립니다"
   ]
  },
  {
   "cell_type": "markdown",
   "id": "recreational-corporation",
   "metadata": {},
   "source": [
    "#### 2번"
   ]
  },
  {
   "cell_type": "code",
   "execution_count": 18,
   "id": "extensive-growing",
   "metadata": {},
   "outputs": [
    {
     "data": {
      "text/plain": [
       "43875"
      ]
     },
     "execution_count": 18,
     "metadata": {},
     "output_type": "execute_result"
    }
   ],
   "source": [
    "count = 0\n",
    "for i in range(24):\n",
    "    for j in range(60):\n",
    "        for k in range(60):\n",
    "            if \"3\" in str(i) + str(j) + str(k):\n",
    "                count += 1\n",
    "count"
   ]
  }
 ],
 "metadata": {
  "kernelspec": {
   "display_name": "Python 3",
   "language": "python",
   "name": "python3"
  },
  "language_info": {
   "codemirror_mode": {
    "name": "ipython",
    "version": 3
   },
   "file_extension": ".py",
   "mimetype": "text/x-python",
   "name": "python",
   "nbconvert_exporter": "python",
   "pygments_lexer": "ipython3",
   "version": "3.7.3"
  }
 },
 "nbformat": 4,
 "nbformat_minor": 5
}
