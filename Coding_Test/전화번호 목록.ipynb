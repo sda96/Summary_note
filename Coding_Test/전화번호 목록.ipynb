{
 "cells": [
  {
   "cell_type": "markdown",
   "id": "contemporary-internship",
   "metadata": {},
   "source": [
    "문제 설명\n",
    "전화번호부에 적힌 전화번호 중, 한 번호가 다른 번호의 접두어인 경우가 있는지 확인하려 합니다.\n",
    "전화번호가 다음과 같을 경우, 구조대 전화번호는 영석이의 전화번호의 접두사입니다.\n",
    "\n",
    "구조대 : 119\n",
    "박준영 : 97 674 223\n",
    "지영석 : 11 9552 4421\n",
    "전화번호부에 적힌 전화번호를 담은 배열 phone_book 이 solution 함수의 매개변수로 주어질 때, 어떤 번호가 다른 번호의 접두어인 경우가 있으면 false를 그렇지 않으면 true를 return 하도록 solution 함수를 작성해주세요.\n",
    "\n",
    "제한 사항\n",
    "phone_book의 길이는 1 이상 1,000,000 이하입니다.\n",
    "각 전화번호의 길이는 1 이상 20 이하입니다.\n",
    "같은 전화번호가 중복해서 들어있지 않습니다.\n",
    "입출력 예제\n",
    "<img src=\"https://imgur.com/0tc7NIq.jpg\">\n",
    "입출력 예 설명\n",
    "입출력 예 #1\n",
    "앞에서 설명한 예와 같습니다.\n",
    "\n",
    "입출력 예 #2\n",
    "한 번호가 다른 번호의 접두사인 경우가 없으므로, 답은 true입니다.\n",
    "\n",
    "입출력 예 #3\n",
    "첫 번째 전화번호, “12”가 두 번째 전화번호 “123”의 접두사입니다. 따라서 답은 false입니다.\n",
    "\n"
   ]
  },
  {
   "cell_type": "code",
   "execution_count": 81,
   "id": "aboriginal-stephen",
   "metadata": {},
   "outputs": [],
   "source": [
    "# 54점짜리 답안\n",
    "def solution(phone_book):\n",
    "    n = 0\n",
    "    part = phone_book.pop(0)\n",
    "    for num in phone_book:\n",
    "        if part in num:\n",
    "            n += 1\n",
    "        else:\n",
    "            n += 0\n",
    "    if n:\n",
    "        return False\n",
    "    else:\n",
    "        return True"
   ]
  },
  {
   "cell_type": "code",
   "execution_count": null,
   "id": "sticky-booking",
   "metadata": {},
   "outputs": [],
   "source": []
  },
  {
   "cell_type": "code",
   "execution_count": null,
   "id": "following-nightlife",
   "metadata": {},
   "outputs": [],
   "source": []
  }
 ],
 "metadata": {
  "kernelspec": {
   "display_name": "Python 3",
   "language": "python",
   "name": "python3"
  },
  "language_info": {
   "codemirror_mode": {
    "name": "ipython",
    "version": 3
   },
   "file_extension": ".py",
   "mimetype": "text/x-python",
   "name": "python",
   "nbconvert_exporter": "python",
   "pygments_lexer": "ipython3",
   "version": "3.7.3"
  }
 },
 "nbformat": 4,
 "nbformat_minor": 5
}
