{
 "cells": [
  {
   "cell_type": "markdown",
   "id": "great-barrier",
   "metadata": {},
   "source": [
    "정수 N개의 합\t"
   ]
  },
  {
   "cell_type": "code",
   "execution_count": 1,
   "id": "saving-token",
   "metadata": {},
   "outputs": [],
   "source": [
    "def solve(a:\"list\"):\n",
    "    return sum(a)"
   ]
  },
  {
   "cell_type": "code",
   "execution_count": 2,
   "id": "roman-offense",
   "metadata": {},
   "outputs": [
    {
     "data": {
      "text/plain": [
       "15"
      ]
     },
     "execution_count": 2,
     "metadata": {},
     "output_type": "execute_result"
    }
   ],
   "source": [
    "solve([1,2,3,4,5])"
   ]
  },
  {
   "cell_type": "markdown",
   "id": "suburban-gibson",
   "metadata": {},
   "source": [
    "셀프 넘버 "
   ]
  },
  {
   "cell_type": "code",
   "execution_count": 42,
   "id": "smoking-injection",
   "metadata": {},
   "outputs": [],
   "source": [
    "def solve():\n",
    "    bucket_cont = list(range(1,10000))\n",
    "    for x in range(1, 10000):\n",
    "        try:\n",
    "            if 0 < x < 100:\n",
    "                share, rest = divmod(x, 10)\n",
    "                constructor = x + share + rest\n",
    "                bucket_cont.remove(constructor)\n",
    "            elif 100 <= x < 1000:\n",
    "                share100, rest100 = divmod(x, 100)\n",
    "                share10, rest10 = divmod(rest100, 10)\n",
    "                constructor = x + share100 + share10 + rest10\n",
    "                bucket_cont.remove(constructor)\n",
    "            else:\n",
    "                share1000, rest1000 = divmod(x, 1000)\n",
    "                share100, rest100, = divmod(rest1000, 100)\n",
    "                share10, rest10 = divmod(rest100, 10)\n",
    "                constructor = x + share1000 + share100 + share10 + rest10\n",
    "                bucket_cont.remove(constructor)\n",
    "        except:\n",
    "            pass\n",
    "    [print(i) for i in bucket_cont]"
   ]
  },
  {
   "cell_type": "code",
   "execution_count": 15,
   "id": "large-bridges",
   "metadata": {},
   "outputs": [
    {
     "data": {
      "text/plain": [
       "[2, 3, 4]"
      ]
     },
     "execution_count": 15,
     "metadata": {},
     "output_type": "execute_result"
    }
   ],
   "source": [
    "a = [True]*20000\n",
    "for i in range(10):\n",
    "    for j in range(10):\n",
    "        for k in range(10):\n",
    "            for l in range(10):\n",
    "                a[1001*i+101*j+11*k+2*l] = False\n",
    "for i in range(10000):\n",
    "    if a[i] == True:\n",
    "        print(i)"
   ]
  },
  {
   "cell_type": "code",
   "execution_count": null,
   "id": "introductory-tampa",
   "metadata": {},
   "outputs": [],
   "source": [
    "snum=1\n",
    "count=0\n",
    "refcount=102\n",
    "addcount=98\n",
    "refmod=3\n",
    "addmod=8\n",
    "while snum<10000:\n",
    "    print(snum)\n",
    "    if count<refcount:\n",
    "        if count%10 ==refmod or count<3:\n",
    "            snum+=2\n",
    "        else:\n",
    "            snum+=11\n",
    "    \n",
    "    if count==refcount:\n",
    "       snum+=15\n",
    "       refcount+=addcount\n",
    "       refmod=(refmod+addmod)%10\n",
    "    \n",
    "    count+=1"
   ]
  },
  {
   "cell_type": "markdown",
   "id": "premier-provision",
   "metadata": {},
   "source": [
    "한수"
   ]
  },
  {
   "cell_type": "code",
   "execution_count": 124,
   "id": "spanish-pierre",
   "metadata": {},
   "outputs": [
    {
     "name": "stdout",
     "output_type": "stream",
     "text": [
      "1000\n",
      "144\n"
     ]
    }
   ],
   "source": [
    "x = int(input())\n",
    "count = 0\n",
    "for i in range(1, x+1):\n",
    "    # 100보다 작은 입력값은 비교할 수가 없기에 모두 한수입니다.\n",
    "    if i < 100:\n",
    "        count += 1\n",
    "    # 100보다 큰 값들은 각 자리의 값이 등차를 이루는지 조건을 겁니다.\n",
    "    elif 100 <= i < 1000:\n",
    "        share100, rest100 = divmod(i, 100)\n",
    "        share10, rest10 = divmod(rest100, 10)\n",
    "        if (share100 - share10) == (share10 - rest10):\n",
    "            count += 1\n",
    "print(count)"
   ]
  },
  {
   "cell_type": "markdown",
   "id": "rough-trail",
   "metadata": {},
   "source": [
    "https://gabii.tistory.com/entry/BaekJoonPython3-%EB%B0%B1%EC%A4%80-1065%EB%B2%88-%ED%95%9C%EC%88%98"
   ]
  },
  {
   "cell_type": "code",
   "execution_count": null,
   "id": "amber-internship",
   "metadata": {},
   "outputs": [],
   "source": [
    "print(sum(i<100 or i//10%10*2==i%10+i//100 for i in range(1,int(input())+1)))"
   ]
  }
 ],
 "metadata": {
  "kernelspec": {
   "display_name": "Python 3",
   "language": "python",
   "name": "python3"
  },
  "language_info": {
   "codemirror_mode": {
    "name": "ipython",
    "version": 3
   },
   "file_extension": ".py",
   "mimetype": "text/x-python",
   "name": "python",
   "nbconvert_exporter": "python",
   "pygments_lexer": "ipython3",
   "version": "3.7.3"
  }
 },
 "nbformat": 4,
 "nbformat_minor": 5
}
