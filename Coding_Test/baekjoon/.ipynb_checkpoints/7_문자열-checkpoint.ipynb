{
 "cells": [
  {
   "cell_type": "markdown",
   "id": "expected-validation",
   "metadata": {},
   "source": [
    "아스키 코드"
   ]
  },
  {
   "cell_type": "code",
   "execution_count": 15,
   "id": "healthy-biology",
   "metadata": {},
   "outputs": [
    {
     "name": "stdout",
     "output_type": "stream",
     "text": [
      "1\n"
     ]
    },
    {
     "data": {
      "text/plain": [
       "49"
      ]
     },
     "execution_count": 15,
     "metadata": {},
     "output_type": "execute_result"
    }
   ],
   "source": [
    "a = input()\n",
    "# 문자열 -> 아스키코드\n",
    "print(ord(a))"
   ]
  },
  {
   "cell_type": "code",
   "execution_count": 14,
   "id": "expired-communications",
   "metadata": {},
   "outputs": [
    {
     "data": {
      "text/plain": [
       "'A'"
      ]
     },
     "execution_count": 14,
     "metadata": {},
     "output_type": "execute_result"
    }
   ],
   "source": [
    "# 아스키코드 -> 문자열\n",
    "chr(65)"
   ]
  },
  {
   "cell_type": "code",
   "execution_count": null,
   "id": "optimum-integration",
   "metadata": {},
   "outputs": [],
   "source": [
    "print(ord(input()))"
   ]
  },
  {
   "cell_type": "markdown",
   "id": "hungarian-herald",
   "metadata": {},
   "source": [
    "숫자의 합"
   ]
  },
  {
   "cell_type": "code",
   "execution_count": 22,
   "id": "proved-lunch",
   "metadata": {
    "scrolled": true
   },
   "outputs": [
    {
     "name": "stdout",
     "output_type": "stream",
     "text": [
      "11\n",
      "10987654321\n"
     ]
    },
    {
     "data": {
      "text/plain": [
       "46"
      ]
     },
     "execution_count": 22,
     "metadata": {},
     "output_type": "execute_result"
    }
   ],
   "source": [
    "a = int(input())\n",
    "b = input()\n",
    "print(sum([int(b[i]) for i in range(a)]))"
   ]
  },
  {
   "cell_type": "code",
   "execution_count": 23,
   "id": "seven-notebook",
   "metadata": {},
   "outputs": [
    {
     "name": "stdout",
     "output_type": "stream",
     "text": [
      "5\n",
      "54321\n",
      "15\n"
     ]
    }
   ],
   "source": [
    "# 문자열은 iterable하므로 map함수를 사용하여 각 인덱스에 함수 적용가능\n",
    "input();print(sum(map(int,input())))"
   ]
  },
  {
   "cell_type": "markdown",
   "id": "expired-shepherd",
   "metadata": {},
   "source": [
    "알파벳 찾기"
   ]
  },
  {
   "cell_type": "code",
   "execution_count": 38,
   "id": "impaired-billy",
   "metadata": {},
   "outputs": [
    {
     "name": "stdout",
     "output_type": "stream",
     "text": [
      "baekjoon\n",
      "1 0 -1 -1 2 -1 -1 -1 -1 4 3 -1 -1 7 5 -1 -1 -1 -1 -1 -1 -1 -1 -1 -1 -1\n"
     ]
    }
   ],
   "source": [
    "a = \"abcdefghijklmnopqrstuvwxyz\"\n",
    "b = input()\n",
    "c = []\n",
    "for i in a:\n",
    "    if i in b:\n",
    "        c += [str(b.index(i))]\n",
    "    else:\n",
    "        c += [str(-1)]\n",
    "print(\" \".join(c))"
   ]
  },
  {
   "cell_type": "code",
   "execution_count": 39,
   "id": "medieval-medicaid",
   "metadata": {},
   "outputs": [
    {
     "name": "stdout",
     "output_type": "stream",
     "text": [
      "baekjoon\n",
      "1 0 -1 -1 2 -1 -1 -1 -1 4 3 -1 -1 7 5 -1 -1 -1 -1 -1 -1 -1 -1 -1 -1 -1 "
     ]
    }
   ],
   "source": [
    "string = input()\n",
    "alphabet = \"abcdefghijklmnopqrstuvwxyz\"\n",
    "for i in alphabet:\n",
    "    print(string.find(i), end = ' ')"
   ]
  },
  {
   "cell_type": "markdown",
   "id": "thousand-affect",
   "metadata": {},
   "source": [
    "문자열 반복"
   ]
  },
  {
   "cell_type": "code",
   "execution_count": 53,
   "id": "descending-administration",
   "metadata": {},
   "outputs": [
    {
     "name": "stdout",
     "output_type": "stream",
     "text": [
      "2\n",
      "3 ABC\n",
      "AAABBBCCC\n",
      "5 /HTP\n",
      "/////HHHHHTTTTTPPPPP\n"
     ]
    }
   ],
   "source": [
    "T = int(input())\n",
    "for i in range(T):\n",
    "    a, b = input().split()\n",
    "    c = \"\".join([i*int(a) for i in b])\n",
    "    print(c)"
   ]
  },
  {
   "cell_type": "markdown",
   "id": "affected-effects",
   "metadata": {},
   "source": [
    "단어 공부"
   ]
  },
  {
   "cell_type": "code",
   "execution_count": 90,
   "id": "embedded-pontiac",
   "metadata": {},
   "outputs": [
    {
     "name": "stdout",
     "output_type": "stream",
     "text": [
      "Mississipi\n",
      "?\n"
     ]
    }
   ],
   "source": [
    "import collections\n",
    "T = input().upper()\n",
    "try:\n",
    "    most, better = collections.Counter(T).most_common()[:2]\n",
    "    if most[1] == better[1]:\n",
    "        print(\"?\")\n",
    "    else:\n",
    "        print(most[0])\n",
    "except ValueError:\n",
    "    most = collections.Counter(T).most_common()[0]\n",
    "    print(most[0])"
   ]
  },
  {
   "cell_type": "code",
   "execution_count": 92,
   "id": "female-royalty",
   "metadata": {},
   "outputs": [
    {
     "name": "stdout",
     "output_type": "stream",
     "text": [
      "aaaaa\n",
      "A\n"
     ]
    }
   ],
   "source": [
    "s,a=input().lower(),[]\n",
    "for i in range(97,123):\n",
    "    a.append(s.count(chr(i)))\n",
    "print('?'if a.count(max(a))>1 else chr(a.index(max(a))+97).upper())"
   ]
  },
  {
   "cell_type": "markdown",
   "id": "superb-remains",
   "metadata": {},
   "source": [
    "단어의 개수"
   ]
  },
  {
   "cell_type": "code",
   "execution_count": 111,
   "id": "rocky-overhead",
   "metadata": {},
   "outputs": [
    {
     "name": "stdout",
     "output_type": "stream",
     "text": [
      "Teullinika Teullyeotzi \n",
      "2\n"
     ]
    }
   ],
   "source": [
    "print(len(input().strip().split()))"
   ]
  },
  {
   "cell_type": "code",
   "execution_count": 108,
   "id": "failing-market",
   "metadata": {},
   "outputs": [
    {
     "data": {
      "text/plain": [
       "'fqefq'"
      ]
     },
     "execution_count": 108,
     "metadata": {},
     "output_type": "execute_result"
    }
   ],
   "source": [
    "import sys\n",
    "s = sys.stdin.read().strip()\n",
    "if not s:\n",
    "    print(\"0\")\n",
    "else:\n",
    "    print(len(s.split(\" \")))"
   ]
  },
  {
   "cell_type": "markdown",
   "id": "mighty-shadow",
   "metadata": {},
   "source": [
    "상수"
   ]
  },
  {
   "cell_type": "code",
   "execution_count": 120,
   "id": "eligible-demand",
   "metadata": {
    "scrolled": true
   },
   "outputs": [
    {
     "name": "stdout",
     "output_type": "stream",
     "text": [
      "734 893\n"
     ]
    },
    {
     "data": {
      "text/plain": [
       "437"
      ]
     },
     "execution_count": 120,
     "metadata": {},
     "output_type": "execute_result"
    }
   ],
   "source": [
    "a, b = list(map(lambda x: int(x[::-1]), input().split(\" \")))\n",
    "print(max(a, b))"
   ]
  },
  {
   "cell_type": "code",
   "execution_count": null,
   "id": "funky-platform",
   "metadata": {},
   "outputs": [],
   "source": [
    "a, b =input().split()\n",
    "\n",
    "def reading(k):\n",
    "    k = k[::-1]\n",
    "    return int(k)\n",
    "\n",
    "print(max([reading(a),reading(b)]))"
   ]
  },
  {
   "cell_type": "markdown",
   "id": "democratic-victorian",
   "metadata": {},
   "source": [
    "다이얼"
   ]
  },
  {
   "cell_type": "code",
   "execution_count": 131,
   "id": "induced-wisdom",
   "metadata": {},
   "outputs": [
    {
     "name": "stdout",
     "output_type": "stream",
     "text": [
      "UNUCIC@$\n",
      "56\n"
     ]
    }
   ],
   "source": [
    "sentence = list(map(str, input()))\n",
    "# 영어 -> 숫자\n",
    "for ind, text in enumerate(sentence):\n",
    "    if text in [\"A\", \"B\", \"C\"]:\n",
    "        sentence[ind] = 2\n",
    "    elif text in [\"D\", \"E\", \"F\"]:\n",
    "        sentence[ind] = 3\n",
    "    elif text in [\"G\", \"H\", \"I\"]:\n",
    "        sentence[ind] = 4\n",
    "    elif text in [\"J\", \"K\", \"L\"]:\n",
    "        sentence[ind] = 5\n",
    "    elif text in [\"M\", \"N\", \"O\"]:\n",
    "        sentence[ind] = 6\n",
    "    elif text in [\"P\", \"Q\", \"R\", \"S\"]:\n",
    "        sentence[ind] = 7\n",
    "    elif text in [\"T\", \"U\", \"V\"]:\n",
    "        sentence[ind] = 8\n",
    "    elif text in [\"W\", \"X\", \"Y\", \"Z\"]:\n",
    "        sentence[ind] = 9\n",
    "    else:\n",
    "        sentence[ind] = 9\n",
    "# 숫자 -> 시간\n",
    "for ind, i in enumerate(sentence):\n",
    "    if i == 0:\n",
    "        sentence[ind] = 11\n",
    "    else:\n",
    "        sentence[ind] = i + 1\n",
    "print(sum(sentence))"
   ]
  },
  {
   "cell_type": "code",
   "execution_count": null,
   "id": "emotional-mobile",
   "metadata": {},
   "outputs": [],
   "source": [
    "print(sum((ord(i)-62-(i in 'SVYZ')-(i=='Z'))//3+2 for i in input()))"
   ]
  },
  {
   "cell_type": "markdown",
   "id": "conventional-inspection",
   "metadata": {},
   "source": [
    "크로아티아 알파벳"
   ]
  },
  {
   "cell_type": "code",
   "execution_count": 24,
   "id": "reserved-longer",
   "metadata": {},
   "outputs": [
    {
     "data": {
      "text/plain": [
       "2"
      ]
     },
     "execution_count": 24,
     "metadata": {},
     "output_type": "execute_result"
    }
   ],
   "source": [
    "text = input()\n",
    "text = text.replace(\"dz=\", \"z\")\n",
    "text = text.replace(\"lj\", \"l\")\n",
    "text = text.replace(\"nj\", \"n\")\n",
    "text = text.replace(\"=\", \"\")\n",
    "text = text.replace(\"-\", \"\")\n",
    "print(len(text))"
   ]
  },
  {
   "cell_type": "code",
   "execution_count": 50,
   "id": "quarterly-cycling",
   "metadata": {},
   "outputs": [
    {
     "name": "stdout",
     "output_type": "stream",
     "text": [
      "ljes=njak\n",
      "6\n"
     ]
    }
   ],
   "source": [
    "c=input().count;print(c('')-1-sum(map(c,['-','=','nj','lj','dz='])))"
   ]
  },
  {
   "cell_type": "code",
   "execution_count": 44,
   "id": "healthy-battle",
   "metadata": {
    "scrolled": true
   },
   "outputs": [
    {
     "data": {
      "text/plain": [
       "[0, 1, 1, 0, 0]"
      ]
     },
     "execution_count": 44,
     "metadata": {},
     "output_type": "execute_result"
    }
   ],
   "source": [
    "# 리스트의 조건에 만족하는 함수는 1을 출력하고 나머지는 0 출력\n",
    "list(map(c, [\"-\", \"=\", \"nj\", \" lj\", \"dz=\"]))"
   ]
  },
  {
   "cell_type": "code",
   "execution_count": 53,
   "id": "excellent-clothing",
   "metadata": {},
   "outputs": [
    {
     "name": "stdout",
     "output_type": "stream",
     "text": [
      "10\n",
      "6\n"
     ]
    }
   ],
   "source": [
    "# 한글자씩 갯수를 세어 나온 값은 10개에 조건을 빼면 -4임\n",
    "print(c(\"\"))\n",
    "print(c('')-1-sum(map(c,['-','=','nj','lj','dz='])))"
   ]
  },
  {
   "cell_type": "markdown",
   "id": "searching-tiffany",
   "metadata": {},
   "source": [
    "그룹 단어 체커"
   ]
  },
  {
   "cell_type": "code",
   "execution_count": 54,
   "id": "rational-experience",
   "metadata": {
    "scrolled": true
   },
   "outputs": [
    {
     "name": "stdout",
     "output_type": "stream",
     "text": [
      "4\n",
      "aba\n",
      "abab\n",
      "abcabc\n",
      "a\n",
      "1\n"
     ]
    }
   ],
   "source": [
    "number = int(input())\n",
    "x = []\n",
    "for i in range(number):\n",
    "    x += [input()]\n",
    "\n",
    "count = 0\n",
    "for ex in x:\n",
    "    uni = list(set(map(str, ex)))\n",
    "    # 알파벳별 연속성 여부\n",
    "    alphabet_bucket = []\n",
    "    # 각 유일값에 해당하는 예제 단어의 인덱스값을 충력한 뒤,\n",
    "    for alphabet in uni:\n",
    "        index = [ind for ind, i in enumerate(ex) if i == alphabet]\n",
    "        # 반복 안되는 값은 0 으로 저장\n",
    "        if len(index) == 1:\n",
    "            alphabet_bucket += [0]\n",
    "        # 반복되는 값은 인덱스값 저장\n",
    "        else:\n",
    "            # 인덱스값끼리의 거리를 구하여\n",
    "            distance = [index[ran+1] - index[ran] for ran in range(len(index)-1)]\n",
    "            for dist in distance:\n",
    "                # 거리가 2보다 작으면 0으로 저장\n",
    "                if dist < 2:\n",
    "                    alphabet_bucket += [0]\n",
    "                # 2보다 크거나 같으면 1로 저장\n",
    "                else:\n",
    "                    alphabet_bucket += [1]\n",
    "    if sum(alphabet_bucket) < 1:\n",
    "        count += 1\n",
    "print(count)"
   ]
  },
  {
   "cell_type": "code",
   "execution_count": null,
   "id": "hollywood-concept",
   "metadata": {},
   "outputs": [],
   "source": [
    "result = 0\n",
    "for i in range(int(input())):\n",
    "    word = input()\n",
    "    if list(word) == sorted(word, key=word.find):\n",
    "        result += 1\n",
    "print(result)"
   ]
  },
  {
   "cell_type": "code",
   "execution_count": 58,
   "id": "bizarre-nerve",
   "metadata": {},
   "outputs": [
    {
     "name": "stdout",
     "output_type": "stream",
     "text": [
      "['a', 'a', 'b', 'b', 'c', 'c']\n",
      "['a', 'b', 'c', 'a', 'b', 'c']\n"
     ]
    }
   ],
   "source": [
    "a = \"abcabc\"\n",
    "print(sorted(a, key=a.find))\n",
    "print(list(a))"
   ]
  },
  {
   "cell_type": "code",
   "execution_count": 64,
   "id": "regular-judge",
   "metadata": {},
   "outputs": [
    {
     "name": "stdout",
     "output_type": "stream",
     "text": [
      "6\n"
     ]
    }
   ],
   "source": [
    "txt = \"Hello, welcome to my world.\"\n",
    "\n",
    "x = txt.find(\" \")\n",
    "\n",
    "print(x)"
   ]
  }
 ],
 "metadata": {
  "kernelspec": {
   "display_name": "Python 3",
   "language": "python",
   "name": "python3"
  },
  "language_info": {
   "codemirror_mode": {
    "name": "ipython",
    "version": 3
   },
   "file_extension": ".py",
   "mimetype": "text/x-python",
   "name": "python",
   "nbconvert_exporter": "python",
   "pygments_lexer": "ipython3",
   "version": "3.7.3"
  }
 },
 "nbformat": 4,
 "nbformat_minor": 5
}
