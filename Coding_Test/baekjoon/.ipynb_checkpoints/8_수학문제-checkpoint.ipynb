{
 "cells": [
  {
   "cell_type": "markdown",
   "id": "invalid-religion",
   "metadata": {},
   "source": [
    "손익분기점"
   ]
  },
  {
   "cell_type": "code",
   "execution_count": 93,
   "id": "qualified-actor",
   "metadata": {},
   "outputs": [
    {
     "name": "stdout",
     "output_type": "stream",
     "text": [
      "200 10 9\n",
      "-1\n"
     ]
    }
   ],
   "source": [
    "# 틀렸습니다.\n",
    "A, B, C = map(int, input().split())\n",
    "if B > C:\n",
    "    print(-1)\n",
    "else:\n",
    "    print(int((A - C) / B))"
   ]
  },
  {
   "cell_type": "code",
   "execution_count": null,
   "id": "pending-ministry",
   "metadata": {},
   "outputs": [],
   "source": [
    "# 시간초과.\n",
    "import sys\n",
    "A, B, C = map(int, sys.stdin.readline().split())\n",
    "num = iter([1,2]) \n",
    "index1 = next(num)\n",
    "before = (A + (B * index1)) - (C * index1)\n",
    "index2 = next(num)\n",
    "after = (A + (B * index2)) - (C * index2)\n",
    "if after > before:\n",
    "    print(-1)\n",
    "else:\n",
    "    count = 0\n",
    "    while True:\n",
    "        count += 1\n",
    "        differ = (A + (B * count)) - (C * count)\n",
    "        if differ < 0:\n",
    "            break\n",
    "    print(count)"
   ]
  },
  {
   "cell_type": "markdown",
   "id": "thermal-newark",
   "metadata": {},
   "source": [
    "https://velog.io/@py_code/1712.-%EC%86%90%EC%9D%B5%EB%B6%84%EA%B8%B0%EC%A0%90"
   ]
  }
 ],
 "metadata": {
  "kernelspec": {
   "display_name": "Python 3",
   "language": "python",
   "name": "python3"
  }
 },
 "nbformat": 4,
 "nbformat_minor": 5
}
