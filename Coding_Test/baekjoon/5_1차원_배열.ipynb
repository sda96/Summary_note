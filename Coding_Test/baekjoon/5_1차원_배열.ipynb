{
 "cells": [
  {
   "cell_type": "markdown",
   "id": "outer-christianity",
   "metadata": {},
   "source": [
    "최소, 최대"
   ]
  },
  {
   "cell_type": "code",
   "execution_count": null,
   "id": "pressing-blame",
   "metadata": {},
   "outputs": [],
   "source": [
    "import sys\n",
    "input()\n",
    "b = list(map(int, sys.stdin.readline().split()))\n",
    "print(min(b), max(b)) "
   ]
  },
  {
   "cell_type": "code",
   "execution_count": null,
   "id": "suffering-tenant",
   "metadata": {},
   "outputs": [],
   "source": [
    "import sys\n",
    "_,*L=map(int,sys.stdin.read().split())\n",
    "print(min(L),max(L))"
   ]
  },
  {
   "cell_type": "markdown",
   "id": "satellite-forward",
   "metadata": {},
   "source": [
    "최대"
   ]
  },
  {
   "cell_type": "code",
   "execution_count": null,
   "id": "spectacular-alabama",
   "metadata": {},
   "outputs": [],
   "source": [
    "import sys\n",
    "a = list(map(int, sys.stdin.readlines()))\n",
    "print(max(a), a.index(max(a))+1)"
   ]
  },
  {
   "cell_type": "code",
   "execution_count": null,
   "id": "detected-reader",
   "metadata": {},
   "outputs": [],
   "source": [
    "l=[int(input())for i in range(9)]\n",
    "print(max(l),l.index(max(l))+1)"
   ]
  },
  {
   "cell_type": "markdown",
   "id": "sacred-configuration",
   "metadata": {},
   "source": [
    "숫자의 개수"
   ]
  },
  {
   "cell_type": "code",
   "execution_count": null,
   "id": "vertical-threat",
   "metadata": {},
   "outputs": [],
   "source": [
    "import sys\n",
    "import collections\n",
    "A, B, C = list(map(int, sys.stdin.readlines()))\n",
    "multi = str(A*B*C)\n",
    "\n",
    "returns = [0,0,0,0,0,0,0,0,0,0]\n",
    "count = collections.Counter(multi)\n",
    "li_count = list(count.items())\n",
    "for ind, num in li_count:\n",
    "    returns[int(ind)] = num\n",
    "\n",
    "for i in returns:\n",
    "    print(i)"
   ]
  },
  {
   "cell_type": "code",
   "execution_count": null,
   "id": "intimate-lodging",
   "metadata": {},
   "outputs": [],
   "source": [
    "a = int(input())\n",
    "b = int(input())\n",
    "c = int(input())\n",
    "\n",
    "d = list(map(int, (str(a * b * c))))\n",
    "\n",
    "for i in range(10):\n",
    "    print(d.count(i))"
   ]
  },
  {
   "cell_type": "markdown",
   "id": "featured-teaching",
   "metadata": {},
   "source": [
    "나머지"
   ]
  },
  {
   "cell_type": "code",
   "execution_count": null,
   "id": "heated-slave",
   "metadata": {},
   "outputs": [],
   "source": [
    "import sys\n",
    "A = [i % 42 for i in list(map(int, sys.stdin.readlines()))]\n",
    "print(len(set(A)))"
   ]
  },
  {
   "cell_type": "code",
   "execution_count": null,
   "id": "basic-wichita",
   "metadata": {},
   "outputs": [],
   "source": [
    "b = [int(input())%42 for i in range(10)]\n",
    "print(len(set(b)))"
   ]
  },
  {
   "cell_type": "markdown",
   "id": "august-pontiac",
   "metadata": {},
   "source": [
    "평균"
   ]
  },
  {
   "cell_type": "code",
   "execution_count": null,
   "id": "level-boxing",
   "metadata": {},
   "outputs": [],
   "source": [
    "a = input()\n",
    "real_list = [10, 20 ,30]\n",
    "best_score = max(real_list)\n",
    "fake_list = [(i/best_score)*100 for i in real_list]\n",
    "fake_mean = sum(fake_list) / len(fake_list)\n",
    "fake_mean"
   ]
  },
  {
   "cell_type": "code",
   "execution_count": null,
   "id": "fundamental-helping",
   "metadata": {},
   "outputs": [],
   "source": [
    "# 1546\n",
    "n = int(input())\n",
    "a=list(map(int,input().split()))\n",
    "m = max(a)\n",
    "for i in range(n):\n",
    "    a[i] = a[i]/m*100\n",
    "print(sum(a)/n)"
   ]
  },
  {
   "cell_type": "markdown",
   "id": "nearby-fight",
   "metadata": {},
   "source": [
    "OX퀴즈"
   ]
  },
  {
   "cell_type": "code",
   "execution_count": null,
   "id": "stainless-parcel",
   "metadata": {},
   "outputs": [],
   "source": [
    "import sys\n",
    "input()\n",
    "inputs = map(lambda x: x.replace(\"\\n\",\"\"),sys.stdin.readlines())\n",
    "strings = [i.split(\"X\") for i in inputs]\n",
    "for string in strings:\n",
    "    bucket = []\n",
    "    for leng in string:\n",
    "        length = len(leng)\n",
    "        if length == 0:\n",
    "            pass\n",
    "        else:\n",
    "            bucket += [sum(range(1,length+1))]\n",
    "    print(sum(bucket))\n"
   ]
  },
  {
   "cell_type": "code",
   "execution_count": null,
   "id": "democratic-division",
   "metadata": {},
   "outputs": [],
   "source": [
    "import sys\n",
    "N = int(sys.stdin.readline())\n",
    "for i in range(N):\n",
    "    quiz_result = sys.stdin.readline()\n",
    "    accum = 1\n",
    "    score = 0\n",
    "    for q in quiz_result:\n",
    "        if q is 'O':\n",
    "            score += accum\n",
    "            accum += 1\n",
    "        else:\n",
    "            accum = 1\n",
    "    print(score)"
   ]
  },
  {
   "cell_type": "markdown",
   "id": "imported-hotel",
   "metadata": {},
   "source": [
    "평균은 넘겠지"
   ]
  },
  {
   "cell_type": "code",
   "execution_count": null,
   "id": "royal-sacramento",
   "metadata": {},
   "outputs": [],
   "source": [
    "N = int(input())\n",
    "for i in range(N):\n",
    "    case = list(map(int, input().split()))\n",
    "    num = case[0]\n",
    "    scores = case[1:]\n",
    "    average = sum(scores)/len(scores)\n",
    "    bucket = []\n",
    "    for i in scores:\n",
    "        if i > average:\n",
    "            bucket += [True]\n",
    "        else:\n",
    "            bucket += [False]\n",
    "    re = sum(bucket) / len(scores) * 100\n",
    "    print(\"{:.3f}%\".format(re))"
   ]
  },
  {
   "cell_type": "code",
   "execution_count": null,
   "id": "exciting-offense",
   "metadata": {},
   "outputs": [],
   "source": [
    "import sys\n",
    "input = sys.stdin.readline\n",
    "\n",
    "test_case = int(input())\n",
    "\n",
    "for _ in range(test_case):\n",
    "    data = input().strip().split(' ')\n",
    "    scores = list(map(float, data[1:]))\n",
    "    average = sum(scores) / len(scores)\n",
    "\n",
    "    above = 0\n",
    "    for score in scores:\n",
    "        if score > average:\n",
    "            above += 1\n",
    "\n",
    "    print(f'{(above/len(scores))*100:.3f}%')"
   ]
  }
 ],
 "metadata": {
  "kernelspec": {
   "display_name": "Python 3",
   "language": "python",
   "name": "python3"
  },
  "language_info": {
   "codemirror_mode": {
    "name": "ipython",
    "version": 3
   },
   "file_extension": ".py",
   "mimetype": "text/x-python",
   "name": "python",
   "nbconvert_exporter": "python",
   "pygments_lexer": "ipython3",
   "version": "3.7.3"
  }
 },
 "nbformat": 4,
 "nbformat_minor": 5
}
