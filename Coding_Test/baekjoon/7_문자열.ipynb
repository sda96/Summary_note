{
 "cells": [
  {
   "cell_type": "markdown",
   "metadata": {},
   "source": [
    "아스키 코드"
   ]
  },
  {
   "cell_type": "code",
   "execution_count": 15,
   "metadata": {},
   "outputs": [
    {
     "name": "stdout",
     "output_type": "stream",
     "text": [
      "1\n"
     ]
    },
    {
     "data": {
      "text/plain": [
       "49"
      ]
     },
     "execution_count": 15,
     "metadata": {},
     "output_type": "execute_result"
    }
   ],
   "source": [
    "a = input()\n",
    "# 문자열 -> 아스키코드\n",
    "print(ord(a))"
   ]
  },
  {
   "cell_type": "code",
   "execution_count": 14,
   "metadata": {},
   "outputs": [
    {
     "data": {
      "text/plain": [
       "'A'"
      ]
     },
     "execution_count": 14,
     "metadata": {},
     "output_type": "execute_result"
    }
   ],
   "source": [
    "# 아스키코드 -> 문자열\n",
    "chr(65)"
   ]
  },
  {
   "cell_type": "code",
   "execution_count": null,
   "metadata": {},
   "outputs": [],
   "source": [
    "print(ord(input()))"
   ]
  },
  {
   "cell_type": "markdown",
   "metadata": {},
   "source": [
    "숫자의 합"
   ]
  },
  {
   "cell_type": "code",
   "execution_count": 22,
   "metadata": {
    "scrolled": true
   },
   "outputs": [
    {
     "name": "stdout",
     "output_type": "stream",
     "text": [
      "11\n",
      "10987654321\n"
     ]
    },
    {
     "data": {
      "text/plain": [
       "46"
      ]
     },
     "execution_count": 22,
     "metadata": {},
     "output_type": "execute_result"
    }
   ],
   "source": [
    "a = int(input())\n",
    "b = input()\n",
    "print(sum([int(b[i]) for i in range(a)]))"
   ]
  },
  {
   "cell_type": "code",
   "execution_count": 23,
   "metadata": {},
   "outputs": [
    {
     "name": "stdout",
     "output_type": "stream",
     "text": [
      "5\n",
      "54321\n",
      "15\n"
     ]
    }
   ],
   "source": [
    "# 문자열은 iterable하므로 map함수를 사용하여 각 인덱스에 함수 적용가능\n",
    "input();print(sum(map(int,input())))"
   ]
  },
  {
   "cell_type": "markdown",
   "metadata": {},
   "source": [
    "알파벳 찾기"
   ]
  },
  {
   "cell_type": "code",
   "execution_count": 38,
   "metadata": {},
   "outputs": [
    {
     "name": "stdout",
     "output_type": "stream",
     "text": [
      "baekjoon\n",
      "1 0 -1 -1 2 -1 -1 -1 -1 4 3 -1 -1 7 5 -1 -1 -1 -1 -1 -1 -1 -1 -1 -1 -1\n"
     ]
    }
   ],
   "source": [
    "a = \"abcdefghijklmnopqrstuvwxyz\"\n",
    "b = input()\n",
    "c = []\n",
    "for i in a:\n",
    "    if i in b:\n",
    "        c += [str(b.index(i))]\n",
    "    else:\n",
    "        c += [str(-1)]\n",
    "print(\" \".join(c))"
   ]
  },
  {
   "cell_type": "code",
   "execution_count": 39,
   "metadata": {},
   "outputs": [
    {
     "name": "stdout",
     "output_type": "stream",
     "text": [
      "baekjoon\n",
      "1 0 -1 -1 2 -1 -1 -1 -1 4 3 -1 -1 7 5 -1 -1 -1 -1 -1 -1 -1 -1 -1 -1 -1 "
     ]
    }
   ],
   "source": [
    "string = input()\n",
    "alphabet = \"abcdefghijklmnopqrstuvwxyz\"\n",
    "for i in alphabet:\n",
    "    print(string.find(i), end = ' ')"
   ]
  },
  {
   "cell_type": "markdown",
   "metadata": {},
   "source": [
    "문자열 반복"
   ]
  },
  {
   "cell_type": "code",
   "execution_count": 53,
   "metadata": {},
   "outputs": [
    {
     "name": "stdout",
     "output_type": "stream",
     "text": [
      "2\n",
      "3 ABC\n",
      "AAABBBCCC\n",
      "5 /HTP\n",
      "/////HHHHHTTTTTPPPPP\n"
     ]
    }
   ],
   "source": [
    "T = int(input())\n",
    "for i in range(T):\n",
    "    a, b = input().split()\n",
    "    c = \"\".join([i*int(a) for i in b])\n",
    "    print(c)"
   ]
  },
  {
   "cell_type": "markdown",
   "metadata": {},
   "source": [
    "단어 공부"
   ]
  },
  {
   "cell_type": "code",
   "execution_count": 90,
   "metadata": {},
   "outputs": [
    {
     "name": "stdout",
     "output_type": "stream",
     "text": [
      "Mississipi\n",
      "?\n"
     ]
    }
   ],
   "source": [
    "import collections\n",
    "T = input().upper()\n",
    "try:\n",
    "    most, better = collections.Counter(T).most_common()[:2]\n",
    "    if most[1] == better[1]:\n",
    "        print(\"?\")\n",
    "    else:\n",
    "        print(most[0])\n",
    "except ValueError:\n",
    "    most = collections.Counter(T).most_common()[0]\n",
    "    print(most[0])"
   ]
  },
  {
   "cell_type": "code",
   "execution_count": 92,
   "metadata": {},
   "outputs": [
    {
     "name": "stdout",
     "output_type": "stream",
     "text": [
      "aaaaa\n",
      "A\n"
     ]
    }
   ],
   "source": [
    "s,a=input().lower(),[]\n",
    "for i in range(97,123):\n",
    "    a.append(s.count(chr(i)))\n",
    "print('?'if a.count(max(a))>1 else chr(a.index(max(a))+97).upper())"
   ]
  },
  {
   "cell_type": "markdown",
   "metadata": {},
   "source": [
    "단어의 개수"
   ]
  },
  {
   "cell_type": "code",
   "execution_count": 111,
   "metadata": {},
   "outputs": [
    {
     "name": "stdout",
     "output_type": "stream",
     "text": [
      "Teullinika Teullyeotzi \n",
      "2\n"
     ]
    }
   ],
   "source": [
    "print(len(input().strip().split()))"
   ]
  },
  {
   "cell_type": "code",
   "execution_count": 108,
   "metadata": {},
   "outputs": [
    {
     "data": {
      "text/plain": [
       "'fqefq'"
      ]
     },
     "execution_count": 108,
     "metadata": {},
     "output_type": "execute_result"
    }
   ],
   "source": [
    "import sys\n",
    "s = sys.stdin.read().strip()\n",
    "if not s:\n",
    "    print(\"0\")\n",
    "else:\n",
    "    print(len(s.split(\" \")))"
   ]
  },
  {
   "cell_type": "markdown",
   "metadata": {},
   "source": [
    "상수"
   ]
  },
  {
   "cell_type": "code",
   "execution_count": 120,
   "metadata": {
    "scrolled": true
   },
   "outputs": [
    {
     "name": "stdout",
     "output_type": "stream",
     "text": [
      "734 893\n"
     ]
    },
    {
     "data": {
      "text/plain": [
       "437"
      ]
     },
     "execution_count": 120,
     "metadata": {},
     "output_type": "execute_result"
    }
   ],
   "source": [
    "a, b = list(map(lambda x: int(x[::-1]), input().split(\" \")))\n",
    "print(max(a, b))"
   ]
  },
  {
   "cell_type": "code",
   "execution_count": null,
   "metadata": {},
   "outputs": [],
   "source": [
    "a, b =input().split()\n",
    "\n",
    "def reading(k):\n",
    "    k = k[::-1]\n",
    "    return int(k)\n",
    "\n",
    "print(max([reading(a),reading(b)]))"
   ]
  },
  {
   "cell_type": "markdown",
   "metadata": {},
   "source": [
    "다이얼"
   ]
  },
  {
   "cell_type": "code",
   "execution_count": 131,
   "metadata": {},
   "outputs": [
    {
     "name": "stdout",
     "output_type": "stream",
     "text": [
      "UNUCIC@$\n",
      "56\n"
     ]
    }
   ],
   "source": [
    "sentence = list(map(str, input()))\n",
    "# 영어 -> 숫자\n",
    "for ind, text in enumerate(sentence):\n",
    "    if text in [\"A\", \"B\", \"C\"]:\n",
    "        sentence[ind] = 2\n",
    "    elif text in [\"D\", \"E\", \"F\"]:\n",
    "        sentence[ind] = 3\n",
    "    elif text in [\"G\", \"H\", \"I\"]:\n",
    "        sentence[ind] = 4\n",
    "    elif text in [\"J\", \"K\", \"L\"]:\n",
    "        sentence[ind] = 5\n",
    "    elif text in [\"M\", \"N\", \"O\"]:\n",
    "        sentence[ind] = 6\n",
    "    elif text in [\"P\", \"Q\", \"R\", \"S\"]:\n",
    "        sentence[ind] = 7\n",
    "    elif text in [\"T\", \"U\", \"V\"]:\n",
    "        sentence[ind] = 8\n",
    "    elif text in [\"W\", \"X\", \"Y\", \"Z\"]:\n",
    "        sentence[ind] = 9\n",
    "    else:\n",
    "        sentence[ind] = 9\n",
    "# 숫자 -> 시간\n",
    "for ind, i in enumerate(sentence):\n",
    "    if i == 0:\n",
    "        sentence[ind] = 11\n",
    "    else:\n",
    "        sentence[ind] = i + 1\n",
    "print(sum(sentence))"
   ]
  },
  {
   "cell_type": "code",
   "execution_count": null,
   "metadata": {},
   "outputs": [],
   "source": [
    "print(sum((ord(i)-62-(i in 'SVYZ')-(i=='Z'))//3+2 for i in input()))"
   ]
  },
  {
   "cell_type": "markdown",
   "metadata": {},
   "source": [
    "크로아티아 알파벳"
   ]
  },
  {
   "cell_type": "code",
   "execution_count": 24,
   "metadata": {},
   "outputs": [
    {
     "data": {
      "text/plain": [
       "2"
      ]
     },
     "execution_count": 24,
     "metadata": {},
     "output_type": "execute_result"
    }
   ],
   "source": [
    "text = input()\n",
    "text = text.replace(\"dz=\", \"z\")\n",
    "text = text.replace(\"lj\", \"l\")\n",
    "text = text.replace(\"nj\", \"n\")\n",
    "text = text.replace(\"=\", \"\")\n",
    "text = text.replace(\"-\", \"\")\n",
    "print(len(text))"
   ]
  },
  {
   "cell_type": "code",
   "execution_count": 50,
   "metadata": {},
   "outputs": [
    {
     "name": "stdout",
     "output_type": "stream",
     "text": [
      "ljes=njak\n",
      "6\n"
     ]
    }
   ],
   "source": [
    "c=input().count;print(c('')-1-sum(map(c,['-','=','nj','lj','dz='])))"
   ]
  },
  {
   "cell_type": "code",
   "execution_count": 44,
   "metadata": {
    "scrolled": true
   },
   "outputs": [
    {
     "data": {
      "text/plain": [
       "[0, 1, 1, 0, 0]"
      ]
     },
     "execution_count": 44,
     "metadata": {},
     "output_type": "execute_result"
    }
   ],
   "source": [
    "# 리스트의 조건에 만족하는 함수는 1을 출력하고 나머지는 0 출력\n",
    "list(map(c, [\"-\", \"=\", \"nj\", \" lj\", \"dz=\"]))"
   ]
  },
  {
   "cell_type": "code",
   "execution_count": 53,
   "metadata": {},
   "outputs": [
    {
     "name": "stdout",
     "output_type": "stream",
     "text": [
      "10\n",
      "6\n"
     ]
    }
   ],
   "source": [
    "# 한글자씩 갯수를 세어 나온 값은 10개에 조건을 빼면 -4임\n",
    "print(c(\"\"))\n",
    "print(c('')-1-sum(map(c,['-','=','nj','lj','dz='])))"
   ]
  }
 ],
 "metadata": {
  "kernelspec": {
   "display_name": "Python 3",
   "language": "python",
   "name": "python3"
  },
  "language_info": {
   "codemirror_mode": {
    "name": "ipython",
    "version": 3
   },
   "file_extension": ".py",
   "mimetype": "text/x-python",
   "name": "python",
   "nbconvert_exporter": "python",
   "pygments_lexer": "ipython3",
   "version": "3.7.4"
  }
 },
 "nbformat": 4,
 "nbformat_minor": 5
}
