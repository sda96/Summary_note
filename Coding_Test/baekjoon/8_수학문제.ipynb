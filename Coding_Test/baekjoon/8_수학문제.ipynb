{
 "cells": [
  {
   "cell_type": "markdown",
   "id": "invalid-religion",
   "metadata": {},
   "source": [
    "손익분기점"
   ]
  },
  {
   "cell_type": "code",
   "execution_count": 93,
   "id": "qualified-actor",
   "metadata": {},
   "outputs": [
    {
     "name": "stdout",
     "output_type": "stream",
     "text": [
      "200 10 9\n",
      "-1\n"
     ]
    }
   ],
   "source": [
    "# 틀렸습니다.\n",
    "A, B, C = map(int, input().split())\n",
    "if B > C:\n",
    "    print(-1)\n",
    "else:\n",
    "    print(int((A - C) / B))"
   ]
  },
  {
   "cell_type": "code",
   "execution_count": null,
   "id": "pending-ministry",
   "metadata": {},
   "outputs": [],
   "source": [
    "# 시간초과.\n",
    "import sys\n",
    "A, B, C = map(int, sys.stdin.readline().split())\n",
    "num = iter([1,2]) \n",
    "index1 = next(num)\n",
    "before = (A + (B * index1)) - (C * index1)\n",
    "index2 = next(num)\n",
    "after = (A + (B * index2)) - (C * index2)\n",
    "if after > before:\n",
    "    print(-1)\n",
    "else:\n",
    "    count = 0\n",
    "    while True:\n",
    "        count += 1\n",
    "        differ = (A + (B * count)) - (C * count)\n",
    "        if differ < 0:\n",
    "            break\n",
    "    print(count)"
   ]
  },
  {
   "cell_type": "markdown",
   "id": "thermal-newark",
   "metadata": {},
   "source": [
    "https://velog.io/@py_code/1712.-%EC%86%90%EC%9D%B5%EB%B6%84%EA%B8%B0%EC%A0%90"
   ]
  },
  {
   "cell_type": "markdown",
   "id": "interesting-evolution",
   "metadata": {},
   "source": [
    "벌집"
   ]
  },
  {
   "cell_type": "code",
   "execution_count": 58,
   "id": "adjacent-talent",
   "metadata": {},
   "outputs": [
    {
     "name": "stdout",
     "output_type": "stream",
     "text": [
      "13\n"
     ]
    },
    {
     "ename": "KeyboardInterrupt",
     "evalue": "",
     "output_type": "error",
     "traceback": [
      "\u001b[1;31m---------------------------------------------------------------------------\u001b[0m",
      "\u001b[1;31mKeyboardInterrupt\u001b[0m                         Traceback (most recent call last)",
      "\u001b[1;32m<ipython-input-58-9df1d69050f1>\u001b[0m in \u001b[0;36m<module>\u001b[1;34m\u001b[0m\n\u001b[0;32m      3\u001b[0m \u001b[0mrow_range\u001b[0m \u001b[1;33m=\u001b[0m \u001b[1;36m0\u001b[0m\u001b[1;33m\u001b[0m\u001b[1;33m\u001b[0m\u001b[0m\n\u001b[0;32m      4\u001b[0m \u001b[1;32mwhile\u001b[0m \u001b[1;32mTrue\u001b[0m\u001b[1;33m:\u001b[0m\u001b[1;33m\u001b[0m\u001b[1;33m\u001b[0m\u001b[0m\n\u001b[1;32m----> 5\u001b[1;33m     \u001b[1;32mif\u001b[0m \u001b[0mi\u001b[0m \u001b[1;33m==\u001b[0m \u001b[1;36m1\u001b[0m\u001b[1;33m:\u001b[0m\u001b[1;33m\u001b[0m\u001b[1;33m\u001b[0m\u001b[0m\n\u001b[0m\u001b[0;32m      6\u001b[0m         \u001b[1;32mpass\u001b[0m\u001b[1;33m\u001b[0m\u001b[1;33m\u001b[0m\u001b[0m\n\u001b[0;32m      7\u001b[0m     \u001b[1;32melse\u001b[0m\u001b[1;33m:\u001b[0m\u001b[1;33m\u001b[0m\u001b[1;33m\u001b[0m\u001b[0m\n",
      "\u001b[1;31mKeyboardInterrupt\u001b[0m: "
     ]
    }
   ],
   "source": [
    "N = int(input())\n",
    "i = 1\n",
    "row_range = 0\n",
    "while True:    \n",
    "    if i == 1:\n",
    "        pass\n",
    "    else:\n",
    "        i += 1\n",
    "        row_range += 2 + ((i - 2) * 6)\n",
    "        if N > row_range:\n",
    "            i += 1\n",
    "        else:\n",
    "            break\n",
    "print(i)"
   ]
  },
  {
   "cell_type": "code",
   "execution_count": 128,
   "id": "billion-effectiveness",
   "metadata": {},
   "outputs": [
    {
     "name": "stdout",
     "output_type": "stream",
     "text": [
      "13\n",
      "3\n"
     ]
    }
   ],
   "source": [
    "# 정답 시간 68ms 코드길이 138B\n",
    "N = int(input())\n",
    "# 시작값\n",
    "a = 2\n",
    "i = 1\n",
    "# i를 증가시키는 반복문\n",
    "while True:\n",
    "    # 공차\n",
    "    b = (i-1) * 6\n",
    "    # 기존값과 계속 더해나감\n",
    "    a += b\n",
    "    # 더한값이 N보다 작으면 멈춤\n",
    "    if N < a:\n",
    "        break\n",
    "    else:\n",
    "        i += 1\n",
    "print(i)"
   ]
  },
  {
   "cell_type": "markdown",
   "id": "judicial-catering",
   "metadata": {},
   "source": [
    "N의 값이 2에서 8 이면 2번, 8에서 20 이면 3번 지나갑니다. 여기서 각 범위의 시작값 보다 작은 N이 들어오면 반복문을 멈추고 i를 출력합니다.  \n",
    "범위의 시작값은  6의 배수 만큼 증가하기에 식을 구합니다."
   ]
  },
  {
   "cell_type": "code",
   "execution_count": 126,
   "id": "uniform-texas",
   "metadata": {
    "scrolled": true
   },
   "outputs": [
    {
     "data": {
      "text/plain": [
       "2.0"
      ]
     },
     "execution_count": 126,
     "metadata": {},
     "output_type": "execute_result"
    }
   ],
   "source": [
    "print(int(-(-(3+(12*int(input())-3)**.5)//6)))"
   ]
  },
  {
   "cell_type": "code",
   "execution_count": 127,
   "id": "unique-request",
   "metadata": {},
   "outputs": [
    {
     "data": {
      "text/plain": [
       "0"
      ]
     },
     "execution_count": 127,
     "metadata": {},
     "output_type": "execute_result"
    }
   ],
   "source": [
    "n = int(input())\n",
    "k = (n-1)/6\n",
    "\n",
    "i=0\n",
    "while i*(i+1)/2<k:\n",
    "    i+=1\n",
    "\n",
    "print(i+1)"
   ]
  },
  {
   "cell_type": "markdown",
   "id": "seven-discipline",
   "metadata": {},
   "source": [
    "분수찾기 "
   ]
  },
  {
   "cell_type": "code",
   "execution_count": 132,
   "id": "wound-railway",
   "metadata": {},
   "outputs": [
    {
     "data": {
      "text/plain": [
       "[[0, 0], [0, 1], [0, 2], [1, 0], [1, 1], [1, 2], [2, 0], [2, 1], [2, 2]]"
      ]
     },
     "execution_count": 132,
     "metadata": {},
     "output_type": "execute_result"
    }
   ],
   "source": [
    "a = []\n",
    "for i in range(3):\n",
    "    for j in range(3):\n",
    "        a += [[i,j]]\n",
    "a"
   ]
  }
 ],
 "metadata": {
  "kernelspec": {
   "display_name": "Python 3",
   "language": "python",
   "name": "python3"
  },
  "language_info": {
   "codemirror_mode": {
    "name": "ipython",
    "version": 3
   },
   "file_extension": ".py",
   "mimetype": "text/x-python",
   "name": "python",
   "nbconvert_exporter": "python",
   "pygments_lexer": "ipython3",
   "version": "3.7.3"
  }
 },
 "nbformat": 4,
 "nbformat_minor": 5
}
