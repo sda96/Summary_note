{
 "cells": [
  {
   "cell_type": "code",
   "execution_count": 66,
   "id": "basic-candy",
   "metadata": {},
   "outputs": [],
   "source": [
    "before = [10,10,10,10,10,10,10,10,10,10]\n",
    "sorted(before)\n",
    "ings = []\n",
    "after = []\n",
    "i = 0\n",
    "while before:\n",
    "    ing = before.pop(0)\n",
    "    i += 1\n",
    "    ings += [ing]\n",
    "    while ings:\n",
    "        ed = ings.pop(0)\n",
    "        i += 1\n",
    "        after += [ed]"
   ]
  },
  {
   "cell_type": "code",
   "execution_count": 113,
   "id": "intellectual-skiing",
   "metadata": {},
   "outputs": [],
   "source": [
    "a = [10]\n",
    "a = sorted(a)\n",
    "b = []\n",
    "# 적정무게를 넘는 것과 넘지 않는 것 구분\n",
    "for i in range(len(a)):\n",
    "    if sum(a) >= 100:\n",
    "        b += [a.pop(-1)]"
   ]
  },
  {
   "cell_type": "code",
   "execution_count": 114,
   "id": "peaceful-design",
   "metadata": {},
   "outputs": [],
   "source": [
    "def time(before):\n",
    "    ings = []\n",
    "    after = []\n",
    "    i = 0\n",
    "    while before:\n",
    "        ing = before.pop(0)\n",
    "        i += 1\n",
    "        ings += [ing]\n",
    "        while ings:\n",
    "            ed = ings.pop(0)\n",
    "            i += 1\n",
    "            after += [ed]\n",
    "    return i"
   ]
  },
  {
   "cell_type": "code",
   "execution_count": 115,
   "id": "express-census",
   "metadata": {},
   "outputs": [
    {
     "data": {
      "text/plain": [
       "(2, 0)"
      ]
     },
     "execution_count": 115,
     "metadata": {},
     "output_type": "execute_result"
    }
   ],
   "source": [
    "time(a), time(b)"
   ]
  },
  {
   "cell_type": "code",
   "execution_count": null,
   "id": "perfect-blind",
   "metadata": {},
   "outputs": [],
   "source": []
  }
 ],
 "metadata": {
  "kernelspec": {
   "display_name": "Python 3",
   "language": "python",
   "name": "python3"
  },
  "language_info": {
   "codemirror_mode": {
    "name": "ipython",
    "version": 3
   },
   "file_extension": ".py",
   "mimetype": "text/x-python",
   "name": "python",
   "nbconvert_exporter": "python",
   "pygments_lexer": "ipython3",
   "version": "3.7.3"
  }
 },
 "nbformat": 4,
 "nbformat_minor": 5
}
