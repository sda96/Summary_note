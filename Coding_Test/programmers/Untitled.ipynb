{
 "cells": [
  {
   "cell_type": "markdown",
   "id": "artificial-ranking",
   "metadata": {},
   "source": [
    "1단계 1번"
   ]
  },
  {
   "cell_type": "code",
   "execution_count": 31,
   "id": "practical-government",
   "metadata": {},
   "outputs": [
    {
     "data": {
      "text/plain": [
       "[[4], [6]]"
      ]
     },
     "execution_count": 31,
     "metadata": {},
     "output_type": "execute_result"
    }
   ],
   "source": [
    "arr1 = [[1], [2]]\n",
    "b = [[3], [4]]\n",
    "c = []\n",
    "def solution(arr1, arr2):\n",
    "    c = []\n",
    "    for i,j in zip(arr1,arr2):\n",
    "        c += [list(map(lambda x,y: x+y, i, j))]\n",
    "    return c"
   ]
  },
  {
   "cell_type": "markdown",
   "id": "bottom-saturday",
   "metadata": {},
   "source": [
    "1단계 2번"
   ]
  },
  {
   "cell_type": "code",
   "execution_count": 34,
   "id": "numerous-dressing",
   "metadata": {},
   "outputs": [
    {
     "data": {
      "text/plain": [
       "-1234"
      ]
     },
     "execution_count": 34,
     "metadata": {},
     "output_type": "execute_result"
    }
   ],
   "source": [
    "int(\"-1234\")"
   ]
  },
  {
   "cell_type": "markdown",
   "id": "medical-associate",
   "metadata": {},
   "source": [
    "2단계 1번"
   ]
  },
  {
   "cell_type": "code",
   "execution_count": 42,
   "id": "cognitive-collar",
   "metadata": {},
   "outputs": [
    {
     "data": {
      "text/plain": [
       "(3, 0)"
      ]
     },
     "execution_count": 42,
     "metadata": {},
     "output_type": "execute_result"
    }
   ],
   "source": [
    "def generator():\n",
    "    yield 1\n",
    "    yield 2\n",
    "    yield 4\n",
    "\n",
    "def solve(x):\n",
    "    "
   ]
  },
  {
   "cell_type": "code",
   "execution_count": 92,
   "id": "occasional-springer",
   "metadata": {},
   "outputs": [],
   "source": [
    "print(\"10진수\")\n",
    "x = int(input())\n",
    "y=\"\"\n",
    "print(\"2진수\")\n",
    "while x>0:\n",
    "    y=str(x%2)+y\n",
    "    x//=2\n",
    "print(y)\n",
    "\n"
   ]
  },
  {
   "cell_type": "code",
   "execution_count": 93,
   "id": "approximate-respondent",
   "metadata": {},
   "outputs": [
    {
     "data": {
      "text/plain": [
       "3"
      ]
     },
     "execution_count": 93,
     "metadata": {},
     "output_type": "execute_result"
    }
   ],
   "source": [
    "x = 40\n",
    "num = [1, 2, 4]\n"
   ]
  },
  {
   "cell_type": "code",
   "execution_count": 87,
   "id": "south-saying",
   "metadata": {},
   "outputs": [
    {
     "name": "stdout",
     "output_type": "stream",
     "text": [
      "1\n"
     ]
    }
   ],
   "source": [
    "x = 10 \n",
    "\n",
    "if x % 3 == 1:\n",
    "    print(1)\n",
    "elif x % 3 == 2:\n",
    "    print(2)\n",
    "elif x % 3 == 0:\n",
    "    print(4)"
   ]
  },
  {
   "cell_type": "markdown",
   "id": "decreased-analyst",
   "metadata": {},
   "source": [
    "2단계 2번"
   ]
  },
  {
   "cell_type": "code",
   "execution_count": 57,
   "id": "invalid-stuart",
   "metadata": {},
   "outputs": [],
   "source": [
    "s = \"{{2},{2,1},{2,1,3},{2,1,3,4}}\"\n"
   ]
  },
  {
   "cell_type": "code",
   "execution_count": 69,
   "id": "smooth-helen",
   "metadata": {},
   "outputs": [
    {
     "data": {
      "text/plain": [
       "['4', ',', '{', '}', '2', '3', '1']"
      ]
     },
     "execution_count": 69,
     "metadata": {},
     "output_type": "execute_result"
    }
   ],
   "source": [
    "s = \"{{2},{2,1},{2,1,3},{2,1,3,4}}\"\n",
    "a = list(set(tuple(s)))\n",
    "a"
   ]
  },
  {
   "cell_type": "code",
   "execution_count": null,
   "id": "academic-lawsuit",
   "metadata": {},
   "outputs": [],
   "source": []
  },
  {
   "cell_type": "code",
   "execution_count": 82,
   "id": "naughty-watson",
   "metadata": {},
   "outputs": [
    {
     "data": {
      "text/plain": [
       "{',', '1', '2', '3', '4', '{', '}'}"
      ]
     },
     "execution_count": 82,
     "metadata": {},
     "output_type": "execute_result"
    }
   ],
   "source": [
    "s = \"{{{2},{2,1},{2,1,3},{2,1,3,4}}}\"\n",
    "set(s)"
   ]
  },
  {
   "cell_type": "code",
   "execution_count": 86,
   "id": "quick-warehouse",
   "metadata": {},
   "outputs": [
    {
     "data": {
      "text/plain": [
       "dict_items([('{', 6), ('2', 4), ('}', 6), (',', 9), ('1', 3), ('3', 2), ('4', 1)])"
      ]
     },
     "execution_count": 86,
     "metadata": {},
     "output_type": "execute_result"
    }
   ],
   "source": [
    "import collections\n",
    "s = \"{{{2},{2,1},{2,1,3},{2,1,3,4}}}\"\n",
    "collections.Counter(s).items()"
   ]
  },
  {
   "cell_type": "markdown",
   "id": "romantic-consultancy",
   "metadata": {},
   "source": [
    "2단계 1 다시"
   ]
  },
  {
   "cell_type": "code",
   "execution_count": 145,
   "id": "macro-solid",
   "metadata": {},
   "outputs": [
    {
     "name": "stdout",
     "output_type": "stream",
     "text": [
      "1 1\n",
      "3 2\n",
      "6 3\n",
      "10 4\n",
      "2 1\n",
      "4 2\n",
      "7 3\n",
      "11 4\n",
      "3 1\n",
      "5 2\n",
      "8 3\n",
      "12 4\n",
      "4 1\n",
      "6 2\n",
      "9 3\n",
      "13 4\n",
      "5 1\n",
      "7 2\n",
      "10 3\n",
      "14 4\n",
      "6 1\n",
      "8 2\n",
      "11 3\n",
      "7 1\n",
      "9 2\n",
      "12 3\n",
      "8 1\n",
      "10 2\n",
      "13 3\n",
      "9 1\n",
      "11 2\n",
      "14 3\n",
      "10 1\n",
      "12 2\n",
      "11 1\n",
      "13 2\n",
      "12 1\n",
      "14 2\n",
      "13 1\n",
      "14 1\n",
      "15 1\n"
     ]
    },
    {
     "data": {
      "text/plain": [
       "4"
      ]
     },
     "execution_count": 145,
     "metadata": {},
     "output_type": "execute_result"
    }
   ],
   "source": [
    "def solve(n):\n",
    "    answer = 0\n",
    "    for num in range(1, n + 1):\n",
    "        length = 1\n",
    "        while True:\n",
    "            length += 1\n",
    "            num += length\n",
    "            if num == 15:\n",
    "                count += 1            \n",
    "                break\n",
    "            elif num > 15:\n",
    "                break\n",
    "    return answer"
   ]
  },
  {
   "cell_type": "code",
   "execution_count": 124,
   "id": "champion-croatia",
   "metadata": {},
   "outputs": [
    {
     "name": "stdout",
     "output_type": "stream",
     "text": [
      "15 5\n"
     ]
    },
    {
     "ename": "KeyboardInterrupt",
     "evalue": "",
     "output_type": "error",
     "traceback": [
      "\u001b[1;31m---------------------------------------------------------------------------\u001b[0m",
      "\u001b[1;31mKeyboardInterrupt\u001b[0m                         Traceback (most recent call last)",
      "\u001b[1;32m<ipython-input-124-47374b769939>\u001b[0m in \u001b[0;36m<module>\u001b[1;34m\u001b[0m\n\u001b[0;32m      3\u001b[0m \u001b[1;33m\u001b[0m\u001b[0m\n\u001b[0;32m      4\u001b[0m     \u001b[1;32mwhile\u001b[0m \u001b[1;32mTrue\u001b[0m\u001b[1;33m:\u001b[0m\u001b[1;33m\u001b[0m\u001b[1;33m\u001b[0m\u001b[0m\n\u001b[1;32m----> 5\u001b[1;33m         \u001b[0mlength\u001b[0m \u001b[1;33m+=\u001b[0m \u001b[1;36m1\u001b[0m\u001b[1;33m\u001b[0m\u001b[1;33m\u001b[0m\u001b[0m\n\u001b[0m\u001b[0;32m      6\u001b[0m         \u001b[0mnum\u001b[0m \u001b[1;33m+=\u001b[0m \u001b[0mlength\u001b[0m\u001b[1;33m\u001b[0m\u001b[1;33m\u001b[0m\u001b[0m\n\u001b[0;32m      7\u001b[0m         \u001b[1;32mif\u001b[0m \u001b[0mnum\u001b[0m \u001b[1;33m==\u001b[0m \u001b[1;36m15\u001b[0m\u001b[1;33m:\u001b[0m\u001b[1;33m\u001b[0m\u001b[1;33m\u001b[0m\u001b[0m\n",
      "\u001b[1;31mKeyboardInterrupt\u001b[0m: "
     ]
    }
   ],
   "source": [
    "for num in range(15+1):\n",
    "    length = 0\n",
    "    \n",
    "    while True:\n",
    "        length += 1\n",
    "        num += length\n",
    "        if num == 15:\n",
    "            break\n",
    "        else:\n",
    "            pass\n",
    "    print(num, length)"
   ]
  },
  {
   "cell_type": "markdown",
   "id": "final-therapy",
   "metadata": {},
   "source": [
    "2단계 2 다시"
   ]
  },
  {
   "cell_type": "code",
   "execution_count": 113,
   "id": "dependent-hawaii",
   "metadata": {},
   "outputs": [
    {
     "data": {
      "text/plain": [
       "'-1 -1'"
      ]
     },
     "execution_count": 113,
     "metadata": {},
     "output_type": "execute_result"
    }
   ],
   "source": [
    "s = \"-1 -1\"\n",
    "ex1 = list(map(int, s.split(\" \")))\n",
    "ex2 = [str(min(ex1)), str(max(ex1))]\n",
    "\" \".join(ex2)"
   ]
  },
  {
   "cell_type": "code",
   "execution_count": 109,
   "id": "hourly-caution",
   "metadata": {},
   "outputs": [
    {
     "ename": "TypeError",
     "evalue": "sequence item 0: expected str instance, int found",
     "output_type": "error",
     "traceback": [
      "\u001b[1;31m---------------------------------------------------------------------------\u001b[0m",
      "\u001b[1;31mTypeError\u001b[0m                                 Traceback (most recent call last)",
      "\u001b[1;32m<ipython-input-109-7a0b557b7faa>\u001b[0m in \u001b[0;36m<module>\u001b[1;34m\u001b[0m\n\u001b[1;32m----> 1\u001b[1;33m \u001b[1;34m\" \"\u001b[0m\u001b[1;33m.\u001b[0m\u001b[0mjoin\u001b[0m\u001b[1;33m(\u001b[0m\u001b[0mex\u001b[0m\u001b[1;33m)\u001b[0m\u001b[1;33m\u001b[0m\u001b[1;33m\u001b[0m\u001b[0m\n\u001b[0m",
      "\u001b[1;31mTypeError\u001b[0m: sequence item 0: expected str instance, int found"
     ]
    }
   ],
   "source": [
    "\" \".join(ex)"
   ]
  },
  {
   "cell_type": "code",
   "execution_count": null,
   "id": "listed-alfred",
   "metadata": {},
   "outputs": [],
   "source": []
  },
  {
   "cell_type": "code",
   "execution_count": null,
   "id": "generic-danger",
   "metadata": {},
   "outputs": [],
   "source": []
  },
  {
   "cell_type": "markdown",
   "id": "solved-furniture",
   "metadata": {},
   "source": [
    "코딩테스트 연습\n",
    "2021 KAKAO BLIND RECRUITMENT\n",
    "**순위 검색**\n"
   ]
  },
  {
   "cell_type": "code",
   "execution_count": 484,
   "id": "voluntary-election",
   "metadata": {},
   "outputs": [],
   "source": [
    "info = [\"java backend junior pizza 150\",\"python frontend senior chicken 210\",\"python frontend senior chicken 150\",\"cpp backend senior pizza 260\",\"java backend junior chicken 80\",\"python backend senior chicken 50\"]\n",
    "query = [\"java and backend and junior and pizza 100\",\"python and frontend and senior and chicken 200\",\"cpp and - and senior and pizza 250\",\"- and backend and senior and - 150\",\"- and - and - and chicken 100\",\"- and - and - and - 150\"]\n",
    "\n",
    "# 하나의 query가 들어왔을 때, \"-\"이 포함되어서 나올 수 있는 모든 경우의 수 구하기\n",
    "info = list(map(lambda x: x.split(), info))\n",
    "query = list(map(lambda x: x.replace(\"and\", \"\").split(), query))\n",
    "query_score = list(map(lambda x: x.pop(-1), query))\n",
    "info_score = list(map(lambda x: x.pop(-1), info))\n",
    "# info에서 query_table에 속하는 경우의 수 따로 저장하기"
   ]
  },
  {
   "cell_type": "code",
   "execution_count": 367,
   "id": "amended-stylus",
   "metadata": {},
   "outputs": [],
   "source": [
    "query0 = list(sorted(set(list(combinations(query[0] + [\"-\",\"-\",\"-\",\"-\"], 4)))))"
   ]
  },
  {
   "cell_type": "code",
   "execution_count": 485,
   "id": "wireless-pressure",
   "metadata": {},
   "outputs": [
    {
     "data": {
      "text/plain": [
       "{150: [['python', 'frontend', 'senior', 'chicken'],\n",
       "  ['-', 'frontend', 'senior', 'chicken'],\n",
       "  ['python', '-', 'senior', 'chicken'],\n",
       "  ['python', 'frontend', '-', 'chicken'],\n",
       "  ['python', 'frontend', 'senior', '-'],\n",
       "  ['-', '-', 'senior', 'chicken'],\n",
       "  ['-', 'frontend', '-', 'chicken'],\n",
       "  ['-', 'frontend', 'senior', '-'],\n",
       "  ['python', '-', '-', 'chicken'],\n",
       "  ['python', '-', 'senior', '-'],\n",
       "  ['python', 'frontend', '-', '-'],\n",
       "  ['-', '-', '-', 'chicken'],\n",
       "  ['-', '-', 'senior', '-'],\n",
       "  ['-', 'frontend', '-', '-'],\n",
       "  ['python', '-', '-', '-'],\n",
       "  ['-', '-', '-', '-']],\n",
       " 210: [['python', 'frontend', 'senior', 'chicken'],\n",
       "  ['-', 'frontend', 'senior', 'chicken'],\n",
       "  ['python', '-', 'senior', 'chicken'],\n",
       "  ['python', 'frontend', '-', 'chicken'],\n",
       "  ['python', 'frontend', 'senior', '-'],\n",
       "  ['-', '-', 'senior', 'chicken'],\n",
       "  ['-', 'frontend', '-', 'chicken'],\n",
       "  ['-', 'frontend', 'senior', '-'],\n",
       "  ['python', '-', '-', 'chicken'],\n",
       "  ['python', '-', 'senior', '-'],\n",
       "  ['python', 'frontend', '-', '-'],\n",
       "  ['-', '-', '-', 'chicken'],\n",
       "  ['-', '-', 'senior', '-'],\n",
       "  ['-', 'frontend', '-', '-'],\n",
       "  ['python', '-', '-', '-'],\n",
       "  ['-', '-', '-', '-']],\n",
       " 260: [['cpp', 'backend', 'senior', 'pizza'],\n",
       "  ['-', 'backend', 'senior', 'pizza'],\n",
       "  ['cpp', '-', 'senior', 'pizza'],\n",
       "  ['cpp', 'backend', '-', 'pizza'],\n",
       "  ['cpp', 'backend', 'senior', '-'],\n",
       "  ['-', '-', 'senior', 'pizza'],\n",
       "  ['-', 'backend', '-', 'pizza'],\n",
       "  ['-', 'backend', 'senior', '-'],\n",
       "  ['cpp', '-', '-', 'pizza'],\n",
       "  ['cpp', '-', 'senior', '-'],\n",
       "  ['cpp', 'backend', '-', '-'],\n",
       "  ['-', '-', '-', 'pizza'],\n",
       "  ['-', '-', 'senior', '-'],\n",
       "  ['-', 'backend', '-', '-'],\n",
       "  ['cpp', '-', '-', '-'],\n",
       "  ['-', '-', '-', '-']],\n",
       " 80: [['java', 'backend', 'junior', 'chicken'],\n",
       "  ['-', 'backend', 'junior', 'chicken'],\n",
       "  ['java', '-', 'junior', 'chicken'],\n",
       "  ['java', 'backend', '-', 'chicken'],\n",
       "  ['java', 'backend', 'junior', '-'],\n",
       "  ['-', '-', 'junior', 'chicken'],\n",
       "  ['-', 'backend', '-', 'chicken'],\n",
       "  ['-', 'backend', 'junior', '-'],\n",
       "  ['java', '-', '-', 'chicken'],\n",
       "  ['java', '-', 'junior', '-'],\n",
       "  ['java', 'backend', '-', '-'],\n",
       "  ['-', '-', '-', 'chicken'],\n",
       "  ['-', '-', 'junior', '-'],\n",
       "  ['-', 'backend', '-', '-'],\n",
       "  ['java', '-', '-', '-'],\n",
       "  ['-', '-', '-', '-']],\n",
       " 50: [['python', 'backend', 'senior', 'chicken'],\n",
       "  ['-', 'backend', 'senior', 'chicken'],\n",
       "  ['python', '-', 'senior', 'chicken'],\n",
       "  ['python', 'backend', '-', 'chicken'],\n",
       "  ['python', 'backend', 'senior', '-'],\n",
       "  ['-', '-', 'senior', 'chicken'],\n",
       "  ['-', 'backend', '-', 'chicken'],\n",
       "  ['-', 'backend', 'senior', '-'],\n",
       "  ['python', '-', '-', 'chicken'],\n",
       "  ['python', '-', 'senior', '-'],\n",
       "  ['python', 'backend', '-', '-'],\n",
       "  ['-', '-', '-', 'chicken'],\n",
       "  ['-', '-', 'senior', '-'],\n",
       "  ['-', 'backend', '-', '-'],\n",
       "  ['python', '-', '-', '-'],\n",
       "  ['-', '-', '-', '-']]}"
      ]
     },
     "execution_count": 485,
     "metadata": {},
     "output_type": "execute_result"
    }
   ],
   "source": [
    "db = {}\n",
    "for i in range(len(info)):\n",
    "    ex = info[i]\n",
    "    table = []\n",
    "    # \"-\"의 개수는 0~4개\n",
    "    for k in range(0,5):\n",
    "        # \"-\"가 들어가는 인덱스의 경우의 수 \n",
    "        for j in combinations([0,1,2,3], k):\n",
    "            # 계속 원상태의 query를 가져옴\n",
    "            copy = ex.copy()\n",
    "            # 경우의 수에서 나온 인덱스값 제거\n",
    "            for k in j:\n",
    "                del copy[k]\n",
    "                # 제거된 인덱스 위치에 \"-\"삽입\n",
    "                copy.insert(k, \"-\")\n",
    "            # \"-\"이 삽입된 리스트 table에 담기\n",
    "            table += [copy]\n",
    "    db.update({int(info_score[i]) : table  })\n",
    "db"
   ]
  },
  {
   "cell_type": "code",
   "execution_count": 504,
   "id": "reasonable-contact",
   "metadata": {},
   "outputs": [
    {
     "data": {
      "text/plain": [
       "[['python', 'frontend', 'senior', 'chicken'],\n",
       " ['-', 'frontend', 'senior', 'chicken'],\n",
       " ['python', '-', 'senior', 'chicken'],\n",
       " ['python', 'frontend', '-', 'chicken'],\n",
       " ['python', 'frontend', 'senior', '-'],\n",
       " ['-', '-', 'senior', 'chicken'],\n",
       " ['-', 'frontend', '-', 'chicken'],\n",
       " ['-', 'frontend', 'senior', '-'],\n",
       " ['python', '-', '-', 'chicken'],\n",
       " ['python', '-', 'senior', '-'],\n",
       " ['python', 'frontend', '-', '-'],\n",
       " ['-', '-', '-', 'chicken'],\n",
       " ['-', '-', 'senior', '-'],\n",
       " ['-', 'frontend', '-', '-'],\n",
       " ['python', '-', '-', '-'],\n",
       " ['-', '-', '-', '-'],\n",
       " ['python', 'frontend', 'senior', 'chicken'],\n",
       " ['-', 'frontend', 'senior', 'chicken'],\n",
       " ['python', '-', 'senior', 'chicken'],\n",
       " ['python', 'frontend', '-', 'chicken'],\n",
       " ['python', 'frontend', 'senior', '-'],\n",
       " ['-', '-', 'senior', 'chicken'],\n",
       " ['-', 'frontend', '-', 'chicken'],\n",
       " ['-', 'frontend', 'senior', '-'],\n",
       " ['python', '-', '-', 'chicken'],\n",
       " ['python', '-', 'senior', '-'],\n",
       " ['python', 'frontend', '-', '-'],\n",
       " ['-', '-', '-', 'chicken'],\n",
       " ['-', '-', 'senior', '-'],\n",
       " ['-', 'frontend', '-', '-'],\n",
       " ['python', '-', '-', '-'],\n",
       " ['-', '-', '-', '-'],\n",
       " ['cpp', 'backend', 'senior', 'pizza'],\n",
       " ['-', 'backend', 'senior', 'pizza'],\n",
       " ['cpp', '-', 'senior', 'pizza'],\n",
       " ['cpp', 'backend', '-', 'pizza'],\n",
       " ['cpp', 'backend', 'senior', '-'],\n",
       " ['-', '-', 'senior', 'pizza'],\n",
       " ['-', 'backend', '-', 'pizza'],\n",
       " ['-', 'backend', 'senior', '-'],\n",
       " ['cpp', '-', '-', 'pizza'],\n",
       " ['cpp', '-', 'senior', '-'],\n",
       " ['cpp', 'backend', '-', '-'],\n",
       " ['-', '-', '-', 'pizza'],\n",
       " ['-', '-', 'senior', '-'],\n",
       " ['-', 'backend', '-', '-'],\n",
       " ['cpp', '-', '-', '-'],\n",
       " ['-', '-', '-', '-'],\n",
       " ['java', 'backend', 'junior', 'chicken'],\n",
       " ['-', 'backend', 'junior', 'chicken'],\n",
       " ['java', '-', 'junior', 'chicken'],\n",
       " ['java', 'backend', '-', 'chicken'],\n",
       " ['java', 'backend', 'junior', '-'],\n",
       " ['-', '-', 'junior', 'chicken'],\n",
       " ['-', 'backend', '-', 'chicken'],\n",
       " ['-', 'backend', 'junior', '-'],\n",
       " ['java', '-', '-', 'chicken'],\n",
       " ['java', '-', 'junior', '-'],\n",
       " ['java', 'backend', '-', '-'],\n",
       " ['-', '-', '-', 'chicken'],\n",
       " ['-', '-', 'junior', '-'],\n",
       " ['-', 'backend', '-', '-'],\n",
       " ['java', '-', '-', '-'],\n",
       " ['-', '-', '-', '-'],\n",
       " ['python', 'backend', 'senior', 'chicken'],\n",
       " ['-', 'backend', 'senior', 'chicken'],\n",
       " ['python', '-', 'senior', 'chicken'],\n",
       " ['python', 'backend', '-', 'chicken'],\n",
       " ['python', 'backend', 'senior', '-'],\n",
       " ['-', '-', 'senior', 'chicken'],\n",
       " ['-', 'backend', '-', 'chicken'],\n",
       " ['-', 'backend', 'senior', '-'],\n",
       " ['python', '-', '-', 'chicken'],\n",
       " ['python', '-', 'senior', '-'],\n",
       " ['python', 'backend', '-', '-'],\n",
       " ['-', '-', '-', 'chicken'],\n",
       " ['-', '-', 'senior', '-'],\n",
       " ['-', 'backend', '-', '-'],\n",
       " ['python', '-', '-', '-'],\n",
       " ['-', '-', '-', '-']]"
      ]
     },
     "execution_count": 504,
     "metadata": {},
     "output_type": "execute_result"
    }
   ],
   "source": [
    "# 하나씩 보내는 query와 동일한 케이스 추출\n",
    "if sum(list(db.values()),[])"
   ]
  },
  {
   "cell_type": "code",
   "execution_count": 498,
   "id": "pending-letter",
   "metadata": {},
   "outputs": [
    {
     "ename": "NameError",
     "evalue": "name 'datat' is not defined",
     "output_type": "error",
     "traceback": [
      "\u001b[1;31m---------------------------------------------------------------------------\u001b[0m",
      "\u001b[1;31mNameError\u001b[0m                                 Traceback (most recent call last)",
      "\u001b[1;32m<ipython-input-498-35b1b158f3da>\u001b[0m in \u001b[0;36m<module>\u001b[1;34m\u001b[0m\n\u001b[0;32m      2\u001b[0m     \u001b[1;32mif\u001b[0m \u001b[0mq\u001b[0m \u001b[1;32min\u001b[0m \u001b[0mdb\u001b[0m\u001b[1;33m.\u001b[0m\u001b[0mvalues\u001b[0m\u001b[1;33m(\u001b[0m\u001b[1;33m)\u001b[0m\u001b[1;33m:\u001b[0m\u001b[1;33m\u001b[0m\u001b[1;33m\u001b[0m\u001b[0m\n\u001b[0;32m      3\u001b[0m         \u001b[0mdata\u001b[0m \u001b[1;33m=\u001b[0m \u001b[0mdb\u001b[0m\u001b[1;33m[\u001b[0m\u001b[0mq\u001b[0m\u001b[1;33m]\u001b[0m\u001b[1;33m\u001b[0m\u001b[1;33m\u001b[0m\u001b[0m\n\u001b[1;32m----> 4\u001b[1;33m \u001b[0mdatat\u001b[0m\u001b[1;33m\u001b[0m\u001b[1;33m\u001b[0m\u001b[0m\n\u001b[0m",
      "\u001b[1;31mNameError\u001b[0m: name 'datat' is not defined"
     ]
    }
   ],
   "source": [
    "for q in query:\n",
    "    if q in db.values():\n",
    "        data = db[q]\n",
    "datat"
   ]
  },
  {
   "cell_type": "code",
   "execution_count": null,
   "id": "prerequisite-masters",
   "metadata": {},
   "outputs": [],
   "source": []
  },
  {
   "cell_type": "code",
   "execution_count": 436,
   "id": "decent-tuition",
   "metadata": {},
   "outputs": [],
   "source": [
    "if info in query:\n",
    "    print(True)"
   ]
  },
  {
   "cell_type": "markdown",
   "id": "bizarre-clone",
   "metadata": {},
   "source": [
    "1.방금그곡  \n",
    "2.문제 설명\n",
    "[본 문제는 정확성과 효율성 테스트 각각 점수가 있는 문제입니다.]\n",
    "\n",
    "카카오는 하반기 경력 개발자 공개채용을 진행 중에 있으며 현재 지원서 접수와 코딩테스트가 종료되었습니다. 이번 채용에서 지원자는 지원서 작성 시 아래와 같이 4가지 항목을 반드시 선택하도록 하였습니다."
   ]
  }
 ],
 "metadata": {
  "kernelspec": {
   "display_name": "Python 3",
   "language": "python",
   "name": "python3"
  },
  "language_info": {
   "codemirror_mode": {
    "name": "ipython",
    "version": 3
   },
   "file_extension": ".py",
   "mimetype": "text/x-python",
   "name": "python",
   "nbconvert_exporter": "python",
   "pygments_lexer": "ipython3",
   "version": "3.7.3"
  }
 },
 "nbformat": 4,
 "nbformat_minor": 5
}
