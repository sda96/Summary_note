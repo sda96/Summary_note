{
 "cells": [
  {
   "cell_type": "markdown",
   "id": "executed-cooperative",
   "metadata": {},
   "source": [
    "## Sequntial API"
   ]
  },
  {
   "cell_type": "markdown",
   "id": "august-issue",
   "metadata": {},
   "source": [
    "사용할 패키지를 불러옵니다."
   ]
  },
  {
   "cell_type": "code",
   "execution_count": 1,
   "id": "sufficient-hierarchy",
   "metadata": {},
   "outputs": [],
   "source": [
    "from sklearn.datasets import fetch_california_housing\n",
    "from sklearn.model_selection import train_test_split\n",
    "from utils import standard_scaling, R_squared, train_val_split\n",
    "from tensorflow import keras\n",
    "import matplotlib.pyplot as plt\n",
    "import numpy as np"
   ]
  },
  {
   "cell_type": "markdown",
   "id": "mounted-merit",
   "metadata": {},
   "source": [
    "캘리포니아 집값 데이터 클래스를 불러옵니다."
   ]
  },
  {
   "cell_type": "code",
   "execution_count": 2,
   "id": "chronic-melissa",
   "metadata": {},
   "outputs": [],
   "source": [
    "housing = fetch_california_housing()"
   ]
  },
  {
   "cell_type": "markdown",
   "id": "friendly-ceramic",
   "metadata": {},
   "source": [
    "데이터를 훈련, 검증, 테스트 데이터로 나눕니다."
   ]
  },
  {
   "cell_type": "code",
   "execution_count": 3,
   "id": "marked-render",
   "metadata": {},
   "outputs": [],
   "source": [
    "x_train_full, x_test, y_train_full, y_test = train_test_split(housing.data, housing.target)\n",
    "x_train, x_val, y_train, y_val = train_test_split(x_train_full, y_train_full)"
   ]
  },
  {
   "cell_type": "markdown",
   "id": "activated-student",
   "metadata": {},
   "source": [
    "입력값들을 정규화 시켜줍니다."
   ]
  },
  {
   "cell_type": "code",
   "execution_count": 4,
   "id": "exclusive-universal",
   "metadata": {},
   "outputs": [],
   "source": [
    "x_train = standard_scaling(x_train)\n",
    "x_val = standard_scaling(x_val)\n",
    "x_test = standard_scaling(x_test)"
   ]
  },
  {
   "cell_type": "markdown",
   "id": "paperback-nicaragua",
   "metadata": {},
   "source": [
    "신경망의 시퀀스를 만드는 함수로 ```keras.models.Sequntial()```를 사용합니다."
   ]
  },
  {
   "cell_type": "code",
   "execution_count": 5,
   "id": "upper-kelly",
   "metadata": {},
   "outputs": [],
   "source": [
    "model = keras.models.Sequential([\n",
    "    keras.layers.Dense(30, # 30개의 유닛이 있는 은닉층\n",
    "                       activation=\"relu\", # 해당 은닉층의 활성화 함수는 relu를 사용함\n",
    "                       input_shape=x_train.shape[1:] # 입력층을 따로 지정하지 않고 바로 사용\n",
    "                      ), \n",
    "    keras.layers.Dense(1) # 출력값은 1개 이므로 유닛이 1개인 출력층을 만듦\n",
    "])"
   ]
  },
  {
   "cell_type": "markdown",
   "id": "phantom-helicopter",
   "metadata": {},
   "source": [
    "만들어진 시퀀스 모델의 구조를 확인합니다."
   ]
  },
  {
   "cell_type": "code",
   "execution_count": 6,
   "id": "developed-tuesday",
   "metadata": {},
   "outputs": [
    {
     "name": "stdout",
     "output_type": "stream",
     "text": [
      "Model: \"sequential\"\n",
      "_________________________________________________________________\n",
      "Layer (type)                 Output Shape              Param #   \n",
      "=================================================================\n",
      "dense (Dense)                (None, 30)                270       \n",
      "_________________________________________________________________\n",
      "dense_1 (Dense)              (None, 1)                 31        \n",
      "=================================================================\n",
      "Total params: 301\n",
      "Trainable params: 301\n",
      "Non-trainable params: 0\n",
      "_________________________________________________________________\n"
     ]
    }
   ],
   "source": [
    "model.summary()"
   ]
  },
  {
   "cell_type": "markdown",
   "id": "expanded-friendly",
   "metadata": {},
   "source": [
    "구조가 확정된 모델의 학습방법을 지정하고 학습을 진행합니다.  \n",
    "추가적으로 모델의 과대적합을 피하기 위한 조기종료 콜백을 추가합니다."
   ]
  },
  {
   "cell_type": "code",
   "execution_count": 7,
   "id": "double-gauge",
   "metadata": {},
   "outputs": [
    {
     "name": "stdout",
     "output_type": "stream",
     "text": [
      "Epoch 1/20\n",
      "363/363 [==============================] - 2s 5ms/step - loss: 2.0379 - val_loss: 0.4795\n",
      "Epoch 2/20\n",
      "363/363 [==============================] - 1s 2ms/step - loss: 0.5155 - val_loss: 0.5430\n",
      "Epoch 3/20\n",
      "363/363 [==============================] - 1s 2ms/step - loss: 0.4646 - val_loss: 0.6003\n",
      "Epoch 4/20\n",
      "363/363 [==============================] - 1s 2ms/step - loss: 0.4373 - val_loss: 0.7232\n",
      "162/162 [==============================] - 0s 1ms/step - loss: 0.5499\n"
     ]
    }
   ],
   "source": [
    "model.compile(loss=\"mean_squared_error\", # 손실함수로는 평균제곱오차를 사용\n",
    "              optimizer=\"sgd\" # 최적화기법으로 확률적 경사하강법 사용\n",
    "             )  \n",
    "\n",
    "\n",
    "early_stopping_cb = keras.callbacks.EarlyStopping(patience=3, # 3번까지 모델이 향상도지 않으면 조기종료\n",
    "                                                  restore_best_weights=True # 훈련이 끝난 후 최상의 가중치 복원\n",
    "                                                 )\n",
    "\n",
    "\n",
    "history = model.fit(x_train, # 입력변수\n",
    "                    y_train, # 출력변수\n",
    "                    epochs=20, # 전체 데이터 학습 횟수\n",
    "                    validation_data=(x_val, y_val), # 에폭마다 검증 데이터 결과 출력\n",
    "                    callbacks=[early_stopping_cb] # 조기종료 콜백 사용\n",
    "                   )\n",
    "mse_test = model.evaluate(x_test, y_test) # 완성된 모델의 테스트 데이터 결과 출력"
   ]
  },
  {
   "cell_type": "markdown",
   "id": "biblical-trainer",
   "metadata": {},
   "source": [
    "모델이 학습 잘 학습되어지는지 에폭마다 손실함수 값을 확인합니다."
   ]
  },
  {
   "cell_type": "code",
   "execution_count": 8,
   "id": "medium-board",
   "metadata": {},
   "outputs": [
    {
     "data": {
      "image/png": "[encoded data removed]",
      "text/plain": [
       "<Figure size 432x288 with 1 Axes>"
      ]
     },
     "metadata": {
      "needs_background": "light"
     },
     "output_type": "display_data"
    }
   ],
   "source": [
    "plt.plot(history.history[\"loss\"])\n",
    "plt.title(\"Loss function by epoch\")\n",
    "plt.xlabel(\"epoch\")\n",
    "plt.ylabel(\"mse\")\n",
    "plt.show()"
   ]
  },
  {
   "cell_type": "markdown",
   "id": "sealed-choir",
   "metadata": {},
   "source": [
    "학습된 모델의 성능 검증을 위하여 결정계수를 구합니다."
   ]
  },
  {
   "cell_type": "code",
   "execution_count": 10,
   "id": "honey-document",
   "metadata": {},
   "outputs": [
    {
     "data": {
      "text/plain": [
       "0.5766703398600588"
      ]
     },
     "execution_count": 10,
     "metadata": {},
     "output_type": "execute_result"
    }
   ],
   "source": [
    "pred_y = model.predict(x_test)\n",
    "y_test = y_test.reshape(-1,1)\n",
    "evaluate = R_squared(pred_y, y_test) # 결정계수\n",
    "evaluate"
   ]
  }
 ],
 "metadata": {
  "kernelspec": {
   "display_name": "Python 3",
   "language": "python",
   "name": "python3"
  },
  "language_info": {
   "codemirror_mode": {
    "name": "ipython",
    "version": 3
   },
   "file_extension": ".py",
   "mimetype": "text/x-python",
   "name": "python",
   "nbconvert_exporter": "python",
   "pygments_lexer": "ipython3",
   "version": "3.7.3"
  }
 },
 "nbformat": 4,
 "nbformat_minor": 5
}
