{
 "cells": [
  {
   "cell_type": "markdown",
   "id": "executed-cooperative",
   "metadata": {},
   "source": [
    "## Funtional API"
   ]
  },
  {
   "cell_type": "markdown",
   "id": "unlikely-galaxy",
   "metadata": {},
   "source": [
    "사용할 패키지를 불러옵니다."
   ]
  },
  {
   "cell_type": "code",
   "execution_count": 1,
   "id": "sufficient-hierarchy",
   "metadata": {},
   "outputs": [],
   "source": [
    "from sklearn.datasets import fetch_california_housing\n",
    "from sklearn.model_selection import train_test_split\n",
    "from utils import standard_scaling, R_squared, train_val_split\n",
    "from tensorflow.keras.layers import *\n",
    "from tensorflow.keras import Model\n",
    "from tensorflow import keras\n",
    "import matplotlib.pyplot as plt\n",
    "import numpy as np"
   ]
  },
  {
   "cell_type": "markdown",
   "id": "mounted-merit",
   "metadata": {},
   "source": [
    "캘리포니아 집값 데이터 클래스를 불러옵니다."
   ]
  },
  {
   "cell_type": "code",
   "execution_count": 2,
   "id": "chronic-melissa",
   "metadata": {},
   "outputs": [],
   "source": [
    "housing = fetch_california_housing()"
   ]
  },
  {
   "cell_type": "markdown",
   "id": "friendly-ceramic",
   "metadata": {},
   "source": [
    "데이터를 훈련, 검증, 테스트 데이터로 나눕니다."
   ]
  },
  {
   "cell_type": "code",
   "execution_count": 3,
   "id": "marked-render",
   "metadata": {},
   "outputs": [],
   "source": [
    "x_train_full, x_test, y_train_full, y_test = train_test_split(housing.data, housing.target)\n",
    "x_train, x_val, y_train, y_val = train_test_split(x_train_full, y_train_full)"
   ]
  },
  {
   "cell_type": "markdown",
   "id": "activated-student",
   "metadata": {},
   "source": [
    "입력값들을 정규화 시켜줍니다."
   ]
  },
  {
   "cell_type": "code",
   "execution_count": 4,
   "id": "exclusive-universal",
   "metadata": {},
   "outputs": [],
   "source": [
    "x_train = standard_scaling(x_train)\n",
    "x_val = standard_scaling(x_val)\n",
    "x_test = standard_scaling(x_test)"
   ]
  },
  {
   "cell_type": "markdown",
   "id": "paperback-nicaragua",
   "metadata": {},
   "source": [
    "2층 와이드 & 딥 신경망을 함수형 api로 구현하겠습니다.  \n",
    "일부 특성은 짧은 경로로 간단한 규칙을 학습하고, 다른 특성을 깊은 경로로 복잡한 패턴을 학습하는 구조입니다."
   ]
  },
  {
   "cell_type": "code",
   "execution_count": 5,
   "id": "upper-kelly",
   "metadata": {},
   "outputs": [],
   "source": [
    "input_a = Input(shape=[5], name=\"wide_input\") # 5개의 특성은 바로 연결층으로\n",
    "input_b = Input(shape=[6], name=\"deep_input\") # 6개의 특성은 깊은 은닉층으로\n",
    "\n",
    "hidden1 = Dense(30, activation=\"relu\")(input_b) # 첫 번째 은닉층\n",
    "hidden2 = Dense(30, activation=\"relu\")(hidden1) # 두 번째 은닉층\n",
    "\n",
    "concat = Concatenate()([input_a, hidden2]) # 첫 번째 입력층과 두 번째 은닉층 결합층\n",
    "output = Dense(1)(concat) # 출력층\n",
    "\n",
    "model = Model(inputs=[input_a, input_b], outputs=[output]) # 설계된 입, 출력층을 모델로 묶음"
   ]
  },
  {
   "cell_type": "markdown",
   "id": "phantom-helicopter",
   "metadata": {},
   "source": [
    "만들어진 함수형 모델의 구조를 확인합니다."
   ]
  },
  {
   "cell_type": "markdown",
   "id": "grateful-support",
   "metadata": {},
   "source": [
    "<img src=\"https://imgur.com/X3bDNJx.jpg\" width=\"250\">"
   ]
  },
  {
   "cell_type": "code",
   "execution_count": 6,
   "id": "developed-tuesday",
   "metadata": {},
   "outputs": [
    {
     "name": "stdout",
     "output_type": "stream",
     "text": [
      "Model: \"model\"\n",
      "__________________________________________________________________________________________________\n",
      "Layer (type)                    Output Shape         Param #     Connected to                     \n",
      "==================================================================================================\n",
      "deep_input (InputLayer)         [(None, 6)]          0                                            \n",
      "__________________________________________________________________________________________________\n",
      "dense (Dense)                   (None, 30)           210         deep_input[0][0]                 \n",
      "__________________________________________________________________________________________________\n",
      "wide_input (InputLayer)         [(None, 5)]          0                                            \n",
      "__________________________________________________________________________________________________\n",
      "dense_1 (Dense)                 (None, 30)           930         dense[0][0]                      \n",
      "__________________________________________________________________________________________________\n",
      "concatenate (Concatenate)       (None, 35)           0           wide_input[0][0]                 \n",
      "                                                                 dense_1[0][0]                    \n",
      "__________________________________________________________________________________________________\n",
      "dense_2 (Dense)                 (None, 1)            36          concatenate[0][0]                \n",
      "==================================================================================================\n",
      "Total params: 1,176\n",
      "Trainable params: 1,176\n",
      "Non-trainable params: 0\n",
      "__________________________________________________________________________________________________\n"
     ]
    }
   ],
   "source": [
    "model.summary()"
   ]
  },
  {
   "cell_type": "markdown",
   "id": "expanded-friendly",
   "metadata": {},
   "source": [
    "구조가 확정된 모델의 학습방법을 지정하고 학습을 진행합니다.  \n",
    "추가적으로 모델의 과대적합을 피하기 위한 조기종료 콜백을 추가합니다."
   ]
  },
  {
   "cell_type": "code",
   "execution_count": 7,
   "id": "double-gauge",
   "metadata": {},
   "outputs": [
    {
     "name": "stdout",
     "output_type": "stream",
     "text": [
      "Epoch 1/20\n",
      "363/363 [==============================] - 5s 9ms/step - loss: 1.3736 - val_loss: 0.5364\n",
      "Epoch 2/20\n",
      "363/363 [==============================] - 1s 2ms/step - loss: 0.5420 - val_loss: 0.6141\n",
      "Epoch 3/20\n",
      "363/363 [==============================] - 1s 2ms/step - loss: 0.5060 - val_loss: 0.4599\n",
      "Epoch 4/20\n",
      "363/363 [==============================] - 1s 2ms/step - loss: 0.4430 - val_loss: 0.4396\n",
      "Epoch 5/20\n",
      "363/363 [==============================] - 1s 2ms/step - loss: 0.4375 - val_loss: 0.4262\n",
      "Epoch 6/20\n",
      "363/363 [==============================] - 1s 2ms/step - loss: 0.3985 - val_loss: 0.4192\n",
      "Epoch 7/20\n",
      "363/363 [==============================] - 1s 2ms/step - loss: 0.3991 - val_loss: 0.4556\n",
      "Epoch 8/20\n",
      "363/363 [==============================] - 1s 2ms/step - loss: 0.3997 - val_loss: 0.4071\n",
      "Epoch 9/20\n",
      "363/363 [==============================] - 1s 3ms/step - loss: 0.3914 - val_loss: 0.4227\n",
      "Epoch 10/20\n",
      "363/363 [==============================] - 1s 2ms/step - loss: 0.3781 - val_loss: 0.4047\n",
      "Epoch 11/20\n",
      "363/363 [==============================] - 1s 2ms/step - loss: 0.3798 - val_loss: 0.4104\n",
      "Epoch 12/20\n",
      "363/363 [==============================] - 1s 2ms/step - loss: 0.3556 - val_loss: 0.4251\n",
      "Epoch 13/20\n",
      "363/363 [==============================] - 1s 2ms/step - loss: 0.3770 - val_loss: 0.3908\n",
      "Epoch 14/20\n",
      "363/363 [==============================] - 1s 2ms/step - loss: 0.3498 - val_loss: 0.4017\n",
      "Epoch 15/20\n",
      "363/363 [==============================] - 1s 2ms/step - loss: 0.3508 - val_loss: 0.4053\n",
      "Epoch 16/20\n",
      "363/363 [==============================] - 1s 2ms/step - loss: 0.3369 - val_loss: 0.4152\n",
      "162/162 [==============================] - 0s 1ms/step - loss: 0.3963\n"
     ]
    }
   ],
   "source": [
    "input_train_5, input_train_6 = x_train[:,:5], x_train[:,2:]\n",
    "input_val_5, input_val_6 = x_val[:,:5], x_val[:,2:]\n",
    "input_test_5, input_test_6 = x_test[:,:5], x_test[:,2:]\n",
    "\n",
    "model.compile(loss=\"mean_squared_error\", # 손실함수로는 평균제곱오차를 사용\n",
    "              optimizer=\"sgd\" # 최적화기법으로 확률적 경사하강법 사용\n",
    "             )  \n",
    "\n",
    "early_stopping_cb = keras.callbacks.EarlyStopping(patience=3, # 3번까지 모델이 향상도지 않으면 조기종료\n",
    "                                                  restore_best_weights=True # 훈련이 끝난 후 최상의 가중치 복원\n",
    "                                                 )\n",
    "\n",
    "history = model.fit((input_train_5, input_train_6),\n",
    "                    y_train,\n",
    "                    epochs=20, # 전체 데이터 학습 횟수\n",
    "                    validation_data=((input_val_5, input_val_6), y_val), # 에폭마다 검증 데이터 결과 출력\n",
    "                    callbacks=[early_stopping_cb] # 조기종료 콜백 사용\n",
    "                   )\n",
    "mse_test = model.evaluate((input_test_5, input_test_6), y_test) # 완성된 모델의 테스트 데이터 결과 출력"
   ]
  },
  {
   "cell_type": "markdown",
   "id": "biblical-trainer",
   "metadata": {},
   "source": [
    "모델이 학습 잘 학습되어지는지 에폭마다 손실함수 값을 확인합니다."
   ]
  },
  {
   "cell_type": "code",
   "execution_count": 8,
   "id": "medium-board",
   "metadata": {},
   "outputs": [
    {
     "data": {
      "image/png": "[encoded data removed]",
      "text/plain": [
       "<Figure size 432x288 with 1 Axes>"
      ]
     },
     "metadata": {
      "needs_background": "light"
     },
     "output_type": "display_data"
    }
   ],
   "source": [
    "plt.plot(history.history[\"loss\"])\n",
    "plt.title(\"Loss function by epoch\")\n",
    "plt.xlabel(\"epoch\")\n",
    "plt.ylabel(\"mse\")\n",
    "plt.show()"
   ]
  },
  {
   "cell_type": "markdown",
   "id": "sealed-choir",
   "metadata": {},
   "source": [
    "학습된 모델의 성능 검증을 위하여 결정계수를 구합니다."
   ]
  },
  {
   "cell_type": "code",
   "execution_count": 9,
   "id": "honey-document",
   "metadata": {},
   "outputs": [
    {
     "data": {
      "text/plain": [
       "0.6962914843572879"
      ]
     },
     "execution_count": 9,
     "metadata": {},
     "output_type": "execute_result"
    }
   ],
   "source": [
    "pred_y = model.predict((input_test_5, input_test_6))\n",
    "y_test = y_test.reshape(-1,1)\n",
    "evaluate = R_squared(pred_y, y_test) # 결정계수\n",
    "evaluate"
   ]
  },
  {
   "cell_type": "markdown",
   "id": "detailed-rachel",
   "metadata": {},
   "source": [
    "이번에는 출력층을 여러개로 한 모델을 만들겠습니다.  \n",
    "출력층이 여러개 인 경우는 다중 분류 문제를 해결하거나 규제 기법으로 사용하는 경우 입니다.  \n",
    "신경망 구조 안에서 보조 출력을 추가함으로써 하위 네트워크가 나머지 네트워크에 의존하지 않고 그자체로 유용한 것을 학습하는지 확인 할 수 있습니다."
   ]
  },
  {
   "cell_type": "code",
   "execution_count": 22,
   "id": "spoken-filter",
   "metadata": {},
   "outputs": [],
   "source": [
    "input_a = Input(shape=[5], name=\"wide_input\") # 5개의 특성은 바로 연결층으로\n",
    "input_b = Input(shape=[6], name=\"deep_input\") # 6개의 특성은 깊은 은닉층으로\n",
    "\n",
    "hidden1 = Dense(30, activation=\"relu\")(input_b) # 첫 번째 은닉층\n",
    "hidden2 = Dense(30, activation=\"relu\")(hidden1) # 두 번째 은닉층\n",
    "\n",
    "concat = Concatenate()([input_a, hidden2]) # 첫 번째 입력층과 두 번째 은닉층 결합층\n",
    "total_output = Dense(1, name=\"total_output\")(concat) # 출력층\n",
    "flat_output = Dense(1, name=\"flat_output\")(input_a) # 출력층\n",
    "aux_output = Dense(1, name=\"aux_output\")(hidden2) # 보조 출력층\n",
    "\n",
    "model = Model(inputs=[input_a, input_b], outputs=[total_output, flat_output, aux_output]) # 설계된 입, 출력층을 모델로 묶음"
   ]
  },
  {
   "cell_type": "markdown",
   "id": "intellectual-interpretation",
   "metadata": {},
   "source": [
    "만들어진 함수형 모델의 구조를 확인합니다."
   ]
  },
  {
   "cell_type": "markdown",
   "id": "decent-times",
   "metadata": {},
   "source": [
    "<img src=\"https://imgur.com/sonH2gM.jpg\" width=\"300\">"
   ]
  },
  {
   "cell_type": "code",
   "execution_count": 23,
   "id": "empty-access",
   "metadata": {},
   "outputs": [
    {
     "name": "stdout",
     "output_type": "stream",
     "text": [
      "Model: \"model_3\"\n",
      "__________________________________________________________________________________________________\n",
      "Layer (type)                    Output Shape         Param #     Connected to                     \n",
      "==================================================================================================\n",
      "deep_input (InputLayer)         [(None, 6)]          0                                            \n",
      "__________________________________________________________________________________________________\n",
      "dense_7 (Dense)                 (None, 30)           210         deep_input[0][0]                 \n",
      "__________________________________________________________________________________________________\n",
      "wide_input (InputLayer)         [(None, 5)]          0                                            \n",
      "__________________________________________________________________________________________________\n",
      "dense_8 (Dense)                 (None, 30)           930         dense_7[0][0]                    \n",
      "__________________________________________________________________________________________________\n",
      "concatenate_3 (Concatenate)     (None, 35)           0           wide_input[0][0]                 \n",
      "                                                                 dense_8[0][0]                    \n",
      "__________________________________________________________________________________________________\n",
      "total_output (Dense)            (None, 1)            36          concatenate_3[0][0]              \n",
      "__________________________________________________________________________________________________\n",
      "flat_output (Dense)             (None, 1)            6           wide_input[0][0]                 \n",
      "__________________________________________________________________________________________________\n",
      "aux_output (Dense)              (None, 1)            31          dense_8[0][0]                    \n",
      "==================================================================================================\n",
      "Total params: 1,213\n",
      "Trainable params: 1,213\n",
      "Non-trainable params: 0\n",
      "__________________________________________________________________________________________________\n"
     ]
    }
   ],
   "source": [
    "model.summary()"
   ]
  },
  {
   "cell_type": "markdown",
   "id": "marked-thinking",
   "metadata": {},
   "source": [
    "각 출력층은 자신만의 손실함수가 필요하므로 모델 컴파일시 따로 지정해야 합니다.  \n",
    "기본적으로 케라스는 나열된 손실을 모두 더하여 최종손실을 구해 훈련에 사용합니다.  \n",
    "보조 출력을 규제로만 사용한다면 주 출력의 손실에 더 많은 가중치를 부여할 수 있습니다."
   ]
  },
  {
   "cell_type": "code",
   "execution_count": 24,
   "id": "beginning-database",
   "metadata": {},
   "outputs": [
    {
     "name": "stdout",
     "output_type": "stream",
     "text": [
      "Epoch 1/20\n",
      "363/363 [==============================] - 2s 3ms/step - loss: 1.8797 - total_output_loss: 1.3942 - flat_output_loss: 5.0412 - aux_output_loss: 2.6017 - val_loss: 1.1113 - val_total_output_loss: 0.9690 - val_flat_output_loss: 2.1778 - val_aux_output_loss: 1.1831\n",
      "Epoch 2/20\n",
      "363/363 [==============================] - 1s 3ms/step - loss: 1.0248 - total_output_loss: 0.8960 - flat_output_loss: 1.8701 - aux_output_loss: 1.2095 - val_loss: 0.6370 - val_total_output_loss: 0.5204 - val_flat_output_loss: 1.2230 - val_aux_output_loss: 0.9839\n",
      "Epoch 3/20\n",
      "363/363 [==============================] - 1s 3ms/step - loss: 0.5979 - total_output_loss: 0.4867 - flat_output_loss: 1.0813 - aux_output_loss: 1.0041 - val_loss: 0.5467 - val_total_output_loss: 0.4583 - val_flat_output_loss: 0.9898 - val_aux_output_loss: 0.8100\n",
      "Epoch 4/20\n",
      "363/363 [==============================] - 1s 3ms/step - loss: 0.5202 - total_output_loss: 0.4413 - flat_output_loss: 0.8565 - aux_output_loss: 0.8147 - val_loss: 0.5181 - val_total_output_loss: 0.4420 - val_flat_output_loss: 0.9145 - val_aux_output_loss: 0.7309\n",
      "Epoch 5/20\n",
      "363/363 [==============================] - 1s 2ms/step - loss: 0.5173 - total_output_loss: 0.4535 - flat_output_loss: 0.8073 - aux_output_loss: 0.7381 - val_loss: 0.5047 - val_total_output_loss: 0.4350 - val_flat_output_loss: 0.8793 - val_aux_output_loss: 0.6875\n",
      "Epoch 6/20\n",
      "363/363 [==============================] - 1s 2ms/step - loss: 0.4845 - total_output_loss: 0.4221 - flat_output_loss: 0.7922 - aux_output_loss: 0.6759 - val_loss: 0.4996 - val_total_output_loss: 0.4341 - val_flat_output_loss: 0.8555 - val_aux_output_loss: 0.6678\n",
      "Epoch 7/20\n",
      "363/363 [==============================] - 1s 2ms/step - loss: 0.4649 - total_output_loss: 0.4034 - flat_output_loss: 0.7759 - aux_output_loss: 0.6458 - val_loss: 0.5064 - val_total_output_loss: 0.4449 - val_flat_output_loss: 0.8343 - val_aux_output_loss: 0.6706\n",
      "Epoch 8/20\n",
      "363/363 [==============================] - 1s 2ms/step - loss: 0.4581 - total_output_loss: 0.3993 - flat_output_loss: 0.7703 - aux_output_loss: 0.6159 - val_loss: 0.4920 - val_total_output_loss: 0.4324 - val_flat_output_loss: 0.8120 - val_aux_output_loss: 0.6491\n",
      "Epoch 9/20\n",
      "363/363 [==============================] - 1s 3ms/step - loss: 0.4564 - total_output_loss: 0.4010 - flat_output_loss: 0.7451 - aux_output_loss: 0.6106 - val_loss: 0.4642 - val_total_output_loss: 0.4040 - val_flat_output_loss: 0.7915 - val_aux_output_loss: 0.6185\n",
      "Epoch 10/20\n",
      "363/363 [==============================] - 1s 2ms/step - loss: 0.4461 - total_output_loss: 0.3929 - flat_output_loss: 0.7151 - aux_output_loss: 0.6033 - val_loss: 0.4711 - val_total_output_loss: 0.4150 - val_flat_output_loss: 0.7740 - val_aux_output_loss: 0.6166\n",
      "Epoch 11/20\n",
      "363/363 [==============================] - 1s 2ms/step - loss: 0.4344 - total_output_loss: 0.3813 - flat_output_loss: 0.7346 - aux_output_loss: 0.5594 - val_loss: 0.4512 - val_total_output_loss: 0.3936 - val_flat_output_loss: 0.7576 - val_aux_output_loss: 0.6059\n",
      "Epoch 12/20\n",
      "363/363 [==============================] - 1s 3ms/step - loss: 0.4339 - total_output_loss: 0.3822 - flat_output_loss: 0.7234 - aux_output_loss: 0.5575 - val_loss: 0.4538 - val_total_output_loss: 0.3981 - val_flat_output_loss: 0.7439 - val_aux_output_loss: 0.6092\n",
      "Epoch 13/20\n",
      "363/363 [==============================] - 1s 3ms/step - loss: 0.4159 - total_output_loss: 0.3646 - flat_output_loss: 0.7230 - aux_output_loss: 0.5194 - val_loss: 0.9744 - val_total_output_loss: 0.9831 - val_flat_output_loss: 0.7321 - val_aux_output_loss: 1.1473\n",
      "Epoch 14/20\n",
      "363/363 [==============================] - 1s 3ms/step - loss: 0.5452 - total_output_loss: 0.5018 - flat_output_loss: 0.6853 - aux_output_loss: 0.7528 - val_loss: 0.4486 - val_total_output_loss: 0.4008 - val_flat_output_loss: 0.7185 - val_aux_output_loss: 0.5610\n",
      "Epoch 15/20\n",
      "363/363 [==============================] - 1s 2ms/step - loss: 0.4313 - total_output_loss: 0.3845 - flat_output_loss: 0.7242 - aux_output_loss: 0.5125 - val_loss: 0.4423 - val_total_output_loss: 0.3956 - val_flat_output_loss: 0.7077 - val_aux_output_loss: 0.5506\n",
      "Epoch 16/20\n",
      "363/363 [==============================] - 1s 3ms/step - loss: 0.4589 - total_output_loss: 0.4229 - flat_output_loss: 0.6994 - aux_output_loss: 0.5064 - val_loss: 0.4449 - val_total_output_loss: 0.3997 - val_flat_output_loss: 0.6971 - val_aux_output_loss: 0.5546\n",
      "Epoch 17/20\n",
      "363/363 [==============================] - 1s 2ms/step - loss: 0.3999 - total_output_loss: 0.3537 - flat_output_loss: 0.6910 - aux_output_loss: 0.4782 - val_loss: 0.4373 - val_total_output_loss: 0.3898 - val_flat_output_loss: 0.6875 - val_aux_output_loss: 0.5677\n",
      "Epoch 18/20\n",
      "363/363 [==============================] - 1s 3ms/step - loss: 0.4104 - total_output_loss: 0.3649 - flat_output_loss: 0.6955 - aux_output_loss: 0.4893 - val_loss: 0.4431 - val_total_output_loss: 0.3988 - val_flat_output_loss: 0.6798 - val_aux_output_loss: 0.5603\n",
      "Epoch 19/20\n",
      "363/363 [==============================] - 1s 3ms/step - loss: 0.3927 - total_output_loss: 0.3474 - flat_output_loss: 0.6775 - aux_output_loss: 0.4699 - val_loss: 0.4253 - val_total_output_loss: 0.3806 - val_flat_output_loss: 0.6717 - val_aux_output_loss: 0.5371\n",
      "Epoch 20/20\n",
      "363/363 [==============================] - 1s 3ms/step - loss: 0.3928 - total_output_loss: 0.3488 - flat_output_loss: 0.6772 - aux_output_loss: 0.4602 - val_loss: 0.4227 - val_total_output_loss: 0.3782 - val_flat_output_loss: 0.6649 - val_aux_output_loss: 0.5364\n",
      "162/162 [==============================] - 1s 3ms/step - loss: 0.4311 - total_output_loss: 0.3928 - flat_output_loss: 0.6433 - aux_output_loss: 0.5254\n"
     ]
    }
   ],
   "source": [
    "model.compile(loss=[\"mse\", \"mse\", \"mse\"], # [main_loss, flat_loss, aux_loss]\n",
    "              loss_weights=[0.8, 0.1, 0.1], # main_ouput에 좀 더 가중치를 준 상태임\n",
    "              optimizer=\"sgd\" # 최적화 기법\n",
    "             )\n",
    "\n",
    "early_stopping_cb = keras.callbacks.EarlyStopping(patience=3, # 3번까지 모델이 향상도지 않으면 조기종료\n",
    "                                                  restore_best_weights=True # 훈련이 끝난 후 최상의 가중치 복원\n",
    "                                                 )\n",
    "\n",
    "history = model.fit((input_train_5, input_train_6),\n",
    "                    y_train,\n",
    "                    epochs=20, # 전체 데이터 학습 횟수\n",
    "                    validation_data=((input_val_5, input_val_6), y_val), # 에폭마다 검증 데이터 결과 출력\n",
    "                    callbacks=[early_stopping_cb] # 조기종료 콜백 사용\n",
    "                   )\n",
    "loss, total_loss, flat_loss, aux_loss = model.evaluate((input_test_5, input_test_6), y_test) # 완성된 모델의 테스트 데이터 결과 출력"
   ]
  },
  {
   "cell_type": "markdown",
   "id": "relevant-segment",
   "metadata": {},
   "source": [
    "모델이 학습 잘 학습되어지는지 에폭마다 모든 종류의 손실함수 값을 확인합니다."
   ]
  },
  {
   "cell_type": "code",
   "execution_count": 25,
   "id": "amazing-smart",
   "metadata": {
    "scrolled": true
   },
   "outputs": [
    {
     "data": {
      "text/plain": [
       "<matplotlib.legend.Legend at 0x160dc62d978>"
      ]
     },
     "execution_count": 25,
     "metadata": {},
     "output_type": "execute_result"
    },
    {
     "data": {
      "image/png": "[encoded data removed]",
      "text/plain": [
       "<Figure size 432x288 with 1 Axes>"
      ]
     },
     "metadata": {
      "needs_background": "light"
     },
     "output_type": "display_data"
    }
   ],
   "source": [
    "plt.plot(history.history[\"loss\"], label=\"loss\")\n",
    "plt.plot(history.history[\"total_output_loss\"], label=\"total_loss\")\n",
    "plt.plot(history.history[\"flat_output_loss\"], label=\"flat_loss\")\n",
    "plt.plot(history.history[\"aux_output_loss\"], label = \"aux_loss\")\n",
    "plt.legend()"
   ]
  },
  {
   "cell_type": "markdown",
   "id": "interpreted-joshua",
   "metadata": {},
   "source": [
    "각 출력층에서의 결정계수를 구합니다."
   ]
  },
  {
   "cell_type": "code",
   "execution_count": 26,
   "id": "ruled-sterling",
   "metadata": {},
   "outputs": [
    {
     "data": {
      "text/plain": [
       "(0.6876427069035236, 0.5065682306445015, 0.59752633964939)"
      ]
     },
     "execution_count": 26,
     "metadata": {},
     "output_type": "execute_result"
    }
   ],
   "source": [
    "total_pred_y, flat_pred_y, aux_pred_y = model.predict([input_test_5, input_test_6])\n",
    "y_test = y_test.reshape(-1,1)\n",
    "main_evaluate = R_squared(main_pred_y, y_test) # main 출력층의 결정계수\n",
    "aux_evaluate = R_squared(aux_pred_y, y_test) # aux 출력층의 결정계수\n",
    "flat_evaluate = R_squared(flat_pred_y, y_test) # flat 출력층의 결정계수\n",
    "main_evaluate, flat_evaluate, aux_evaluate"
   ]
  },
  {
   "cell_type": "markdown",
   "id": "turned-haven",
   "metadata": {},
   "source": [
    "은닉층만 거친 보조 출력층의 결정계수보다 입력층 A의 특성을 고려한 메인 출력층의 결정계수가 더 높은 것으로 보아 은닉층을 거쳐서 나온 복잡한 패턴은 모델의 성능에 크게 기여하지 못한 것으로 보입니다.  \n",
    "또는 입력층 A에서의 단순한 패턴이 모델의 학습에 효과적이라고 볼 수 있습니다.  \n",
    "보조 출력층의 손실함수 가중치 비율을 더 낮춰도 좋을 거 같습니다."
   ]
  }
 ],
 "metadata": {
  "kernelspec": {
   "display_name": "Python 3",
   "language": "python",
   "name": "python3"
  },
  "language_info": {
   "codemirror_mode": {
    "name": "ipython",
    "version": 3
   },
   "file_extension": ".py",
   "mimetype": "text/x-python",
   "name": "python",
   "nbconvert_exporter": "python",
   "pygments_lexer": "ipython3",
   "version": "3.7.3"
  }
 },
 "nbformat": 4,
 "nbformat_minor": 5
}
