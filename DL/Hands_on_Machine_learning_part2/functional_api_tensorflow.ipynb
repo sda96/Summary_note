{
 "cells": [
  {
   "cell_type": "markdown",
   "id": "executed-cooperative",
   "metadata": {},
   "source": [
    "## Funtional API"
   ]
  },
  {
   "cell_type": "markdown",
   "id": "unlikely-galaxy",
   "metadata": {},
   "source": [
    "사용할 패키지를 불러옵니다."
   ]
  },
  {
   "cell_type": "code",
   "execution_count": 1,
   "id": "sufficient-hierarchy",
   "metadata": {},
   "outputs": [],
   "source": [
    "from sklearn.datasets import fetch_california_housing\n",
    "from sklearn.model_selection import train_test_split\n",
    "from utils import standard_scaling, R_squared, train_val_split\n",
    "from tensorflow.keras.layers import *\n",
    "from tensorflow.keras import Model\n",
    "from tensorflow import keras\n",
    "import matplotlib.pyplot as plt\n",
    "import numpy as np"
   ]
  },
  {
   "cell_type": "markdown",
   "id": "mounted-merit",
   "metadata": {},
   "source": [
    "캘리포니아 집값 데이터 클래스를 불러옵니다."
   ]
  },
  {
   "cell_type": "code",
   "execution_count": 4,
   "id": "chronic-melissa",
   "metadata": {},
   "outputs": [],
   "source": [
    "housing = fetch_california_housing()"
   ]
  },
  {
   "cell_type": "markdown",
   "id": "friendly-ceramic",
   "metadata": {},
   "source": [
    "데이터를 훈련, 검증, 테스트 데이터로 나눕니다."
   ]
  },
  {
   "cell_type": "code",
   "execution_count": 5,
   "id": "marked-render",
   "metadata": {},
   "outputs": [],
   "source": [
    "x_train_full, x_test, y_train_full, y_test = train_test_split(housing.data, housing.target)\n",
    "x_train, x_val, y_train, y_val = train_test_split(x_train_full, y_train_full)"
   ]
  },
  {
   "cell_type": "markdown",
   "id": "activated-student",
   "metadata": {},
   "source": [
    "입력값들을 정규화 시켜줍니다."
   ]
  },
  {
   "cell_type": "code",
   "execution_count": 6,
   "id": "exclusive-universal",
   "metadata": {},
   "outputs": [],
   "source": [
    "x_train = standard_scaling(x_train)\n",
    "x_val = standard_scaling(x_val)\n",
    "x_test = standard_scaling(x_test)"
   ]
  },
  {
   "cell_type": "markdown",
   "id": "paperback-nicaragua",
   "metadata": {},
   "source": [
    "2층 와이드 & 딥 신경망을 함수형 api로 구현하겠습니다.  \n",
    "일부 특성은 짧은 경로로 간단한 규칙을 학습하고, 다른 특성을 깊은 경로로 복잡한 패턴을 학습하는 구조입니다."
   ]
  },
  {
   "cell_type": "code",
   "execution_count": 6,
   "id": "upper-kelly",
   "metadata": {},
   "outputs": [],
   "source": [
    "input_a = Input(shape=[5], name=\"wide_input\") # 5개의 특성은 바로 연결층으로\n",
    "input_b = Input(shape=[6], name=\"deep_input\") # 6개의 특성은 깊은 은닉층으로\n",
    "\n",
    "hidden1 = Dense(30, activation=\"relu\")(input_b) # 첫 번째 은닉층\n",
    "hidden2 = Dense(30, activation=\"relu\")(hidden1) # 두 번째 은닉층\n",
    "\n",
    "concat = Concatenate()([input_a, hidden2]) # 첫 번째 입력층과 두 번째 은닉층 결합층\n",
    "output = Dense(1)(concat) # 출력층\n",
    "\n",
    "model = Model(inputs=[input_a, input_b], outputs=[output]) # 설계된 입, 출력층을 모델로 묶음"
   ]
  },
  {
   "cell_type": "markdown",
   "id": "phantom-helicopter",
   "metadata": {},
   "source": [
    "만들어진 함수형 모델의 구조를 확인합니다."
   ]
  },
  {
   "cell_type": "markdown",
   "id": "grateful-support",
   "metadata": {},
   "source": [
    "<img src=\"https://imgur.com/X3bDNJx.jpg\" width=\"250\">"
   ]
  },
  {
   "cell_type": "code",
   "execution_count": 7,
   "id": "developed-tuesday",
   "metadata": {},
   "outputs": [
    {
     "name": "stdout",
     "output_type": "stream",
     "text": [
      "Model: \"functional_1\"\n",
      "__________________________________________________________________________________________________\n",
      "Layer (type)                    Output Shape         Param #     Connected to                     \n",
      "==================================================================================================\n",
      "deep_input (InputLayer)         [(None, 6)]          0                                            \n",
      "__________________________________________________________________________________________________\n",
      "dense (Dense)                   (None, 30)           210         deep_input[0][0]                 \n",
      "__________________________________________________________________________________________________\n",
      "wide_input (InputLayer)         [(None, 5)]          0                                            \n",
      "__________________________________________________________________________________________________\n",
      "dense_1 (Dense)                 (None, 30)           930         dense[0][0]                      \n",
      "__________________________________________________________________________________________________\n",
      "concatenate (Concatenate)       (None, 35)           0           wide_input[0][0]                 \n",
      "                                                                 dense_1[0][0]                    \n",
      "__________________________________________________________________________________________________\n",
      "dense_2 (Dense)                 (None, 1)            36          concatenate[0][0]                \n",
      "==================================================================================================\n",
      "Total params: 1,176\n",
      "Trainable params: 1,176\n",
      "Non-trainable params: 0\n",
      "__________________________________________________________________________________________________\n"
     ]
    }
   ],
   "source": [
    "model.summary()"
   ]
  },
  {
   "cell_type": "markdown",
   "id": "expanded-friendly",
   "metadata": {},
   "source": [
    "구조가 확정된 모델의 학습방법을 지정하고 학습을 진행합니다.  \n",
    "추가적으로 모델의 과대적합을 피하기 위한 조기종료 콜백을 추가합니다."
   ]
  },
  {
   "cell_type": "code",
   "execution_count": 8,
   "id": "leading-wrong",
   "metadata": {},
   "outputs": [],
   "source": [
    "input_train_5, input_train_6 = x_train[:,:5], x_train[:,2:]\n",
    "input_val_5, input_val_6 = x_val[:,:5], x_val[:,2:]\n",
    "input_test_5, input_test_6 = x_test[:,:5], x_test[:,2:]"
   ]
  },
  {
   "cell_type": "code",
   "execution_count": 8,
   "id": "double-gauge",
   "metadata": {},
   "outputs": [
    {
     "name": "stdout",
     "output_type": "stream",
     "text": [
      "Epoch 1/20\n",
      "363/363 [==============================] - 1s 2ms/step - loss: 0.7606 - val_loss: 0.4945\n",
      "Epoch 2/20\n",
      "363/363 [==============================] - 1s 2ms/step - loss: 0.5594 - val_loss: 0.4830\n",
      "Epoch 3/20\n",
      "363/363 [==============================] - 1s 2ms/step - loss: 0.4859 - val_loss: 0.5305\n",
      "Epoch 4/20\n",
      "363/363 [==============================] - 1s 2ms/step - loss: 0.4680 - val_loss: 0.4784\n",
      "Epoch 5/20\n",
      "363/363 [==============================] - 1s 2ms/step - loss: 0.4719 - val_loss: 0.5120\n",
      "Epoch 6/20\n",
      "363/363 [==============================] - 1s 2ms/step - loss: 0.4491 - val_loss: 0.5694\n",
      "Epoch 7/20\n",
      "363/363 [==============================] - 1s 2ms/step - loss: 0.4389 - val_loss: 0.6059\n",
      "162/162 [==============================] - 0s 1ms/step - loss: 0.4385\n"
     ]
    }
   ],
   "source": [
    "model.compile(loss=\"mean_squared_error\", # 손실함수로는 평균제곱오차를 사용\n",
    "              optimizer=\"sgd\" # 최적화기법으로 확률적 경사하강법 사용\n",
    "             )  \n",
    "\n",
    "early_stopping_cb = keras.callbacks.EarlyStopping(patience=3, # 3번까지 모델이 향상도지 않으면 조기종료\n",
    "                                                  restore_best_weights=True # 훈련이 끝난 후 최상의 가중치 복원\n",
    "                                                 )\n",
    "\n",
    "history = model.fit((input_train_5, input_train_6),\n",
    "                    y_train,\n",
    "                    epochs=20, # 전체 데이터 학습 횟수\n",
    "                    validation_data=((input_val_5, input_val_6), y_val), # 에폭마다 검증 데이터 결과 출력\n",
    "                    callbacks=[early_stopping_cb] # 조기종료 콜백 사용\n",
    "                   )\n",
    "mse_test = model.evaluate((input_test_5, input_test_6), y_test) # 완성된 모델의 테스트 데이터 결과 출력"
   ]
  },
  {
   "cell_type": "markdown",
   "id": "biblical-trainer",
   "metadata": {},
   "source": [
    "모델이 학습 잘 학습되어지는지 에폭마다 손실함수 값을 확인합니다."
   ]
  },
  {
   "cell_type": "code",
   "execution_count": 9,
   "id": "medium-board",
   "metadata": {},
   "outputs": [
    {
     "data": {
      "image/png": "[encoded data removed]",
      "text/plain": [
       "<Figure size 432x288 with 1 Axes>"
      ]
     },
     "metadata": {
      "needs_background": "light"
     },
     "output_type": "display_data"
    }
   ],
   "source": [
    "plt.plot(history.history[\"loss\"])\n",
    "plt.title(\"Loss function by epoch\")\n",
    "plt.xlabel(\"epoch\")\n",
    "plt.ylabel(\"mse\")\n",
    "plt.show()"
   ]
  },
  {
   "cell_type": "markdown",
   "id": "sealed-choir",
   "metadata": {},
   "source": [
    "학습된 모델의 성능 검증을 위하여 결정계수를 구합니다."
   ]
  },
  {
   "cell_type": "code",
   "execution_count": 10,
   "id": "honey-document",
   "metadata": {},
   "outputs": [
    {
     "data": {
      "text/plain": [
       "0.6795227340394305"
      ]
     },
     "execution_count": 10,
     "metadata": {},
     "output_type": "execute_result"
    }
   ],
   "source": [
    "pred_y = model.predict((input_test_5, input_test_6))\n",
    "y_test = y_test.reshape(-1,1)\n",
    "evaluate = R_squared(pred_y, y_test) # 결정계수\n",
    "evaluate"
   ]
  },
  {
   "cell_type": "markdown",
   "id": "detailed-rachel",
   "metadata": {},
   "source": [
    "이번에는 출력층을 여러개로 한 모델을 만들겠습니다.  \n",
    "출력층이 여러개 인 경우는 다중 분류 문제를 해결하거나 규제 기법으로 사용하는 경우 입니다.  \n",
    "신경망 구조 안에서 **보조 출력을 추가함으로써 하위 네트워크가 나머지 네트워크에 의존하지 않고 그자체로 유용한 것을 학습하는지 확인 할 수 있습니다.**"
   ]
  },
  {
   "cell_type": "code",
   "execution_count": 7,
   "id": "spoken-filter",
   "metadata": {},
   "outputs": [],
   "source": [
    "input_a = Input(shape=[5], name=\"wide_input\") # 5개의 특성은 바로 연결층으로\n",
    "input_b = Input(shape=[6], name=\"deep_input\") # 6개의 특성은 깊은 은닉층으로\n",
    "\n",
    "hidden1 = Dense(30, activation=\"relu\")(input_b) # 첫 번째 은닉층\n",
    "hidden2 = Dense(30, activation=\"relu\")(hidden1) # 두 번째 은닉층\n",
    "\n",
    "concat = Concatenate()([input_a, hidden2]) # 첫 번째 입력층과 두 번째 은닉층 결합층\n",
    "total_output = Dense(1, name=\"total_output\")(concat) # 메인 출력층\n",
    "flat_output = Dense(1, name=\"flat_output\")(input_a) # 보조1 출력층\n",
    "aux_output = Dense(1, name=\"aux_output\")(hidden2) # 보조2 출력층\n",
    "\n",
    "model = Model(inputs=[input_a, input_b], outputs=[total_output, flat_output, aux_output]) # 설계된 입, 출력층을 모델로 묶음"
   ]
  },
  {
   "cell_type": "markdown",
   "id": "intellectual-interpretation",
   "metadata": {},
   "source": [
    "만들어진 함수형 모델의 구조를 확인합니다."
   ]
  },
  {
   "cell_type": "markdown",
   "id": "decent-times",
   "metadata": {},
   "source": [
    "<img src=\"https://imgur.com/SdOEejg.jpg\" width=\"500\">"
   ]
  },
  {
   "cell_type": "code",
   "execution_count": 12,
   "id": "empty-access",
   "metadata": {},
   "outputs": [
    {
     "name": "stdout",
     "output_type": "stream",
     "text": [
      "Model: \"functional_3\"\n",
      "__________________________________________________________________________________________________\n",
      "Layer (type)                    Output Shape         Param #     Connected to                     \n",
      "==================================================================================================\n",
      "deep_input (InputLayer)         [(None, 6)]          0                                            \n",
      "__________________________________________________________________________________________________\n",
      "dense_3 (Dense)                 (None, 30)           210         deep_input[0][0]                 \n",
      "__________________________________________________________________________________________________\n",
      "wide_input (InputLayer)         [(None, 5)]          0                                            \n",
      "__________________________________________________________________________________________________\n",
      "dense_4 (Dense)                 (None, 30)           930         dense_3[0][0]                    \n",
      "__________________________________________________________________________________________________\n",
      "concatenate_1 (Concatenate)     (None, 35)           0           wide_input[0][0]                 \n",
      "                                                                 dense_4[0][0]                    \n",
      "__________________________________________________________________________________________________\n",
      "total_output (Dense)            (None, 1)            36          concatenate_1[0][0]              \n",
      "__________________________________________________________________________________________________\n",
      "flat_output (Dense)             (None, 1)            6           wide_input[0][0]                 \n",
      "__________________________________________________________________________________________________\n",
      "aux_output (Dense)              (None, 1)            31          dense_4[0][0]                    \n",
      "==================================================================================================\n",
      "Total params: 1,213\n",
      "Trainable params: 1,213\n",
      "Non-trainable params: 0\n",
      "__________________________________________________________________________________________________\n"
     ]
    }
   ],
   "source": [
    "model.summary()"
   ]
  },
  {
   "cell_type": "markdown",
   "id": "marked-thinking",
   "metadata": {},
   "source": [
    "각 출력층은 자신만의 손실함수가 필요하므로 모델 컴파일시 따로 지정해야 합니다.  \n",
    "기본적으로 케라스는 나열된 손실을 모두 더하여 최종손실을 구해 훈련에 사용합니다.  \n",
    "보조 출력을 규제로만 사용한다면 주 출력의 손실에 더 많은 가중치를 부여할 수 있습니다."
   ]
  },
  {
   "cell_type": "code",
   "execution_count": 9,
   "id": "individual-hawaiian",
   "metadata": {},
   "outputs": [],
   "source": [
    "import os\n",
    "import time\n",
    "root_logdir = os.path.join(os.curdir, \"my_logs\")\n",
    "def get_run_logdir():\n",
    "    run_id = time.strftime(\"run_%Y_%m_%d-%H_%M_%S\")\n",
    "    return os.path.join(root_logdir, run_id)\n",
    "run_logdir = get_run_logdir()"
   ]
  },
  {
   "cell_type": "code",
   "execution_count": 10,
   "id": "beginning-database",
   "metadata": {},
   "outputs": [
    {
     "name": "stdout",
     "output_type": "stream",
     "text": [
      "WARNING:tensorflow:From C:\\Users\\park\\AppData\\Roaming\\Python\\Python37\\site-packages\\tensorflow\\python\\ops\\summary_ops_v2.py:1277: stop (from tensorflow.python.eager.profiler) is deprecated and will be removed after 2020-07-01.\n",
      "Instructions for updating:\n",
      "use `tf.profiler.experimental.stop` instead.\n",
      "WARNING:tensorflow:Callbacks method `on_train_batch_end` is slow compared to the batch time (batch time: 0.0020s vs `on_train_batch_end` time: 0.5701s). Check your callbacks.\n",
      "162/162 [==============================] - 0s 2ms/step - loss: 1.6901 - total_output_loss: 1.9805 - flat_output_loss: 0.6271 - aux_output_loss: 2.5141\n"
     ]
    }
   ],
   "source": [
    "model.compile(loss=[\"mse\", \"mse\", \"mse\"], # [main_loss, flat_loss, aux_loss]\n",
    "              loss_weights=[0.33, 0.33, 0.33], # main_ouput에 좀 더 가중치를 준 상태임\n",
    "              optimizer=\"sgd\" # 최적화 기법\n",
    "             )\n",
    "\n",
    "early_stopping_cb = keras.callbacks.EarlyStopping(patience=3, # 3번까지 모델이 향상도지 않으면 조기종료\n",
    "                                                  restore_best_weights=True # 훈련이 끝난 후 최상의 가중치 복원\n",
    "                                                 )\n",
    "\n",
    "tensorboard_cb = keras.callbacks.TensorBoard(run_logdir) # 텐서보드 콜백으로 시간단위 로그 저장\n",
    "\n",
    "history = model.fit((input_train_5, input_train_6),\n",
    "                    y_train,\n",
    "                    epochs=20, # 전체 데이터 학습 횟수\n",
    "                    validation_data=((input_val_5, input_val_6), y_val), # 에폭마다 검증 데이터 결과 출력\n",
    "                    callbacks=[early_stopping_cb, tensorboard_cb], # 조기종료 콜백 사용\n",
    "                    verbose = 0\n",
    "                   )\n",
    "loss, total_loss, flat_loss, aux_loss = model.evaluate((input_test_5, input_test_6), y_test) # 완성된 모델의 테스트 데이터 결과 출력"
   ]
  },
  {
   "cell_type": "markdown",
   "id": "relevant-segment",
   "metadata": {},
   "source": [
    "모델이 학습 잘 학습되어지는지 에폭마다 모든 종류의 손실함수 값을 확인합니다."
   ]
  },
  {
   "cell_type": "code",
   "execution_count": 14,
   "id": "amazing-smart",
   "metadata": {
    "scrolled": true
   },
   "outputs": [
    {
     "data": {
      "text/plain": [
       "<matplotlib.legend.Legend at 0x2d2dceab5c0>"
      ]
     },
     "execution_count": 14,
     "metadata": {},
     "output_type": "execute_result"
    },
    {
     "data": {
      "image/png": "[encoded data removed]",
      "text/plain": [
       "<Figure size 432x288 with 1 Axes>"
      ]
     },
     "metadata": {
      "needs_background": "light"
     },
     "output_type": "display_data"
    }
   ],
   "source": [
    "plt.plot(history.history[\"loss\"], label=\"loss\")\n",
    "plt.plot(history.history[\"total_output_loss\"], label=\"total_loss\")\n",
    "plt.plot(history.history[\"flat_output_loss\"], label=\"flat_loss\")\n",
    "plt.plot(history.history[\"aux_output_loss\"], label = \"aux_loss\")\n",
    "plt.legend()"
   ]
  },
  {
   "cell_type": "markdown",
   "id": "interpreted-joshua",
   "metadata": {},
   "source": [
    "각 출력층에서의 결정계수를 구합니다."
   ]
  },
  {
   "cell_type": "code",
   "execution_count": 15,
   "id": "ruled-sterling",
   "metadata": {},
   "outputs": [
    {
     "data": {
      "text/plain": [
       "(0.6771465297805555, 0.49964154527364957, 0.5406406475910381)"
      ]
     },
     "execution_count": 15,
     "metadata": {},
     "output_type": "execute_result"
    }
   ],
   "source": [
    "main_pred_y, flat_pred_y, aux_pred_y = model.predict([input_test_5, input_test_6])\n",
    "y_test = y_test.reshape(-1,1)\n",
    "\n",
    "main_evaluate = R_squared(main_pred_y, y_test) # main 출력층의 결정계수\n",
    "aux_evaluate = R_squared(aux_pred_y, y_test) # aux 출력층의 결정계수\n",
    "flat_evaluate = R_squared(flat_pred_y, y_test) # flat 출력층의 결정계수\n",
    "\n",
    "main_evaluate, flat_evaluate, aux_evaluate"
   ]
  },
  {
   "cell_type": "markdown",
   "id": "australian-controversy",
   "metadata": {},
   "source": [
    "각 출력층별 모델의 성능 지표인 결정계수를 구한 결과 깊은 네트워크와 얕은 네트워크를 합친 출력층의 성능이 가장 좋게 나왔습니다.  \n",
    "깊은 네트워크 출력층과 얕은 네트워크 출력층을 비교한 결과 깊은 네트워크 출력층의 성능이 더 좋게 나왔습니다.  \n",
    "이를 통하여 깊은 네트워크만 사용하는 것 보다 두 네트워크를 동시에 사용한 결과가 더욱 성능이 좋다는 것이 나왔습니다."
   ]
  }
 ],
 "metadata": {
  "kernelspec": {
   "display_name": "Python 3",
   "language": "python",
   "name": "python3"
  },
  "language_info": {
   "codemirror_mode": {
    "name": "ipython",
    "version": 3
   },
   "file_extension": ".py",
   "mimetype": "text/x-python",
   "name": "python",
   "nbconvert_exporter": "python",
   "pygments_lexer": "ipython3",
   "version": "3.7.3"
  }
 },
 "nbformat": 4,
 "nbformat_minor": 5
}
