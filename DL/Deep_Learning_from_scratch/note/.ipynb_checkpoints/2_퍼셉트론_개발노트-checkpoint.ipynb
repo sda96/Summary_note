{
 "cells": [
  {
   "cell_type": "markdown",
   "metadata": {},
   "source": [
    "# 퍼셉트론"
   ]
  },
  {
   "cell_type": "markdown",
   "metadata": {},
   "source": [
    "## 퍼셉트론은 다수의 입력신호를 받아 하나의 출력신호로 변환해주는 알고리즘이다.\n",
    "퍼셉트론의 정의  \n",
    "Yes / No"
   ]
  },
  {
   "cell_type": "markdown",
   "metadata": {},
   "source": [
    "Yes"
   ]
  },
  {
   "cell_type": "markdown",
   "metadata": {},
   "source": [
    "## 퍼셉트론의 특징으로 올바르지 않은 것을 고르시오.\n",
    "퍼셉트론의 특징  \n",
    "1. 퍼셉트론은 다수의 입력신호를 받아 하나의 출력신호를 발산합니다.\n",
    "2. 각 입력신호마다 같은 가중치를 가집니다.\n",
    "3. 퍼셉트론의 신호는 1이면 '뉴런의 활성화' 0이면 '뉴런의 비활성화'을 의미한다. <- 책에서만 쓰는 상대적인 말은 빼는게 좋다.  \n",
    "+3 입력신호의 가중합들이 임계값을 넘으면 활성화가 되었다고 할 수 있습니다. \n",
    "4. 입력신호에 의한 가중합이 정해진 한계를 넘으면 뉴런이 활성화 됩니다.\n",
    "5. 활성화여부를 판단시, 정해진 한계를 '임계값'이라고 부릅니다."
   ]
  },
  {
   "cell_type": "markdown",
   "metadata": {},
   "source": [
    "2번 : 각 입력신호마다 다른 가중치값을 가집니다."
   ]
  },
  {
   "cell_type": "markdown",
   "metadata": {},
   "source": [
    "## 가중치는 입력신호가 출력에 끼치는 영향력을 조절합니다.  가중치가 큰 입력신호일수록 중요한 입력신호라고 볼 수 있다.\n",
    "가중치의 역할  \n",
    "Yes/No"
   ]
  },
  {
   "cell_type": "markdown",
   "metadata": {},
   "source": [
    "Yes"
   ]
  },
  {
   "cell_type": "markdown",
   "metadata": {},
   "source": [
    "## 퍼셉트론의 관하여 올바르지 않은 것을 고르시오.\n",
    "퍼셉트론의 매개변수  \n",
    "1. 퍼셉트론의 매개변수로는 가중치와 편향이 있습니다.\n",
    "2. 가중치는 각 입력변수에 곱해지는 값을 의미 합니다.\n",
    "3. 편향은 퍼셉트론 모델의 결과를 보다 유연하게 해주는데 도움을 주는 매개변수 입니다. # 내용 추가 필요\n",
    "+ 편향은 퍼셉트론의 임계값으로, 활성화 여부에 영향을 끼치는 매개변수 입니다.\n",
    "4. 퍼셉트론의 최종 결과값은 입력변수와 가중치의 가중합으로 나옵니다.\n",
    "5. 퍼셉트론이 학습을 한다는 의미는 원하는 결과값을 만드는 매개변수를 찾는 과정을 의미합니다."
   ]
  },
  {
   "cell_type": "markdown",
   "metadata": {},
   "source": [
    "4번 : 퍼셉트론의 최종 결과값은 입력변수와 가중치의 가중합에 편향을 더한 값으로 나옵니다."
   ]
  },
  {
   "cell_type": "markdown",
   "metadata": {},
   "source": [
    "## 퍼셉트론의 식은 아래와 같을 때, 논리회로 문제(AND, NAND, OR, XOR)를 해결하시오\n",
    "$$y = \\big\\{^{0 = b + w_1 * x_1 + w_2 * x_2 <= \\theta}_{1 = b + w_1 * x_1 + w_2 * x_2 > \\theta}$$\n",
    "$x_i$는 입력신호,  \n",
    "$w_i$는 가중치,  \n",
    "$y$는 출력신호 입니다.  \n",
    "$\\theta$는 임계값 입니다.  \n",
    "$b$는 편향 입니다."
   ]
  },
  {
   "cell_type": "code",
   "execution_count": 8,
   "metadata": {},
   "outputs": [],
   "source": [
    "import numpy as np\n",
    "# 입력신호가 아래와 같을때, 출력신호가 되도록 하는 가중치 w를 찾으시오.\n",
    "x = np.array([\n",
    "    [0, 0],\n",
    "    [0, 1],\n",
    "    [1, 0],\n",
    "    [1, 1]])"
   ]
  },
  {
   "cell_type": "markdown",
   "metadata": {},
   "source": [
    "책과는 다른 방식으로 진행하겠습니다.\n",
    "왜이런식으로 넣는지?\n",
    "\n",
    "힌트:\n",
    "입력값 x,y의 형태\n",
    "np.dot() 참고, 없으면 예제\n",
    "if else로 바꿈"
   ]
  },
  {
   "cell_type": "markdown",
   "metadata": {},
   "source": [
    "### AND gate"
   ]
  },
  {
   "cell_type": "markdown",
   "metadata": {},
   "source": [
    "진리표 추가"
   ]
  },
  {
   "cell_type": "code",
   "execution_count": 37,
   "metadata": {},
   "outputs": [],
   "source": [
    "# x를 넣으면 y의 결과는 [0,0,0,1]이 나와야 합니다.\n",
    "def AND(x):\n",
    "    w = np.array([0.5, 0.5])\n",
    "    b = -0.7\n",
    "    y = np.dot(x,w) + b  # 여기 빈칸 문제\n",
    "    # if else 로 바꿈\n",
    "    y[y <= 0] = 0\n",
    "    y[y > 0] = 1\n",
    "    return y # 예상 결과 출력"
   ]
  },
  {
   "cell_type": "code",
   "execution_count": 38,
   "metadata": {},
   "outputs": [
    {
     "data": {
      "text/plain": [
       "array([0., 0., 0., 1.])"
      ]
     },
     "execution_count": 38,
     "metadata": {},
     "output_type": "execute_result"
    }
   ],
   "source": [
    "AND(x)"
   ]
  },
  {
   "cell_type": "markdown",
   "metadata": {},
   "source": [
    "### NAND gate"
   ]
  },
  {
   "cell_type": "code",
   "execution_count": 41,
   "metadata": {},
   "outputs": [],
   "source": [
    "def NAND(x):\n",
    "    w = np.array([-0.5, -0.5])\n",
    "    y = np.dot(x,w) + 0.7\n",
    "    y[y <= 0] = 0\n",
    "    y[y > 0] = 1\n",
    "    return y"
   ]
  },
  {
   "cell_type": "code",
   "execution_count": 42,
   "metadata": {},
   "outputs": [
    {
     "data": {
      "text/plain": [
       "array([1., 1., 1., 0.])"
      ]
     },
     "execution_count": 42,
     "metadata": {},
     "output_type": "execute_result"
    }
   ],
   "source": [
    "NAND(x)"
   ]
  },
  {
   "cell_type": "markdown",
   "metadata": {},
   "source": [
    "### OR gate"
   ]
  },
  {
   "cell_type": "code",
   "execution_count": 44,
   "metadata": {},
   "outputs": [],
   "source": [
    "def OR(x):\n",
    "    w = np.array([0.5, 0.5])\n",
    "    y = np.dot(x,w) - 0.4\n",
    "    y[y <= 0] = 0\n",
    "    y[y > 0] = 1\n",
    "    return y"
   ]
  },
  {
   "cell_type": "code",
   "execution_count": 45,
   "metadata": {},
   "outputs": [
    {
     "data": {
      "text/plain": [
       "array([0., 1., 1., 1.])"
      ]
     },
     "execution_count": 45,
     "metadata": {},
     "output_type": "execute_result"
    }
   ],
   "source": [
    "OR(x)"
   ]
  },
  {
   "cell_type": "markdown",
   "metadata": {},
   "source": [
    "지금까지 해결한 문제는 단층 퍼셉트론으로 해결가능한 문제입니다.\n",
    "하지만 XOR gate의 경우에는 비선형적 요소가 필요하기 때문에 단층 퍼셉트론으로는 해결하기 어렵습니다.\n",
    "단층 퍼셉트론은 선형 "
   ]
  },
  {
   "cell_type": "markdown",
   "metadata": {},
   "source": [
    "단층퍼셉트론, 다층퍼셉트론을 쌓는다는 의미를 가진 문제 만들기"
   ]
  },
  {
   "cell_type": "markdown",
   "metadata": {},
   "source": [
    "### XOR gate"
   ]
  },
  {
   "cell_type": "code",
   "execution_count": 56,
   "metadata": {},
   "outputs": [],
   "source": [
    "# 힌트 추가\n",
    "def XOR(x):\n",
    "    y1 = NAND(x).reshape(-1,1) \n",
    "    y2 = OR(x).reshape(-1,1)\n",
    "    y12 = np.concatenate([y1,y2],axis=1)    \n",
    "    return AND(y12)"
   ]
  },
  {
   "cell_type": "code",
   "execution_count": 57,
   "metadata": {},
   "outputs": [
    {
     "data": {
      "text/plain": [
       "array([0., 1., 1., 0.])"
      ]
     },
     "execution_count": 57,
     "metadata": {},
     "output_type": "execute_result"
    }
   ],
   "source": [
    "XOR(x)"
   ]
  },
  {
   "cell_type": "markdown",
   "metadata": {},
   "source": [
    "# XOR gate에 대하여 올바르지 않은 것을 고르시오\n",
    "1. XOR gate는 2개의 층을 사용한 다층 퍼셉트론으로 표현이 가능합니다.\n",
    "2. XOR gate는 단층 퍼셉트론으로는 해결할 수 없는 문제입니다.\n",
    "3. 단층 퍼셉트론은 비선형 영역으로 결과를 분리할 수 있습니다.\n",
    "4. 다층 퍼셉트론은 단층 퍼셉트론에서 해결할 수 없던 비선형 영역을 분리할 수 있습니다.\n",
    "5. XOR gate는 단층 퍼셉트론을 층으로 쌓아서 해결할 수 있는 문제입니다."
   ]
  },
  {
   "cell_type": "markdown",
   "metadata": {},
   "source": [
    "3번 : 단층 퍼셉트론은 선형 영역으로 결과를 분리할 수 있으며 다층 퍼셉트론은 비선형 영역에서도 분리가 가능합니다."
   ]
  },
  {
   "cell_type": "markdown",
   "metadata": {},
   "source": [
    "# 신경망"
   ]
  },
  {
   "cell_type": "markdown",
   "metadata": {},
   "source": [
    "## 신경망에 대하여 올바른 것을 고르시오.\n",
    "1. 신경망은 다층 퍼셉트론이라고도 불리며 은닉층이 존재합니다.\n",
    "2. 편향이 더해진 입력신호의 가중합에 활성화 함수를 적용한 상태로 다음층으로 결과를 넘깁니다.\n",
    "3. 일반적인 뉴런은 활성화 함수가 적용된 값을 출력합니다."
   ]
  },
  {
   "cell_type": "markdown",
   "metadata": {},
   "source": [
    "## 활성화 함수에 대하여 올바르지 않은 것을 고르시오.\n",
    "1. 활성화 함수의 종류는 다양하지만 대표적으로 시그모이드 함수, 계단 함수, tanh 함수, ReLu 함수 등이 있습니다.\n",
    "2. "
   ]
  }
 ],
 "metadata": {
  "kernelspec": {
   "display_name": "Python 3",
   "language": "python",
   "name": "python3"
  },
  "language_info": {
   "codemirror_mode": {
    "name": "ipython",
    "version": 3
   },
   "file_extension": ".py",
   "mimetype": "text/x-python",
   "name": "python",
   "nbconvert_exporter": "python",
   "pygments_lexer": "ipython3",
   "version": "3.7.3"
  },
  "toc": {
   "base_numbering": 1,
   "nav_menu": {},
   "number_sections": true,
   "sideBar": true,
   "skip_h1_title": false,
   "title_cell": "Table of Contents",
   "title_sidebar": "Contents",
   "toc_cell": false,
   "toc_position": {},
   "toc_section_display": true,
   "toc_window_display": false
  }
 },
 "nbformat": 4,
 "nbformat_minor": 4
}
