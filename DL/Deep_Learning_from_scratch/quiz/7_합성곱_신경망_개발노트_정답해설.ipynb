{
 "cells": [
  {
   "cell_type": "markdown",
   "metadata": {},
   "source": [
    "# 합성곱 신경망"
   ]
  },
  {
   "cell_type": "markdown",
   "metadata": {},
   "source": [
    "## 합성곱 신경망에서 새롭게 나온 단어중 아닌 것을 고르시오.\n",
    "합성곱 신경망 용어\n",
    "1. 합성곱 계층 (Convolution layer)\n",
    "2. 풀링 계층 (Pooling layer)\n",
    "3. 완전 연결 계층 (Fully connected layer)\n",
    "4. 패딩 (Padding)\n",
    "5. 스트라이드 (Stride)"
   ]
  },
  {
   "cell_type": "markdown",
   "metadata": {},
   "source": [
    "## 완전 연결 계층의 문제점은 데이터의 shape를 무시하게 된다는 것 입니다.\n",
    "완전 연결 계층의 문제점\n",
    "Yes / No"
   ]
  },
  {
   "cell_type": "markdown",
   "metadata": {},
   "source": [
    "## 합성곱 연산에 대하여 올바르지 않은 내용을 고르시오.\n",
    "합성곱 연산  \n",
    "1. 합성곱 연산은 합성곱 계층에서 처리되어 집니다.\n",
    "2. 합성곱 연산은 입력 데이터에 커널을 적용하여 단일 곱셈 누산 연산을 처리합니다.\n",
    "3. 합성곱 연산은 커널의 윈도우를 움직여서 각 위치의 단일 곱셈 누산 연산결과를 가져옵니다.\n",
    "4. 단일 곱셈 누산을 한 결과의 shape은 하기 전의 결과 보다 작게 나옵니다.\n",
    "5. 단일 곱셈 누산은 입력과 커널에 대응하는 원소끼리 곱한 후 그 총합을 구합니다."
   ]
  },
  {
   "cell_type": "markdown",
   "metadata": {},
   "source": [
    "## 합성곱 계층에서 기존 신경망 모델의 가중치에 해당하는 변수는 필터의 매개변수에 해당합니다.\n",
    "합성공 계층의 가중치  \n",
    "Yes / No"
   ]
  },
  {
   "cell_type": "markdown",
   "metadata": {},
   "source": [
    "## 패딩과 스트라이드에 대한 내용으로 올바르지 않은 것을 고르시오.\n",
    "패딩과 스트라이드\n",
    "1. 패딩이란 입력 데이터 주변에 특정값으로 채우는 방법을 말합니다.\n",
    "2. 패딩을 하는 이유는 합성곱 계층을 거쳐서 작아진 출력 크기를 조정하는 목적으로 사용됩니다.\n",
    "3. 스트라이드란 필터가 이동하는 간격을 의미합니다. 예를 들어서 스트라이드를 2로 두면 윈도우는 2칸씩 움직이게 됩니다.\n",
    "4. 스트라이드 값을 크게 키울수록 출력되는 크기는 작아지게 됩니다.\n",
    "5. 패딩 값을 크게 하면 출력 크기는 커지게 됩니다."
   ]
  },
  {
   "cell_type": "markdown",
   "metadata": {},
   "source": [
    "## 3차원 데이터에서의 합성곱 연산에 필요한 필터의 개수는 3개 입니다.\n",
    "3차원 데이터  \n",
    "Yes / No"
   ]
  },
  {
   "cell_type": "markdown",
   "metadata": {},
   "source": [
    "## 풀링 계층에 대한 내용으로 올바르지 않은 것을 고르시오.\n",
    "풀링 계층\n",
    "1. 풀링은 이미지 데이터의 특징을 가지고 크기를 줄여주는 연산입니다.\n",
    "2. 맥스 풀링(max pooling)은 윈도우내의 원소중에서 가장 큰 값을 가져오는 연산을 말합니다.\n",
    "3. 풀링 계층은 조정시켜야 할 매개변수가 따로 존재하지 않습니다.\n",
    "4. 풀링 계층을 거친 입력 데이터는 채널 수가 변하지 않습니다.\n",
    "5. 입력 데이터의 일부가 조금 바뀌더라도 결과는 쉽게 변하지 않는다는 특성을 가지고 있습니다."
   ]
  },
  {
   "cell_type": "code",
   "execution_count": null,
   "metadata": {},
   "outputs": [],
   "source": []
  },
  {
   "cell_type": "code",
   "execution_count": null,
   "metadata": {},
   "outputs": [],
   "source": []
  },
  {
   "cell_type": "code",
   "execution_count": null,
   "metadata": {},
   "outputs": [],
   "source": []
  }
 ],
 "metadata": {
  "kernelspec": {
   "display_name": "Python 3",
   "language": "python",
   "name": "python3"
  },
  "language_info": {
   "codemirror_mode": {
    "name": "ipython",
    "version": 3
   },
   "file_extension": ".py",
   "mimetype": "text/x-python",
   "name": "python",
   "nbconvert_exporter": "python",
   "pygments_lexer": "ipython3",
   "version": "3.8.5"
  },
  "toc": {
   "base_numbering": 1,
   "nav_menu": {},
   "number_sections": true,
   "sideBar": true,
   "skip_h1_title": false,
   "title_cell": "Table of Contents",
   "title_sidebar": "Contents",
   "toc_cell": false,
   "toc_position": {},
   "toc_section_display": true,
   "toc_window_display": false
  }
 },
 "nbformat": 4,
 "nbformat_minor": 4
}
