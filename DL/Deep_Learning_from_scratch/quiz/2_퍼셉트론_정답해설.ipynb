{
 "cells": [
  {
   "cell_type": "markdown",
   "metadata": {},
   "source": [
    "# 퍼셉트론"
   ]
  },
  {
   "cell_type": "markdown",
   "metadata": {},
   "source": [
    "## Yes"
   ]
  },
  {
   "cell_type": "markdown",
   "metadata": {},
   "source": [
    "## 2번 : 각 입력신호마다 다른 가중치값을 가집니다."
   ]
  },
  {
   "cell_type": "markdown",
   "metadata": {},
   "source": [
    "## Yes"
   ]
  },
  {
   "cell_type": "markdown",
   "metadata": {},
   "source": [
    "## 4번 : 퍼셉트론의 최종 결과값은 입력변수와 가중치의 가중합에 편향을 더한 값으로 나옵니다.  편향이 크면 퍼셉트론이 활성화되기 어려우며 편향이 작으면 퍼셉트론이 활성화되기 쉬워집니다."
   ]
  },
  {
   "cell_type": "markdown",
   "metadata": {},
   "source": [
    "## 4번 : XOR gate는 비선형적으로 분리가 가능합니다."
   ]
  },
  {
   "cell_type": "markdown",
   "metadata": {},
   "source": [
    "## 3번 : 단층 퍼셉트론은 선형 영역으로 결과를 분리할 수 있습니다."
   ]
  },
  {
   "cell_type": "markdown",
   "metadata": {},
   "source": [
    "## 퍼셉트론의 식은 아래와 같을 때, 논리회로 문제(AND, NAND, OR, XOR)를 해결하시오\n",
    "퍼셉트론 구현  \n",
    "$y = \\big\\{^{0 = w_1 * x_1 + w_2 * x_2 <= \\theta}_{1 = w_1 * x_1 + w_2 * x_2 > \\theta}$\n",
    "$x_i$는 입력신호,  \n",
    "$w_i$는 가중치,  \n",
    "$y$는 출력신호 입니다.  \n",
    "$\\theta$는 임계값 입니다.  \n",
    "$b$는 편향 입니다."
   ]
  },
  {
   "cell_type": "markdown",
   "metadata": {},
   "source": [
    "책에서는 데이터가 하나씩 들어오는 경우입니다. 이번 문제에서는 x를 하나의 행렬로 넣어서 만드는 경우를 생각해보겠습니다."
   ]
  },
  {
   "cell_type": "code",
   "execution_count": 3,
   "metadata": {},
   "outputs": [],
   "source": [
    "import numpy as np\n",
    "# 입력신호 x가 아래와 같을때, 출력신호가 되도록 하는 가중치 w를 찾으시오.\n",
    "x = np.array([\n",
    "    [0, 0],\n",
    "    [0, 1],\n",
    "    [1, 0],\n",
    "    [1, 1]])"
   ]
  },
  {
   "cell_type": "markdown",
   "metadata": {},
   "source": [
    "### AND gate"
   ]
  },
  {
   "attachments": {
    "image.png": {
     "image/png": "[encoded data removed]"
    }
   },
   "cell_type": "markdown",
   "metadata": {},
   "source": [
    "![image.png](attachment:image.png)\n",
    "W1 = 0.5,  \n",
    "W2 = 0.5,  \n",
    "b = -0.7일 때,  \n",
    "```enumerate()```는 위치값과 위치에 해당하는 값을 동시에 출력해주는 함수 입니다.  \n",
    "```np.dot()```은 2차원의 행렬의 경우 행렬곱을 시켜주는 함수 입니다."
   ]
  },
  {
   "cell_type": "code",
   "execution_count": 36,
   "metadata": {},
   "outputs": [
    {
     "name": "stdout",
     "output_type": "stream",
     "text": [
      "[[ 3  6]\n",
      " [ 9 12]]\n"
     ]
    }
   ],
   "source": [
    "# np.dot() 예시\n",
    "a = np.array([\n",
    "    [1, 2],\n",
    "    [3, 4]])\n",
    "b = np.array([\n",
    "    [3, 0],\n",
    "    [0,3]])\n",
    "print(np.dot(a,b))"
   ]
  },
  {
   "cell_type": "code",
   "execution_count": 37,
   "metadata": {},
   "outputs": [
    {
     "name": "stdout",
     "output_type": "stream",
     "text": [
      "0 김\n",
      "1 박\n",
      "2 이\n"
     ]
    }
   ],
   "source": [
    "# enumerates() 예시\n",
    "names = [\"김\",\"박\",\"이\"]\n",
    "for ind, name in enumerate(names):\n",
    "    print(ind, name)"
   ]
  },
  {
   "cell_type": "markdown",
   "metadata": {},
   "source": [
    "아래의 함수를 완성하시오."
   ]
  },
  {
   "cell_type": "code",
   "execution_count": 1,
   "metadata": {},
   "outputs": [],
   "source": [
    "# x를 넣으면 y의 결과는 [0,0,0,1]이 나와야 합니다.\n",
    "def AND(x):\n",
    "    w = np.array([0.5, 0.5])\n",
    "    b = -0.7\n",
    "    y = np.dot(x,w) + b\n",
    "    for ind, theta in enumerate(y):\n",
    "        if theta <= 0:\n",
    "            y[ind] = 0\n",
    "        elif theta > 0:\n",
    "            y[ind] = 1\n",
    "    return y"
   ]
  },
  {
   "cell_type": "code",
   "execution_count": 4,
   "metadata": {
    "scrolled": true
   },
   "outputs": [
    {
     "data": {
      "text/plain": [
       "array([0., 0., 0., 1.])"
      ]
     },
     "execution_count": 4,
     "metadata": {},
     "output_type": "execute_result"
    }
   ],
   "source": [
    "AND(x)"
   ]
  },
  {
   "cell_type": "markdown",
   "metadata": {},
   "source": [
    "### NAND gate"
   ]
  },
  {
   "attachments": {
    "image.png": {
     "image/png": "[encoded data removed]"
    }
   },
   "cell_type": "markdown",
   "metadata": {},
   "source": [
    "![image.png](attachment:image.png)\n",
    "y의 결과가 [1,1,1,0]이 나오는 매개변수 w와 b를 찾으시오."
   ]
  },
  {
   "cell_type": "code",
   "execution_count": 5,
   "metadata": {},
   "outputs": [],
   "source": [
    "# x를 넣으면 y의 결과는 [1,1,1,0]이 나와야 합니다.\n",
    "def NAND(x):\n",
    "    w = np.array([-0.5,-0.5]) \n",
    "    b = 0.7 \n",
    "    y = np.dot(x,w) + b  \n",
    "    for ind, tmp in enumerate(y):\n",
    "        if tmp <= 0:\n",
    "            y[ind] = 0\n",
    "        elif tmp > 0:\n",
    "            y[ind] = 1\n",
    "    return y"
   ]
  },
  {
   "cell_type": "code",
   "execution_count": 6,
   "metadata": {},
   "outputs": [
    {
     "data": {
      "text/plain": [
       "array([1., 1., 1., 0.])"
      ]
     },
     "execution_count": 6,
     "metadata": {},
     "output_type": "execute_result"
    }
   ],
   "source": [
    "NAND(x)"
   ]
  },
  {
   "cell_type": "markdown",
   "metadata": {},
   "source": [
    "### OR gate"
   ]
  },
  {
   "attachments": {
    "image.png": {
     "image/png": "[encoded data removed]"
    }
   },
   "cell_type": "markdown",
   "metadata": {},
   "source": [
    "![image.png](attachment:image.png)\n",
    "Boolean mask는 numpy 배열에서 조건에 맞는 True만 출력해주는 방법입니다. "
   ]
  },
  {
   "cell_type": "code",
   "execution_count": 45,
   "metadata": {},
   "outputs": [
    {
     "name": "stdout",
     "output_type": "stream",
     "text": [
      "[False False False  True  True]\n",
      "[4 5]\n",
      "[1 2 3 0 0]\n"
     ]
    }
   ],
   "source": [
    "# Boolean mask 예시\n",
    "a = np.array([1,2,3,4,5])\n",
    "print(a > 3)\n",
    "print(a[a > 3])\n",
    "a[a > 3] = 0\n",
    "print(a)"
   ]
  },
  {
   "cell_type": "markdown",
   "metadata": {},
   "source": [
    "Boolean mask를 사용하여 OR gate 함수를 완성하시오."
   ]
  },
  {
   "cell_type": "code",
   "execution_count": 7,
   "metadata": {},
   "outputs": [],
   "source": [
    "# x를 넣으면 y의 결과는 [0,1,1,1]이 나와야 합니다.\n",
    "def OR(x):\n",
    "    w = np.array([0.5, 0.5])\n",
    "    b = -0.4\n",
    "    y = np.dot(x,w) + b\n",
    "    y[ y <= 0] = 0\n",
    "    y[ y > 0] = 1\n",
    "    return y"
   ]
  },
  {
   "cell_type": "code",
   "execution_count": 8,
   "metadata": {},
   "outputs": [
    {
     "data": {
      "text/plain": [
       "array([0., 1., 1., 1.])"
      ]
     },
     "execution_count": 8,
     "metadata": {},
     "output_type": "execute_result"
    }
   ],
   "source": [
    "OR(x)"
   ]
  },
  {
   "cell_type": "markdown",
   "metadata": {},
   "source": [
    "### XOR gate"
   ]
  },
  {
   "attachments": {
    "image.png": {
     "image/png": "[encoded data removed]"
    }
   },
   "cell_type": "markdown",
   "metadata": {},
   "source": [
    "![image.png](attachment:image.png) \n",
    "```.T```는 행렬을 전치시켜주는 함수 입니다."
   ]
  },
  {
   "cell_type": "code",
   "execution_count": 46,
   "metadata": {},
   "outputs": [
    {
     "data": {
      "text/plain": [
       "array([[ 1,  4,  7, 10],\n",
       "       [ 2,  5,  8, 11],\n",
       "       [ 3,  6,  9, 12]])"
      ]
     },
     "execution_count": 46,
     "metadata": {},
     "output_type": "execute_result"
    }
   ],
   "source": [
    "# .T 예시\n",
    "a = np.array([\n",
    "    [1,2,3],\n",
    "    [4,5,6],\n",
    "    [7,8,9],\n",
    "    [10,11,12]\n",
    "])\n",
    "a.T"
   ]
  },
  {
   "cell_type": "markdown",
   "metadata": {},
   "source": [
    "위에서 만든 ```NAND()```, ```OR()```,```AND() ```를 활용하여 XOR gate를 구현하시오. "
   ]
  },
  {
   "cell_type": "code",
   "execution_count": 9,
   "metadata": {},
   "outputs": [],
   "source": [
    "# x를 넣으면 y의 결과는 [0,1,1,0]이 나와야 합니다.\n",
    "def XOR(x):\n",
    "    y1 = NAND(x)\n",
    "    y2 = OR(x)\n",
    "    y12 = np.array([y1,y2]).T\n",
    "    return AND(y12)"
   ]
  },
  {
   "cell_type": "code",
   "execution_count": 10,
   "metadata": {},
   "outputs": [
    {
     "data": {
      "text/plain": [
       "array([0., 1., 1., 0.])"
      ]
     },
     "execution_count": 10,
     "metadata": {},
     "output_type": "execute_result"
    }
   ],
   "source": [
    "XOR(x)"
   ]
  }
 ],
 "metadata": {
  "kernelspec": {
   "display_name": "Python 3",
   "language": "python",
   "name": "python3"
  },
  "language_info": {
   "codemirror_mode": {
    "name": "ipython",
    "version": 3
   },
   "file_extension": ".py",
   "mimetype": "text/x-python",
   "name": "python",
   "nbconvert_exporter": "python",
   "pygments_lexer": "ipython3",
   "version": "3.8.5"
  },
  "toc": {
   "base_numbering": 1,
   "nav_menu": {},
   "number_sections": true,
   "sideBar": true,
   "skip_h1_title": false,
   "title_cell": "Table of Contents",
   "title_sidebar": "Contents",
   "toc_cell": false,
   "toc_position": {},
   "toc_section_display": true,
   "toc_window_display": false
  }
 },
 "nbformat": 4,
 "nbformat_minor": 4
}
