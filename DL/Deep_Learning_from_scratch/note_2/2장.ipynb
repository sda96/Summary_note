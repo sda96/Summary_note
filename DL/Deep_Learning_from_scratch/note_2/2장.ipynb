{
 "cells": [
  {
   "cell_type": "markdown",
   "metadata": {},
   "source": [
    "### 벡터의 내적"
   ]
  },
  {
   "cell_type": "markdown",
   "metadata": {},
   "source": [
    "벡터의 내적은 두 벡터가 얼마나 같은 방향을 향하고 있는가를 나타냅니다.  \n",
    "두 벡터를 내적한 결과는 스칼라 입니다.  \n",
    "입력변수와 가중치를 내적함으로써 가중치는 입력변수의 일부 특징을 추출하게 됩니다.  "
   ]
  },
  {
   "cell_type": "code",
   "execution_count": 3,
   "metadata": {},
   "outputs": [
    {
     "data": {
      "text/plain": [
       "(10, 4)"
      ]
     },
     "execution_count": 3,
     "metadata": {},
     "output_type": "execute_result"
    }
   ],
   "source": [
    "import numpy\n",
    "x = np.random.randn(10,2) # (입력변수의 데이터 개수, 입력변수의 변수 개수)\n",
    "W1 = np.random.randn(2,4) # (입력변수의 변수 개수,가중치의 차원 개수)\n",
    "B1 = np.random.randn(4) # (가중치의 차원 개수)\n",
    "h = np.matmul(x, W1) + B1\n",
    "h.shape"
   ]
  },
  {
   "cell_type": "code",
   "execution_count": 4,
   "metadata": {},
   "outputs": [],
   "source": [
    "# 활성화 함수\n",
    "def sigmoid(x):\n",
    "    return 1 / (1 + np.exp(-x))"
   ]
  },
  {
   "cell_type": "code",
   "execution_count": 5,
   "metadata": {},
   "outputs": [
    {
     "data": {
      "text/plain": [
       "array([[0.16829545, 0.82652646, 0.02049058, 0.94499897],\n",
       "       [0.6679422 , 0.36581566, 0.67081674, 0.52304986],\n",
       "       [0.13947471, 0.89904055, 0.0333109 , 0.94867245],\n",
       "       [0.51639567, 0.91868976, 0.99179824, 0.43929388],\n",
       "       [0.30707616, 0.8216559 , 0.31671104, 0.83063894],\n",
       "       [0.43627997, 0.52169551, 0.1504422 , 0.79363252],\n",
       "       [0.92654082, 0.05890672, 0.96011248, 0.13432673],\n",
       "       [0.77495689, 0.46769598, 0.97871647, 0.27475318],\n",
       "       [0.27459768, 0.84026141, 0.24774887, 0.85626526],\n",
       "       [0.48093218, 0.80384711, 0.87596926, 0.61060175]])"
      ]
     },
     "execution_count": 5,
     "metadata": {},
     "output_type": "execute_result"
    }
   ],
   "source": [
    "sigmoid(h)"
   ]
  },
  {
   "cell_type": "code",
   "execution_count": null,
   "metadata": {},
   "outputs": [],
   "source": []
  },
  {
   "cell_type": "code",
   "execution_count": null,
   "metadata": {},
   "outputs": [],
   "source": []
  },
  {
   "cell_type": "code",
   "execution_count": null,
   "metadata": {},
   "outputs": [],
   "source": []
  },
  {
   "cell_type": "code",
   "execution_count": null,
   "metadata": {},
   "outputs": [],
   "source": []
  }
 ],
 "metadata": {
  "kernelspec": {
   "display_name": "Python 3",
   "language": "python",
   "name": "python3"
  },
  "language_info": {
   "codemirror_mode": {
    "name": "ipython",
    "version": 3
   },
   "file_extension": ".py",
   "mimetype": "text/x-python",
   "name": "python",
   "nbconvert_exporter": "python",
   "pygments_lexer": "ipython3",
   "version": "3.7.4"
  },
  "toc": {
   "base_numbering": 1,
   "nav_menu": {},
   "number_sections": true,
   "sideBar": true,
   "skip_h1_title": false,
   "title_cell": "Table of Contents",
   "title_sidebar": "Contents",
   "toc_cell": false,
   "toc_position": {},
   "toc_section_display": true,
   "toc_window_display": false
  }
 },
 "nbformat": 4,
 "nbformat_minor": 4
}
