{
 "cells": [
  {
   "cell_type": "markdown",
   "id": "legislative-regression",
   "metadata": {},
   "source": [
    "## 함수"
   ]
  },
  {
   "cell_type": "markdown",
   "id": "ready-desperate",
   "metadata": {},
   "source": [
    "함수는 반복적으로 사용되는 가치있는 부분을 한 뭉치로 묶어서 입력값이 주어졌을 때 결과값을 돌려주는 식의 과정을 만들어주는 방법입니다.\n",
    "\n",
    "네이밍 컨벤션 : 스네이크_케이스를 따릅니다. 스네이크 표기법 코딩을 기본으로 하되, 파이썬의 pep8 및 철학에 따라 스네이크 코드를 지향한다고 말한다."
   ]
  },
  {
   "cell_type": "markdown",
   "id": "forbidden-portuguese",
   "metadata": {},
   "source": [
    "함수 작성시 가독성을 높이는 방법\n",
    "1. 자세한 주석\n",
    "2. 의미를 가진 변수명\n",
    "3. 리스트 컴프리헨션은 표현식이 2개를 넘지않게 하여 복잡도를 줄인다. 필요하면 가독성을 위해 코드줄을  늘립니다."
   ]
  },
  {
   "cell_type": "markdown",
   "id": "plain-declaration",
   "metadata": {},
   "source": [
    "def 함수명(매개변수(parameters) = 전달인지(arguments)):  \n",
    "    return 반환값"
   ]
  },
  {
   "cell_type": "code",
   "execution_count": 14,
   "id": "suspended-street",
   "metadata": {},
   "outputs": [
    {
     "data": {
      "text/plain": [
       "15"
      ]
     },
     "execution_count": 14,
     "metadata": {},
     "output_type": "execute_result"
    }
   ],
   "source": [
    "# 여러개의 입력값을 받는 함수 만드기\n",
    "def sum_many(*args):\n",
    "    total = 0\n",
    "    for i in args:\n",
    "        total += i # 전달인자로 받은 값들을 모두 더합니다.\n",
    "    return total\n",
    "\n",
    "sum_many(1,2,3,4,5)"
   ]
  },
  {
   "cell_type": "code",
   "execution_count": 17,
   "id": "innovative-thanksgiving",
   "metadata": {},
   "outputs": [
    {
     "name": "stdout",
     "output_type": "stream",
     "text": [
      "안녕하세요\n"
     ]
    }
   ],
   "source": [
    "# return만 사용하여 함수를 빠져나갈 수 있습니다.\n",
    "def say_nick(nick):\n",
    "    if nick == \"바보\":\n",
    "        return\n",
    "    print(\"안녕하세요\")\n",
    "# pass를 사용하면 해당 문장만 빠녀나갈 수 있습니다.\n",
    "def say_nick2(nick):\n",
    "    if nick == \"바보\":\n",
    "        pass\n",
    "    print(\"안녕하세요\")\n",
    "\n",
    "say_nick(\"바보\")\n",
    "say_nick2(\"바보\")"
   ]
  },
  {
   "cell_type": "code",
   "execution_count": 19,
   "id": "blond-throw",
   "metadata": {},
   "outputs": [
    {
     "data": {
      "text/plain": [
       "11"
      ]
     },
     "execution_count": 19,
     "metadata": {},
     "output_type": "execute_result"
    }
   ],
   "source": [
    "a = 10 # 전역변수\n",
    "def ex(a):\n",
    "    a = 1 # 지역변수\n",
    "    return a + 10\n",
    "ex(a)"
   ]
  },
  {
   "cell_type": "code",
   "execution_count": 26,
   "id": "through-flexibility",
   "metadata": {},
   "outputs": [
    {
     "data": {
      "text/plain": [
       "15"
      ]
     },
     "execution_count": 26,
     "metadata": {},
     "output_type": "execute_result"
    }
   ],
   "source": [
    "b = 10 # 전역변수\n",
    "def ex(a):\n",
    "    # 함수안에 전역변수 불러오기\n",
    "    global b \n",
    "    return a + b\n",
    "ex(5)"
   ]
  },
  {
   "cell_type": "markdown",
   "id": "deadly-fellowship",
   "metadata": {},
   "source": [
    "#### with구문 : context manager  \n",
    "[참고사이트](https://sjquant.tistory.com/12)"
   ]
  },
  {
   "cell_type": "code",
   "execution_count": 1,
   "id": "distinguished-remove",
   "metadata": {},
   "outputs": [
    {
     "data": {
      "text/plain": [
       "int"
      ]
     },
     "execution_count": 1,
     "metadata": {},
     "output_type": "execute_result"
    }
   ],
   "source": [
    "# 매개변수 타입힌트\n",
    "# 최대한 주석을 작성하라\n",
    "def fn(x: int):\n",
    "    return x\n",
    "type(fn(5))"
   ]
  },
  {
   "cell_type": "code",
   "execution_count": 2,
   "id": "affiliated-magnitude",
   "metadata": {},
   "outputs": [
    {
     "data": {
      "text/plain": [
       "[11, 12, 13]"
      ]
     },
     "execution_count": 2,
     "metadata": {},
     "output_type": "execute_result"
    }
   ],
   "source": [
    "# map, filter, 람다 표현식\n",
    "list(map(lambda x:x+10, [1, 2, 3]))"
   ]
  },
  {
   "cell_type": "code",
   "execution_count": 3,
   "id": "worldwide-screen",
   "metadata": {},
   "outputs": [
    {
     "data": {
      "text/plain": [
       "[2, 6, 10, 14, 18]"
      ]
     },
     "execution_count": 3,
     "metadata": {},
     "output_type": "execute_result"
    }
   ],
   "source": [
    "# 파이쏘닉 코드 : 리스트 컴프리헨션\n",
    "[n*2 for n in range(1,10 + 1) if n % 2 ==1]"
   ]
  },
  {
   "cell_type": "code",
   "execution_count": 7,
   "id": "endangered-addition",
   "metadata": {},
   "outputs": [
    {
     "name": "stdout",
     "output_type": "stream",
     "text": [
      "1\n",
      "2\n",
      "3\n",
      "4\n",
      "5\n",
      "6\n",
      "7\n",
      "8\n",
      "9\n",
      "10\n"
     ]
    }
   ],
   "source": [
    "# 제네레이터\n",
    "def get_natural_number():\n",
    "    n = 0\n",
    "    while True:\n",
    "        n += 1\n",
    "        yield n\n",
    "\n",
    "g = get_natural_number() # 다시 선언시 처음부터 초기화됨\n",
    "for _ in range(0,10):\n",
    "    print(next(g))"
   ]
  },
  {
   "cell_type": "code",
   "execution_count": 9,
   "id": "intermediate-separation",
   "metadata": {},
   "outputs": [
    {
     "name": "stdout",
     "output_type": "stream",
     "text": [
      "21\n",
      "22\n",
      "23\n",
      "24\n",
      "25\n",
      "26\n",
      "27\n",
      "28\n",
      "29\n",
      "30\n"
     ]
    }
   ],
   "source": [
    "# 다시 선언을 안하면 초기화가 안되고 다음 generator가 이어짐다음 generator가 이어짐\n",
    "for _ in range(0,10):\n",
    "    print(next(g))"
   ]
  },
  {
   "cell_type": "code",
   "execution_count": 10,
   "id": "several-public",
   "metadata": {},
   "outputs": [
    {
     "name": "stdout",
     "output_type": "stream",
     "text": [
      "1\n",
      "string\n",
      "True\n"
     ]
    },
    {
     "ename": "StopIteration",
     "evalue": "",
     "output_type": "error",
     "traceback": [
      "\u001b[1;31m---------------------------------------------------------------------------\u001b[0m",
      "\u001b[1;31mStopIteration\u001b[0m                             Traceback (most recent call last)",
      "\u001b[1;32m<ipython-input-10-7681b236df74>\u001b[0m in \u001b[0;36m<module>\u001b[1;34m\u001b[0m\n\u001b[0;32m      8\u001b[0m \u001b[0mprint\u001b[0m\u001b[1;33m(\u001b[0m\u001b[0mnext\u001b[0m\u001b[1;33m(\u001b[0m\u001b[0mg\u001b[0m\u001b[1;33m)\u001b[0m\u001b[1;33m)\u001b[0m\u001b[1;33m\u001b[0m\u001b[1;33m\u001b[0m\u001b[0m\n\u001b[0;32m      9\u001b[0m \u001b[0mprint\u001b[0m\u001b[1;33m(\u001b[0m\u001b[0mnext\u001b[0m\u001b[1;33m(\u001b[0m\u001b[0mg\u001b[0m\u001b[1;33m)\u001b[0m\u001b[1;33m)\u001b[0m\u001b[1;33m\u001b[0m\u001b[1;33m\u001b[0m\u001b[0m\n\u001b[1;32m---> 10\u001b[1;33m \u001b[0mprint\u001b[0m\u001b[1;33m(\u001b[0m\u001b[0mnext\u001b[0m\u001b[1;33m(\u001b[0m\u001b[0mg\u001b[0m\u001b[1;33m)\u001b[0m\u001b[1;33m)\u001b[0m \u001b[1;31m# yield 할 수 있는게 3개까지기 때문에 stopiteration error가 발생합니다.\u001b[0m\u001b[1;33m\u001b[0m\u001b[1;33m\u001b[0m\u001b[0m\n\u001b[0m",
      "\u001b[1;31mStopIteration\u001b[0m: "
     ]
    }
   ],
   "source": [
    "# 제네레이터 다양하게 yield 하기\n",
    "def generator():\n",
    "    yield 1\n",
    "    yield \"string\"\n",
    "    yield True\n",
    "g = generator()\n",
    "print(next(g))\n",
    "print(next(g))\n",
    "print(next(g))\n",
    "print(next(g)) # yield 할 수 있는게 3개까지기 때문에 stopiteration error가 발생합니다."
   ]
  },
  {
   "cell_type": "code",
   "execution_count": null,
   "id": "little-playback",
   "metadata": {},
   "outputs": [],
   "source": [
    "# 함수의 기본값으로 가변 객체 ex) [],{},()를 사용하지 않고 불변 객체 None을 명시적으로 할당하는것도 좋은 방법입니다.\n",
    "# bad case\n",
    "def foo(a,b=[]):\n",
    "\n",
    "def foo(a,b: mapping = {}):\n",
    "# good case\n",
    "def foo(a, b=None):\n",
    "    if b is None:\n",
    "        b = []\n",
    "\n",
    "def foo(a, b: Optional[Sequence] = None):\n",
    "    if b is None:\n",
    "        b = []"
   ]
  },
  {
   "cell_type": "code",
   "execution_count": 11,
   "id": "million-surgery",
   "metadata": {},
   "outputs": [
    {
     "name": "stdout",
     "output_type": "stream",
     "text": [
      "오리지널 함수 입니다.\n",
      "감쌌다!\n",
      "데코된 오리지널 함수 입니다.\n"
     ]
    }
   ],
   "source": [
    "# decorator\n",
    "def decorator(original):\n",
    "    def wrapper():\n",
    "        print(\"감쌌다!\")\n",
    "        return original()\n",
    "    return wrapper\n",
    "\n",
    "def original():\n",
    "    return print(\"오리지널 함수 입니다.\")\n",
    "\n",
    "@decorator\n",
    "def decorated_original():\n",
    "    return print(\"데코된 오리지널 함수 입니다.\")\n",
    "\n",
    "original()\n",
    "decorated_original()"
   ]
  },
  {
   "cell_type": "markdown",
   "id": "opposed-sample",
   "metadata": {},
   "source": [
    "## 클래스"
   ]
  },
  {
   "cell_type": "markdown",
   "id": "approximate-illness",
   "metadata": {},
   "source": [
    "object(객체)  \n",
    "Any data with state (attributes or value) and defined behavior (methods). Also the ultimate base class of any new-style class.  \n",
    "파이썬의 객체는 어떠한 상태(속성 또는 값)와 정의된 행동(함수)를 가진 데이터를 말합니다. 또한 궁극적인 베이스는 어떠한 새로운 형식으로 쓰여진 클래스입니다.  \n",
    "\n",
    "class(클래스)  \n",
    "A template for creating user-defined objects. Class definitions normally contain method definitions which operate on instances of the class.  \n",
    "클래스는 사용자 정의 객체를 만들기 위한 형식(템플릿)입니다. 클래스 정의는 일반적으로 클래스의 인스턴스에서 작동하는 메소드 정의를 포함하고 있습니다.  \n",
    "\n",
    "attribute(속성)  \n",
    "A value associated with an object which is referenced by name using dotted expressions. For example, if an object o has an attribute a it would be referenced as o.a.  \n",
    "점 표현식을 사용하여 변수명으로 참조되어진 객체와 관련있는 값을 속성이라고 합니다. 예를 들어, 만약 객체 ```o```가 속성 ```a```를 가지고 있다면 ```o.a()``` 같이 사용되며 참조되어졌다고 할 수 있습니다.  \n",
    "\n",
    "클래스의 __init__ 생성자에서 속성이 만들어지고 각 속성에 값들이 할당되거나 새로운 전달인자를 받습니다.\n",
    "\n",
    "method(메소드)  \n",
    "A function which is defined inside a class body. If called as an attribute of an instance of that class, the method will get the instance object as its first argument (which is usually called self). See function and nested scope.  \n",
    "클래스 안에서 정의된 함수를 메소드라고 합니다. 만약 클래스(사용자 정의 객체)에 속한 인스턴스의 속성을 부른다면, 메소드는 첫번째 전달인자(argument)로 인스턴스 객체를 가져옵니다.  "
   ]
  },
  {
   "cell_type": "markdown",
   "id": "confident-subdivision",
   "metadata": {},
   "source": [
    "객체.속성  \n",
    "클래스.메소드"
   ]
  },
  {
   "cell_type": "markdown",
   "id": "cubic-stewart",
   "metadata": {},
   "source": [
    "클래스에 의해서 만들어진 객체를 인스턴스라고도 합니다."
   ]
  },
  {
   "cell_type": "code",
   "execution_count": 27,
   "id": "sublime-briefing",
   "metadata": {},
   "outputs": [],
   "source": [
    "# 클래스 상속\n",
    "class myclass(object):\n",
    "    def method_a(self): # 인덴트 오류 발생\n",
    "        pass\n",
    "    def method_b(self):\n",
    "        print(\"Method B\")\n",
    "c = myclass()"
   ]
  },
  {
   "cell_type": "code",
   "execution_count": null,
   "id": "manufactured-glasgow",
   "metadata": {},
   "outputs": [],
   "source": [
    "# 로컬 심볼 테이블 딕셔너리를 가져오는 메소드\n",
    "import pprint\n",
    "pprint.pprint(locals())"
   ]
  },
  {
   "cell_type": "markdown",
   "id": "gorgeous-moderator",
   "metadata": {},
   "source": [
    "[클래스 참고 사이트](https://www.itple.co.kr/116)"
   ]
  }
 ],
 "metadata": {
  "kernelspec": {
   "display_name": "Python 3",
   "language": "python",
   "name": "python3"
  },
  "language_info": {
   "codemirror_mode": {
    "name": "ipython",
    "version": 3
   },
   "file_extension": ".py",
   "mimetype": "text/x-python",
   "name": "python",
   "nbconvert_exporter": "python",
   "pygments_lexer": "ipython3",
   "version": "3.7.3"
  }
 },
 "nbformat": 4,
 "nbformat_minor": 5
}
