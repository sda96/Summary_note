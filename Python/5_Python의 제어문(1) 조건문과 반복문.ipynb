{
 "cells": [
  {
   "cell_type": "markdown",
   "metadata": {
    "colab_type": "text",
    "id": "bnRkfoZERYmH",
    "nbpresent": {
     "id": "3d78213a-8527-4216-a68a-823aea3421d8"
    }
   },
   "source": [
    "<i><b>Public AI</b></i>\n",
    "\n",
    "<br>\n",
    "### **&nbsp;&nbsp;Week1. Python 기본기 다지기**\n",
    "# Section 5. Python에서의 제어문 (1) 조건문과 반복문\n",
    "\n",
    "제어문은 실행순서를 변경시키거나 실행할 코드에 조건을 부여하여 프로그램의 흐름을 제어합니다. Python에서 제공하는 제어문은 크게 3가지, 조건문(if) / 반복문(while) / 순회문(for)입니다. 각각의 개념과 작동 방식을 명확히 이해해야 여러 제어문을 종합적으로 사용하는 프로그램을 만들어 볼 수 있습니다. \n",
    "<br> \n",
    "<br> \n",
    "Section 5에서는 조건문과 반복문 각각의 개념을 이해하고, 어떻게 작동하는지 살펴보겠습니다. "
   ]
  },
  {
   "cell_type": "markdown",
   "metadata": {
    "nbpresent": {
     "id": "7a52c633-2cc7-4902-b4e6-200956e5a144"
    }
   },
   "source": [
    "### _Objective_\n",
    "1. **제어문의 블록문** : 모든 제어문에서 기본적인 형식인 블록문을 이해합니다. <br>\n",
    "1. **조건문(if)** : 조건문을 이해하고, 실습을 통해 활용해봅니다. <br>\n",
    "2. **반복문(while)** : 반복문을 이해하고, 실습을 통해 활용해봅니다.<br>"
   ]
  },
  {
   "cell_type": "markdown",
   "metadata": {
    "nbpresent": {
     "id": "954b6ae5-6a25-4de3-9d30-3b90d7c49560"
    }
   },
   "source": [
    "<br>\n",
    "\n",
    "# \\[ 1. 제어문의 블록문 \\]\n",
    "\n",
    "\n",
    "블록문이란 연속된 코드의 묶음을 뜻합니다. 제어문에서 코드는 다수의 블록문으로 구성되어 있습니다. 블록문 안에 다수의 블록문을 넣어 중첩되는 구조를 만들 수도 있습니다. 어떤 제어문의 영향을 받느냐는 어떤 블록에 속하느냐에 따라 달라집니다."
   ]
  },
  {
   "cell_type": "markdown",
   "metadata": {
    "nbpresent": {
     "id": "ec8e920d-8728-4631-ad78-8e98414fd304"
    }
   },
   "source": [
    "<br>\n",
    "\n",
    "## 1. 블록문의 기본 구조\n",
    "\n",
    "+ Python에서는 들여쓰기(indent)로 블록을 구분합니다. Python에서는 들여쓰기에 따라 어디까지 연속된 수행문인지를 판단할 수 있습니다. 블록이 없다면 코드의 연속성이 어떤지 확인할 방법이 없습니다.\n",
    "+ 블록문을 만드는 방법은 크게 **4칸 띄어쓰기**와 **탭**있지만, Python은 탭보다는 띄어쓰기를 사용하길 권장합니다. (참고: [PEP 8: Tab or Space?](https://www.python.org/dev/peps/pep-0008/#tabs-or-spaces))\n",
    "+ 아래는 제어문 중 if 조건문의 예시입니다. \n",
    "+ 앞으로 각 제어문마다 들여쓰기의 차이로 인해 어떤 식으로 동작이 차이나는지 배워보겠습니다. \n",
    "\n",
    "``` python \n",
    "if condition_statement: # 제어문\n",
    "    print(\"조건문이 참입니다.\") # 블록문. 4칸 띄어쓰기로 들여씀\n",
    "```"
   ]
  },
  {
   "cell_type": "markdown",
   "metadata": {
    "nbpresent": {
     "id": "df654e9e-ec9e-4b5c-9fc1-5496627e7d23"
    }
   },
   "source": [
    "<br>\n",
    "\n",
    "## 2.블록문 작성시 주의사항\n",
    "\n",
    "\n",
    "+ 하나의 제어문 안에서 띄어쓰기와 탭 두 가지 방식이 혼용될 경우 오류를 반환합니다.\n",
    "+ 주피터 노트북 환경에서만 작성된 코드는 tab을 사용해도 4칸 띄어쓰기로 작동하기 때문에 오류가 발생하지 않지만, 다른 편집기에서 `.py`로 작성하면서 탭을 이용해 들여쓰기를 한 경우, 오류가 발생할 수 있음에 주의해야 합니다. "
   ]
  },
  {
   "cell_type": "code",
   "execution_count": null,
   "metadata": {
    "nbpresent": {
     "id": "b77d3edc-eba7-4fed-bbcb-279669a4f454"
    }
   },
   "outputs": [],
   "source": [
    "if True:\n",
    "\tprint('탭을 이용한 들여쓰기') # 탬만 이용한 경우 문제가 발생하지 않음"
   ]
  },
  {
   "cell_type": "code",
   "execution_count": null,
   "metadata": {
    "nbpresent": {
     "id": "b463911f-4641-4ab8-8487-164356de7a52"
    }
   },
   "outputs": [],
   "source": [
    "if True:\n",
    "\tprint('탭을 이용한 들여쓰기')\n",
    "    print('4칸 띄어쓰기를 이용한 들여쓰기') # 하나의 블록문 안에서 탭과 4칸 들여쓰기를 모두 사용하면 오류를 반환함"
   ]
  },
  {
   "cell_type": "markdown",
   "metadata": {
    "colab_type": "text",
    "id": "GT4iQKYiRYmM",
    "nbpresent": {
     "id": "40d073ce-20f2-46a2-96c5-6835adac0c1e"
    }
   },
   "source": [
    "<br>\n",
    "\n",
    "# \\[ 2. 조건문(if) \\]\n",
    "\n",
    "\n",
    "조건문은 조건의 만족 여부에 따라 명령문을 수행하게 만드는 제어문입니다. 조건문의 기본 구조와 조건으로 제시할 수 있는 다양한 자료형을 살펴보고, 조건문을 중첩해서 작성하면 어떻게 작동하는지 알아보겠습니다."
   ]
  },
  {
   "cell_type": "markdown",
   "metadata": {
    "colab_type": "text",
    "id": "Fvex3t1kRYm-",
    "nbpresent": {
     "id": "e202f95a-cc35-4f10-836d-02cccd4eb9b9"
    }
   },
   "source": [
    "<br>\n",
    "\n",
    "## 1. 조건문의 기본 구조\n",
    "\n",
    "\n",
    "+ Python에서 가장 기본적인 조건문은 `if`입니다. \n",
    "+ `if` 다음에 제시될 조건에는 단순히 `True`, `False`만이 아니라, 다양한 값들을 `True`와 `False`와 같이 이용할 수 있습니다.\n",
    "+ 조건문에서는 **if만 필수**이고 elif와 else는 없어도 됩니다."
   ]
  },
  {
   "cell_type": "markdown",
   "metadata": {
    "nbpresent": {
     "id": "2063618b-7874-467e-bfa8-0045d6e44b56"
    }
   },
   "source": [
    "조건문의 기본 구조는 아래와 같습니다.\n",
    "\n",
    "```python\n",
    "if 조건1: # 조건1을 만족하면 `수행할 문장1`과 `수행할 문장2` 수행\n",
    "    수행할 문장1\n",
    "    수행할 문장2\n",
    "    ...\n",
    "elif 조건2: # 조건2를 만족하면 `수행할 문장a`과 `수행할 문장b` 수행\n",
    "    수행할 문장a\n",
    "    수행할 문장b\n",
    "    ...\n",
    "else: #  두 조건 모두 만족하지 않으면 `수행할 문장A`과 `수행할 문장B` 수행\n",
    "    수행할 문장A\n",
    "    수행할 문장B\n",
    "    ...\n",
    "```"
   ]
  },
  {
   "cell_type": "markdown",
   "metadata": {
    "colab_type": "text",
    "id": "lIxgoW9wRYmW",
    "nbpresent": {
     "id": "15843b8e-82d5-442f-b39f-0e44f67a7056"
    }
   },
   "source": [
    "### (1) 조건이 \"참\" 일 때\n",
    "조건이 참일때, 블록문 안의 문장을 실행합니다. "
   ]
  },
  {
   "cell_type": "code",
   "execution_count": null,
   "metadata": {
    "colab": {
     "base_uri": "https://localhost:8080/",
     "height": 51
    },
    "colab_type": "code",
    "executionInfo": {
     "elapsed": 680,
     "status": "ok",
     "timestamp": 1551059304188,
     "user": {
      "displayName": "최선열",
      "photoUrl": "",
      "userId": "00663027191814710813"
     },
     "user_tz": -540
    },
    "id": "HiA6xmI3RYma",
    "nbpresent": {
     "id": "10261f77-1469-46bf-a410-d2d1d6b2871b"
    },
    "outputId": "56a37b07-0d9f-42d1-ce0d-380b2cf2482f"
   },
   "outputs": [],
   "source": [
    "condition_statement = True\n",
    "\n",
    "if condition_statement:\n",
    "    print(\"조건이 참입니다.\")\n",
    "\n",
    "    print(\"조건문에 해당하는 수행문은 여기까지 입니다.\")\n"
   ]
  },
  {
   "cell_type": "markdown",
   "metadata": {
    "colab_type": "text",
    "id": "HsZTYYePRYmz",
    "nbpresent": {
     "id": "d1bd2548-3c6e-46d3-be58-ee584431ea83"
    }
   },
   "source": [
    "### (2) 조건이 \"거짓\" 일 때\n",
    "조건이 거짓일 때, 블록문 안의 문장을 실행하지 않고 넘어갑니다. "
   ]
  },
  {
   "cell_type": "code",
   "execution_count": null,
   "metadata": {
    "colab": {},
    "colab_type": "code",
    "id": "ph6vFejgRYm0",
    "nbpresent": {
     "id": "f53181cb-57fc-48f0-97db-2b341321bc12"
    }
   },
   "outputs": [],
   "source": [
    "condition_statement = False\n",
    "\n",
    "if condition_statement:\n",
    "    print(\"조건이 참입니다.\")\n",
    "    \n",
    "    print(\"조건에 해당하는 수행문은 여기까지 입니다.\")"
   ]
  },
  {
   "cell_type": "markdown",
   "metadata": {
    "nbpresent": {
     "id": "d0149613-3725-42a1-9dff-d6105721e2d5"
    }
   },
   "source": [
    "### (3) 조건문의 블록문 작동 방식\n",
    "조건문은 4칸 들여쓰기로 들여쓴 블록문까지만 영향을 미칩니다. `print(\"조건문에 해당하는 수행문은 여기까지 입니다.\")` 구문은 조건문이 참일 때만 출력되며, 아래에서는 들여쓰기t가 되지 않았기 때문에 조건문이 거짓이었음에도 불구하고 출력되게 되었습니다."
   ]
  },
  {
   "cell_type": "code",
   "execution_count": null,
   "metadata": {
    "colab": {},
    "colab_type": "code",
    "id": "Ael7XGjgRYmq",
    "nbpresent": {
     "id": "64e5dce1-db51-410e-94fd-c7f120e4eaba"
    },
    "outputId": "88d53a25-2389-4998-c3c5-0adce5d547b1"
   },
   "outputs": [],
   "source": [
    "condition_statement = False\n",
    "\n",
    "if condition_statement:\n",
    "    print(\"조건이 참입니다.\") # 블록문\n",
    "\n",
    "print(\"이 수행문은 조건문에 해당하지 않습니다.\") # 조건문 외부"
   ]
  },
  {
   "cell_type": "markdown",
   "metadata": {
    "colab_type": "text",
    "id": "FWPzCc12RYoB",
    "nbpresent": {
     "id": "7069f694-affe-422f-9e7b-d28195d73d5c"
    }
   },
   "source": [
    "### 예시 1.) 돈으로 물건 구매하기\n",
    "\n",
    "가진 돈에 따라 편의점에서 어떤 물건을 구매할 수 있는지를 알려주는 코드를 만들어봅시다. <br>"
   ]
  },
  {
   "cell_type": "code",
   "execution_count": null,
   "metadata": {
    "colab": {
     "base_uri": "https://localhost:8080/",
     "height": 34
    },
    "colab_type": "code",
    "executionInfo": {
     "elapsed": 731,
     "status": "ok",
     "timestamp": 1551061756000,
     "user": {
      "displayName": "최선열",
      "photoUrl": "",
      "userId": "00663027191814710813"
     },
     "user_tz": -540
    },
    "id": "CCgJ2qSDRYoC",
    "nbpresent": {
     "id": "c7dcf69a-3227-425f-aef7-4dd8c570d268"
    },
    "outputId": "efd990a2-47fd-420a-e7cc-106530a3e80d"
   },
   "outputs": [],
   "source": [
    "money = 5000\n",
    "if money >= 3800:\n",
    "    print(\"콜라를 구매할 수 있습니다.\")\n",
    "if money >=1500:\n",
    "    print(\"과자를 구매할 수 있습니다.\")\n",
    "if money >= 600:\n",
    "    print(\"계란을 구매할 수 있습니다.\")"
   ]
  },
  {
   "cell_type": "markdown",
   "metadata": {
    "colab_type": "text",
    "id": "Cd1NJKy-RYoG",
    "nbpresent": {
     "id": "b780ea02-235e-45f5-b74a-1688e28e65ab"
    }
   },
   "source": [
    "만족하는 조건문은 `money >= 1500`와 `money >= 600` 모두이지만 money >=1500이 먼저 등장했기 때문에, \"`과자를 구매할 수 있습니다.`\"가 출력되었습니다. elif로 조건문이 연결되어 있는 경우에는 \"조건문에 만족한 경우가 있는 경우\"와 \"해당 경우\"만 수행하고 **이후 조건문은 수행하지 않습니다.** 이후 조건문도 모두 동등하게 수행하길 원한다면 if로 코드를 짜야 합니다. \n"
   ]
  },
  {
   "cell_type": "code",
   "execution_count": null,
   "metadata": {
    "colab": {},
    "colab_type": "code",
    "id": "wjlsNNwzRYoI",
    "nbpresent": {
     "id": "6d21b0f9-dc32-43a4-b285-19a37947ba2c"
    },
    "outputId": "7f4e947f-386e-47dc-be91-a1617808417c"
   },
   "outputs": [],
   "source": [
    "money = 2000\n",
    "if money >= 3800:\n",
    "    print(\"콜라를 구매할 수 있습니다.\")\n",
    "if money >=1500:\n",
    "    print(\"과자를 구매할 수 있습니다.\")\n",
    "if money >= 600:\n",
    "    print(\"계란을 구매할 수 있습니다.\")"
   ]
  },
  {
   "cell_type": "markdown",
   "metadata": {
    "colab_type": "text",
    "id": "Fvex3t1kRYm-",
    "nbpresent": {
     "id": "76ff5b87-d3a2-4cbf-acec-1d831fc82fc0"
    }
   },
   "source": [
    "## 2. 다양한 형태의 조건\n",
    "\n",
    "+ Python의 조건문 if에서는 `True`, `False` 외에도 다양한 값을 조건으로 사용할 수 있습니다. <br>\n",
    "+ `if 조건:`에서 `조건` 자리에는 논리형, 숫자형, 문자열형, 리스트형 등의 자료가 제시될 수 있습니다. <br> \n",
    "+ 각 경우마다 어떻게 참과 거짓을 판단하여 작동하는지 살펴보겠습니다. "
   ]
  },
  {
   "cell_type": "markdown",
   "metadata": {
    "colab_type": "text",
    "id": "sYWKqT-dRYm-",
    "nbpresent": {
     "id": "6d8c9aaf-89b7-47b8-b1c0-48a679d6a61d"
    }
   },
   "source": [
    "### (1) 논리형 조건에서의 참 거짓\n",
    "가장 기본적인 조건문입니다."
   ]
  },
  {
   "cell_type": "code",
   "execution_count": null,
   "metadata": {
    "colab": {},
    "colab_type": "code",
    "id": "1GKjY6DARYm_",
    "nbpresent": {
     "id": "28dad24b-7663-4724-ac4f-b7085fee00d1"
    },
    "outputId": "c1a1040e-b6e2-4226-db59-5e84847fc78c"
   },
   "outputs": [],
   "source": [
    "if True:\n",
    "    print(\"참입니다.\")"
   ]
  },
  {
   "cell_type": "code",
   "execution_count": null,
   "metadata": {
    "colab": {},
    "colab_type": "code",
    "id": "tmVitePhRYnJ",
    "nbpresent": {
     "id": "a48e93f7-50a1-4692-9999-2046968a46f0"
    }
   },
   "outputs": [],
   "source": [
    "if False: # 실행되지 않음\n",
    "    print(\"거짓입니다.\")"
   ]
  },
  {
   "cell_type": "code",
   "execution_count": null,
   "metadata": {
    "colab": {},
    "colab_type": "code",
    "id": "VY3wuKzURYnN",
    "nbpresent": {
     "id": "d06095a2-ed79-4b52-b5c0-78383a69a5b7"
    },
    "outputId": "f0bc29f7-f870-4098-bc1b-2860188b11e1"
   },
   "outputs": [],
   "source": [
    "# 주로 비교 연산을 통해 할 때, Boolean으로 동작\n",
    "\n",
    "x = 5\n",
    "y = 2\n",
    "if x > y: # 참값\n",
    "    print(\"x가 y보다 큽니다.\")\n",
    "else:\n",
    "    print(\"x가 y보다 작습니다.\")"
   ]
  },
  {
   "cell_type": "markdown",
   "metadata": {
    "colab_type": "text",
    "id": "xQsI3k35RYnQ",
    "nbpresent": {
     "id": "7cda7650-be31-46ca-bc22-c8d2156658f1"
    }
   },
   "source": [
    "### (2) 숫자형 조건에서의 참거짓\n",
    "\n",
    "숫자는 0을 제외하고는 모두 참으로 인정됩니다."
   ]
  },
  {
   "cell_type": "code",
   "execution_count": null,
   "metadata": {
    "colab": {},
    "colab_type": "code",
    "id": "t8WuRLPtRYnR",
    "nbpresent": {
     "id": "2e464794-fa28-412d-9470-e3aa6988aa07"
    },
    "outputId": "dabc954b-8d9f-4177-af6a-d5ab6eeadbdd"
   },
   "outputs": [],
   "source": [
    "if 1:\n",
    "    print(\"1은 통과합니다.\")\n",
    "    \n",
    "if 0:\n",
    "    # 거짓으로 아래는 출력하지 못합니다.\n",
    "    print(\"0은 통과하지 못합니다.\")\n",
    "\n",
    "if -3:\n",
    "    print(\"-3은 통과합니다.\")"
   ]
  },
  {
   "cell_type": "markdown",
   "metadata": {
    "colab_type": "text",
    "id": "Tvkw3q-JRYnZ",
    "nbpresent": {
     "id": "af0ad3a0-5570-49b3-9ab1-2450e13dc16d"
    }
   },
   "source": [
    "### (3) 문자열형 조건에서의 참 거짓\n",
    "빈 문자열을 제외하고 모두 참으로 인정됩니다."
   ]
  },
  {
   "cell_type": "code",
   "execution_count": null,
   "metadata": {
    "colab": {},
    "colab_type": "code",
    "id": "0gZC314JRYna",
    "nbpresent": {
     "id": "43f37512-171b-48a0-8e50-54fb6af06e9c"
    },
    "outputId": "0c5a2b18-6ffe-4643-c586-8c647a93af42"
   },
   "outputs": [],
   "source": [
    "if \"hello~\":\n",
    "    print(\"참입니다!\")"
   ]
  },
  {
   "cell_type": "code",
   "execution_count": null,
   "metadata": {
    "colab": {},
    "colab_type": "code",
    "id": "-6SFfUM5RYne",
    "nbpresent": {
     "id": "2c87ce5a-5955-493c-8d0c-b8972b727082"
    }
   },
   "outputs": [],
   "source": [
    "if \"\":\n",
    "    print(\"거짓입니다\")"
   ]
  },
  {
   "cell_type": "markdown",
   "metadata": {
    "colab_type": "text",
    "id": "9jTu34DsRYnh",
    "nbpresent": {
     "id": "2d2c532c-0521-4618-bcc8-f58a9966e8a9"
    }
   },
   "source": [
    "위의 식은 사실 아래와 같습니다. 하지만 Python은 보다 가독성이 좋은 코드를 추구하므로 위와 같이 서술하길 권장합니다."
   ]
  },
  {
   "cell_type": "code",
   "execution_count": null,
   "metadata": {
    "colab": {},
    "colab_type": "code",
    "id": "DynD2r0ORYni",
    "nbpresent": {
     "id": "54849dab-415d-4317-b01d-8b4be2bfef2d"
    }
   },
   "outputs": [],
   "source": [
    "string = \"\"\n",
    "\n",
    "if len(string) != 0:\n",
    "    print(\"거짓입니다.\")"
   ]
  },
  {
   "cell_type": "markdown",
   "metadata": {
    "colab_type": "text",
    "id": "rGXyh-FRRYns",
    "nbpresent": {
     "id": "8c7177e9-cb05-4d18-b6c1-4aa475781f23"
    }
   },
   "source": [
    "### (4) 리스트 조건에서의 참 거짓\n",
    "\n",
    "빈 리스트을 제외하고 모두 참으로 인정됩니다."
   ]
  },
  {
   "cell_type": "code",
   "execution_count": null,
   "metadata": {
    "colab": {
     "base_uri": "https://localhost:8080/",
     "height": 34
    },
    "colab_type": "code",
    "executionInfo": {
     "elapsed": 1346,
     "status": "ok",
     "timestamp": 1551061610069,
     "user": {
      "displayName": "최선열",
      "photoUrl": "",
      "userId": "00663027191814710813"
     },
     "user_tz": -540
    },
    "id": "oO80YGgORYns",
    "nbpresent": {
     "id": "47938735-a396-4c40-862b-4c8a6fa70bc3"
    },
    "outputId": "1655ae4b-072f-4c6e-d43d-f6599ac9c318"
   },
   "outputs": [],
   "source": [
    "lst = [1,2,3]\n",
    "\n",
    "if lst:\n",
    "    print(\"참입니다!\")"
   ]
  },
  {
   "cell_type": "code",
   "execution_count": null,
   "metadata": {
    "colab": {},
    "colab_type": "code",
    "id": "TADbhBJCRYnx",
    "nbpresent": {
     "id": "4de49c69-b5bd-47b0-b516-b776e46906d3"
    }
   },
   "outputs": [],
   "source": [
    "lst = []\n",
    "\n",
    "if lst:\n",
    "    print(\"거짓입니다!\")"
   ]
  },
  {
   "cell_type": "markdown",
   "metadata": {
    "colab_type": "text",
    "id": "FKG0T3_0RYn7",
    "nbpresent": {
     "id": "5d9141be-745f-4fd4-9123-a0fae4cdcbb4"
    }
   },
   "source": [
    "문자열형 조건과 마찬가지로 사실 이 코드는 아래와 같습니다. 이 역시 가독성을 위해 위와 같은 방식으로 사용합니다. "
   ]
  },
  {
   "cell_type": "code",
   "execution_count": null,
   "metadata": {
    "colab": {},
    "colab_type": "code",
    "id": "6aFFVU3nRYn8",
    "nbpresent": {
     "id": "c2df0af7-c540-4e46-9943-be32c8a7c0cb"
    }
   },
   "outputs": [],
   "source": [
    "lst = []\n",
    "\n",
    "if len(lst) != 0:\n",
    "    print(\"거짓입니다!\")"
   ]
  },
  {
   "cell_type": "markdown",
   "metadata": {
    "colab_type": "text",
    "id": "2I-zVdA8RYoR",
    "nbpresent": {
     "id": "618588aa-c258-4ed6-b3aa-822ec2d5bf83"
    }
   },
   "source": [
    "## 3. 중첩 조건문\n",
    "\n",
    "+ 조건문 안에 조건문을 작성할 때는 4칸 들여쓰기를 한 번 더 해줍니다. \n",
    "+ 중첩된 조건문은 중첩된 순서에 따라 동작을 평가합니다. \n",
    "+ 두 가지 이상의 조건이 있는 예시를 살펴보며 어떻게 작동하는지 살펴보겠습니다.<br>\n",
    "<br>\n",
    "\n",
    "### 예시 2) 허용된 예산과 칼로리 안에서 콜라 구매 여부 결정하기\n",
    "현재 가진 돈(`money`)과 자신에게 허용된 칼로리(`calorie`)에 따라 콜라의 구매를 결정해봅시다. 콜라는 1000원이고, 콜라 1개의 칼로리는 500이라고 가정합니다.<br>"
   ]
  },
  {
   "cell_type": "code",
   "execution_count": null,
   "metadata": {
    "colab": {},
    "colab_type": "code",
    "id": "oefbkmr6RYoR",
    "nbpresent": {
     "id": "e7469440-1c73-4280-8ca4-a1353a93b6f4"
    },
    "outputId": "3b61d1ff-fd75-4002-decc-e0b431611f4d"
   },
   "outputs": [],
   "source": [
    "money = 3800  # 현재 잔고\n",
    "calorie = 1000 # 오늘 허용된 칼로리\n",
    "\n",
    "if money >= 1000:\n",
    "    # 콜라 가격 1000원 보다 돈이 많은 경우 콜라를 살 수 있음\n",
    "    if calorie >= 500:\n",
    "        # 콜라의 칼로리는 500. 오늘의 허용 칼로리가 500 이상 남은 경우 콜라를 살 수 있음\n",
    "        print(\"콜라를 사겠어요\")\n",
    "    else:\n",
    "        print(\"콜라는 살이 쪄서 사지 않을래요\")\n",
    "else:\n",
    "    print(\"콜라가 너무 비싸요\")"
   ]
  },
  {
   "cell_type": "code",
   "execution_count": null,
   "metadata": {
    "colab": {},
    "colab_type": "code",
    "id": "yYU8WVnZRYoV",
    "nbpresent": {
     "id": "8d0d340d-ab54-4ac3-ab7e-9cceeee2b32b"
    },
    "outputId": "dd626878-a9a5-4639-a78c-19ec466626bc"
   },
   "outputs": [],
   "source": [
    "money = 3800  # 현재 잔고\n",
    "calorie = 400 # 오늘 허용된 calorie\n",
    "\n",
    "if money >= 1000:\n",
    "    # 콜라 가격 1000원 보다 돈이 많은 경우 콜라를 살 수 있음\n",
    "    if calorie >= 500:\n",
    "        # 콜라의 칼로리는 500. 오늘의 허용 칼로리가 500 이상 남은 경우 콜라를 살 수 있음\n",
    "        print(\"콜라는 사겠어요\")\n",
    "    else:\n",
    "        print(\"콜라는 살이 쪄서 사지 않을래요\")\n",
    "else:\n",
    "    print(\"콜라가 너무 비싸요\")"
   ]
  },
  {
   "cell_type": "code",
   "execution_count": null,
   "metadata": {
    "colab": {},
    "colab_type": "code",
    "id": "kNtto5gpRYoe",
    "nbpresent": {
     "id": "f8ab7bd9-95c8-4910-b764-5c205b445f91"
    },
    "outputId": "e37a5cfe-b5b6-4efb-fe83-b1210987835f"
   },
   "outputs": [],
   "source": [
    "money = 300  # 현재 잔고\n",
    "calorie = 400 # 오늘 허용된 calorie\n",
    "\n",
    "if money >= 1000:\n",
    "    # 콜라 가격 1000원 보다 돈이 많은 경우 콜라를 살 수 있음\n",
    "    if calorie >= 500:\n",
    "        # 콜라의 칼로리는 500. 오늘의 허용 칼로리가 500 이상 남은 경우 콜라를 살 수 있음\n",
    "        print(\"콜라는 사겠어요\")\n",
    "    else:\n",
    "        print(\"콜라는 살이 쪄서 사지 않을래요\")\n",
    "else:\n",
    "    print(\"콜라가 너무 비싸요\")"
   ]
  },
  {
   "cell_type": "markdown",
   "metadata": {
    "colab_type": "text",
    "id": "iUTMMJj2RYop",
    "nbpresent": {
     "id": "8ceb240d-867d-41c8-9ec3-2a93bc5f4b1e"
    }
   },
   "source": [
    "<br>\n",
    "\n",
    "# \\[ 2. 반복문(while) \\]\n",
    "\n",
    "\n",
    "반복문은 `조건문`의 조건이 충족될때까지 `수행할 문장`에 제시된 코드를 반복하는 제어문입니다. 반복문의 기본 구조는 아래와 같습니다. while문은 조건이 참인 동안에 while 문 아래에 속하는 문장들이 반복해서 수행됩니다."
   ]
  },
  {
   "cell_type": "markdown",
   "metadata": {
    "colab_type": "text",
    "id": "CmWL7r_-hE_0",
    "nbpresent": {
     "id": "295fd482-57a6-49d1-8d24-f852fda468c1"
    }
   },
   "source": [
    "## 1. 반복문 살펴보기\n",
    "\n",
    "\n",
    "+ Python에서 가장 기본적인 반복문은 `while` 구문입니다. <br>\n",
    "+ `while` 다음에 제시되는 조건이 참인 동안에 `수행할 문장`을 반복해서 실행하게 됩니다. <br>\n",
    "+ `조건`에는 앞서 `조건문 if`에서 논리형 자료 외에도 숫자형, 문자열형, 리스트형 등의 자료의 참과 거짓을 판단하는 방법이 동일하게 적용됩니다.<br>\n",
    "<br>\n",
    "반복문의 기본 구조는 다음과 같습니다. \n",
    "```python\n",
    "while 조건:\n",
    "    수행할 문장1\n",
    "    수행할 문장2\n",
    "    수행할 문장3\n",
    "    ...\n",
    "```\n",
    "\n"
   ]
  },
  {
   "cell_type": "markdown",
   "metadata": {
    "colab_type": "text",
    "id": "aWyDaIK2RYoq",
    "nbpresent": {
     "id": "2010e98e-c62b-4205-9151-602182e7181e"
    }
   },
   "source": [
    "### 예시 3.) 10부터 1까지 출력하는 카운터\n",
    "\n",
    "`조건`인 `counter`에서 사용하는 변수의 값을 바뀌면서 10부터 1까지 차례대로 하나씩 값을 출력하는 카운터 프로그램을 만들어 봅시다. <br> "
   ]
  },
  {
   "cell_type": "code",
   "execution_count": null,
   "metadata": {
    "colab": {
     "base_uri": "https://localhost:8080/",
     "height": 187
    },
    "colab_type": "code",
    "executionInfo": {
     "elapsed": 601,
     "status": "ok",
     "timestamp": 1551062455486,
     "user": {
      "displayName": "최선열",
      "photoUrl": "",
      "userId": "00663027191814710813"
     },
     "user_tz": -540
    },
    "id": "at6_KarJRYoq",
    "nbpresent": {
     "id": "a75390ed-f257-44f0-b12d-ac1b943e913f"
    },
    "outputId": "83a14c02-3f49-4225-a69e-b6b76e794c74"
   },
   "outputs": [],
   "source": [
    "counter = 10\n",
    "while counter > 0:\n",
    "    print(counter)\n",
    "    counter = counter - 1"
   ]
  },
  {
   "cell_type": "markdown",
   "metadata": {
    "colab_type": "text",
    "id": "CmWL7r_-hE_0",
    "nbpresent": {
     "id": "84e95549-7a22-4e01-942f-c73d2eeccd1e"
    }
   },
   "source": [
    "<br>\n",
    "\n",
    "## 2. 반복문의 다양한 형태\n",
    "\n",
    "+ 반복문은 조건이 계속 참이면 끝없이 문장을 실행하게 됩니다. 이런 **무한루프**에 빠지지 않도록 주의해야 합니다. \n",
    "+ 반복문 `while`은 조건문`if`와 함께 사용할 수 있습니다. `if`에서 배운 `continue`와 `break`가 이 경우에는 어떻게 작동하는지 정확히 이해하고 있어야 합니다. "
   ]
  },
  {
   "cell_type": "markdown",
   "metadata": {
    "colab_type": "text",
    "id": "POmc0VrqRYo8",
    "nbpresent": {
     "id": "6bacf76a-11dc-472f-901b-8d127409d578"
    }
   },
   "source": [
    "### (1) 무한루프\n",
    "\n",
    "조건이 계속 참인 경우에는, **무한 루프**라는 현상이 발생하여 파이썬 프로그램이 해당 연산만 끝없이 수행하게 됩니다. 이럴 경우, 강제로 해당 Cell을 정지시켜주어야 합니다."
   ]
  },
  {
   "cell_type": "code",
   "execution_count": null,
   "metadata": {
    "nbpresent": {
     "id": "1c79b475-420f-4155-acdd-0e99c8b65dd4"
    }
   },
   "outputs": [],
   "source": [
    "while True:\n",
    "    # 조건문이 계속 참이므로, 무한 루프 상태에 빠지게 됨\n",
    "    print(\"hello!!!\")"
   ]
  },
  {
   "cell_type": "markdown",
   "metadata": {
    "colab_type": "text",
    "id": "f0y2S7TPRYov",
    "nbpresent": {
     "id": "ea67f0a5-2825-4421-9428-d7980d183e54"
    }
   },
   "source": [
    "### (2) 반복문에서의 조건문\n",
    "\n",
    "`while`문에서 사용되는 **조건문**은 if 조건문에서와 같이 꼭 `True`나 `False` 값이 아니어도 됩니다. 아래와 같이 변수에 값이 비어있거나 0이 아니면 while문은 반복됩니다. "
   ]
  },
  {
   "cell_type": "code",
   "execution_count": null,
   "metadata": {
    "colab": {
     "base_uri": "https://localhost:8080/",
     "height": 102
    },
    "colab_type": "code",
    "executionInfo": {
     "elapsed": 684,
     "status": "ok",
     "timestamp": 1551062493569,
     "user": {
      "displayName": "최선열",
      "photoUrl": "",
      "userId": "00663027191814710813"
     },
     "user_tz": -540
    },
    "id": "5X4oq6y_RYow",
    "nbpresent": {
     "id": "1bc556de-0707-43f6-b808-71d28703faa6"
    },
    "outputId": "f323bc76-3581-48c7-fd07-fa3e9c3cc635"
   },
   "outputs": [],
   "source": [
    "a = [1,2,3,4,5]\n",
    "\n",
    "while a:\n",
    "    print(a.pop(), a)"
   ]
  },
  {
   "cell_type": "code",
   "execution_count": null,
   "metadata": {
    "colab": {
     "base_uri": "https://localhost:8080/",
     "height": 102
    },
    "colab_type": "code",
    "executionInfo": {
     "elapsed": 543,
     "status": "ok",
     "timestamp": 1551062493570,
     "user": {
      "displayName": "최선열",
      "photoUrl": "",
      "userId": "00663027191814710813"
     },
     "user_tz": -540
    },
    "id": "G9w-K5ciRYo1",
    "nbpresent": {
     "id": "460797b5-6351-49d5-81ba-51f01c2d4cb8"
    },
    "outputId": "ae7f94ff-f2b6-483b-ec43-7cd915d565a8"
   },
   "outputs": [],
   "source": [
    "a = 5\n",
    "while a:\n",
    "    print(a)\n",
    "    a = a - 1\n",
    "    print(a)\n",
    "    print('---')"
   ]
  },
  {
   "cell_type": "markdown",
   "metadata": {
    "colab_type": "text",
    "id": "0igPaE8SRYo_",
    "nbpresent": {
     "id": "60ca9ebb-72c9-4778-b40b-ea5519792236"
    }
   },
   "source": [
    "### (3) 반복문에서의 `break`\n",
    "\n",
    "반복문에서 빠져나가기 위해서는, `break` 구문을 이용하면 됩니다. 무한 루프 상황에서`break`를 사용해보겠습니다. "
   ]
  },
  {
   "cell_type": "code",
   "execution_count": null,
   "metadata": {
    "colab": {},
    "colab_type": "code",
    "id": "wcM5qoANRYo_",
    "nbpresent": {
     "id": "efff7bb6-1ca8-4c0c-af6f-759f994eb5d9"
    },
    "outputId": "2c5b34dc-8157-41cf-e3fa-c6fa5cb2cd1d"
   },
   "outputs": [],
   "source": [
    "count = 5\n",
    "\n",
    "while True:\n",
    "    # 조건문이 계속 참이므로, 무한 루프 상태에 빠지게 됨\n",
    "    print(\"hello!!!\")\n",
    "    count = count - 1 # count가 하나씩 차감됨\n",
    "    if count == 0:\n",
    "        # count가 0이 되는 순간 break로 반복문 탈출\n",
    "        break"
   ]
  },
  {
   "cell_type": "markdown",
   "metadata": {
    "nbpresent": {
     "id": "0e0b27b1-2b95-4352-a9a6-cff6248f7ee6"
    }
   },
   "source": [
    "### (4) 반복문에서의 `continue`\n",
    "\n",
    "반복문에서 `continue`는 이후 실행할 구문을 건너뛰게 해줍니다."
   ]
  },
  {
   "cell_type": "code",
   "execution_count": null,
   "metadata": {
    "nbpresent": {
     "id": "df0b1f80-148e-429c-a77d-d4465e9c61e9"
    }
   },
   "outputs": [],
   "source": [
    "count = 5\n",
    "\n",
    "while count:\n",
    "    count = count - 1 # count가 하나씩 차감됨\n",
    "    \n",
    "    if count % 2 == 0:\n",
    "        # count가 홀수 일때는 출력 생략하고 다시 처음으로 올라감\n",
    "        continue\n",
    "    print(\"counter : \", count)"
   ]
  },
  {
   "cell_type": "markdown",
   "metadata": {
    "colab_type": "text",
    "id": "EDCnf6BBRYpE",
    "nbpresent": {
     "id": "b9b56674-1cf0-49f6-8dd6-bc4073414c72"
    }
   },
   "source": [
    "### 예시 4.) 음료수 행사 기계\n",
    "\n",
    "이번에는 음료수 행사 기계를 예로 들어 지금까지 살펴본 `while` 반복문에서의 `if`, `break`, `continue` 활용 방법을 살펴보겠습니다. <br>\n",
    "100개만큼 재고가 있는 음료수 기계가 있습니다. 이 기계는 사람들이 원하는 만큼 음료수를 줍니다. 그 기계에 들어갈 프로그램을 한번 짜봅시다."
   ]
  },
  {
   "cell_type": "code",
   "execution_count": null,
   "metadata": {
    "colab": {
     "base_uri": "https://localhost:8080/",
     "height": 204
    },
    "colab_type": "code",
    "executionInfo": {
     "elapsed": 20120,
     "status": "ok",
     "timestamp": 1551062663396,
     "user": {
      "displayName": "최선열",
      "photoUrl": "",
      "userId": "00663027191814710813"
     },
     "user_tz": -540
    },
    "id": "iST3RCrmRYpF",
    "nbpresent": {
     "id": "ab904f15-1f95-43de-b5f4-873aeefc3a59"
    },
    "outputId": "53287eac-2685-4505-cfa6-01d3d82fbc4a"
   },
   "outputs": [],
   "source": [
    "num_drink = 100\n",
    "while True:\n",
    "    # 사용자로부터 입력을 받는 부분\n",
    "    purchase = int(input(\"입력한 숫자만큼 음료수를 드립니다.\"))\n",
    "    \n",
    "    if num_drink - purchase < 0:\n",
    "        # 재고보다 요청한 양이 많으면 거래 종료\n",
    "        print(\"재고가 바닥났습니다. 거래를 종료합니다.\")\n",
    "        break\n",
    "    elif num_drink - purchase == 0:\n",
    "        # 남은 재고만큼 요청하였을 때에는 마지막 출력 생략\n",
    "        print(\"{} 만큼 음료수를 드립니다.\".format(num_drink))\n",
    "        num_drink = num_drink - purchase\n",
    "        continue\n",
    "    else:\n",
    "        # 재고보다 요청한 양이 적으면 제공\n",
    "        print(\"{} 만큼 음료수를 드립니다.\".format(num_drink))\n",
    "        num_drink = num_drink - purchase\n",
    "    \n",
    "    print(\"음료수가 {}개 남았습니다.\".format(num_drink))"
   ]
  },
  {
   "cell_type": "markdown",
   "metadata": {
    "colab_type": "text",
    "id": "XA1YHpeURYpH",
    "nbpresent": {
     "id": "145911a8-bceb-4156-be1f-28e8c655213f"
    }
   },
   "source": [
    "#  \n",
    "\n",
    "<hr>\n",
    "\n",
    "Copyright(c) 2019 by Public AI. All rights reserved.<br>\n",
    "Writen by PAI, SangJae Kang ( rocketgrowthsj@publicai.co.kr )  last updated on 2019/02/25\n",
    "<hr>"
   ]
  }
 ],
 "metadata": {
  "colab": {
   "collapsed_sections": [
    "lIxgoW9wRYmW",
    "HsZTYYePRYmz",
    "sYWKqT-dRYm-",
    "xQsI3k35RYnQ",
    "Tvkw3q-JRYnZ",
    "rGXyh-FRRYns",
    "FWPzCc12RYoB",
    "2I-zVdA8RYoR",
    "aWyDaIK2RYoq",
    "f0y2S7TPRYov",
    "POmc0VrqRYo8",
    "0igPaE8SRYo_",
    "EDCnf6BBRYpE"
   ],
   "name": "5_Python의 제어문(1) 조건문과 반복문.ipynb",
   "provenance": [],
   "toc_visible": true,
   "version": "0.3.2"
  },
  "kernelspec": {
   "display_name": "Python 3",
   "language": "python",
   "name": "python3"
  },
  "language_info": {
   "codemirror_mode": {
    "name": "ipython",
    "version": 3
   },
   "file_extension": ".py",
   "mimetype": "text/x-python",
   "name": "python",
   "nbconvert_exporter": "python",
   "pygments_lexer": "ipython3",
   "version": "3.6.6"
  },
  "nbpresent": {
   "slides": {
    "01907129-d6ad-4bc7-b026-d4019a2e40e4": {
     "id": "01907129-d6ad-4bc7-b026-d4019a2e40e4",
     "prev": "d857b584-8d9d-4ff4-9b2c-c4243142e1a7",
     "regions": {
      "6a2d9868-48c3-4054-aa66-e8b565fa9209": {
       "attrs": {
        "height": 0.8,
        "width": 0.8,
        "x": 0.1,
        "y": 0.1
       },
       "content": {
        "cell": "b77d3edc-eba7-4fed-bbcb-279669a4f454",
        "part": "whole"
       },
       "id": "6a2d9868-48c3-4054-aa66-e8b565fa9209"
      }
     }
    },
    "02c175f0-1844-4620-96aa-80a98a8d0996": {
     "id": "02c175f0-1844-4620-96aa-80a98a8d0996",
     "prev": "7827aadc-3485-42f7-9040-c4cd5ee723cb",
     "regions": {
      "30067495-9a17-4e6d-91fb-b419ffee7a98": {
       "attrs": {
        "height": 0.8,
        "width": 0.8,
        "x": 0.1,
        "y": 0.1
       },
       "content": {
        "cell": "b780ea02-235e-45f5-b74a-1688e28e65ab",
        "part": "whole"
       },
       "id": "30067495-9a17-4e6d-91fb-b419ffee7a98"
      }
     }
    },
    "07494302-4b0e-4891-993a-fe39297a5bf3": {
     "id": "07494302-4b0e-4891-993a-fe39297a5bf3",
     "prev": "b151edf5-7022-4d74-882e-16f59aaa2670",
     "regions": {
      "0f1cbaa0-dd42-4ab0-89c5-254f3616398a": {
       "attrs": {
        "height": 0.8,
        "width": 0.8,
        "x": 0.1,
        "y": 0.1
       },
       "content": {
        "cell": "6bacf76a-11dc-472f-901b-8d127409d578",
        "part": "whole"
       },
       "id": "0f1cbaa0-dd42-4ab0-89c5-254f3616398a"
      }
     }
    },
    "0bc88afb-50c5-4374-b05c-1cafd1b08aea": {
     "id": "0bc88afb-50c5-4374-b05c-1cafd1b08aea",
     "prev": "6c9d845b-4590-4197-a5ad-7b03cb641c17",
     "regions": {
      "7377ebae-dd04-45a0-9e33-e69e57a3178f": {
       "attrs": {
        "height": 0.8,
        "width": 0.8,
        "x": 0.1,
        "y": 0.1
       },
       "content": {
        "cell": "d0149613-3725-42a1-9dff-d6105721e2d5",
        "part": "whole"
       },
       "id": "7377ebae-dd04-45a0-9e33-e69e57a3178f"
      }
     }
    },
    "1b6ca88b-d3e3-42e4-909c-97619527bdce": {
     "id": "1b6ca88b-d3e3-42e4-909c-97619527bdce",
     "prev": "df843d80-926c-41aa-9482-f31f282919e5",
     "regions": {
      "2d47b9f5-e60c-4185-8547-8f7e98540b25": {
       "attrs": {
        "height": 0.8,
        "width": 0.8,
        "x": 0.1,
        "y": 0.1
       },
       "content": {
        "cell": "a75390ed-f257-44f0-b12d-ac1b943e913f",
        "part": "whole"
       },
       "id": "2d47b9f5-e60c-4185-8547-8f7e98540b25"
      }
     }
    },
    "206b7f0c-4f6b-4166-bf99-0411cf1c316b": {
     "id": "206b7f0c-4f6b-4166-bf99-0411cf1c316b",
     "prev": "77b797b6-3757-4256-8b12-f6a7201f4e87",
     "regions": {
      "8707df17-28a0-4e47-8d7d-bc9b9d6cc9db": {
       "attrs": {
        "height": 0.8,
        "width": 0.8,
        "x": 0.1,
        "y": 0.1
       },
       "content": {
        "cell": "ec8e920d-8728-4631-ad78-8e98414fd304",
        "part": "whole"
       },
       "id": "8707df17-28a0-4e47-8d7d-bc9b9d6cc9db"
      }
     }
    },
    "2156dc6b-8da8-4bb7-99e6-d9d8cd48a758": {
     "id": "2156dc6b-8da8-4bb7-99e6-d9d8cd48a758",
     "prev": "c533f4ef-c949-446e-a969-a8267b8cde1a",
     "regions": {
      "6163516f-6593-4b47-8c3b-1bbc2f309f0a": {
       "attrs": {
        "height": 0.8,
        "width": 0.8,
        "x": 0.1,
        "y": 0.1
       },
       "content": {
        "cell": "8d0d340d-ab54-4ac3-ab7e-9cceeee2b32b",
        "part": "whole"
       },
       "id": "6163516f-6593-4b47-8c3b-1bbc2f309f0a"
      }
     }
    },
    "2211f79b-c4b1-49e6-ad5b-6c207e4e8cc7": {
     "id": "2211f79b-c4b1-49e6-ad5b-6c207e4e8cc7",
     "prev": "2ef067ca-1d52-4a9a-88d9-478d8e06b9e5",
     "regions": {
      "cac1d4e3-5db1-4dcb-a3ec-f4fef7d7972b": {
       "attrs": {
        "height": 0.8,
        "width": 0.8,
        "x": 0.1,
        "y": 0.1
       },
       "content": {
        "cell": "76ff5b87-d3a2-4cbf-acec-1d831fc82fc0",
        "part": "whole"
       },
       "id": "cac1d4e3-5db1-4dcb-a3ec-f4fef7d7972b"
      }
     }
    },
    "22329d91-507b-4581-bf75-eb605546808c": {
     "id": "22329d91-507b-4581-bf75-eb605546808c",
     "prev": "41dd0596-0c6f-4132-8c93-00da02e48f3c",
     "regions": {
      "d1a4d047-1f13-44c0-b1ea-00d448e40eb0": {
       "attrs": {
        "height": 0.8,
        "width": 0.8,
        "x": 0.1,
        "y": 0.1
       },
       "content": {
        "cell": "2e464794-fa28-412d-9470-e3aa6988aa07",
        "part": "whole"
       },
       "id": "d1a4d047-1f13-44c0-b1ea-00d448e40eb0"
      }
     }
    },
    "256d5c31-bfe8-49a1-b401-8b765215febe": {
     "id": "256d5c31-bfe8-49a1-b401-8b765215febe",
     "prev": "6e8403d7-30dc-4013-9efe-a50c999fd1db",
     "regions": {
      "86f56f87-0392-48c0-b4f1-81a986c5dc34": {
       "attrs": {
        "height": 0.8,
        "width": 0.8,
        "x": 0.1,
        "y": 0.1
       },
       "content": {
        "cell": "54849dab-415d-4317-b01d-8b4be2bfef2d",
        "part": "whole"
       },
       "id": "86f56f87-0392-48c0-b4f1-81a986c5dc34"
      }
     }
    },
    "2db354e2-9c7d-4b31-839f-22fdbc4a20d0": {
     "id": "2db354e2-9c7d-4b31-839f-22fdbc4a20d0",
     "prev": "391d1b15-b579-4fd5-b446-2a7c8c0b2b1a",
     "regions": {
      "cace31fb-4d9e-449b-b03f-fcc5f95d39c6": {
       "attrs": {
        "height": 0.8,
        "width": 0.8,
        "x": 0.1,
        "y": 0.1
       },
       "content": {
        "cell": "40d073ce-20f2-46a2-96c5-6835adac0c1e",
        "part": "whole"
       },
       "id": "cace31fb-4d9e-449b-b03f-fcc5f95d39c6"
      }
     }
    },
    "2ef067ca-1d52-4a9a-88d9-478d8e06b9e5": {
     "id": "2ef067ca-1d52-4a9a-88d9-478d8e06b9e5",
     "prev": "02c175f0-1844-4620-96aa-80a98a8d0996",
     "regions": {
      "9f7ae4ae-604d-430e-a605-12fa0e1ec43b": {
       "attrs": {
        "height": 0.8,
        "width": 0.8,
        "x": 0.1,
        "y": 0.1
       },
       "content": {
        "cell": "6d21b0f9-dc32-43a4-b285-19a37947ba2c",
        "part": "whole"
       },
       "id": "9f7ae4ae-604d-430e-a605-12fa0e1ec43b"
      }
     }
    },
    "2f5d2bc1-6e71-4977-8cf7-c4e1b0f17c85": {
     "id": "2f5d2bc1-6e71-4977-8cf7-c4e1b0f17c85",
     "prev": "e6526e98-ac42-4bf5-b976-9d87003e7820",
     "regions": {
      "377d3217-5731-4059-94ee-c32a32af503b": {
       "attrs": {
        "height": 0.8,
        "width": 0.8,
        "x": 0.1,
        "y": 0.1
       },
       "content": {
        "cell": "ea67f0a5-2825-4421-9428-d7980d183e54",
        "part": "whole"
       },
       "id": "377d3217-5731-4059-94ee-c32a32af503b"
      }
     }
    },
    "391d1b15-b579-4fd5-b446-2a7c8c0b2b1a": {
     "id": "391d1b15-b579-4fd5-b446-2a7c8c0b2b1a",
     "prev": "01907129-d6ad-4bc7-b026-d4019a2e40e4",
     "regions": {
      "d29901a1-110b-4617-acf0-e599e0839ffa": {
       "attrs": {
        "height": 0.8,
        "width": 0.8,
        "x": 0.1,
        "y": 0.1
       },
       "content": {
        "cell": "b463911f-4641-4ab8-8487-164356de7a52",
        "part": "whole"
       },
       "id": "d29901a1-110b-4617-acf0-e599e0839ffa"
      }
     }
    },
    "401f1ffc-f086-489e-a440-a8299c78a3d8": {
     "id": "401f1ffc-f086-489e-a440-a8299c78a3d8",
     "prev": "61583e77-b3d8-4d81-a563-46887d69fa99",
     "regions": {
      "3bf8a919-0405-4f5d-a2d3-3bcc1af2fe3b": {
       "attrs": {
        "height": 0.8,
        "width": 0.8,
        "x": 0.1,
        "y": 0.1
       },
       "content": {
        "cell": "b9b56674-1cf0-49f6-8dd6-bc4073414c72",
        "part": "whole"
       },
       "id": "3bf8a919-0405-4f5d-a2d3-3bcc1af2fe3b"
      }
     }
    },
    "41dd0596-0c6f-4132-8c93-00da02e48f3c": {
     "id": "41dd0596-0c6f-4132-8c93-00da02e48f3c",
     "prev": "cd2767ff-566f-46c1-bc64-412bbc52b000",
     "regions": {
      "d53ca4d4-d9bf-4680-90be-ec6e492c9209": {
       "attrs": {
        "height": 0.8,
        "width": 0.8,
        "x": 0.1,
        "y": 0.1
       },
       "content": {
        "cell": "7cda7650-be31-46ca-bc22-c8d2156658f1",
        "part": "whole"
       },
       "id": "d53ca4d4-d9bf-4680-90be-ec6e492c9209"
      }
     }
    },
    "432eeb69-afb9-4fd1-bb43-b06a1708bc8c": {
     "id": "432eeb69-afb9-4fd1-bb43-b06a1708bc8c",
     "prev": "2211f79b-c4b1-49e6-ad5b-6c207e4e8cc7",
     "regions": {
      "9881c6ae-8293-486d-8950-8886e6cfbce0": {
       "attrs": {
        "height": 0.8,
        "width": 0.8,
        "x": 0.1,
        "y": 0.1
       },
       "content": {
        "cell": "6d8c9aaf-89b7-47b8-b1c0-48a679d6a61d",
        "part": "whole"
       },
       "id": "9881c6ae-8293-486d-8950-8886e6cfbce0"
      }
     }
    },
    "475e39af-dff9-48a7-a2df-67861cf9b210": {
     "id": "475e39af-dff9-48a7-a2df-67861cf9b210",
     "prev": "2156dc6b-8da8-4bb7-99e6-d9d8cd48a758",
     "regions": {
      "baa2ca0f-3dab-4eac-bd78-e786ffe57db4": {
       "attrs": {
        "height": 0.8,
        "width": 0.8,
        "x": 0.1,
        "y": 0.1
       },
       "content": {
        "cell": "f8ab7bd9-95c8-4910-b764-5c205b445f91",
        "part": "whole"
       },
       "id": "baa2ca0f-3dab-4eac-bd78-e786ffe57db4"
      }
     }
    },
    "5f9d838b-a6cf-4cb4-bd33-93ede8ef8ff2": {
     "id": "5f9d838b-a6cf-4cb4-bd33-93ede8ef8ff2",
     "prev": "989f558d-d1d9-4fb9-90f3-c0b911a4ff7f",
     "regions": {
      "ffc8e755-4b1d-434a-8fc9-d198515160b8": {
       "attrs": {
        "height": 0.8,
        "width": 0.8,
        "x": 0.1,
        "y": 0.1
       },
       "content": {
        "cell": "7069f694-affe-422f-9e7b-d28195d73d5c",
        "part": "whole"
       },
       "id": "ffc8e755-4b1d-434a-8fc9-d198515160b8"
      }
     }
    },
    "61459152-6cee-476f-a8af-20ef957bb413": {
     "id": "61459152-6cee-476f-a8af-20ef957bb413",
     "prev": "797c59d1-1ecb-4ea3-ab91-678e19983f91",
     "regions": {
      "61f3a90f-e257-4a40-8d04-1621c174aa3e": {
       "attrs": {
        "height": 0.8,
        "width": 0.8,
        "x": 0.1,
        "y": 0.1
       },
       "content": {
        "cell": "2c87ce5a-5955-493c-8d0c-b8972b727082",
        "part": "whole"
       },
       "id": "61f3a90f-e257-4a40-8d04-1621c174aa3e"
      }
     }
    },
    "61583e77-b3d8-4d81-a563-46887d69fa99": {
     "id": "61583e77-b3d8-4d81-a563-46887d69fa99",
     "prev": "b7d43fbc-9d9b-4837-85d1-a2bf78457f70",
     "regions": {
      "ae064aae-5494-43e0-9248-460a2e695178": {
       "attrs": {
        "height": 0.8,
        "width": 0.8,
        "x": 0.1,
        "y": 0.1
       },
       "content": {
        "cell": "df0b1f80-148e-429c-a77d-d4465e9c61e9",
        "part": "whole"
       },
       "id": "ae064aae-5494-43e0-9248-460a2e695178"
      }
     }
    },
    "64331c63-8b17-44ad-be67-f70c8c59898d": {
     "id": "64331c63-8b17-44ad-be67-f70c8c59898d",
     "prev": "ef1b8552-daed-4557-9fae-e6454cbb21fd",
     "regions": {
      "9ccca41d-b883-47a6-8ba1-c13381478a01": {
       "attrs": {
        "height": 0.8,
        "width": 0.8,
        "x": 0.1,
        "y": 0.1
       },
       "content": {
        "cell": "10261f77-1469-46bf-a410-d2d1d6b2871b",
        "part": "whole"
       },
       "id": "9ccca41d-b883-47a6-8ba1-c13381478a01"
      }
     }
    },
    "6c9d845b-4590-4197-a5ad-7b03cb641c17": {
     "id": "6c9d845b-4590-4197-a5ad-7b03cb641c17",
     "prev": "b86297e9-d700-4e9a-8723-8a93a87cc76d",
     "regions": {
      "19f16ebd-63a7-4d8e-8ed5-4a25d138bfc2": {
       "attrs": {
        "height": 0.8,
        "width": 0.8,
        "x": 0.1,
        "y": 0.1
       },
       "content": {
        "cell": "f53181cb-57fc-48f0-97db-2b341321bc12",
        "part": "whole"
       },
       "id": "19f16ebd-63a7-4d8e-8ed5-4a25d138bfc2"
      }
     }
    },
    "6ca08389-8363-4a76-aeba-deb3bbba4a25": {
     "id": "6ca08389-8363-4a76-aeba-deb3bbba4a25",
     "prev": "475e39af-dff9-48a7-a2df-67861cf9b210",
     "regions": {
      "5460424f-f947-40e2-b060-f8164847c30c": {
       "attrs": {
        "height": 0.8,
        "width": 0.8,
        "x": 0.1,
        "y": 0.1
       },
       "content": {
        "cell": "8ceb240d-867d-41c8-9ec3-2a93bc5f4b1e",
        "part": "whole"
       },
       "id": "5460424f-f947-40e2-b060-f8164847c30c"
      }
     }
    },
    "6e8403d7-30dc-4013-9efe-a50c999fd1db": {
     "id": "6e8403d7-30dc-4013-9efe-a50c999fd1db",
     "prev": "61459152-6cee-476f-a8af-20ef957bb413",
     "regions": {
      "2a2250ec-509c-441a-b292-79e4d06df1b9": {
       "attrs": {
        "height": 0.8,
        "width": 0.8,
        "x": 0.1,
        "y": 0.1
       },
       "content": {
        "cell": "2d2c532c-0521-4618-bcc8-f58a9966e8a9",
        "part": "whole"
       },
       "id": "2a2250ec-509c-441a-b292-79e4d06df1b9"
      }
     }
    },
    "7282658a-7427-487f-aa7f-f304ca46e1d6": {
     "id": "7282658a-7427-487f-aa7f-f304ca46e1d6",
     "prev": "e63f5cd7-76bf-4b67-aab9-b2071781289c",
     "regions": {
      "4df8322d-de7c-425a-b3fe-dbe393c8116d": {
       "attrs": {
        "height": 0.8,
        "width": 0.8,
        "x": 0.1,
        "y": 0.1
       },
       "content": {
        "cell": "5d9141be-745f-4fd4-9123-a0fae4cdcbb4",
        "part": "whole"
       },
       "id": "4df8322d-de7c-425a-b3fe-dbe393c8116d"
      }
     }
    },
    "77b797b6-3757-4256-8b12-f6a7201f4e87": {
     "id": "77b797b6-3757-4256-8b12-f6a7201f4e87",
     "prev": "c20e5d79-a31d-4f2b-84cf-34453b8c9dcc",
     "regions": {
      "ce3ce85c-0a84-43e3-932e-80f03d74fb6e": {
       "attrs": {
        "height": 0.8,
        "width": 0.8,
        "x": 0.1,
        "y": 0.1
       },
       "content": {
        "cell": "954b6ae5-6a25-4de3-9d30-3b90d7c49560",
        "part": "whole"
       },
       "id": "ce3ce85c-0a84-43e3-932e-80f03d74fb6e"
      }
     }
    },
    "7827aadc-3485-42f7-9040-c4cd5ee723cb": {
     "id": "7827aadc-3485-42f7-9040-c4cd5ee723cb",
     "prev": "5f9d838b-a6cf-4cb4-bd33-93ede8ef8ff2",
     "regions": {
      "8b12f538-4325-43fd-b356-b34e2e64c083": {
       "attrs": {
        "height": 0.8,
        "width": 0.8,
        "x": 0.1,
        "y": 0.1
       },
       "content": {
        "cell": "c7dcf69a-3227-425f-aef7-4dd8c570d268",
        "part": "whole"
       },
       "id": "8b12f538-4325-43fd-b356-b34e2e64c083"
      }
     }
    },
    "7861a3de-a6cb-42ed-ab0b-d818d3e132f7": {
     "id": "7861a3de-a6cb-42ed-ab0b-d818d3e132f7",
     "prev": "ccd99f32-8d47-464a-9c3a-c0dc81963144",
     "regions": {
      "52f27c34-bac1-4db4-bcaf-8195175cc378": {
       "attrs": {
        "height": 0.8,
        "width": 0.8,
        "x": 0.1,
        "y": 0.1
       },
       "content": {
        "cell": "47938735-a396-4c40-862b-4c8a6fa70bc3",
        "part": "whole"
       },
       "id": "52f27c34-bac1-4db4-bcaf-8195175cc378"
      }
     }
    },
    "797c59d1-1ecb-4ea3-ab91-678e19983f91": {
     "id": "797c59d1-1ecb-4ea3-ab91-678e19983f91",
     "prev": "cd7706b7-0ca0-4f59-ae06-64fc3c2f6422",
     "regions": {
      "09a669ca-4bd6-4b37-99b8-8c17cfee6507": {
       "attrs": {
        "height": 0.8,
        "width": 0.8,
        "x": 0.1,
        "y": 0.1
       },
       "content": {
        "cell": "43f37512-171b-48a0-8e50-54fb6af06e9c",
        "part": "whole"
       },
       "id": "09a669ca-4bd6-4b37-99b8-8c17cfee6507"
      }
     }
    },
    "7b83d712-b3f3-49e5-8298-7c092b00e2eb": {
     "id": "7b83d712-b3f3-49e5-8298-7c092b00e2eb",
     "prev": "e7a4e8c9-a64a-4625-84ca-2032a8b482b2",
     "regions": {
      "2ff7d11b-82b4-414e-b706-15390de40ec8": {
       "attrs": {
        "height": 0.8,
        "width": 0.8,
        "x": 0.1,
        "y": 0.1
       },
       "content": {
        "cell": "460797b5-6351-49d5-81ba-51f01c2d4cb8",
        "part": "whole"
       },
       "id": "2ff7d11b-82b4-414e-b706-15390de40ec8"
      }
     }
    },
    "862f549e-b044-4897-9261-9413a0c8d45e": {
     "id": "862f549e-b044-4897-9261-9413a0c8d45e",
     "prev": "c667386d-88da-4e20-8480-71e369b8c72b",
     "regions": {
      "b60fa8c7-9d68-4e6d-93c1-a7ae8ab6435e": {
       "attrs": {
        "height": 0.8,
        "width": 0.8,
        "x": 0.1,
        "y": 0.1
       },
       "content": {
        "cell": "efff7bb6-1ca8-4c0c-af6f-759f994eb5d9",
        "part": "whole"
       },
       "id": "b60fa8c7-9d68-4e6d-93c1-a7ae8ab6435e"
      }
     }
    },
    "86789667-f6a8-486d-81eb-aee592cbc897": {
     "id": "86789667-f6a8-486d-81eb-aee592cbc897",
     "prev": null,
     "regions": {
      "c1564851-d171-4a1b-afd7-8c907464cbaf": {
       "attrs": {
        "height": 0.8,
        "width": 0.8,
        "x": 0.1,
        "y": 0.1
       },
       "content": {
        "cell": "3d78213a-8527-4216-a68a-823aea3421d8",
        "part": "whole"
       },
       "id": "c1564851-d171-4a1b-afd7-8c907464cbaf"
      }
     }
    },
    "92ad7f61-9317-473d-b304-e6e8725ae71a": {
     "id": "92ad7f61-9317-473d-b304-e6e8725ae71a",
     "prev": "206b7f0c-4f6b-4166-bf99-0411cf1c316b",
     "regions": {
      "b40349ba-4429-4748-9a5a-fe6efb4537c0": {
       "attrs": {
        "height": 0.8,
        "width": 0.8,
        "x": 0.1,
        "y": 0.1
       },
       "content": {
        "cell": "277e3029-0887-4e7f-8a62-b4dcd6b74a8b",
        "part": "whole"
       },
       "id": "b40349ba-4429-4748-9a5a-fe6efb4537c0"
      }
     }
    },
    "989f558d-d1d9-4fb9-90f3-c0b911a4ff7f": {
     "id": "989f558d-d1d9-4fb9-90f3-c0b911a4ff7f",
     "prev": "0bc88afb-50c5-4374-b05c-1cafd1b08aea",
     "regions": {
      "fffeed5b-4b02-4a9e-9f8f-78924734fe01": {
       "attrs": {
        "height": 0.8,
        "width": 0.8,
        "x": 0.1,
        "y": 0.1
       },
       "content": {
        "cell": "64e5dce1-db51-410e-94fd-c7f120e4eaba",
        "part": "whole"
       },
       "id": "fffeed5b-4b02-4a9e-9f8f-78924734fe01"
      }
     }
    },
    "a3ee13a0-b4b4-4210-ada7-b3d8aa6e4070": {
     "id": "a3ee13a0-b4b4-4210-ada7-b3d8aa6e4070",
     "prev": "6ca08389-8363-4a76-aeba-deb3bbba4a25",
     "regions": {
      "5218c9c3-e029-40b5-bf2b-53de23b2e2b7": {
       "attrs": {
        "height": 0.8,
        "width": 0.8,
        "x": 0.1,
        "y": 0.1
       },
       "content": {
        "cell": "295fd482-57a6-49d1-8d24-f852fda468c1",
        "part": "whole"
       },
       "id": "5218c9c3-e029-40b5-bf2b-53de23b2e2b7"
      }
     }
    },
    "af94470b-7439-41bb-ba6e-e76540cbba62": {
     "id": "af94470b-7439-41bb-ba6e-e76540cbba62",
     "prev": "7282658a-7427-487f-aa7f-f304ca46e1d6",
     "regions": {
      "30104357-697d-4434-a6b2-e9a103a73562": {
       "attrs": {
        "height": 0.8,
        "width": 0.8,
        "x": 0.1,
        "y": 0.1
       },
       "content": {
        "cell": "c2df0af7-c540-4e46-9943-be32c8a7c0cb",
        "part": "whole"
       },
       "id": "30104357-697d-4434-a6b2-e9a103a73562"
      }
     }
    },
    "b151edf5-7022-4d74-882e-16f59aaa2670": {
     "id": "b151edf5-7022-4d74-882e-16f59aaa2670",
     "prev": "1b6ca88b-d3e3-42e4-909c-97619527bdce",
     "regions": {
      "e2b34660-13f3-47ae-b8f1-5b7540e3364d": {
       "attrs": {
        "height": 0.8,
        "width": 0.8,
        "x": 0.1,
        "y": 0.1
       },
       "content": {
        "cell": "84e95549-7a22-4e01-942f-c73d2eeccd1e",
        "part": "whole"
       },
       "id": "e2b34660-13f3-47ae-b8f1-5b7540e3364d"
      }
     }
    },
    "b4eff6ef-11d8-4191-a6c2-efc713a6b5ef": {
     "id": "b4eff6ef-11d8-4191-a6c2-efc713a6b5ef",
     "prev": "af94470b-7439-41bb-ba6e-e76540cbba62",
     "regions": {
      "b790b6a3-6ee6-4800-9757-4bd03b85b66d": {
       "attrs": {
        "height": 0.8,
        "width": 0.8,
        "x": 0.1,
        "y": 0.1
       },
       "content": {
        "cell": "618588aa-c258-4ed6-b3aa-822ec2d5bf83",
        "part": "whole"
       },
       "id": "b790b6a3-6ee6-4800-9757-4bd03b85b66d"
      }
     }
    },
    "b7d43fbc-9d9b-4837-85d1-a2bf78457f70": {
     "id": "b7d43fbc-9d9b-4837-85d1-a2bf78457f70",
     "prev": "862f549e-b044-4897-9261-9413a0c8d45e",
     "regions": {
      "4fef3c54-0504-46a7-ac16-d914a637debf": {
       "attrs": {
        "height": 0.8,
        "width": 0.8,
        "x": 0.1,
        "y": 0.1
       },
       "content": {
        "cell": "0e0b27b1-2b95-4352-a9a6-cff6248f7ee6",
        "part": "whole"
       },
       "id": "4fef3c54-0504-46a7-ac16-d914a637debf"
      }
     }
    },
    "b86297e9-d700-4e9a-8723-8a93a87cc76d": {
     "id": "b86297e9-d700-4e9a-8723-8a93a87cc76d",
     "prev": "64331c63-8b17-44ad-be67-f70c8c59898d",
     "regions": {
      "0eac416c-da20-4b78-a3d0-0eb0b8659f2e": {
       "attrs": {
        "height": 0.8,
        "width": 0.8,
        "x": 0.1,
        "y": 0.1
       },
       "content": {
        "cell": "d1bd2548-3c6e-46d3-be58-ee584431ea83",
        "part": "whole"
       },
       "id": "0eac416c-da20-4b78-a3d0-0eb0b8659f2e"
      }
     }
    },
    "c20e5d79-a31d-4f2b-84cf-34453b8c9dcc": {
     "id": "c20e5d79-a31d-4f2b-84cf-34453b8c9dcc",
     "prev": "86789667-f6a8-486d-81eb-aee592cbc897",
     "regions": {
      "218ee5dd-cebe-4af3-95c2-af129643ed45": {
       "attrs": {
        "height": 0.8,
        "width": 0.8,
        "x": 0.1,
        "y": 0.1
       },
       "content": {
        "cell": "7a52c633-2cc7-4902-b4e6-200956e5a144",
        "part": "whole"
       },
       "id": "218ee5dd-cebe-4af3-95c2-af129643ed45"
      }
     }
    },
    "c533f4ef-c949-446e-a969-a8267b8cde1a": {
     "id": "c533f4ef-c949-446e-a969-a8267b8cde1a",
     "prev": "b4eff6ef-11d8-4191-a6c2-efc713a6b5ef",
     "regions": {
      "5a44d219-4181-4c5d-9633-43b35cab3dae": {
       "attrs": {
        "height": 0.8,
        "width": 0.8,
        "x": 0.1,
        "y": 0.1
       },
       "content": {
        "cell": "e7469440-1c73-4280-8ca4-a1353a93b6f4",
        "part": "whole"
       },
       "id": "5a44d219-4181-4c5d-9633-43b35cab3dae"
      }
     }
    },
    "c667386d-88da-4e20-8480-71e369b8c72b": {
     "id": "c667386d-88da-4e20-8480-71e369b8c72b",
     "prev": "7b83d712-b3f3-49e5-8298-7c092b00e2eb",
     "regions": {
      "f1a79c4c-8900-40a6-9a2d-9b4ec86dd4d3": {
       "attrs": {
        "height": 0.8,
        "width": 0.8,
        "x": 0.1,
        "y": 0.1
       },
       "content": {
        "cell": "60ca9ebb-72c9-4778-b40b-ea5519792236",
        "part": "whole"
       },
       "id": "f1a79c4c-8900-40a6-9a2d-9b4ec86dd4d3"
      }
     }
    },
    "ccd99f32-8d47-464a-9c3a-c0dc81963144": {
     "id": "ccd99f32-8d47-464a-9c3a-c0dc81963144",
     "prev": "256d5c31-bfe8-49a1-b401-8b765215febe",
     "regions": {
      "6e86ec6a-a2ce-465c-8e8a-ab215cfd8a4a": {
       "attrs": {
        "height": 0.8,
        "width": 0.8,
        "x": 0.1,
        "y": 0.1
       },
       "content": {
        "cell": "8c7177e9-cb05-4d18-b6c1-4aa475781f23",
        "part": "whole"
       },
       "id": "6e86ec6a-a2ce-465c-8e8a-ab215cfd8a4a"
      }
     }
    },
    "cd2767ff-566f-46c1-bc64-412bbc52b000": {
     "id": "cd2767ff-566f-46c1-bc64-412bbc52b000",
     "prev": "fa83acd3-bd85-4e37-b138-aebab57385d7",
     "regions": {
      "4f9c0f2f-08d3-49de-96be-89d3bba88f9a": {
       "attrs": {
        "height": 0.8,
        "width": 0.8,
        "x": 0.1,
        "y": 0.1
       },
       "content": {
        "cell": "d06095a2-ed79-4b52-b5c0-78383a69a5b7",
        "part": "whole"
       },
       "id": "4f9c0f2f-08d3-49de-96be-89d3bba88f9a"
      }
     }
    },
    "cd7706b7-0ca0-4f59-ae06-64fc3c2f6422": {
     "id": "cd7706b7-0ca0-4f59-ae06-64fc3c2f6422",
     "prev": "22329d91-507b-4581-bf75-eb605546808c",
     "regions": {
      "782434f0-470b-4ef8-afa6-9dea5413f819": {
       "attrs": {
        "height": 0.8,
        "width": 0.8,
        "x": 0.1,
        "y": 0.1
       },
       "content": {
        "cell": "af0ad3a0-5570-49b3-9ab1-2450e13dc16d",
        "part": "whole"
       },
       "id": "782434f0-470b-4ef8-afa6-9dea5413f819"
      }
     }
    },
    "d36bbae8-0b44-413a-9355-656d251b7362": {
     "id": "d36bbae8-0b44-413a-9355-656d251b7362",
     "prev": "432eeb69-afb9-4fd1-bb43-b06a1708bc8c",
     "regions": {
      "becc3010-b79b-4071-81c8-6780292dc5d5": {
       "attrs": {
        "height": 0.8,
        "width": 0.8,
        "x": 0.1,
        "y": 0.1
       },
       "content": {
        "cell": "28dad24b-7663-4724-ac4f-b7085fee00d1",
        "part": "whole"
       },
       "id": "becc3010-b79b-4071-81c8-6780292dc5d5"
      }
     }
    },
    "d857b584-8d9d-4ff4-9b2c-c4243142e1a7": {
     "id": "d857b584-8d9d-4ff4-9b2c-c4243142e1a7",
     "prev": "92ad7f61-9317-473d-b304-e6e8725ae71a",
     "regions": {
      "3d90fb80-eed5-471d-a456-f187f2502e8e": {
       "attrs": {
        "height": 0.8,
        "width": 0.8,
        "x": 0.1,
        "y": 0.1
       },
       "content": {
        "cell": "df654e9e-ec9e-4b5c-9fc1-5496627e7d23",
        "part": "whole"
       },
       "id": "3d90fb80-eed5-471d-a456-f187f2502e8e"
      }
     }
    },
    "df843d80-926c-41aa-9482-f31f282919e5": {
     "id": "df843d80-926c-41aa-9482-f31f282919e5",
     "prev": "a3ee13a0-b4b4-4210-ada7-b3d8aa6e4070",
     "regions": {
      "14293ba7-1e5e-46a6-9231-0eda2d7ac125": {
       "attrs": {
        "height": 0.8,
        "width": 0.8,
        "x": 0.1,
        "y": 0.1
       },
       "content": {
        "cell": "2010e98e-c62b-4205-9151-602182e7181e",
        "part": "whole"
       },
       "id": "14293ba7-1e5e-46a6-9231-0eda2d7ac125"
      }
     }
    },
    "e63f5cd7-76bf-4b67-aab9-b2071781289c": {
     "id": "e63f5cd7-76bf-4b67-aab9-b2071781289c",
     "prev": "7861a3de-a6cb-42ed-ab0b-d818d3e132f7",
     "regions": {
      "9baa3a53-03e4-491d-809e-c6a8a7dd2c47": {
       "attrs": {
        "height": 0.8,
        "width": 0.8,
        "x": 0.1,
        "y": 0.1
       },
       "content": {
        "cell": "4de49c69-b5bd-47b0-b516-b776e46906d3",
        "part": "whole"
       },
       "id": "9baa3a53-03e4-491d-809e-c6a8a7dd2c47"
      }
     }
    },
    "e6526e98-ac42-4bf5-b976-9d87003e7820": {
     "id": "e6526e98-ac42-4bf5-b976-9d87003e7820",
     "prev": "07494302-4b0e-4891-993a-fe39297a5bf3",
     "regions": {
      "a37c0ed6-ef91-42d4-ae3b-f6dc21dc0c8d": {
       "attrs": {
        "height": 0.8,
        "width": 0.8,
        "x": 0.1,
        "y": 0.1
       },
       "content": {
        "cell": "1c79b475-420f-4155-acdd-0e99c8b65dd4",
        "part": "whole"
       },
       "id": "a37c0ed6-ef91-42d4-ae3b-f6dc21dc0c8d"
      }
     }
    },
    "e7a4e8c9-a64a-4625-84ca-2032a8b482b2": {
     "id": "e7a4e8c9-a64a-4625-84ca-2032a8b482b2",
     "prev": "2f5d2bc1-6e71-4977-8cf7-c4e1b0f17c85",
     "regions": {
      "a1e07df3-99a3-4f17-847a-29590d80afc0": {
       "attrs": {
        "height": 0.8,
        "width": 0.8,
        "x": 0.1,
        "y": 0.1
       },
       "content": {
        "cell": "1bc556de-0707-43f6-b808-71d28703faa6",
        "part": "whole"
       },
       "id": "a1e07df3-99a3-4f17-847a-29590d80afc0"
      }
     }
    },
    "e808a972-3b57-4344-95f8-012ca9474efe": {
     "id": "e808a972-3b57-4344-95f8-012ca9474efe",
     "prev": "f8e5c22b-6852-4491-8451-2dcbcfc4001a",
     "regions": {
      "09e354c3-cc02-40dc-8ead-911f4c8c3759": {
       "attrs": {
        "height": 0.8,
        "width": 0.8,
        "x": 0.1,
        "y": 0.1
       },
       "content": {
        "cell": "145911a8-bceb-4156-be1f-28e8c655213f",
        "part": "whole"
       },
       "id": "09e354c3-cc02-40dc-8ead-911f4c8c3759"
      }
     }
    },
    "ed0e142f-81d3-404a-a6ba-b18a536fb31c": {
     "id": "ed0e142f-81d3-404a-a6ba-b18a536fb31c",
     "prev": "2db354e2-9c7d-4b31-839f-22fdbc4a20d0",
     "regions": {
      "a9a3af40-c061-47f5-9d15-a35e0e627fa2": {
       "attrs": {
        "height": 0.8,
        "width": 0.8,
        "x": 0.1,
        "y": 0.1
       },
       "content": {
        "cell": "e202f95a-cc35-4f10-836d-02cccd4eb9b9",
        "part": "whole"
       },
       "id": "a9a3af40-c061-47f5-9d15-a35e0e627fa2"
      }
     }
    },
    "ef1b8552-daed-4557-9fae-e6454cbb21fd": {
     "id": "ef1b8552-daed-4557-9fae-e6454cbb21fd",
     "prev": "fb022309-bebb-4027-b7d2-c37f0d231959",
     "regions": {
      "63640e9c-b3e4-4798-9bd3-85164a405bb4": {
       "attrs": {
        "height": 0.8,
        "width": 0.8,
        "x": 0.1,
        "y": 0.1
       },
       "content": {
        "cell": "15843b8e-82d5-442f-b39f-0e44f67a7056",
        "part": "whole"
       },
       "id": "63640e9c-b3e4-4798-9bd3-85164a405bb4"
      }
     }
    },
    "f8e5c22b-6852-4491-8451-2dcbcfc4001a": {
     "id": "f8e5c22b-6852-4491-8451-2dcbcfc4001a",
     "prev": "401f1ffc-f086-489e-a440-a8299c78a3d8",
     "regions": {
      "f1193eb1-efae-4587-896d-e399e35518c6": {
       "attrs": {
        "height": 0.8,
        "width": 0.8,
        "x": 0.1,
        "y": 0.1
       },
       "content": {
        "cell": "ab904f15-1f95-43de-b5f4-873aeefc3a59",
        "part": "whole"
       },
       "id": "f1193eb1-efae-4587-896d-e399e35518c6"
      }
     }
    },
    "fa83acd3-bd85-4e37-b138-aebab57385d7": {
     "id": "fa83acd3-bd85-4e37-b138-aebab57385d7",
     "prev": "d36bbae8-0b44-413a-9355-656d251b7362",
     "regions": {
      "41d8472d-1a38-4452-8f01-5f9951ef120f": {
       "attrs": {
        "height": 0.8,
        "width": 0.8,
        "x": 0.1,
        "y": 0.1
       },
       "content": {
        "cell": "a48e93f7-50a1-4692-9999-2046968a46f0",
        "part": "whole"
       },
       "id": "41d8472d-1a38-4452-8f01-5f9951ef120f"
      }
     }
    },
    "fb022309-bebb-4027-b7d2-c37f0d231959": {
     "id": "fb022309-bebb-4027-b7d2-c37f0d231959",
     "prev": "ed0e142f-81d3-404a-a6ba-b18a536fb31c",
     "regions": {
      "c76e8ecf-6343-45d5-a928-46f170e2e389": {
       "attrs": {
        "height": 0.8,
        "width": 0.8,
        "x": 0.1,
        "y": 0.1
       },
       "content": {
        "cell": "2063618b-7874-467e-bfa8-0045d6e44b56",
        "part": "whole"
       },
       "id": "c76e8ecf-6343-45d5-a928-46f170e2e389"
      }
     }
    }
   },
   "themes": {
    "default": "d13ae68e-a9c8-48e1-b467-270d493c3f34",
    "theme": {
     "d13ae68e-a9c8-48e1-b467-270d493c3f34": {
      "id": "d13ae68e-a9c8-48e1-b467-270d493c3f34",
      "palette": {
       "19cc588f-0593-49c9-9f4b-e4d7cc113b1c": {
        "id": "19cc588f-0593-49c9-9f4b-e4d7cc113b1c",
        "rgb": [
         252,
         252,
         252
        ]
       },
       "31af15d2-7e15-44c5-ab5e-e04b16a89eff": {
        "id": "31af15d2-7e15-44c5-ab5e-e04b16a89eff",
        "rgb": [
         68,
         68,
         68
        ]
       },
       "50f92c45-a630-455b-aec3-788680ec7410": {
        "id": "50f92c45-a630-455b-aec3-788680ec7410",
        "rgb": [
         155,
         177,
         192
        ]
       },
       "c5cc3653-2ee1-402a-aba2-7caae1da4f6c": {
        "id": "c5cc3653-2ee1-402a-aba2-7caae1da4f6c",
        "rgb": [
         43,
         126,
         184
        ]
       },
       "efa7f048-9acb-414c-8b04-a26811511a21": {
        "id": "efa7f048-9acb-414c-8b04-a26811511a21",
        "rgb": [
         25.118061674008803,
         73.60176211453744,
         107.4819383259912
        ]
       }
      },
      "rules": {
       "blockquote": {
        "color": "50f92c45-a630-455b-aec3-788680ec7410"
       },
       "code": {
        "font-family": "Anonymous Pro"
       },
       "h1": {
        "color": "c5cc3653-2ee1-402a-aba2-7caae1da4f6c",
        "font-family": "Lato",
        "font-size": 8
       },
       "h2": {
        "color": "c5cc3653-2ee1-402a-aba2-7caae1da4f6c",
        "font-family": "Lato",
        "font-size": 6
       },
       "h3": {
        "color": "50f92c45-a630-455b-aec3-788680ec7410",
        "font-family": "Lato",
        "font-size": 5.5
       },
       "h4": {
        "color": "c5cc3653-2ee1-402a-aba2-7caae1da4f6c",
        "font-family": "Lato",
        "font-size": 5
       },
       "h5": {
        "font-family": "Lato"
       },
       "h6": {
        "font-family": "Lato"
       },
       "h7": {
        "font-family": "Lato"
       },
       "pre": {
        "font-family": "Anonymous Pro",
        "font-size": 4
       }
      },
      "text-base": {
       "font-family": "Merriweather",
       "font-size": 4
      }
     }
    }
   }
  },
  "toc": {
   "base_numbering": 1,
   "nav_menu": {},
   "number_sections": false,
   "sideBar": true,
   "skip_h1_title": false,
   "title_cell": "Table of Contents",
   "title_sidebar": "Contents",
   "toc_cell": false,
   "toc_position": {},
   "toc_section_display": true,
   "toc_window_display": false
  },
  "varInspector": {
   "cols": {
    "lenName": 16,
    "lenType": 16,
    "lenVar": 40
   },
   "kernels_config": {
    "python": {
     "delete_cmd_postfix": "",
     "delete_cmd_prefix": "del ",
     "library": "var_list.py",
     "varRefreshCmd": "print(var_dic_list())"
    },
    "r": {
     "delete_cmd_postfix": ") ",
     "delete_cmd_prefix": "rm(",
     "library": "var_list.r",
     "varRefreshCmd": "cat(var_dic_list()) "
    }
   },
   "types_to_exclude": [
    "module",
    "function",
    "builtin_function_or_method",
    "instance",
    "_Feature"
   ],
   "window_display": false
  }
 },
 "nbformat": 4,
 "nbformat_minor": 2
}
