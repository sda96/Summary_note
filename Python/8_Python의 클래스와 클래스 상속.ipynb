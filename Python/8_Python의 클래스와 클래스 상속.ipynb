{
 "cells": [
  {
   "cell_type": "markdown",
   "metadata": {},
   "source": [
    " <i><b>Public AI</b></i>\n",
    "<br>\n",
    "### **&nbsp;&nbsp;Week1. Python 기본기 다지기**\n",
    "# Section 8. Python의 클래스와 클래스 상속\n",
    "'객체 지향 프로그래밍'이라는 표현에 등장하는 **객체**(object)를 만드는 데 사용되는 것이 바로 **클래스**(class)입니다. \n",
    "<br>\n",
    "<br>\n",
    "흔히 클래스를 과자틀로, 클래스에 속한 객체 또는 **인스턴스**(instance)를 클래스로 찍어낸 과자로 비유하기도 합니다. 단발성으로 과자를 구울 때는 굳이 과자틀을 만들지 않고 손으로 모양을 내서 구워도 되겠지만, 과자를 많이 만들거나 기본 모양을 찍어 낸 후 그 위에 그림을 그려 다양한 모양의 과자를 만들 때는 과자틀을 만들어 사용하는 것이 유용할 것입니다. \n",
    "<br>\n",
    "<br>\n",
    "클래스도 마찬가지입니다. 클래스를 사용하면 반복적으로 사용되는 코드가 있을 때, 공통되는 부분이 있되 약간의 변형을 가해야 할 때 보다 효율적으로 프로그램을 짤 수 있습니다. 특히 파이썬의 클래스는 자바 등의 다른 객체 지향 언어에 비해 클래스를 정의하고 사용하는 것이 까다롭지 않습니다.\n",
    "\n",
    "이번 Section 8에서는 클래스의 개념을 이해하고, 상속을 통해 클래스를 활용하는 방법을 배워보겠습니다. "
   ]
  },
  {
   "cell_type": "markdown",
   "metadata": {},
   "source": [
    "### _Objective_\n",
    "1. **Python의 클래스** 객체 프로그래밍의 핵심인 클래스에 대해 배워봅니다.  <br>\n",
    "2. **Python의 클래스 상속** 클래스의 중복을 제거해 주는 상속에 대해 배워봅니다. <br>"
   ]
  },
  {
   "cell_type": "markdown",
   "metadata": {},
   "source": [
    "# \\[ 1. Python의 클래스 \\]\n",
    "\n",
    "클래스는 크게 클래스 안에서 데이터를 담는 변수를 의미하는 **속성**(attribute)과 클래스 안에서 정의된 함수를 의미하는 **메소드**(method)로 구성됩니다. 이번에는 속성과 메소드를 가진 클래스를 정의하는 방법을 살펴보며 클래스의 구조를 이해해보겠습니다. **1. 클래스와 인스턴스**에서는 클래스를 정의하고, 인스턴스를 찍어내거나 인스턴스 안에서 속성(혹은 변수)나 메소드(혹은 함수)를 호출하는 방법을 간략하게 살펴보겠습니다. 각각의 개념에 대해 보다 자세한 내용은 **2. 클래스의 속성**, **3. 클래스의 메소드**에서 살펴보겠습니다.\n",
    "\n",
    "\n",
    "주의: 속성은 클래스 안에서 정의되는 변수, 메서드는 클래스 안에서 정의되는 함수 등 각각 변수와 함수의 특수한 케이스입니다. 클래스 개념이 확실히 잡히지 않은 상태에선 변수나 함수라는 용어가 좀 더 익숙할 것입니다. 하지만, 각각은 변수과 함수의 특이 케이스이므로 **속성**과 **메소드**라는 용어를 사용하겠습니다. "
   ]
  },
  {
   "cell_type": "markdown",
   "metadata": {},
   "source": [
    "## 1. 클래스와 인스턴스\n",
    "\n",
    "+ 파이썬에서는 클래스를 정의할 때 예약어 `class`를 사용합니다.\n",
    "+ 클래스를 실행하면 인스턴스를 생성할 수 있습니다. \n",
    "+ `.`을 이용해 인스턴스를 구성하는 속성 혹은 메소드를 호출할 수 있습니다. "
   ]
  },
  {
   "cell_type": "markdown",
   "metadata": {},
   "source": [
    "### (1) 클래스 정의하기"
   ]
  },
  {
   "cell_type": "markdown",
   "metadata": {},
   "source": [
    "클래스는 `class 클래스명:`으로 시작한 후 다음 줄에 들여쓰기로 정의할 수 있습니다. 각각의 요소에 대한 설명은 아래에서 자세히 하도록 하고, 여기서는 클래스가 기본적으로 어떤 구성을 갖는지 간략하게 살펴보겠습니다. "
   ]
  },
  {
   "cell_type": "code",
   "execution_count": 5,
   "metadata": {},
   "outputs": [],
   "source": [
    "class Person: # 클래스 이름 정의\n",
    "    \"\"\"드라마 도깨비 주인공을 소개하는 클래스입니다\"\"\" #Docstring. 클래스에 대한 설명을 담음. `?클래스명`실행시 출력되는 문장\n",
    "    drama = \"도깨비\" # 클래스 속성(변수)\n",
    "    def __init__(self, name, age, region): # 클래스 생성시 실행되는 메소드(함수). 일명 Constructor(생성자)라고 부름. \n",
    "        self.name = name # 인스턴스 속성(변수)\n",
    "        self.age = age\n",
    "        self.region = region\n",
    "        \n",
    "    def say_hello(self): # 인스턴스 메소드(함수)\n",
    "        print(\"{}님, 안녕하세요! {} 출신이시군요\".format(\n",
    "            self.name, self.region))\n",
    "    \n",
    "    def move_to(self, region):\n",
    "        self.region = region"
   ]
  },
  {
   "cell_type": "code",
   "execution_count": 6,
   "metadata": {},
   "outputs": [
    {
     "data": {
      "text/plain": [
       "\u001b[1;31mInit signature:\u001b[0m \u001b[0mPerson\u001b[0m\u001b[1;33m(\u001b[0m\u001b[0mname\u001b[0m\u001b[1;33m,\u001b[0m \u001b[0mage\u001b[0m\u001b[1;33m,\u001b[0m \u001b[0mregion\u001b[0m\u001b[1;33m)\u001b[0m\u001b[1;33m\u001b[0m\u001b[0m\n",
       "\u001b[1;31mDocstring:\u001b[0m      드라마 도깨비 주인공을 소개하는 클래스입니다\n",
       "\u001b[1;31mType:\u001b[0m           type\n"
      ]
     },
     "metadata": {},
     "output_type": "display_data"
    }
   ],
   "source": [
    "?Person #클래스가 어떤 parameter를 받는지, docstring에 어떻게 설명되어 있는지 확인할 수 있음"
   ]
  },
  {
   "cell_type": "markdown",
   "metadata": {},
   "source": [
    "### (2) 인스턴스 만들기\n",
    "클래스 생성시 입력해야 할 값을 입력하여 실행하면 인스턴스가 생성됩니다. 쿠키틀로 찍어낸 쿠키이고, 그 위에 저승사자 그림을 그렸다고 생각해봅시다. "
   ]
  },
  {
   "cell_type": "code",
   "execution_count": 7,
   "metadata": {},
   "outputs": [],
   "source": [
    "dongWook = Person(\"이동욱\", 37, \"저승사자\")"
   ]
  },
  {
   "cell_type": "code",
   "execution_count": 8,
   "metadata": {},
   "outputs": [
    {
     "data": {
      "text/plain": [
       "<__main__.Person at 0x17e5f3f36a0>"
      ]
     },
     "execution_count": 8,
     "metadata": {},
     "output_type": "execute_result"
    }
   ],
   "source": [
    "dongWook # at 이후는 해당 인스턴스가 저장된 위치"
   ]
  },
  {
   "cell_type": "markdown",
   "metadata": {},
   "source": [
    " dongWook 인스턴스와 동일하게 Person 클래스를 사용하여 찍어냈지만 다른 위치에 저장되어있습니다. 똑같은 쿠키틀로 찍어낸 또 다른 모양의 쿠키이고, 이번엔 도깨비 모양을 그렸다고 생각해봅시다. "
   ]
  },
  {
   "cell_type": "code",
   "execution_count": 9,
   "metadata": {},
   "outputs": [],
   "source": [
    "gongYoo = Person(\"공유\", 1000, \"도깨비\")"
   ]
  },
  {
   "cell_type": "code",
   "execution_count": 10,
   "metadata": {},
   "outputs": [
    {
     "data": {
      "text/plain": [
       "<__main__.Person at 0x17e5f3f3b00>"
      ]
     },
     "execution_count": 10,
     "metadata": {},
     "output_type": "execute_result"
    }
   ],
   "source": [
    "gongYoo"
   ]
  },
  {
   "cell_type": "markdown",
   "metadata": {},
   "source": [
    "### (3) 클래스 내부에서 정의된 속성과 메소드 호출하기\n",
    "클래스 내부의 변수 혹은 함수를 호출할때는 `인스턴스명.속성명` 혹은 `인스턴스명.메소드명()` 등 `.`으로 연결하는 형식으로 불러올 수 있습니다. 클래스 내부에서 정의되므로, 인스턴스명과 함께 호출하지 않으면 불러올 수 없습니다. "
   ]
  },
  {
   "cell_type": "code",
   "execution_count": 11,
   "metadata": {},
   "outputs": [
    {
     "name": "stdout",
     "output_type": "stream",
     "text": [
      "1. 인스턴스 dongWook의 클래스 속성 drama는? 도깨비\n",
      "2. 인스턴스 gongYoo의 클래스 속성 drama는? 도깨비\n"
     ]
    }
   ],
   "source": [
    "# 클래스 변수\n",
    "print('1. 인스턴스 dongWook의 클래스 속성 drama는?', dongWook.drama) \n",
    "print('2. 인스턴스 gongYoo의 클래스 속성 drama는?', gongYoo.drama) "
   ]
  },
  {
   "cell_type": "code",
   "execution_count": 12,
   "metadata": {},
   "outputs": [
    {
     "name": "stdout",
     "output_type": "stream",
     "text": [
      "1. 인스턴스 dongWook의 인스턴스 속성 age는? 37\n",
      "2. 인스턴스 gongYoo의 인스턴스 속성 age는? 1000\n"
     ]
    }
   ],
   "source": [
    "# 인스턴스 변수\n",
    "print('1. 인스턴스 dongWook의 인스턴스 속성 age는?', dongWook.age) \n",
    "print('2. 인스턴스 gongYoo의 인스턴스 속성 age는?', gongYoo.age) "
   ]
  },
  {
   "cell_type": "code",
   "execution_count": 13,
   "metadata": {},
   "outputs": [
    {
     "name": "stdout",
     "output_type": "stream",
     "text": [
      "이동욱님, 안녕하세요! 저승사자 출신이시군요\n"
     ]
    }
   ],
   "source": [
    "# 클래스 함수\n",
    "dongWook.say_hello()"
   ]
  },
  {
   "cell_type": "code",
   "execution_count": 14,
   "metadata": {},
   "outputs": [
    {
     "ename": "NameError",
     "evalue": "name 'say_hello' is not defined",
     "output_type": "error",
     "traceback": [
      "\u001b[1;31m---------------------------------------------------------------------------\u001b[0m",
      "\u001b[1;31mNameError\u001b[0m                                 Traceback (most recent call last)",
      "\u001b[1;32m<ipython-input-14-d840a7e95d92>\u001b[0m in \u001b[0;36m<module>\u001b[1;34m()\u001b[0m\n\u001b[1;32m----> 1\u001b[1;33m \u001b[0msay_hello\u001b[0m\u001b[1;33m(\u001b[0m\u001b[1;33m)\u001b[0m \u001b[1;31m# 인스턴스와 함께 호출하지 않으면 불러올 수 없음\u001b[0m\u001b[1;33m\u001b[0m\u001b[0m\n\u001b[0m",
      "\u001b[1;31mNameError\u001b[0m: name 'say_hello' is not defined"
     ]
    }
   ],
   "source": [
    "say_hello() # 인스턴스와 함께 호출하지 않으면 불러올 수 없음"
   ]
  },
  {
   "cell_type": "markdown",
   "metadata": {},
   "source": [
    "## 2. 클래스의 속성\n",
    "\n",
    "+ 앞서 간략하게 언급되었지만, 클래스에서 사용되는 변수를 우리는 **클래스의 속성(attribute)**라고 부릅니다. 즉, 속성은 클래스 안에서 정의되는, 변수의 특수한 케이스를 지칭하는 용어입니다. 속성보다는 변수가 익숙한 용어이겠지만, 변수는 속성보다 넓은 개념이므로 **속성**이라는 개념 자체에 익숙해질 필요가 있습니다. \n",
    "+ 클래스 안에서 선언되는 속성은 크게 **인스턴스 속성**과 **클래스 속성**으로 구분할 수 있습니다.\n",
    "+ 클래스 속성은 클래스의 네임페이스 안에, 인스턴스 속성은 인스턴스의 네임스페이 안에 각각 저장됩니다. \n",
    "+ 각각의 속성에 대한 개념을 배워보고, 값을 할당하는 방법을 살펴보겠습니다."
   ]
  },
  {
   "cell_type": "markdown",
   "metadata": {},
   "source": [
    "### (1) 인스턴스 속성\n",
    "인스턴스 속성은 클래스로 찍어낸 개별 인스턴스마다 서로 다른 값을 가지도록 값을 할당할 수 있는 변수입니다. `self.인스턴스속성명` 형식의 이름으로 메소드 안에서 정의되어야 합니다."
   ]
  },
  {
   "cell_type": "code",
   "execution_count": 23,
   "metadata": {},
   "outputs": [],
   "source": [
    "class Dog:\n",
    "    def __init__(self):\n",
    "        self.tricks = [] # 인스턴스 변수\n",
    "    \n",
    "    def add_trick(self, trick):\n",
    "        self.tricks.append(trick)"
   ]
  },
  {
   "cell_type": "code",
   "execution_count": 25,
   "metadata": {},
   "outputs": [
    {
     "name": "stdout",
     "output_type": "stream",
     "text": [
      "['roll over']\n",
      "['play dead']\n"
     ]
    }
   ],
   "source": [
    "dog1 = Dog()\n",
    "dog1.add_trick('roll over')\n",
    "\n",
    "dog2 = Dog()\n",
    "dog2.add_trick('play dead')\n",
    "\n",
    "print(dog1.tricks) # dog1의 인스턴스 변수 tricks와 dog2의 인스턴스 변수 tricks는 서로 다른 값을 가짐\n",
    "print(dog2.tricks)"
   ]
  },
  {
   "cell_type": "markdown",
   "metadata": {},
   "source": [
    "### (2) 클래스 속성\n",
    "클래스 속성은 클래서 안에서 정의하되, 메서드 밖에서 정의되어야 합니다. 클래스 속성에 값을 할당할 때는 인스턴스 속성과 다르게 `self.변수명`이 아닌 `변수명` 형식으로 할당합니다. 클래스의 메소드 안에서 호출할 때는 `self.속성명`으로 호출합니다.\n",
    "<br>\n",
    "<br>\n",
    "클래스 속성은 클래스의 네임스페이스 안에서 정의됩니다. 따라서 같은 클래스로 찍어낸 서로 다른 인스턴스에서 해당 속성의 값을 수정하게되면 **모두 인스턴스에서 접근하는 클래스 속성에 영향**을 미치게 됩니다. "
   ]
  },
  {
   "cell_type": "code",
   "execution_count": 2,
   "metadata": {},
   "outputs": [],
   "source": [
    "class Dog:\n",
    "    tricks = [] # 클래스 속성\n",
    "    def add_trick(self, trick):\n",
    "        self.tricks.append(trick)"
   ]
  },
  {
   "cell_type": "code",
   "execution_count": 3,
   "metadata": {},
   "outputs": [
    {
     "name": "stdout",
     "output_type": "stream",
     "text": [
      "['roll over']\n"
     ]
    }
   ],
   "source": [
    "# Dog 클래스로 만든 인스턴스 1 : dog1\n",
    "dog1 = Dog()\n",
    "dog1.add_trick('roll over')\n",
    "print(dog1.tricks)"
   ]
  },
  {
   "cell_type": "markdown",
   "metadata": {},
   "source": [
    "클래스 안에서 정의되는 변수는 `클래스명.클래스변수명` 또는 `인스턴스명.클래스변수명`으로 호출할 수 있습니다."
   ]
  },
  {
   "cell_type": "code",
   "execution_count": 4,
   "metadata": {},
   "outputs": [
    {
     "name": "stdout",
     "output_type": "stream",
     "text": [
      "['roll over']\n",
      "['roll over']\n"
     ]
    }
   ],
   "source": [
    "print(Dog.tricks) # 클래스명.클래스속성명\n",
    "print(dog1.tricks) # 인스턴스명.클래스속성명"
   ]
  },
  {
   "cell_type": "code",
   "execution_count": 17,
   "metadata": {},
   "outputs": [
    {
     "name": "stdout",
     "output_type": "stream",
     "text": [
      "['roll over', 'play dead']\n"
     ]
    }
   ],
   "source": [
    "# Dog 클래스로 만든 인스턴스 2 : dog2\n",
    "dog2 = Dog()\n",
    "dog2.add_trick('play dead')\n",
    "print(dog2.tricks)"
   ]
  },
  {
   "cell_type": "markdown",
   "metadata": {},
   "source": [
    "`dog1`과 `dog2`는 각각 독립적인 인스턴스이나, `.add_trick` 메소드는 클래스가 공유하는 **클래스 속성**인 `tricks`에 입력값을 추가하는 메소드이므로, `dog1`이나 `dog2` 중 어떤 것으로 `tricks` 변수에 접근하든 동일한 값을 반환합니다. 즉 클래스 속성은 인스턴스 간에 공유가 됩니다. "
   ]
  },
  {
   "cell_type": "code",
   "execution_count": 19,
   "metadata": {},
   "outputs": [
    {
     "name": "stdout",
     "output_type": "stream",
     "text": [
      "['roll over', 'play dead']\n",
      "['roll over', 'play dead']\n"
     ]
    }
   ],
   "source": [
    "print(dog1.tricks)\n",
    "print(dog2.tricks)"
   ]
  },
  {
   "cell_type": "markdown",
   "metadata": {},
   "source": [
    "## 3. 클래스의 메소드\n",
    "\n",
    "+ 앞서 간략하게 언급되었지만, 클래스 안에서 정의되는 함수를 **메소드(method)**라고 부릅니다. 즉, 메소드는 클래스 안에서 정의되는, 함수의 특수한 경우를 지칭하는 용어입니다. 초급자에게 메소드보다는 함수가 익숙한 개념이겠지만, 함수는 메소드 보다 넓은 개념이므로 메소드라는 개념 자체에 익숙해질 필요가 있습니다.\n",
    "+ 클래스 안에서 정의되는 메소드의 개념과 정의 및 호출하는 방법을 살펴보겠습니다."
   ]
  },
  {
   "cell_type": "markdown",
   "metadata": {},
   "source": [
    "### (1)클래스 안에서 메소드 정의하기\n",
    "Python 에서는 클래스 안에서 함수를 정의할 때, 일반적인 함수와 마찬가지로 `def`를 사용합니다. 다만, 클래스 안에서 정의되는 함수는 첫 번째 매개변수로 `self`를 받습니다. `self`는 클래스 자기 자신을 받겠다는 뜻입니다. \n",
    "\n",
    "함수의 매개변수로 클래스 속성 혹은 인스턴스 속성을 받지 않더라도 클래스 안에서 정의된 클래스 속성 혹은 인스턴스 속성을 `self.속성명`으로 불러 사용할 수 있습니다. 자기 자신(=클래스)을 매개변수로 받았기 때문입니다. "
   ]
  },
  {
   "cell_type": "code",
   "execution_count": 15,
   "metadata": {},
   "outputs": [],
   "source": [
    "class Dog:\n",
    "    def __init__(self):\n",
    "        self.tricks = [] \n",
    "    \n",
    "    def add_trick(self, trick):\n",
    "        self.tricks.append(trick) # 인스턴스 변수"
   ]
  },
  {
   "cell_type": "markdown",
   "metadata": {},
   "source": [
    "### (2) 클래스의 메소드 호출하기\n",
    "클래스 안에서 정의되었기 때문에, 클래스와 함께 호출되어야 합니다. 변수와 마찬가지로 `인스턴스명.메소드명`으로 호출할 수 있습니다. "
   ]
  },
  {
   "cell_type": "code",
   "execution_count": 20,
   "metadata": {},
   "outputs": [],
   "source": [
    "dog2.add_trick('play dead')"
   ]
  },
  {
   "cell_type": "code",
   "execution_count": 21,
   "metadata": {},
   "outputs": [
    {
     "data": {
      "text/plain": [
       "['roll over', 'play dead', 'play dead']"
      ]
     },
     "execution_count": 21,
     "metadata": {},
     "output_type": "execute_result"
    }
   ],
   "source": [
    "dog2.tricks"
   ]
  },
  {
   "cell_type": "markdown",
   "metadata": {},
   "source": [
    "# \\[ 2. Python의 클래스 상속 \\]\n",
    "\n",
    "클래스 간 코드의 중복을 방지하기 위해, 공통된 부분은 묶어서 **부모 클래스**를 만듭니다. **자식 클래스**는 부모 클래스를 받아 코드를 공유할 수 있습니다. 이렇게 공유하는 방식을 **상속(inheritance)**이라고 부릅니다.\n",
    "이번에는 부모 클래스를 만들어 상속해보고, 자식 클래스 간에 어떤 방식으로 코드 중복이 방지되는지 살펴보겠습니다."
   ]
  },
  {
   "cell_type": "markdown",
   "metadata": {},
   "source": [
    "## 1. 부모 클래스를 상속하기\n",
    "\n",
    "+ Python은 클래스 간 코드의 중복을 최소화하기 위해 **상속**(inheritance)을 사용합니다. \n",
    "+ Python의 모든 클래스는 최상위 클래스인 `Object`를 상속합니다."
   ]
  },
  {
   "cell_type": "markdown",
   "metadata": {},
   "source": [
    "### 예제) 직업 별 클래스 만들기\n",
    "아래 코드를 살펴보면 `Doctor`, `Programmer`, `Designer` 클래스마다 `run`, `eat`, `sleep`, `study`라는 메소드가 중복되어 사용되는 것을 알 수 있습니다."
   ]
  },
  {
   "cell_type": "code",
   "execution_count": 4,
   "metadata": {},
   "outputs": [],
   "source": [
    "# 클래스 상속을 사용하지 않는 경우\n",
    "class Doctor:\n",
    "    def __init__(self, name):\n",
    "        self.name = name\n",
    "\n",
    "    def run(self): \n",
    "        print('뜁니다.')\n",
    "    \n",
    "    def eat(self, food):\n",
    "        print('{}을 먹습니다.'.format(food))\n",
    "    \n",
    "    def sleep(self): \n",
    "        print('잠을 잡니다.')\n",
    "    \n",
    "    def study(self): \n",
    "        print('열심히 공부합니다.')\n",
    "    \n",
    "    def research(self): \n",
    "        print('열심히 연구합니다.')\n",
    "        \n",
    "class Programmer:\n",
    "    def __init__(self, name):\n",
    "        self.name = name\n",
    "    \n",
    "    def run(self): \n",
    "        print('뜁니다.')\n",
    "    \n",
    "    def eat(self, food):\n",
    "        print('{}을 먹습니다.'.format(food))\n",
    "    \n",
    "    def sleep(self): \n",
    "        print('잠을 잡니다.')\n",
    "    \n",
    "    def study(self): \n",
    "        print('열심히 공부합니다.')\n",
    "    \n",
    "    def coding(self): \n",
    "        print('열심히 코딩합니다.')\n",
    "        \n",
    "class Designer:\n",
    "    def __init__(self, name):\n",
    "        self.name = name\n",
    "    \n",
    "    def run(self):\n",
    "        print('뜁니다.')\n",
    "    \n",
    "    def eat(self, food):\n",
    "        print('{}을 먹습니다.'.format(food))\n",
    "    \n",
    "    def sleep(self):\n",
    "        print('잠을 잡니다.')\n",
    "    \n",
    "    def study(self):\n",
    "        print('열심히 공부합니다.')\n",
    "    \n",
    "    def design(self):\n",
    "        print('열심히 디자인합니다.')"
   ]
  },
  {
   "cell_type": "markdown",
   "metadata": {},
   "source": [
    "클래스간 중복되는 함수를 묶어 상위 클래스, 즉 부모 클래스 `Person`를 정의하고 이를 상속 받으면 코드는 훨씬 간결해집니다. 이는 위에서 정의한 `Doctor`, `Programmer`, `Designer` 외에 더 많은 직업을 클래스로 정의해야 할 때 더 힘을 발휘하게 됩니다. "
   ]
  },
  {
   "cell_type": "code",
   "execution_count": 5,
   "metadata": {},
   "outputs": [],
   "source": [
    "# 클래스 상속을 사용하는 경우\n",
    "class Person(object):\n",
    "    def __init__(self, name):\n",
    "        self.name = name\n",
    "        print(name, '은(는) 무엇을 하나요?')\n",
    "\n",
    "    def run(self):\n",
    "        print('뜁니다.')\n",
    "    \n",
    "    def eat(self, food):\n",
    "        print('{}을 먹습니다.'.format(food))\n",
    "    \n",
    "    def sleep(self):\n",
    "        print('잠을 잡니다.')\n",
    "    \n",
    "    def study(self, target):\n",
    "        print('{}을 열심히 공부합니다.'.format(target))"
   ]
  },
  {
   "cell_type": "markdown",
   "metadata": {},
   "source": [
    "`Person`을 상속받은 각 클래스 안에는 앞서 직업별로 고유하게 가지고 있었던 함수를 정의해줍니다 ."
   ]
  },
  {
   "cell_type": "code",
   "execution_count": 6,
   "metadata": {},
   "outputs": [],
   "source": [
    "# Person을 상속\n",
    "class Doctor(Person):\n",
    "    def research(self):\n",
    "        print(\"열심히 연구합니다.\")\n",
    "    \n",
    "\n",
    "class Programmer(Person):\n",
    "    def coding(self):\n",
    "        print(\"열심히 개발합니다.\")\n",
    "\n",
    "\n",
    "class Designer(Person):\n",
    "    def design(self):\n",
    "        print(\"열심히 디자인을 합니다.\")"
   ]
  },
  {
   "cell_type": "markdown",
   "metadata": {},
   "source": [
    "## 2. 부모클래스의 함수 호출하기\n",
    "\n",
    "+ 부모 클래스를 상속받은 자식 클래스는 부모 클래스에서 정의된 함수를 그대로 받게 됩니다. \n",
    "+ 부모 클래스에 있는 함수와 동일한 명의 함수를 자식 클래스에서 정의하게 되면, 자식 클래스의 함수로 재정의 됩니다. 이를 **Overriding**이라고 합니다.  "
   ]
  },
  {
   "cell_type": "markdown",
   "metadata": {},
   "source": [
    "### (1) 부모 클래스의 함수 그대로 호출하기\n",
    "\n",
    "부모 클래스를 상속받은 자식 클래스는 부모 클래스에서 정의된 함수를 그대로 받게 됩니다. 자식 클래스에서 정의되어있지 않아도 부모 클래스의 함수명 그대로 불러올 수 있습니다. "
   ]
  },
  {
   "cell_type": "code",
   "execution_count": 7,
   "metadata": {
    "scrolled": true
   },
   "outputs": [
    {
     "name": "stdout",
     "output_type": "stream",
     "text": [
      "의사 김철수 은(는) 무엇을 하나요?\n",
      "컵라면을 먹습니다.\n"
     ]
    }
   ],
   "source": [
    "drKim = Doctor('의사 김철수') \n",
    "drKim.eat('컵라면') # 부모 클래스인 Person에서 정의된 eat을 실행함"
   ]
  },
  {
   "cell_type": "code",
   "execution_count": 8,
   "metadata": {},
   "outputs": [
    {
     "name": "stdout",
     "output_type": "stream",
     "text": [
      "열심히 연구합니다.\n"
     ]
    }
   ],
   "source": [
    "drKim.research() # 자식 클래스인 Doctor에서 정의된 research를 실행함"
   ]
  },
  {
   "cell_type": "markdown",
   "metadata": {},
   "source": [
    "### (2) 부모 클래스의 함수 덮어써서 호출하기\n",
    "\n",
    "부모클래스에 있는 함수와 동일한 이름의 함수가 자식 클래스에서 정의되면, 기존의 함수에 덮어써져서(overrided) 자식 클래스의 함수를 불러옵니다."
   ]
  },
  {
   "cell_type": "code",
   "execution_count": 9,
   "metadata": {},
   "outputs": [],
   "source": [
    "class Designer_new(Designer):\n",
    "    def design(self):\n",
    "        print(\"느낌대로 디자인을 합니다.\")"
   ]
  },
  {
   "cell_type": "code",
   "execution_count": 10,
   "metadata": {},
   "outputs": [
    {
     "name": "stdout",
     "output_type": "stream",
     "text": [
      "신인 디자이너 은(는) 무엇을 하나요?\n",
      "느낌대로 디자인을 합니다.\n"
     ]
    }
   ],
   "source": [
    "newbie = Designer_new('신인 디자이너')\n",
    "newbie.design()"
   ]
  },
  {
   "cell_type": "markdown",
   "metadata": {},
   "source": [
    "자식 클래스에서 정의되는 함수를 불러오기 때문에 매개변수(parameter) 역시 자식 함수에서 요구하는 변수를 입력해야 합니다. 부모 클래스에서 인스턴스 변수로 설정된 값이 부모 클래스의 다른 메소드에서 불러와질 때는 특히 지의를 기울여야 합니다. 자식 클래스의 함수가 오버라이딩 되는 과정에서 변수에 값이 할당되지 않아 부모 클래스의 함수를 불러와 실행할 때 오류가 발생할 수 있습니다. "
   ]
  },
  {
   "cell_type": "code",
   "execution_count": 11,
   "metadata": {},
   "outputs": [],
   "source": [
    "class Animal:\n",
    "    def __init__(self, name):\n",
    "        print(\"Animal의 __init__이 호출되었습니다.\")\n",
    "        self.name = name\n",
    "        \n",
    "    def say_hello(self):\n",
    "        print(\"{}님 안녕하세요!\".format(self.name))\n",
    "\n",
    "class Human(Animal):\n",
    "    def __init__( self, name, country):\n",
    "        print(\"Human의 __init__이 호출되었습니다.\")\n",
    "        self.country = country"
   ]
  },
  {
   "cell_type": "code",
   "execution_count": 14,
   "metadata": {},
   "outputs": [
    {
     "name": "stdout",
     "output_type": "stream",
     "text": [
      "Human의 __init__이 호출되었습니다.\n"
     ]
    }
   ],
   "source": [
    "person = Human( \"은령\", \"한국\") # 자식 클래스 Human의 __init__에서 요구하는 파라미터 입력."
   ]
  },
  {
   "cell_type": "code",
   "execution_count": 15,
   "metadata": {},
   "outputs": [
    {
     "ename": "AttributeError",
     "evalue": "'Human' object has no attribute 'name'",
     "output_type": "error",
     "traceback": [
      "\u001b[0;31m---------------------------------------------------------------------------\u001b[0m",
      "\u001b[0;31mAttributeError\u001b[0m                            Traceback (most recent call last)",
      "\u001b[0;32m<ipython-input-15-ebdbecf4cf1b>\u001b[0m in \u001b[0;36m<module>\u001b[0;34m()\u001b[0m\n\u001b[1;32m      1\u001b[0m \u001b[0;31m# Animal의 __init__이 호출되지 않았기 때문에, name에 값이 할당되지 않음. 오류 반환.\u001b[0m\u001b[0;34m\u001b[0m\u001b[0;34m\u001b[0m\u001b[0m\n\u001b[0;32m----> 2\u001b[0;31m \u001b[0mperson\u001b[0m\u001b[0;34m.\u001b[0m\u001b[0msay_hello\u001b[0m\u001b[0;34m(\u001b[0m\u001b[0;34m)\u001b[0m\u001b[0;34m\u001b[0m\u001b[0m\n\u001b[0m",
      "\u001b[0;32m<ipython-input-11-01ac0f0f660c>\u001b[0m in \u001b[0;36msay_hello\u001b[0;34m(self)\u001b[0m\n\u001b[1;32m      5\u001b[0m \u001b[0;34m\u001b[0m\u001b[0m\n\u001b[1;32m      6\u001b[0m     \u001b[0;32mdef\u001b[0m \u001b[0msay_hello\u001b[0m\u001b[0;34m(\u001b[0m\u001b[0mself\u001b[0m\u001b[0;34m)\u001b[0m\u001b[0;34m:\u001b[0m\u001b[0;34m\u001b[0m\u001b[0m\n\u001b[0;32m----> 7\u001b[0;31m         \u001b[0mprint\u001b[0m\u001b[0;34m(\u001b[0m\u001b[0;34m\"{}님 안녕하세요!\"\u001b[0m\u001b[0;34m.\u001b[0m\u001b[0mformat\u001b[0m\u001b[0;34m(\u001b[0m\u001b[0mself\u001b[0m\u001b[0;34m.\u001b[0m\u001b[0mname\u001b[0m\u001b[0;34m)\u001b[0m\u001b[0;34m)\u001b[0m\u001b[0;34m\u001b[0m\u001b[0m\n\u001b[0m\u001b[1;32m      8\u001b[0m \u001b[0;34m\u001b[0m\u001b[0m\n\u001b[1;32m      9\u001b[0m \u001b[0;32mclass\u001b[0m \u001b[0mHuman\u001b[0m\u001b[0;34m(\u001b[0m\u001b[0mAnimal\u001b[0m\u001b[0;34m)\u001b[0m\u001b[0;34m:\u001b[0m\u001b[0;34m\u001b[0m\u001b[0m\n",
      "\u001b[0;31mAttributeError\u001b[0m: 'Human' object has no attribute 'name'"
     ]
    }
   ],
   "source": [
    "# Animal의 __init__이 호출되지 않았기 때문에, name에 값이 할당되지 않음. 오류 반환.\n",
    "person.say_hello() "
   ]
  },
  {
   "cell_type": "markdown",
   "metadata": {},
   "source": [
    "### (3) 자식 클래스 안에서 부모 클래스의 함수 호출하기"
   ]
  },
  {
   "cell_type": "markdown",
   "metadata": {},
   "source": [
    "`super()`를 이용하면 부모 클래스의 함수를 자식 클래스 안에서 호출할 수 있습니다. \n",
    "<br> \n",
    "<br> \n",
    "아래 예를 살펴보면 `super().__init__(parameter)`로 부모 클래스의 함수를 호출하여 name 값을 `self.name` 변수에 할당합니다. "
   ]
  },
  {
   "cell_type": "code",
   "execution_count": 16,
   "metadata": {},
   "outputs": [],
   "source": [
    "class Animal:\n",
    "    def __init__(self, name):\n",
    "        print(\"Animal의 __init__이 호출되었습니다.\")\n",
    "        self.name = name\n",
    "        \n",
    "    def say_hello(self):\n",
    "        print(\"{}님 안녕하세요!\".format(self.name))\n",
    "\n",
    "class Human(Animal):\n",
    "    def __init__( self, name, country):\n",
    "        print(\"Human의 __init__이 호출되었습니다.\")\n",
    "        super().__init__(name) # 부모클래스의 __init__ 메소드 호출\n",
    "        self.country = country\n",
    "        "
   ]
  },
  {
   "cell_type": "code",
   "execution_count": 17,
   "metadata": {},
   "outputs": [
    {
     "name": "stdout",
     "output_type": "stream",
     "text": [
      "Human의 __init__이 호출되었습니다.\n",
      "Animal의 __init__이 호출되었습니다.\n"
     ]
    }
   ],
   "source": [
    "person = Human( \"은령\", \"한국\")"
   ]
  },
  {
   "cell_type": "code",
   "execution_count": 18,
   "metadata": {},
   "outputs": [
    {
     "name": "stdout",
     "output_type": "stream",
     "text": [
      "은령님 안녕하세요!\n"
     ]
    }
   ],
   "source": [
    "person.say_hello()"
   ]
  },
  {
   "cell_type": "markdown",
   "metadata": {},
   "source": [
    "## [Advanced] 매직메소드 오버라이딩\n",
    "\n",
    "+ Python 클래스에서 자주 사용하는 메소드 기능을 미리 구현해두어 사용자의 편의성을 높였는데, 이를 **매직 메소드**(Magic methods)라고 합니다.\n",
    "+ 매직 메소드는 언더스코어(`__`, underscore)를 앞뒤로 붙여 이름을 붙입니다. \n",
    "+ 매직 매소드를 덮어 쓰는 이러한 행동을 매직메소드 오버라이딩이라 부릅니다.\n",
    "+ 파이썬의 모든 클래스는 `object`라는 클래스를 상속받게 됩니다. `object`에는 다양한 매직매소드 기능이 구현되어 있습니다. 이들을 새롭게 구현하지 않고 `Object`클래스를 상속받아 오버라이딩하여 구현하는 것을 권장하고 있습니다.\n",
    "\n",
    "매직 메소드의 몇 가지 사례를 살펴보겠습니다. "
   ]
  },
  {
   "cell_type": "markdown",
   "metadata": {},
   "source": [
    "### 클래스 매직 메소드\n",
    "\n",
    "| 매직매소드 | 설명 |\n",
    "| ----   | --- |\n",
    "| `__init__(self[,...])` | 생성자 함수 |\n",
    "| `__repr__(self)` | 시스템이 해당객체를 인식할 수 있는 official 문자열 |\n",
    "| `__getitem__(self, key)` | `self[key]`를 구현 |\n",
    "| `__setitem__(self, key, value)` | self[key]=value |\n",
    "| `__add__(self, other)` | 더하기 연산자 오버라이딩 |\n",
    "| `__sub__(self, other)` | 빼기 연산자 오버라이딩 |\n",
    "\n",
    "이외에도 Python에서는 매우 많은 매직메소드가 존재합니다. "
   ]
  },
  {
   "cell_type": "code",
   "execution_count": 19,
   "metadata": {},
   "outputs": [],
   "source": [
    "class FruitMarket(object): # object 클래스를 상속합니다\n",
    "    def __init__(self, apples=0, bananas=0, pears=0):\n",
    "        self.apples = apples\n",
    "        self.bananas = bananas\n",
    "        self.pears = pears\n",
    "        \n",
    "    def __repr__(self):\n",
    "        return \"<(사과,바나나,배) : ({},{},{})>\".format(self.apples,\n",
    "                                                  self.bananas,\n",
    "                                                  self.pears)\n",
    "    \n",
    "    def __getitem__(self,key):\n",
    "        if key == \"사과\":\n",
    "            return self.apples\n",
    "        elif key == \"바나나\":\n",
    "            return self.bananas\n",
    "        elif key == \"배\":\n",
    "            return self.pears\n",
    "        else:\n",
    "            raise KeyError(\"그런 과일은 팔지 않습니다.\")\n",
    "    \n",
    "    def __add__(self, other):\n",
    "        apples = self.apples + other.apples\n",
    "        bananas = self.bananas + other.bananas\n",
    "        pears = self.pears + other.pears\n",
    "        return FruitMarket(apples, bananas, pears)\n",
    "    \n",
    "    def __sub__(self, other):\n",
    "        apples = self.apples - other.apples\n",
    "        bananas = self.bananas - other.bananas\n",
    "        pears = self.pears - other.pears\n",
    "        return FruitMarket(apples, bananas, pears)"
   ]
  },
  {
   "cell_type": "markdown",
   "metadata": {},
   "source": [
    "### (1) `__repr__`\n",
    "\n",
    "repr은 시스템이 해당 객체를 인식할 수 있는 Official 문자열로, 아래와 같이 디버깅을 위해 사용합니다. 인스턴스명을 실행하여 출력하거나 `repr(인스턴스명)`으로 출력할 수 있습니다. "
   ]
  },
  {
   "cell_type": "code",
   "execution_count": 23,
   "metadata": {},
   "outputs": [
    {
     "data": {
      "text/plain": [
       "<(사과,바나나,배) : (3,2,5)>"
      ]
     },
     "execution_count": 23,
     "metadata": {},
     "output_type": "execute_result"
    }
   ],
   "source": [
    "market1 = FruitMarket(apples=3,bananas=2,pears=5)\n",
    "market1"
   ]
  },
  {
   "cell_type": "code",
   "execution_count": 24,
   "metadata": {},
   "outputs": [
    {
     "data": {
      "text/plain": [
       "'<(사과,바나나,배) : (3,2,5)>'"
      ]
     },
     "execution_count": 24,
     "metadata": {},
     "output_type": "execute_result"
    }
   ],
   "source": [
    "repr(market1)"
   ]
  },
  {
   "cell_type": "code",
   "execution_count": 25,
   "metadata": {},
   "outputs": [
    {
     "data": {
      "text/plain": [
       "<(사과,바나나,배) : (3,1,3)>"
      ]
     },
     "execution_count": 25,
     "metadata": {},
     "output_type": "execute_result"
    }
   ],
   "source": [
    "market2 = FruitMarket(apples=3,bananas=1,pears=3)\n",
    "market2"
   ]
  },
  {
   "cell_type": "markdown",
   "metadata": {},
   "source": [
    "### (2) `__getitem__`\n",
    "\n",
    "`인스턴스명[<index>]`와 같은 방식으로 접근할 때 이용합니다. 입력 받은 인덱스에 대해 반환할 값이 없으면 KeyError를 반환하도록 만들 수도 있습니다.\n"
   ]
  },
  {
   "cell_type": "code",
   "execution_count": 26,
   "metadata": {},
   "outputs": [
    {
     "data": {
      "text/plain": [
       "3"
      ]
     },
     "execution_count": 26,
     "metadata": {},
     "output_type": "execute_result"
    }
   ],
   "source": [
    "market1 = FruitMarket(apples=3,bananas=2,pears=5)\n",
    "market1['사과']"
   ]
  },
  {
   "cell_type": "code",
   "execution_count": 27,
   "metadata": {},
   "outputs": [
    {
     "data": {
      "text/plain": [
       "3"
      ]
     },
     "execution_count": 27,
     "metadata": {},
     "output_type": "execute_result"
    }
   ],
   "source": [
    "# 위는 아래와 동일\n",
    "market1.__getitem__('사과')"
   ]
  },
  {
   "cell_type": "code",
   "execution_count": 28,
   "metadata": {},
   "outputs": [
    {
     "data": {
      "text/plain": [
       "5"
      ]
     },
     "execution_count": 28,
     "metadata": {},
     "output_type": "execute_result"
    }
   ],
   "source": [
    "market1['배']"
   ]
  },
  {
   "cell_type": "code",
   "execution_count": 29,
   "metadata": {},
   "outputs": [
    {
     "ename": "KeyError",
     "evalue": "'그런 과일은 팔지 않습니다.'",
     "output_type": "error",
     "traceback": [
      "\u001b[0;31m---------------------------------------------------------------------------\u001b[0m",
      "\u001b[0;31mKeyError\u001b[0m                                  Traceback (most recent call last)",
      "\u001b[0;32m<ipython-input-29-46a43011cfa8>\u001b[0m in \u001b[0;36m<module>\u001b[0;34m()\u001b[0m\n\u001b[0;32m----> 1\u001b[0;31m \u001b[0mmarket1\u001b[0m\u001b[0;34m[\u001b[0m\u001b[0;34m'토마토'\u001b[0m\u001b[0;34m]\u001b[0m\u001b[0;34m\u001b[0m\u001b[0m\n\u001b[0m",
      "\u001b[0;32m<ipython-input-19-f7aa3be92b97>\u001b[0m in \u001b[0;36m__getitem__\u001b[0;34m(self, key)\u001b[0m\n\u001b[1;32m     18\u001b[0m             \u001b[0;32mreturn\u001b[0m \u001b[0mself\u001b[0m\u001b[0;34m.\u001b[0m\u001b[0mpears\u001b[0m\u001b[0;34m\u001b[0m\u001b[0m\n\u001b[1;32m     19\u001b[0m         \u001b[0;32melse\u001b[0m\u001b[0;34m:\u001b[0m\u001b[0;34m\u001b[0m\u001b[0m\n\u001b[0;32m---> 20\u001b[0;31m             \u001b[0;32mraise\u001b[0m \u001b[0mKeyError\u001b[0m\u001b[0;34m(\u001b[0m\u001b[0;34m\"그런 과일은 팔지 않습니다.\"\u001b[0m\u001b[0;34m)\u001b[0m\u001b[0;34m\u001b[0m\u001b[0m\n\u001b[0m\u001b[1;32m     21\u001b[0m \u001b[0;34m\u001b[0m\u001b[0m\n\u001b[1;32m     22\u001b[0m     \u001b[0;32mdef\u001b[0m \u001b[0m__add__\u001b[0m\u001b[0;34m(\u001b[0m\u001b[0mself\u001b[0m\u001b[0;34m,\u001b[0m \u001b[0mother\u001b[0m\u001b[0;34m)\u001b[0m\u001b[0;34m:\u001b[0m\u001b[0;34m\u001b[0m\u001b[0m\n",
      "\u001b[0;31mKeyError\u001b[0m: '그런 과일은 팔지 않습니다.'"
     ]
    }
   ],
   "source": [
    "market1['토마토']"
   ]
  },
  {
   "cell_type": "markdown",
   "metadata": {},
   "source": [
    "### (3) `__add__`\n",
    "해당 클래스로 만들어진 두 인스턴스에 대해 더하기 연산자 `+`를 사용할 경우 작동할 코드와 반환되는 값을 정의합니다."
   ]
  },
  {
   "cell_type": "code",
   "execution_count": 30,
   "metadata": {},
   "outputs": [
    {
     "data": {
      "text/plain": [
       "<(사과,바나나,배) : (6,3,8)>"
      ]
     },
     "execution_count": 30,
     "metadata": {},
     "output_type": "execute_result"
    }
   ],
   "source": [
    "market1+market2 # 두 마켓의 과일 갯수 합"
   ]
  },
  {
   "cell_type": "code",
   "execution_count": 31,
   "metadata": {},
   "outputs": [
    {
     "data": {
      "text/plain": [
       "<(사과,바나나,배) : (6,3,8)>"
      ]
     },
     "execution_count": 31,
     "metadata": {},
     "output_type": "execute_result"
    }
   ],
   "source": [
    "# 위는 아래와 동일합니다.\n",
    "market1.__add__(market2)"
   ]
  },
  {
   "cell_type": "markdown",
   "metadata": {},
   "source": [
    "### (4) `__sub__`\n",
    "`__add__`와 마찬가지로 해당 클래스로 만들어진 두 인스턴스에 대해 빼기 연산자 `-`를 사용할 경우 작동할 코드와 반환되는 값을 정의합니다."
   ]
  },
  {
   "cell_type": "code",
   "execution_count": 32,
   "metadata": {},
   "outputs": [
    {
     "data": {
      "text/plain": [
       "<(사과,바나나,배) : (0,1,2)>"
      ]
     },
     "execution_count": 32,
     "metadata": {},
     "output_type": "execute_result"
    }
   ],
   "source": [
    "market1-market2 # 두 마켓의 과일 갯수 차이"
   ]
  },
  {
   "cell_type": "code",
   "execution_count": 33,
   "metadata": {},
   "outputs": [
    {
     "data": {
      "text/plain": [
       "<(사과,바나나,배) : (0,1,2)>"
      ]
     },
     "execution_count": 33,
     "metadata": {},
     "output_type": "execute_result"
    }
   ],
   "source": [
    "# 위는 아래와 동일합니다.\n",
    "market1.__sub__(market2)"
   ]
  },
  {
   "cell_type": "markdown",
   "metadata": {},
   "source": [
    "#  \n",
    "\n",
    "---\n",
    "\n",
    "    Copyright(c) 2019 by Public AI. All rights reserved.\n",
    "    Writen by PAI, SangJae Kang ( rocketgrowthsj@publicai.co.kr )  last updated on 2019/02/22\n",
    "---"
   ]
  }
 ],
 "metadata": {
  "kernelspec": {
   "display_name": "Python 3",
   "language": "python",
   "name": "python3"
  },
  "language_info": {
   "codemirror_mode": {
    "name": "ipython",
    "version": 3
   },
   "file_extension": ".py",
   "mimetype": "text/x-python",
   "name": "python",
   "nbconvert_exporter": "python",
   "pygments_lexer": "ipython3",
   "version": "3.6.6"
  },
  "toc": {
   "base_numbering": 1,
   "nav_menu": {},
   "number_sections": false,
   "sideBar": true,
   "skip_h1_title": false,
   "title_cell": "Table of Contents",
   "title_sidebar": "Contents",
   "toc_cell": false,
   "toc_position": {},
   "toc_section_display": true,
   "toc_window_display": false
  },
  "varInspector": {
   "cols": {
    "lenName": 16,
    "lenType": 16,
    "lenVar": 40
   },
   "kernels_config": {
    "python": {
     "delete_cmd_postfix": "",
     "delete_cmd_prefix": "del ",
     "library": "var_list.py",
     "varRefreshCmd": "print(var_dic_list())"
    },
    "r": {
     "delete_cmd_postfix": ") ",
     "delete_cmd_prefix": "rm(",
     "library": "var_list.r",
     "varRefreshCmd": "cat(var_dic_list()) "
    }
   },
   "types_to_exclude": [
    "module",
    "function",
    "builtin_function_or_method",
    "instance",
    "_Feature"
   ],
   "window_display": false
  }
 },
 "nbformat": 4,
 "nbformat_minor": 2
}
