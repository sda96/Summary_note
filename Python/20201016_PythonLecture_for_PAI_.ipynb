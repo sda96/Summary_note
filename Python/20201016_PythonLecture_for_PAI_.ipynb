{
 "cells": [
  {
   "cell_type": "markdown",
   "metadata": {
    "colab_type": "text",
    "id": "view-in-github"
   },
   "source": [
    "<a href=\"https://colab.research.google.com/github/sda96/PAI/blob/main/20201016_PythonLecture_for_PAI_.ipynb\" target=\"_parent\"><img src=\"https://colab.research.google.com/assets/colab-badge.svg\" alt=\"Open In Colab\"/></a>"
   ]
  },
  {
   "cell_type": "markdown",
   "metadata": {
    "id": "yrz-5a6Xqp7j"
   },
   "source": [
    "╔══<i><b>&nbsp;PAI-Programming&nbsp;</b></i>══════════════════════════════════╗\n",
    "###  &nbsp;&nbsp; **✎&nbsp;&nbsp;Week 1_Python**\n",
    "\n",
    "## Objective\n",
    "1. Programming 구조와 사고방식을 학습힌다.\n",
    "2. Python 문법을 습득한다. \n",
    "\n",
    "╚═══════════════════════════════════════════════╝\n",
    "\n",
    "< 성중쌤 강조 사항에 따른 해야 할 일 > ###\n",
    "- 정의를 명확히 하자 (용어, 개념)\n",
    "- 헷갈릴 수 있는 개념, 용어에 대한 질문 List를 작성하자\n"
   ]
  },
  {
   "cell_type": "markdown",
   "metadata": {
    "id": "iMV3wQ5YrLIt"
   },
   "source": [
    "# 새 섹션"
   ]
  },
  {
   "cell_type": "markdown",
   "metadata": {
    "id": "fqwEJDzKrNTK"
   },
   "source": [
    "# 1. 프로그래밍을 바라보는 관점\n",
    "\n",
    "*   자료 구조(Data Structure) \n",
    " - 데이터를 어떻게 구조화 할 것인가?\n",
    " - example) list, tuple, set, frozenset ,dict , string, etc\n",
    " - 어떻게 읽고, 어떻게 쓰는 것에 대해서 정의하고 싶은 것\n",
    "*   논리 구조(Logical Structure)\n",
    " - 문제를 해결하기 위해 어떻게 논리를 구축할 것인가? \n",
    "  (for , while , and ,or ...) \n",
    "\n",
    "* 궁국적으로 어떤 문제를 해결 할 것인가? \n"
   ]
  },
  {
   "cell_type": "markdown",
   "metadata": {
    "id": "7U4nXOxLxYV6"
   },
   "source": [
    "## 1-1   자료 구조(Data Structure) "
   ]
  },
  {
   "cell_type": "markdown",
   "metadata": {
    "id": "dO_AU4hHz7mW"
   },
   "source": [
    "### 1.1.1  자료구조의 필요성 "
   ]
  },
  {
   "cell_type": "markdown",
   "metadata": {
    "id": "Cfjhfafvvfat"
   },
   "source": [
    "Q1)  \n",
    "아래 Data 안에는 어떤 종류의 Element들이 있을까?\n"
   ]
  },
  {
   "cell_type": "code",
   "execution_count": null,
   "metadata": {
    "id": "D5HoK4KWr0yl"
   },
   "outputs": [],
   "source": [
    "a = [1, 2, 3, 4, 1, 2, 3, 4, 5, 6, 1, 2, 3, 4, 5, 6]"
   ]
  },
  {
   "cell_type": "markdown",
   "metadata": {
    "id": "pghBgCSjvGZ6"
   },
   "source": [
    "어떤 종류의 Element 들이 있는지 확인하기 위해 `set` 이라는 `자료구조` 를 사용했습니다. "
   ]
  },
  {
   "cell_type": "code",
   "execution_count": null,
   "metadata": {
    "id": "Wz_wCVpPuG_Y"
   },
   "outputs": [],
   "source": [
    "set(a)"
   ]
  },
  {
   "cell_type": "markdown",
   "metadata": {
    "id": "DxqE981lv-RJ"
   },
   "source": [
    "`set`의 중복이 안된다는 `속성` attribute 을 사용했습니다.   \n",
    "❖ 각 자료구조의 속성을 잘 파악하는 것이 중요합니다. "
   ]
  },
  {
   "cell_type": "markdown",
   "metadata": {
    "id": "YkS_lyKfvrAB"
   },
   "source": [
    "Q2)  \n",
    "각 Element 이 몇 개씩 있는지 확인하고 싶다. 어떤 자료구조을 써야 할까?"
   ]
  },
  {
   "cell_type": "code",
   "execution_count": null,
   "metadata": {
    "id": "cEyLWj4Kv6js"
   },
   "outputs": [],
   "source": [
    "#1\n",
    "bucket = {}\n",
    "for ele in a:\n",
    "    if ele not in bucket.keys():\n",
    "        bucket[ele] = a.count(ele)\n",
    "print(bucket)\n",
    "    \n",
    "#2 \n",
    "from collections import Counter\n",
    "counts = Counter(a)\n",
    "print(counts)\n",
    "\n",
    "#3 \n",
    "import numpy as np \n",
    "value, counts = np.unique(a, return_counts=True)\n",
    "print(value, counts)"
   ]
  },
  {
   "cell_type": "markdown",
   "metadata": {
    "id": "3-zvXEmczxIm"
   },
   "source": [
    "### 1.1.2 컨테이너 자료구조 종류\n",
    " - list \n",
    " - tuple \n",
    " - set\n",
    " - dict\n",
    " - string  \n",
    " - frozneset(option)\n",
    " "
   ]
  },
  {
   "cell_type": "code",
   "execution_count": null,
   "metadata": {
    "id": "Zhmpu2Iv0RLj"
   },
   "outputs": [],
   "source": [
    "# Literal(고정된 값) 생성\n",
    "sample_1 = [1,1,2,2,3,3] # list \n",
    "sample_2 = (1,1,2,2,3,3) # tuple\n",
    "sample_3 = {1,1,2,2,3,3} # set\n",
    "sample_4 = {1:2,2:2,3:2} # dict \n",
    "sample_5 = \"1,1,2,2,3,3\"\n",
    "sample_6 = frozenset((1,1,2,2,3,3)) # frozenset ###\n",
    "print(sample_1)\n",
    "print(sample_2)\n",
    "print(sample_3)\n",
    "print(sample_4)\n",
    "print(sample_5)\n",
    "print(sample_6)"
   ]
  },
  {
   "cell_type": "code",
   "execution_count": null,
   "metadata": {
    "id": "9yUW2tVF3msb"
   },
   "outputs": [],
   "source": [
    "# 생성자(constructor) 생성\n",
    "a = [1,1,2,2,3,3]\n",
    "sample_1 = list(a)\n",
    "sample_2 = tuple(a)\n",
    "sample_3 = set(a)\n",
    "sample_4 = dict({1:2, 2:2, 3:2})\n",
    "sample_5 = str(a)\n",
    "\n",
    "print(sample_1)\n",
    "print(sample_2)\n",
    "print(sample_3)\n",
    "print(sample_4)\n",
    "print(sample_5)"
   ]
  },
  {
   "cell_type": "markdown",
   "metadata": {
    "id": "YAhqmLhByoRR"
   },
   "source": [
    "### 1.1.3 자료구조 속성\n"
   ]
  },
  {
   "cell_type": "markdown",
   "metadata": {
    "id": "6nj6S6spyvLr"
   },
   "source": [
    "- [sequence(order)](https://python.flowdas.com/library/collections.html)\n",
    "> A sequence is a group of items with a deterministic ordering.(순서를 가지고 있는)\n",
    "\n",
    "- [mutable , immutable ](https://www.geeksforgeeks.org/mutable-vs-immutable-objects-in-python/)\n",
    "> Whenever an object is instantiated, it is assigned a unique object id. The type of the object is defined at the runtime and it can’t be changed afterwards. However, it’s state can be changed if it is a mutable object.\n",
    "To summarise the difference, mutable objects can change their state or contents and immutable objects can’t change their state or content.  \n",
    "`Immutable Objects` : These are of in-built types like int, float, bool, string, unicode, tuple. In simple words, an immutable object can’t be changed after it is created  \n",
    "`Mutable Objects` : These are of type list, dict, set . Custom classes are generally mutables  \n",
    "❖`state` : The contents of the memory locations, at any given point in the program’s execution, is called the program’s state.\n",
    "\n",
    "\n",
    "- [hashable](https://docs.python.org/2/glossary.html)\n",
    " > An object is hashable if it has a hash value which never changes during its lifetime (it needs a __hash__() method), and can be compared to other objects\n",
    "\n",
    "- [mapping](https://docs.python.org/2.0/lib/typesmapping.html)\n",
    "> A mapping object maps values of one type (the key type) to arbitrary objects. Mappings are mutable objects. There is currently only one standard mapping type, the dictionary. \n",
    "\n",
    "- [collections](https://python.flowdas.com/library/collections.html)\n",
    "> Python collection, unlike a sequence, does not have a deterministic ordering.\n",
    "\n",
    "- [iterable](https://www.pythonlikeyoumeanit.com/Module2_EssentialsOfPython/Iterables.html)\n",
    "> An iterable is any Python object capable of returning its members one at a time, permitting it to be iterated over in a for-loop.\n",
    "\n",
    "\n"
   ]
  },
  {
   "cell_type": "markdown",
   "metadata": {
    "id": "MPgx_Q7Y8ihj"
   },
   "source": [
    "|             | order/unorder | iterable | mutable/ immutable | hashable | index |\n",
    "|-------------|---------------|----------|--------------------|----------|-------|\n",
    "|        list | order         | O        | mutable            | X        | O     |\n",
    "| tuple       | order         | O        | immutable          | O        | O     |\n",
    "| set         | unorder       | O        | mutable            | X        | X     |\n",
    "| frozenset   | unorder       | O        | immutable          | O        | X     |\n",
    "| dict        | unorder       | O        | mutable            | X        | O     |\n",
    "| string      | order         | O        | immutable          | O        | O     |\n",
    "| numberic    | unorder       | X        | immutable          | O        | X     |\n",
    "| bool        | unorder       | X        | immutable          | O        | X     |\n",
    "\n",
    "=> 자료구조의 특성 파악할 때 **이런식**으로 접근해야 한다."
   ]
  },
  {
   "cell_type": "markdown",
   "metadata": {
    "id": "EnRrEB7TBgxG"
   },
   "source": [
    "#### 1.1.3.1 order / unorder\n",
    "- __getitem__(), __len__() // collections.abs.Sequence : count(), index(), __contains__(), __reversed__()\n",
    "- 시퀀스는 보통 같은 시퀀스 형태의 다른 객체들과 비교 가능, 시퀀스는 사전식 순서를 따르기 때문에\n",
    "- 정수 인덱스를 사용하면서, specaial method __getitem__()을 통해서, 혹은 sequence의 길이를 return 해주는 __len__() 메소드를 통해 객체 내 element에 빠르고 효과적인 액세스를 지원하는 iterable\n",
    "- list, str, tuple, bytes\n",
    "- dict도 __getitem__()과 __len__()을 지원하지만, sequence보다는 mapping으로 취급됨, 왜냐하면 조회 시 정수보다는 임의의 불변하는 키를 사용하기 때문에"
   ]
  },
  {
   "cell_type": "code",
   "execution_count": null,
   "metadata": {
    "id": "TnJukEyD_eHE"
   },
   "outputs": [],
   "source": [
    "# order\n",
    "a = [1,2,3]\n",
    "b = [3,2,1]\n",
    "print(a == b)\n",
    "\n",
    "# unorder \n",
    "a = set(a)\n",
    "b = set(b)\n",
    "print(a == b )"
   ]
  },
  {
   "cell_type": "markdown",
   "metadata": {
    "id": "zAnlwyY7CC2_"
   },
   "source": [
    "#### 1.1.3.2 iterable / uniterable\n",
    " - 자신의 구성요소를 하나씩 return할 수 있는 객체\n",
    " - iterable한 객체 예시로는 sequence types(list, str, tuple), non-sequence types(dict, file objects), 그리고 사용자가 __iter__() 메소드나 __getitem__() 메소드로 정의한 class\n",
    " - iterables는 for 반복문에서 사용가능, zip(), map()에서도..\n",
    " - iterable 객체가 내장함수인 iter()를 호출하면, 객체를 위한 iterator가 return된다.\n",
    " - iterator는 값들의 집합을 한번 거치는 동안 유효\n",
    " - iterables를 사용시에는 대개 iter()를 호출하거나 iterator object를 다룰 필요 없음, 왜냐하면 for 반복문이 일시적인 unnamed 변수를 만들어 loop를 도는 동안 iterator 역할을 하게끔 만들기 때문\n",
    " - indexing이 안된다고해서 iterable이 불가능한 것은 아니다. e.g.)set\n",
    " - \n"
   ]
  },
  {
   "cell_type": "code",
   "execution_count": null,
   "metadata": {
    "id": "E8xu_XRaBndO"
   },
   "outputs": [],
   "source": [
    "# iterable \n",
    "a = [1,2,3]\n",
    "for ele in a:\n",
    "    print(ele)\n",
    "\n",
    "# uniterable \n",
    "try:\n",
    "    for ele in True:\n",
    "        print(ele)\n",
    "except TypeError as ne : \n",
    "    print(ne)"
   ]
  },
  {
   "cell_type": "markdown",
   "metadata": {
    "id": "dBI1Yp-fCHhr"
   },
   "source": [
    "#### 1.1.3.3 mutable / immutable \n",
    " - mutable 객체는 메모리 주소가 바뀔 수 있다. e.g.)list, set, dict 등\n",
    " - immutable : 고정된 값을 갖는 객체  e.g.)숫자, 문자열, 튜플 등\n",
    " - immutable한 객체들은 변경될 수 없고 새 값을 저장하려면 새 객체를 생성해야 함\n",
    " - 변하지 않는 해시값이 있어야 하는 곳에서 중요한 역할을 함(ex. dictionary key, set component)\n",
    " - ###copy할 때, mutable, immutable의 copy방식이 바뀐다   \n",
    " (https://blueshw.github.io/2016/01/20/shallow-copy-deep-copy/)\n",
    " (https://wikidocs.net/16038)"
   ]
  },
  {
   "cell_type": "code",
   "execution_count": null,
   "metadata": {
    "id": "HPLWI9BLCWkg"
   },
   "outputs": [],
   "source": [
    "# list is mutable \n",
    "a = [1,2,3] \n",
    "print(id(a))\n",
    "a.append(4)\n",
    "print(id(a))\n",
    "\n",
    "# tuple is immutable \n",
    "b = (1,2,3) \n",
    "print(id(b))\n",
    "b = b + (4,)\n",
    "print(id(b))"
   ]
  },
  {
   "cell_type": "code",
   "execution_count": null,
   "metadata": {
    "id": "2NKih2XqDxnu"
   },
   "outputs": [],
   "source": [
    "a=[1,2,3]\n",
    "b = (1,2,3)\n",
    "\n",
    "# list is mutable \n",
    "def fn(a):\n",
    "    a.append(5)\n",
    "    \n",
    "fn(a)\n",
    "print(a)\n",
    "\n",
    "# tuple is immutable \n",
    "### \"b =\" 을 추가\n",
    "def fn2(b):\n",
    "    b = b + (4,)\n",
    "fn2(b)\n",
    "print(b)"
   ]
  },
  {
   "cell_type": "markdown",
   "metadata": {
    "id": "JInlSllmD6My"
   },
   "source": [
    "#### 1.1.3.4 hasable / unhashable\n",
    "\n",
    "- hashtable : cpu가 특정 값을 저장하고 그 값을 빠르게 가져올 수 있는 공간\n",
    "- hashable : 생성 이후 절대 변하지 않는 hash value를 갖고, 다른 object와 비교할 수 있는 object\n",
    "- 대체로 immutable한 object는 hashable하다\n",
    " - mutable containers(lists, dictionaries)는 not hashable\n",
    " - immutable containers(tuples, frozensets)는 그 구성요소가 hashable할 때만 hashable\n",
    " - 사용자 정의 class의 instance 객체들은 기본적으로 hashable, 자기 자신을 제외하고는 비교시 모두 다르다는 결과를 도출하며, 해쉬값은 id()로부터 만들어짐  \n",
    "\n",
    "<center><img src=\"https://user-images.githubusercontent.com/35826728/96822482-26321180-1465-11eb-86be-225da4f2636d.png\" width=\"300\" height=\"300\"></center>\n",
    "\n",
    " "
   ]
  },
  {
   "cell_type": "code",
   "execution_count": null,
   "metadata": {
    "id": "az5DcAE1EENI"
   },
   "outputs": [],
   "source": [
    "# list is mutable \n",
    "a = [1,2,3] \n",
    "try:\n",
    "    hash(a)\n",
    "except TypeError as te:\n",
    "    print(te)\n",
    "# tuple is immutable \n",
    "\n",
    "b = (1,2,3) \n",
    "hash(b)\n",
    "\n",
    "# example\n",
    "# set은 내부에 hashable 한 자료구조를 담아야 한다.\n",
    "\n",
    "b = set([1,2,3, (1,2)])\n",
    "try :\n",
    "    set([1,2,3, [1,2]])\n",
    "except  as e:\n",
    "    print(e)"
   ]
  },
  {
   "cell_type": "code",
   "execution_count": null,
   "metadata": {
    "id": "_F3GpiRBVGuP"
   },
   "outputs": [],
   "source": [
    "# 컨테이너 속성들은 다른 주소값을 가지고 있다. (아까 a=1, b=1에서 a,b의 id는 같았음)\n",
    "a = [1, 2, 3]\n",
    "b = [1, 2, 3]\n",
    "id(a), id(b)"
   ]
  },
  {
   "cell_type": "code",
   "execution_count": null,
   "metadata": {
    "id": "NPZv1OMjVGuS"
   },
   "outputs": [],
   "source": [
    "# 속성 값끼리 id는 같음\n",
    "print(id(a[0]), id(b[0]))"
   ]
  },
  {
   "cell_type": "markdown",
   "metadata": {
    "id": "qU146LcjzRQj"
   },
   "source": [
    "### 1.1.4 참고내용"
   ]
  },
  {
   "cell_type": "markdown",
   "metadata": {
    "id": "oqiJpYNSsoNJ"
   },
   "source": [
    "#### 1.1.4.1 interning - 자주 쓰는 것들은 미리 저장해놓고 꺼내 쓰는 것 (숫자, Bool, 알파벳 등)  \n",
    "(http://pythonstudy.xyz/python/article/512-%ED%8C%8C%EC%9D%B4%EC%8D%AC-Object-Interning)"
   ]
  },
  {
   "cell_type": "code",
   "execution_count": null,
   "metadata": {
    "id": "qvEEM79zstYh"
   },
   "outputs": [],
   "source": [
    "# numberic 객체는 immuatble인데 왜 메모리 주소가 같은가?\n",
    "a = 10\n",
    "b = 10\n",
    "print(id(a))\n",
    "print(id(b))"
   ]
  },
  {
   "cell_type": "code",
   "execution_count": null,
   "metadata": {
    "id": "MW5MpLRetMHv"
   },
   "outputs": [],
   "source": [
    "# numberic 객체는 immuatble이라서 메모리 주소가 다른건 맞는데 이전에는 왜 같은거지?\n",
    "a = 257\n",
    "b = 257\n",
    "print(id(a))\n",
    "print(id(b))"
   ]
  },
  {
   "cell_type": "code",
   "execution_count": null,
   "metadata": {
    "id": "UIgdpXE6ueDt"
   },
   "outputs": [],
   "source": [
    "# string 객체는 immuatble인데 왜 메모리 주소가 같은가?\n",
    "a = \"TEST\"\n",
    "b = \"TEST\"\n",
    "print(id(a))\n",
    "print(id(b))"
   ]
  },
  {
   "cell_type": "code",
   "execution_count": null,
   "metadata": {
    "id": "9vZ5zCU3uoWN"
   },
   "outputs": [],
   "source": [
    "# string 객체는 immuatble이라서 메모리 주소가 다른건 맞는데 이전에는 왜 같은거지?\n",
    "a = \"TEST TEST\"\n",
    "b = \"TEST TEST\"\n",
    "print(id(a))\n",
    "print(id(b))"
   ]
  },
  {
   "cell_type": "markdown",
   "metadata": {
    "id": "qJCUVCLcuDqe"
   },
   "source": [
    "interning은 python의 default기능으로 자주 쓰이는 immutable 객체의 경우 동일한 메모리 주소를 참조한다.\n",
    " - 정수: -5 부터 256 사이의 정수\n",
    " - 문자열: 20자 미만의 공백을 포함하지 않는 문자열"
   ]
  },
  {
   "cell_type": "code",
   "execution_count": null,
   "metadata": {
    "id": "2GMCnDG7vXb7"
   },
   "outputs": [],
   "source": [
    "# 내가 직접 interning 시킬 수도 있다!\n",
    "from sys import intern\n",
    "a = intern(\"TEST TEST\")\n",
    "b = \"TEST TEST\"\n",
    "c = intern(\"TEST TEST\")\n",
    "print(id(a),id(b),id(c))"
   ]
  },
  {
   "cell_type": "code",
   "execution_count": null,
   "metadata": {
    "id": "Avi_sFiQtfs7"
   },
   "outputs": [],
   "source": [
    "# 한국어는 interning이 안돼네? 신기하구만\n",
    "a = \"한국어\"\n",
    "b = \"한국어\"\n",
    "print(id(a),id(b))"
   ]
  },
  {
   "cell_type": "markdown",
   "metadata": {
    "id": "wRIzhLqupwqq"
   },
   "source": [
    "#### 1.1.4.2 deepcopy함수를 활용한 원본a 훼손없이 복사본b 맘대로 다루기"
   ]
  },
  {
   "cell_type": "code",
   "execution_count": null,
   "metadata": {
    "id": "zeEgwd4xj_w0"
   },
   "outputs": [],
   "source": [
    "a = [1,2,3,4] # 바뀌면 안되는 list \n",
    "b = a # a를 참조한 b\n",
    "print(a,b) # 값도 동일하다\n",
    "print(id(a),id(b)) # 메모리 주소값도 동일하다\n",
    "b.append(5) # 참조한 b를 수정하였더니\n",
    "print(a,b) # a도 수정이 되버렸다!\n",
    "print(id(a),id(b)) # 메모리 주소값이 동일하기 떄문!"
   ]
  },
  {
   "cell_type": "code",
   "execution_count": null,
   "metadata": {
    "id": "G3G6LI_0lk55"
   },
   "outputs": [],
   "source": [
    "import copy # 바뀌면 안되는 리스트 a가 바뀌는 현상을 막기위하여 import copy\n",
    "a = [1,2,3,4] # 바뀌면 안되는 list \n",
    "b = copy.copy(a) # a를 복사한 b\n",
    "print(a,b) # 값은 동일하다\n",
    "print(id(a),id(b)) # 근데 이전과 다르게 메모리 주소가 달라졌다!\n",
    "b.append(5) # 복사한 b를 수정하였더니\n",
    "print(a,b) # a는 수정이 안되고 b만 수정되었다!\n",
    "print(id(a),id(b)) # 메모리 주소값이 서로 다르기 떄문!"
   ]
  },
  {
   "cell_type": "markdown",
   "metadata": {
    "id": "VLj8v8-vlCQC"
   },
   "source": [
    "shallow copy (얕은 복사)"
   ]
  },
  {
   "cell_type": "code",
   "execution_count": null,
   "metadata": {
    "id": "8Xq1nZhglL7L"
   },
   "outputs": [],
   "source": [
    "import copy # 바뀌면 안되는 리스트 a가 바뀌는 현상을 막기위하여 import copy\n",
    "a = [1,2,3,[1,2,4]] # 바뀌면 안되는 list \n",
    "b = copy.copy(a) # 얕은 복사\n",
    "b = a[:] # 얕은 복사\n",
    "print(a,b) # 값은 동일하다\n",
    "print(id(a),id(b)) # 근데 이전과 다르게 메모리 주소가 달라졌다!\n",
    "b.append(5) # 복사한 b를 수정하였더니\n",
    "print(a,b) # a는 수정이 안되고 b만 수정되었다!\n",
    "print(id(a),id(b)) # 메모리 주소값이 서로 다르기 떄문!\n",
    "\n",
    "print(a[3],b[3])\n",
    "print(id(a[3]),id(b[3])) # 얕은 복사라서 mutable객체안에 mutable객체는 같은 메모리 주소를 가르킴"
   ]
  },
  {
   "cell_type": "markdown",
   "metadata": {
    "id": "IPEg8fL6lIjE"
   },
   "source": [
    "deep copy (깊은 복사)"
   ]
  },
  {
   "cell_type": "code",
   "execution_count": null,
   "metadata": {
    "id": "ErYIFdzSlY0j"
   },
   "outputs": [],
   "source": [
    "import copy # 바뀌면 안되는 리스트 a가 바뀌는 현상을 막기위하여 import copy\n",
    "a = [1,2,3,[1,2,4]] # 바뀌면 안되는 list \n",
    "b = copy.deepcopy(a) # 깊은 복사\n",
    "print(a,b) # 값은 동일하다\n",
    "print(id(a),id(b)) # 근데 이전과 다르게 메모리 주소가 달라졌다!\n",
    "b.append(5) # 복사한 b를 수정하였더니\n",
    "print(a,b) # a는 수정이 안되고 b만 수정되었다!\n",
    "print(id(a),id(b)) # 메모리 주소값이 서로 다르기 떄문!\n",
    "\n",
    "print(a[3],b[3])\n",
    "print(id(a[3]),id(b[3])) # 깊은 복사라서 mutable객체안에 mutable객체도 새로운 메모리 주소 할당"
   ]
  },
  {
   "cell_type": "markdown",
   "metadata": {
    "id": "zsmv9odjpgDO"
   },
   "source": [
    "결론 : deepcopy함수를 사용하면 원본 mutable 객체 a는 훼손없이 복사된 b는 맘대로 수정이 가능하다!"
   ]
  },
  {
   "cell_type": "markdown",
   "metadata": {
    "id": "hwMj_1GVEk4K"
   },
   "source": [
    "### 1.1.4 자료구조 형태\n",
    "  `OOP` 에서 자료구조는 Class 의 형태를 가지고 있습니다.  \n",
    "  Class 는 `변수(Variable)` + `함수(Function)` 을 가지고 있습니다. \n",
    "\n",
    "    `변수` : 프로그래밍에서 자료구조가 담길 메모리 공간  \n",
    "    `함수` : 하나의 특별한 목적의 작업을 수행하기 위해 독립적으로 설계된 코드의 집합으로 정의할 수 있습니다 \n",
    "\n",
    "\n",
    "`기본 자료 구조`\n",
    "- python 이 필요 할거라고 예상되어 미리 만들어놓은 자료 구조  \n",
    "\n",
    "    example) list, int, float, tuple, .. etc\n",
    "\n",
    "`사용자 정의 자료구조`\n",
    "- 사용자가 필요에 의해 만들어 놓은 자료구조 \n",
    " \n",
    " "
   ]
  },
  {
   "cell_type": "code",
   "execution_count": null,
   "metadata": {
    "id": "Et9oI0_PExpU"
   },
   "outputs": [],
   "source": [
    "a = [1,2,3]\n",
    "# list 의 자료구조 \n",
    "print(type(a))\n",
    "\n",
    "# list 자료구조의 함수 \n",
    "a.append(4)\n",
    "\n",
    "# access all variable \n",
    "a"
   ]
  },
  {
   "cell_type": "markdown",
   "metadata": {
    "id": "V7C5I9HdVGuw"
   },
   "source": [
    "#### 1.1.4.1 함수\n",
    "![image](https://user-images.githubusercontent.com/35826728/96824417-b8d4af80-1469-11eb-9893-0e42bda89713.png)\n",
    "- 함수 : 특정한 기능을 수행하기 위한 코드들의 집합체입니다. 입력받은 인자를 매개변수로 받아 실행한 뒤 결과 값을 반환할 수 있고, 여러 번 재사용이 가능합니다. ###\n",
    "\n",
    "- 함수 정의 : 함수를 만드는 과정으로 함수명, 입력값, 실행내용, 출력값들을 이 과정에서 정합니다. ###\n",
    "\n",
    "- 매개변수: 외부로부터 입력 받은 값을 저장해서 함수 내에서 사용할 수 있게 해주는 변수입니다. ###\n",
    "\n",
    "- 인자: 함수 외부에서 함수 내부로 전달하고자 하는 값입니다. ###\n",
    "\n",
    "- 반환: 함수의 실행 결과로 나온 결과 값을 함수가 호출된 위치로 반환하는 과정 return이라고도 합니다. ###\n",
    "\n",
    "- 호출: 함수 내로 인자를 전달하여 함수를 실행하기 위한 과정입니다. ###\n",
    "- 함수에서 변수를 찾는 방식은 'locals()'(함수내부)에서 먼저 찾고 없으면 'globals()'(함수외부)에서 찾아본다. ###\n",
    "\n"
   ]
  },
  {
   "cell_type": "markdown",
   "metadata": {
    "id": "osRdlP0JgwZd"
   },
   "source": [
    "- Call by Value, Call by Reference ###\n",
    "    - function에 사용되는 워딩들\n",
    "    - function에 전달되는 객체 유형에 따라 달라진다.\n",
    "    - Call by Value ⇒ immutable 객체가 넘어왔을 때\n",
    "    - Call by Reference ⇒ mutable 객체가 넘어왔을 때"
   ]
  },
  {
   "cell_type": "code",
   "execution_count": null,
   "metadata": {
    "id": "w0fvdCeWVGuw"
   },
   "outputs": [],
   "source": [
    "def sum(a, b):\n",
    "    \"\"\"\n",
    "    Description: \n",
    "        이 함수는 더하는 함수입니다.\n",
    "    Args: \n",
    "        a, int, 더해질 첫번째 인자입니다.\n",
    "        b, int, 더해질 두번째 인자입니다.\n",
    "    Return:\n",
    "        c, int, a + b가 됩니다.\n",
    "    \"\"\"\n",
    "    return a + b\n",
    "\n",
    "print(help(sum))"
   ]
  },
  {
   "cell_type": "code",
   "execution_count": null,
   "metadata": {
    "id": "pgJi4NG9VGu0"
   },
   "outputs": [],
   "source": [
    "globals()\n",
    "print(locals()) # => 함수내에서 실행시켜봐라"
   ]
  },
  {
   "cell_type": "markdown",
   "metadata": {
    "id": "D4EhzW8YfInM"
   },
   "source": [
    "#### 1.1.4.2 클래스\n",
    "![image](https://user-images.githubusercontent.com/35826728/96824340-8aef6b00-1469-11eb-9858-769870c64af0.png)\n",
    "- 클래스 : 속성과 메소드로 구성된 인스턴스를 생성하는 틀입니다.###\n",
    "- 인스턴스: 클래스로부터 생성된 객체로, 속성과 메소드를 갖게됩니다. ###\n",
    "- 인스턴스 속성 : 인스턴스가 갖는 고유의 속성값을 뜻합니다. ###\n",
    "- 생성자(Constructor) : 인스턴스를 생성할 때 동시에 실행되는 메소드로, 인스턴스들의 속성값을 초기화할 때 주로 사용합니다. ###\n",
    "- 메소드 : 인스턴스들에게 가능한 행동들을 정의하는 함수입니다. ###\n",
    "- Class안에 있는 함수를 method, 변수를 attribute라고 한다. ###\n"
   ]
  },
  {
   "cell_type": "code",
   "execution_count": null,
   "metadata": {
    "id": "3jU5UsvEIN9D"
   },
   "outputs": [],
   "source": [
    "class PAI():\n",
    "    member = 'too many'\n",
    "    @staticmethod\n",
    "    def work():\n",
    "        print('working')\n",
    "\n",
    "pai = PAI()\n",
    "print(pai.member)\n",
    "pai.work()"
   ]
  },
  {
   "cell_type": "code",
   "execution_count": null,
   "metadata": {
    "id": "2cvF_XBqVGud"
   },
   "outputs": [],
   "source": [
    "# 생성자 (Constructor)\n",
    "class PAI():\n",
    "    default_snack = 'potato'\n",
    "    member = 'song'\n",
    "    def __init__(self, snack):\n",
    "        self.snack = snack\n",
    "    # 함수 설계시, instance 변수가 필요한 함수인가 아닌가를 생각\n",
    "    # 필요하다 => instance function이 되어야한다.\n",
    "    # 필요없다 => Class function이 되어야한다.\n",
    "    def eat(self):\n",
    "        # self.member + '' 도 가능하다.\n",
    "        # 클래스 변수를 이렇게 불러올 수 있다.\n",
    "        PAI.member + ''\n",
    "        \n",
    "pai = PAI(snack='Oh, YES!')\n",
    "pai.snack\n",
    "\n",
    "# class valiable 쓰는 법\n",
    "PAI.default_snack\n",
    "\n",
    "# instance variable 쓰는 법\n",
    "pai = PAI(snack='oh,yes')\n",
    "print(pai.snack)\n",
    "pai.eat()"
   ]
  },
  {
   "cell_type": "markdown",
   "metadata": {
    "id": "8E-gll-HjvKS"
   },
   "source": [
    "??? 여기 정리하기 ###"
   ]
  },
  {
   "cell_type": "code",
   "execution_count": null,
   "metadata": {
    "id": "jgGHqi8wVGuh"
   },
   "outputs": [],
   "source": [
    "# class 함수 / 변수 만드는 법\n",
    "class Member():\n",
    "    # class variable(member)\n",
    "    alive = True\n",
    "    \n",
    "    # class function\n",
    "    @staticmethod\n",
    "    def check_alive():\n",
    "        print(Member.alive)\n",
    "\n",
    "    @classmethod\n",
    "    def check_alive2(cls):\n",
    "        print(cls.alive)\n",
    "    \n",
    "    # 인스턴스 메서드\n",
    "    def check_cls_def(self):\n",
    "        print()\n",
    "\n",
    "Member.check_alive()\n",
    "Member.check_alive2()"
   ]
  },
  {
   "cell_type": "markdown",
   "metadata": {
    "id": "GPBt2cI4mrOk"
   },
   "source": [
    "- DocString\n",
    "- secret method  \n",
    "둘에 대한 내용"
   ]
  },
  {
   "cell_type": "code",
   "execution_count": null,
   "metadata": {
    "id": "hH0eKdnzVGuk"
   },
   "outputs": [],
   "source": [
    "class factory():\n",
    "    # DocString 작성\n",
    "    \"\"\"\n",
    "    Description:\n",
    "    Args:\n",
    "    Return:\n",
    "    \"\"\"\n",
    "    # class variable\n",
    "    product = 'mac'\n",
    "    \n",
    "    # instance variable\n",
    "    def __init__(self, product_color):\n",
    "        self.product_color = product_color\n",
    "        \n",
    "    # instance func\n",
    "    def check_color(self, color):\n",
    "        print(factory.product)\n",
    "        print(self.product_color)\n",
    "    \n",
    "    # secret method    \n",
    "    def _secret(self):\n",
    "        print('비밀이지')\n",
    "\n",
    "    # secret method    \n",
    "    def __top_secret(self):\n",
    "        print('Top비밀이지')\n",
    "\n",
    "fctry = factory('space gray')\n",
    "fctry.check_color('red')"
   ]
  },
  {
   "cell_type": "code",
   "execution_count": null,
   "metadata": {
    "id": "HFABjKEJVGum"
   },
   "outputs": [],
   "source": [
    "fctry.__top_secret()"
   ]
  },
  {
   "cell_type": "code",
   "execution_count": null,
   "metadata": {
    "id": "0AbsuejzVGut"
   },
   "outputs": [],
   "source": [
    "help(factory)"
   ]
  },
  {
   "cell_type": "markdown",
   "metadata": {
    "id": "0rOwrID5fixv"
   },
   "source": [
    "## ###(참고)Interning\n",
    "- 자주 쓰는 것들은 미리 저장해놓고 꺼내 쓰는 것 (숫자, Bool, 알파벳 등)  \n",
    "(http://pythonstudy.xyz/python/article/512-%ED%8C%8C%EC%9D%B4%EC%8D%AC-Object-Interning)"
   ]
  },
  {
   "cell_type": "markdown",
   "metadata": {
    "id": "QKrJMynOxVnj"
   },
   "source": [
    "## 1-2 논리 구조 (Logical Structure)\n",
    " - 문제를 해결 하기 위한 프로그래밍의 논리 구조(알고리즘)를 만드는 것\n",
    "  - `for`, `while`, `if`"
   ]
  },
  {
   "cell_type": "code",
   "execution_count": null,
   "metadata": {
    "id": "v3PAmTEDxv8e"
   },
   "outputs": [],
   "source": [
    "#1 \n",
    "\"\"\"*      \n",
    "**\n",
    "***\n",
    "****\n",
    "...\n",
    "*****\"\"\"\n",
    "\n",
    "#2 피보나치 수열을 구현해보세요. \n",
    "# 1, 1, 2, 3, 5, 8, 13   "
   ]
  }
 ],
 "metadata": {
  "colab": {
   "collapsed_sections": [],
   "include_colab_link": true,
   "name": "20201016_PythonLecture_for_PAI_.ipynb",
   "private_outputs": true,
   "provenance": []
  },
  "kernelspec": {
   "display_name": "Python 3",
   "language": "python",
   "name": "python3"
  },
  "language_info": {
   "codemirror_mode": {
    "name": "ipython",
    "version": 3
   },
   "file_extension": ".py",
   "mimetype": "text/x-python",
   "name": "python",
   "nbconvert_exporter": "python",
   "pygments_lexer": "ipython3",
   "version": "3.7.4"
  }
 },
 "nbformat": 4,
 "nbformat_minor": 1
}
