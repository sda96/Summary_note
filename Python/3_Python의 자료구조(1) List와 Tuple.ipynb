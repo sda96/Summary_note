{
 "cells": [
  {
   "cell_type": "markdown",
   "metadata": {
    "colab_type": "text",
    "id": "LhspHc8sjh-3"
   },
   "source": [
    "<i><b>Public AI</b></i>\n",
    "<br>\n",
    "### **&nbsp;&nbsp;Week1. Python 기본기 다지기**\n",
    "# Section 3. Python의 자료구조 (1) : List와 Tuple\n",
    "\n",
    "컴퓨터가 다룰 수 있는 데이터의 형태에는 숫자형, 문자형, 논리형 등의 기본 변수만 있는 것이 아닙니다. Python은 이 외에도 Section 2에서 배운 자료형의 데이터 값이 모여 만들어지는 List, Tuple, Set, Dictionary 등의 다양한 자료구조를 지원합니다. \n",
    "\n",
    "이번 Section3에서는 그 중에서 List형 자료구조 및 Tuple형 자료구조의 개념을 이해한 후, 기본적인 조작 방법에 대해 살펴보겠습니다."
   ]
  },
  {
   "cell_type": "markdown",
   "metadata": {},
   "source": [
    "### _Objectives_\n",
    "1. **List** : 리스트 자료형의 개념을 이해하고, 생성, 읽기, 수정, 제거하는 방법을 배워봅니다.  <br>\n",
    "2. **Tuple** : 튜플 자료형의 개념을 이해하고, 생성, 읽기, 제거하는 방법을 배워봅니다.  <br>"
   ]
  },
  {
   "cell_type": "markdown",
   "metadata": {
    "colab_type": "text",
    "id": "4-2_P87pjh-4"
   },
   "source": [
    "# \\[ 1. List \\]\n",
    "\n",
    "리스트(list)는 여러개의 객체를 요소로 담을 수 있는 자료형으로, 구성하는 요소들에 **순서**가 있으며, 요소를 바꿀 수 있다는 특징을 가집니다."
   ]
  },
  {
   "cell_type": "markdown",
   "metadata": {
    "colab_type": "text",
    "id": "O_jKkSbOmNbb"
   },
   "source": [
    "## 1. 리스트의 특징 및 조작 방법\n",
    "\n",
    "\n",
    "+ 리스트도 변수가 될 수 있는 자료형이기 때문에, 생성시 앞서 Section2에서 변수 생성시에 사용했던 `=`을 동일하게 사용하되, 리스트를 구성하고자 하는 데이터를 대괄호 연산자 **`[`와 `]`로 감싸주어 생성**합니다.\n",
    "+ 리스트는 구성하는 데이터에 **순서**가 있다는 특징을 가지므로, 변수명을 통해 구성요소에 접근할 때는 원소의 **인덱스**(또는 위치값)을 이용해 특정 위치의 값을 **가져오거나 수정하거나 제거**할 수 있습니다. \n",
    "+ 리스트 인덱스 외에도  `index()`, `append()`, `insert()`, `extend()`, `remove()`,`pop()` 등의 메서드를 이용하여 조작할 수 있습니다. "
   ]
  },
  {
   "cell_type": "markdown",
   "metadata": {
    "colab_type": "text",
    "id": "cfL3qccYjh-6"
   },
   "source": [
    "### (1) 리스트 생성하기\n",
    " Python에서 리스트는 `[`와 `]`를 이용하거나 `list(원소)`를 이용하여 생성합니다. 리스트를 구성하는 원소가 모두 같은 타입일 필요는 없습니다. 즉, 한 가지 유형의 데이터로 리스트를 만들 수도 있고 문자형, 숫자형, 논리형,리스트형 데이터를 조합해서 만들 수도 있습니다. "
   ]
  },
  {
   "cell_type": "code",
   "execution_count": 1,
   "metadata": {
    "colab": {
     "base_uri": "https://localhost:8080/",
     "height": 34
    },
    "colab_type": "code",
    "executionInfo": {
     "elapsed": 722,
     "status": "ok",
     "timestamp": 1550744632159,
     "user": {
      "displayName": "최선열",
      "photoUrl": "",
      "userId": "00663027191814710813"
     },
     "user_tz": -540
    },
    "id": "ITeAnf9cjh-7",
    "outputId": "65e28c87-7b71-4196-efc6-b41373a62846"
   },
   "outputs": [
    {
     "data": {
      "text/plain": [
       "[]"
      ]
     },
     "execution_count": 1,
     "metadata": {},
     "output_type": "execute_result"
    }
   ],
   "source": [
    "# 비어있는 리스트를 생성함\n",
    "lst0 = []\n",
    "lst0 = list()\n",
    "lst0"
   ]
  },
  {
   "cell_type": "code",
   "execution_count": 2,
   "metadata": {
    "colab": {},
    "colab_type": "code",
    "id": "1CXzvmCMjh_C",
    "outputId": "6b30f168-c9c2-4c79-f034-95a4554dcf10"
   },
   "outputs": [
    {
     "data": {
      "text/plain": [
       "[1, 2, 3, 4, 5]"
      ]
     },
     "execution_count": 2,
     "metadata": {},
     "output_type": "execute_result"
    }
   ],
   "source": [
    "# 여러개의 숫자들을 저장함\n",
    "lst1 = [1,2,3,4,5]\n",
    "lst1"
   ]
  },
  {
   "cell_type": "code",
   "execution_count": 3,
   "metadata": {
    "colab": {},
    "colab_type": "code",
    "id": "YSUqEzObjh_F",
    "outputId": "fd8e817a-a91d-4a99-c950-a5ec1d7b11a5"
   },
   "outputs": [
    {
     "data": {
      "text/plain": [
       "[1, 2, 3, 5.5, 'str1']"
      ]
     },
     "execution_count": 3,
     "metadata": {},
     "output_type": "execute_result"
    }
   ],
   "source": [
    "# 정수 이외의 실수나 text도 담을 수 있음\n",
    "lst2 = [1,2,3,5.5,\"str1\"]\n",
    "lst2"
   ]
  },
  {
   "cell_type": "code",
   "execution_count": 4,
   "metadata": {
    "colab": {},
    "colab_type": "code",
    "id": "NkpcTnFBjh_I",
    "outputId": "6afa62e9-ea41-4dac-88c2-e497e9df4173"
   },
   "outputs": [
    {
     "data": {
      "text/plain": [
       "[1, 2, 3, 4, [1, 2, 3, 5.5, 'str1']]"
      ]
     },
     "execution_count": 4,
     "metadata": {},
     "output_type": "execute_result"
    }
   ],
   "source": [
    "# 리스트 내에 리스트 또는 변수를 담을 수 있음\n",
    "var1 = 1\n",
    "lst3 = [var1, 2,3,4, lst2]\n",
    "lst3"
   ]
  },
  {
   "cell_type": "markdown",
   "metadata": {
    "colab_type": "text",
    "id": "bqGuQhskjh_L"
   },
   "source": [
    "### (2) List를 구성하는 값 가져오기\n",
    "List의 구성요소는 순서가 정해져있기 때문에, 위치값 또는 인덱스(index)로 원하는 값을 가져올 수 있습니다. List 뒤에 **`[index]`**를 붙여 원하는 위치의 값을 가져오면 됩니다. 다만 앞서 ***문자열 데이터의 인덱싱***에서도 배웠듯이 Python에서 인덱스는 **0부터 시작**된다는 점을 주의해야 합니다!\n",
    "<br>\n",
    "<br>\n",
    "이번에는 문자열 데이터의 인덱싱에서 간단하게 다뤘던 인덱스를 이용한 슬라이스(slice) 방법을 좀 더 자세하게 살펴보겠습니다. 여기서 배우게 될 내용은 문자열이나 튜플형에도 동일하게 적용됩니다. "
   ]
  },
  {
   "cell_type": "code",
   "execution_count": 5,
   "metadata": {
    "colab": {},
    "colab_type": "code",
    "id": "2lSOEhYNjh_M"
   },
   "outputs": [],
   "source": [
    "lst = [1,2,3,4,5]"
   ]
  },
  {
   "cell_type": "code",
   "execution_count": 6,
   "metadata": {
    "colab": {},
    "colab_type": "code",
    "id": "l5G3kqpYjh_R",
    "outputId": "30f901fd-ad46-4135-e32f-e3158393813d"
   },
   "outputs": [
    {
     "data": {
      "text/plain": [
       "3"
      ]
     },
     "execution_count": 6,
     "metadata": {},
     "output_type": "execute_result"
    }
   ],
   "source": [
    "# 리스트의 2번째 index 값 가져오기\n",
    "# *주의 : Python 에서 index는 0부터 시작함. 따라서 2번째라고 하면 실제 세 번째에 위치한 3 반환.\n",
    "element_1 = lst[2]\n",
    "element_1"
   ]
  },
  {
   "cell_type": "code",
   "execution_count": 7,
   "metadata": {
    "colab": {},
    "colab_type": "code",
    "id": "kwVKZeCljh_V",
    "outputId": "3a148d0f-0b6e-4b07-8014-a2b5c2157de2"
   },
   "outputs": [
    {
     "data": {
      "text/plain": [
       "5"
      ]
     },
     "execution_count": 7,
     "metadata": {},
     "output_type": "execute_result"
    }
   ],
   "source": [
    "# 리스트의 마지막 값 얻기\n",
    "# 마지막 원소를 뜻하는 인덱스는 -1로, 역순인 -2, -3으로 진행\n",
    "element_4 = lst[-1]\n",
    "element_4"
   ]
  },
  {
   "cell_type": "code",
   "execution_count": 8,
   "metadata": {
    "colab": {},
    "colab_type": "code",
    "id": "5lB5FgLkjh_b",
    "outputId": "e00d90ce-cf91-4393-90b3-b9129d09b4e9"
   },
   "outputs": [
    {
     "data": {
      "text/plain": [
       "[2, 3, 4]"
      ]
     },
     "execution_count": 8,
     "metadata": {},
     "output_type": "execute_result"
    }
   ],
   "source": [
    "# 리스트의 범위를 지정하여 값 얻기\n",
    "# 1번째 이상 4번째 미만 값을 가져오기 위해서는 :을 이용\n",
    "element_2 = lst[1:4]\n",
    "element_2"
   ]
  },
  {
   "cell_type": "code",
   "execution_count": 9,
   "metadata": {
    "colab": {},
    "colab_type": "code",
    "id": "8OGKuieUjh_f",
    "outputId": "3bcc6229-adf3-4473-be3b-d1444f2b8015"
   },
   "outputs": [
    {
     "data": {
      "text/plain": [
       "[4, 5]"
      ]
     },
     "execution_count": 9,
     "metadata": {},
     "output_type": "execute_result"
    }
   ],
   "source": [
    "# 리스트의 3번째 이후 값 얻기\n",
    "# 시작하는 지점만 설정하고 끝을 설정하지 않음\n",
    "element_3 = lst[3:]\n",
    "element_3"
   ]
  },
  {
   "cell_type": "code",
   "execution_count": 10,
   "metadata": {
    "colab": {},
    "colab_type": "code",
    "id": "gtGF4G0Ajh_i",
    "outputId": "0458c58b-8b55-4f46-bdfc-6cf46f101b87",
    "scrolled": true
   },
   "outputs": [
    {
     "data": {
      "text/plain": [
       "[1, 3, 5]"
      ]
     },
     "execution_count": 10,
     "metadata": {},
     "output_type": "execute_result"
    }
   ],
   "source": [
    "# 리스트의 범위에 step 값을 추가하여 그 값만큼 건너뛰어 가져올 수 있음\n",
    "# 0번째 이상 5번째 미만 값을 가져오되, 두 칸씩 건너가며 값을 가져온다. \n",
    "element_5 = lst[0:5:2]\n",
    "element_5"
   ]
  },
  {
   "cell_type": "code",
   "execution_count": 11,
   "metadata": {},
   "outputs": [
    {
     "data": {
      "text/plain": [
       "True"
      ]
     },
     "execution_count": 11,
     "metadata": {},
     "output_type": "execute_result"
    }
   ],
   "source": [
    "# list에 값이 있는지는 in 연산자를 통해 알 수 있음\n",
    "1 in lst"
   ]
  },
  {
   "cell_type": "markdown",
   "metadata": {
    "colab_type": "text",
    "id": "9d1n-Bhfjh_5"
   },
   "source": [
    "### (3) List의 특정 원소값 수정하기\n",
    "List 의 특정 원소를 수정하는 데도 인덱스를 활용할 수 있습니다. "
   ]
  },
  {
   "cell_type": "code",
   "execution_count": 12,
   "metadata": {
    "colab": {},
    "colab_type": "code",
    "id": "yNspDyB5jh_6",
    "outputId": "40824599-feb8-4a1a-d89f-dbf3c306a69f"
   },
   "outputs": [
    {
     "data": {
      "text/plain": [
       "[1, 2, 6, 4, 5]"
      ]
     },
     "execution_count": 12,
     "metadata": {},
     "output_type": "execute_result"
    }
   ],
   "source": [
    "# lst의 세번째 값을 6으로 바꾸기\n",
    "lst = [1,2,3,4,5]\n",
    "lst[2] = 6\n",
    "lst"
   ]
  },
  {
   "cell_type": "markdown",
   "metadata": {
    "colab_type": "text",
    "id": "yDCwVbVXjh__"
   },
   "source": [
    "리스트가 커지면 우리가 원하는 값의 index를 알기 어려울 수 있습니다. 이때는  `lst.index(value)`를 이용하여 원하는 값의 인덱스를 파악합니다. "
   ]
  },
  {
   "cell_type": "code",
   "execution_count": 13,
   "metadata": {
    "colab": {},
    "colab_type": "code",
    "id": "QG6Q_M0njiAA",
    "outputId": "48810762-b7e7-4ffb-c998-fce4b9cd507a"
   },
   "outputs": [
    {
     "data": {
      "text/plain": [
       "3"
      ]
     },
     "execution_count": 13,
     "metadata": {},
     "output_type": "execute_result"
    }
   ],
   "source": [
    "lst = [1,2,3,4,5]\n",
    "lst.index(4) # 값이 4인 인덱스 값을 반환 "
   ]
  },
  {
   "cell_type": "code",
   "execution_count": 14,
   "metadata": {
    "colab": {},
    "colab_type": "code",
    "id": "67-Z5W8xjiAC",
    "outputId": "33cb87f7-f00f-46d7-8eb9-332d52afc005"
   },
   "outputs": [
    {
     "ename": "ValueError",
     "evalue": "7 is not in list",
     "output_type": "error",
     "traceback": [
      "\u001b[0;31m---------------------------------------------------------------------------\u001b[0m",
      "\u001b[0;31mValueError\u001b[0m                                Traceback (most recent call last)",
      "\u001b[0;32m<ipython-input-14-ef835415c835>\u001b[0m in \u001b[0;36m<module>\u001b[0;34m()\u001b[0m\n\u001b[0;32m----> 1\u001b[0;31m \u001b[0mlst\u001b[0m\u001b[0;34m.\u001b[0m\u001b[0mindex\u001b[0m\u001b[0;34m(\u001b[0m\u001b[0;36m7\u001b[0m\u001b[0;34m)\u001b[0m \u001b[0;31m# 해당 값이 리스트 안에 없으면 Error를 반환\u001b[0m\u001b[0;34m\u001b[0m\u001b[0m\n\u001b[0m",
      "\u001b[0;31mValueError\u001b[0m: 7 is not in list"
     ]
    }
   ],
   "source": [
    "lst.index(7) # 해당 값이 리스트 안에 없으면 Error를 반환"
   ]
  },
  {
   "cell_type": "markdown",
   "metadata": {
    "colab_type": "text",
    "id": "Cv92CuJwjh_t"
   },
   "source": [
    "### (4) List에 값 추가하기\n",
    " List는 `append()`,`extend()`, 또는 `insert()`를 통해 값을 추가할 수 있습니다."
   ]
  },
  {
   "cell_type": "code",
   "execution_count": 15,
   "metadata": {
    "colab": {},
    "colab_type": "code",
    "id": "2J5fWLZ8jh_u"
   },
   "outputs": [],
   "source": [
    "lst = [1,2,3,4,5]"
   ]
  },
  {
   "cell_type": "code",
   "execution_count": 16,
   "metadata": {
    "colab": {},
    "colab_type": "code",
    "id": "iWhaAkZujh_y",
    "outputId": "f6886f30-c46e-4417-e539-ebca333ce52c"
   },
   "outputs": [
    {
     "data": {
      "text/plain": [
       "[1, 2, 3, 4, 5, 6]"
      ]
     },
     "execution_count": 16,
     "metadata": {},
     "output_type": "execute_result"
    }
   ],
   "source": [
    "# lst의 가장 뒤에 값 추가하기\n",
    "lst.append(6)\n",
    "lst"
   ]
  },
  {
   "cell_type": "code",
   "execution_count": 17,
   "metadata": {},
   "outputs": [
    {
     "data": {
      "text/plain": [
       "[1, 2, 3, 4, 5, 6, [1, 2]]"
      ]
     },
     "execution_count": 17,
     "metadata": {},
     "output_type": "execute_result"
    }
   ],
   "source": [
    "# lst의 가장 뒤에 리스트를 원소로 추가하기\n",
    "lst.append([1,2])\n",
    "lst"
   ]
  },
  {
   "cell_type": "code",
   "execution_count": 18,
   "metadata": {},
   "outputs": [
    {
     "data": {
      "text/plain": [
       "[1, 2, 3, 4, 5, 6, [1, 2], 1, 2]"
      ]
     },
     "execution_count": 18,
     "metadata": {},
     "output_type": "execute_result"
    }
   ],
   "source": [
    "# lst의 가장 뒤에 리스트로 이뤄진 값 추가하기\n",
    "lst.extend([1,2])\n",
    "lst"
   ]
  },
  {
   "cell_type": "code",
   "execution_count": 19,
   "metadata": {
    "colab": {},
    "colab_type": "code",
    "id": "TBNrIygQjh_2",
    "outputId": "bfdebedd-b87f-4dfe-ce1d-43ce4293386a"
   },
   "outputs": [
    {
     "data": {
      "text/plain": [
       "[1, 2, 2.5, 3, 4, 5, 6, [1, 2], 1, 2]"
      ]
     },
     "execution_count": 19,
     "metadata": {},
     "output_type": "execute_result"
    }
   ],
   "source": [
    "# lst 의 2번 자리(즉 세 번째)에 2.5의 값 추가하기\n",
    "lst.insert(2,2.5)\n",
    "lst"
   ]
  },
  {
   "cell_type": "markdown",
   "metadata": {
    "colab_type": "text",
    "id": "C7RSOSW7jiAF"
   },
   "source": [
    "### (5) List의 특정 원소 제거하기\n",
    "`del` 을 이용한 방법과 `L.remove()`를 이용한 방법, `L.pop()`을 이용하는 방법이 있습니다."
   ]
  },
  {
   "cell_type": "code",
   "execution_count": 20,
   "metadata": {
    "colab": {},
    "colab_type": "code",
    "id": "o4vCsWXMjiAG",
    "outputId": "37fd97a1-c72c-4069-afb0-be7ca327781e"
   },
   "outputs": [
    {
     "data": {
      "text/plain": [
       "[2, 3, 4, 5]"
      ]
     },
     "execution_count": 20,
     "metadata": {},
     "output_type": "execute_result"
    }
   ],
   "source": [
    "lst = [1,2,3,4,5]\n",
    "del lst[0] # 0번 인덱스를 가지는 값 제거\n",
    "lst"
   ]
  },
  {
   "cell_type": "code",
   "execution_count": 21,
   "metadata": {
    "colab": {},
    "colab_type": "code",
    "id": "dvliFynIjiAK",
    "outputId": "62225537-1bcf-42b1-de47-514147af77ac"
   },
   "outputs": [
    {
     "data": {
      "text/plain": [
       "[1, 2, 3, 5]"
      ]
     },
     "execution_count": 21,
     "metadata": {},
     "output_type": "execute_result"
    }
   ],
   "source": [
    "lst = [1,2,3,4,5]\n",
    "# remove를 이용하여 lst내의 값 4 를 제거하기\n",
    "lst.remove(4)\n",
    "lst"
   ]
  },
  {
   "cell_type": "code",
   "execution_count": 22,
   "metadata": {
    "colab": {},
    "colab_type": "code",
    "id": "SLqRsPU8jiAM",
    "outputId": "0415e903-0fc5-4ecc-bae7-0715136607d4"
   },
   "outputs": [
    {
     "ename": "ValueError",
     "evalue": "list.remove(x): x not in list",
     "output_type": "error",
     "traceback": [
      "\u001b[0;31m---------------------------------------------------------------------------\u001b[0m",
      "\u001b[0;31mValueError\u001b[0m                                Traceback (most recent call last)",
      "\u001b[0;32m<ipython-input-22-440d477c7265>\u001b[0m in \u001b[0;36m<module>\u001b[0;34m()\u001b[0m\n\u001b[1;32m      1\u001b[0m \u001b[0;31m# 만약 remove(#) : # 의 값이 list에 존재하지 않을 경우 ValueError 가 발생\u001b[0m\u001b[0;34m\u001b[0m\u001b[0;34m\u001b[0m\u001b[0m\n\u001b[0;32m----> 2\u001b[0;31m \u001b[0mlst\u001b[0m\u001b[0;34m.\u001b[0m\u001b[0mremove\u001b[0m\u001b[0;34m(\u001b[0m\u001b[0;36m0\u001b[0m\u001b[0;34m)\u001b[0m \u001b[0;31m# lst내에 0이 없기 때문에 제거되지도 않음\u001b[0m\u001b[0;34m\u001b[0m\u001b[0m\n\u001b[0m\u001b[1;32m      3\u001b[0m \u001b[0mlst\u001b[0m\u001b[0;34m\u001b[0m\u001b[0m\n",
      "\u001b[0;31mValueError\u001b[0m: list.remove(x): x not in list"
     ]
    }
   ],
   "source": [
    "# 만약 remove(#) : # 의 값이 list에 존재하지 않을 경우 ValueError 가 발생\n",
    "lst.remove(0) # lst내에 0이 없기 때문에 제거되지도 않음\n",
    "lst"
   ]
  },
  {
   "cell_type": "code",
   "execution_count": 23,
   "metadata": {},
   "outputs": [
    {
     "data": {
      "text/plain": [
       "5"
      ]
     },
     "execution_count": 23,
     "metadata": {},
     "output_type": "execute_result"
    }
   ],
   "source": [
    "# pop을 할 경우, 가장 마지막 원소을 반환하고, 해당 원소는 리스트에서 제거됨\n",
    "lst = [1,2,3,4,5]\n",
    "lst.pop()"
   ]
  },
  {
   "cell_type": "code",
   "execution_count": 24,
   "metadata": {},
   "outputs": [
    {
     "data": {
      "text/plain": [
       "[1, 2, 3, 4]"
      ]
     },
     "execution_count": 24,
     "metadata": {},
     "output_type": "execute_result"
    }
   ],
   "source": [
    "lst"
   ]
  },
  {
   "cell_type": "markdown",
   "metadata": {
    "colab_type": "text",
    "id": "3FZFW8bOmYAg"
   },
   "source": [
    "<br>\n",
    "\n",
    "## 2. List의 연산자 및 함수\n",
    "\n",
    "+ 문자형, 숫자형 데이터와 마찬가지로 List에서도 연산자를 이용할 수 있습니다. \n",
    "+ 더하기, 곱하기 연산자를 이용해 List를 확장할 수도 있고, `zip`을 이용해 두 List를 묶을 수도 있습니다. \n",
    "+ 혹은 내장형 함수를 이용하여 List의 길이를 측정하거나(`len()`) 원소를 정렬할 수 있습니다(`sorted()`).\n"
   ]
  },
  {
   "cell_type": "markdown",
   "metadata": {
    "colab_type": "text",
    "id": "sFcHvi_wjiAS"
   },
   "source": [
    "### (1) List에서 더하기(+) 연산자의 역할 \n",
    "\n",
    "`+`, 더하기 연산을 이용하면 앞의 List에 뒤의 리스를 이어 붙일 수 있습니다."
   ]
  },
  {
   "cell_type": "code",
   "execution_count": 1,
   "metadata": {
    "colab": {
     "base_uri": "https://localhost:8080/",
     "height": 34
    },
    "colab_type": "code",
    "executionInfo": {
     "elapsed": 897,
     "status": "ok",
     "timestamp": 1550745908881,
     "user": {
      "displayName": "최선열",
      "photoUrl": "",
      "userId": "00663027191814710813"
     },
     "user_tz": -540
    },
    "id": "S-Egw1fjjiAS",
    "outputId": "bcefc2e2-f0c0-458d-e814-7806da57f364"
   },
   "outputs": [
    {
     "data": {
      "text/plain": [
       "[1, 2, 3, 4, 5, 6, 7, 8, 9, 10]"
      ]
     },
     "execution_count": 1,
     "metadata": {},
     "output_type": "execute_result"
    }
   ],
   "source": [
    "lst1 = [1,2,3,4,5]\n",
    "lst2 = [6,7,8,9,10]\n",
    "lst1 + lst2 # List 합치기"
   ]
  },
  {
   "cell_type": "code",
   "execution_count": 3,
   "metadata": {},
   "outputs": [
    {
     "data": {
      "text/plain": [
       "[0, 1, 2, 3, 4, 5, 6, 7, 8, 9]"
      ]
     },
     "execution_count": 3,
     "metadata": {},
     "output_type": "execute_result"
    }
   ],
   "source": [
    "# 빈 리스트에 반복문으로 리스트를 계속해서 추가\n",
    "lst3 = []\n",
    "for i in range(10):\n",
    "    # 같은 리스트여야 하기에 []를 추가\n",
    "    lst3 += [i]\n",
    "lst3"
   ]
  },
  {
   "cell_type": "markdown",
   "metadata": {
    "colab_type": "text",
    "id": "JgVOLR6FjiAW"
   },
   "source": [
    "### (2)List에서 곱하기(*) 연산자의 역할\n",
    "\n",
    "`*`, 곱하기 연산을 이용하면, 곱한 횟수만큼List가 반복되는 또 다른List를 만들 수 있습니다. "
   ]
  },
  {
   "cell_type": "code",
   "execution_count": 26,
   "metadata": {
    "colab": {
     "base_uri": "https://localhost:8080/",
     "height": 34
    },
    "colab_type": "code",
    "executionInfo": {
     "elapsed": 561,
     "status": "ok",
     "timestamp": 1550745920135,
     "user": {
      "displayName": "최선열",
      "photoUrl": "",
      "userId": "00663027191814710813"
     },
     "user_tz": -540
    },
    "id": "F6Nr4xxVjiAX",
    "outputId": "e392619f-5124-4fd8-d2ee-636559fd2b08"
   },
   "outputs": [
    {
     "data": {
      "text/plain": [
       "[1, 2, 3, 4, 5, 1, 2, 3, 4, 5, 1, 2, 3, 4, 5]"
      ]
     },
     "execution_count": 26,
     "metadata": {},
     "output_type": "execute_result"
    }
   ],
   "source": [
    "lst1 * 3 # List 반복"
   ]
  },
  {
   "cell_type": "markdown",
   "metadata": {
    "colab_type": "text",
    "id": "O2TjhcJXjiAa"
   },
   "source": [
    "### (3) zip을 이용해 두 List 교차하기\n",
    "두 List의 원소를 순서대로 엮어서 하나의 List로 만들고 싶다면 `zip()`을 이용합니다 ."
   ]
  },
  {
   "cell_type": "code",
   "execution_count": 27,
   "metadata": {
    "colab": {
     "base_uri": "https://localhost:8080/",
     "height": 34
    },
    "colab_type": "code",
    "executionInfo": {
     "elapsed": 639,
     "status": "ok",
     "timestamp": 1550745927966,
     "user": {
      "displayName": "최선열",
      "photoUrl": "",
      "userId": "00663027191814710813"
     },
     "user_tz": -540
    },
    "id": "GG1aTJ1ZjiAa",
    "outputId": "d3f442fa-295a-4b53-db0f-f453e1ffbcb7"
   },
   "outputs": [
    {
     "data": {
      "text/plain": [
       "[(1, 'a'), (2, 'b'), (3, 'c'), (4, 'd'), (5, 'e')]"
      ]
     },
     "execution_count": 27,
     "metadata": {},
     "output_type": "execute_result"
    }
   ],
   "source": [
    "lst1 = [1,2,3,4,5]\n",
    "lst2 = [\"a\",\"b\",\"c\",\"d\",\"e\"]\n",
    "\n",
    "# list(zip(lst1,lst2))를 하면, \n",
    "# 두 List가 교차로 들어감\n",
    "list(zip(lst1,lst2)) "
   ]
  },
  {
   "cell_type": "markdown",
   "metadata": {
    "colab_type": "text",
    "id": "9K-Vzw7NjiBd"
   },
   "source": [
    "### (4) len으로 크기 재기\n",
    "\n",
    "List 내에 있는 원소의 수를 반환합니다."
   ]
  },
  {
   "cell_type": "code",
   "execution_count": 28,
   "metadata": {
    "colab": {},
    "colab_type": "code",
    "id": "9TWLamzbjiBd",
    "outputId": "380034d5-a7a0-4f67-ec6c-85954cc7618b"
   },
   "outputs": [
    {
     "data": {
      "text/plain": [
       "5"
      ]
     },
     "execution_count": 28,
     "metadata": {},
     "output_type": "execute_result"
    }
   ],
   "source": [
    "lst = [1,2,3,4,5]\n",
    "len(lst)"
   ]
  },
  {
   "cell_type": "markdown",
   "metadata": {
    "colab_type": "text",
    "id": "MxdmKAgajiBh"
   },
   "source": [
    "### (5) sorted로 정렬하기\n",
    "\n",
    "List 내에 있는 원소를 정렬합니다."
   ]
  },
  {
   "cell_type": "code",
   "execution_count": 29,
   "metadata": {
    "colab": {},
    "colab_type": "code",
    "id": "viHkwWTHjiBi",
    "outputId": "4a7f3060-4794-46b3-fd8d-969399a0b67f"
   },
   "outputs": [
    {
     "data": {
      "text/plain": [
       "4355738504"
      ]
     },
     "execution_count": 29,
     "metadata": {},
     "output_type": "execute_result"
    }
   ],
   "source": [
    "lst = [1,3,2,4,5]\n",
    "id(lst)"
   ]
  },
  {
   "cell_type": "code",
   "execution_count": 30,
   "metadata": {},
   "outputs": [
    {
     "data": {
      "text/plain": [
       "4558836424"
      ]
     },
     "execution_count": 30,
     "metadata": {},
     "output_type": "execute_result"
    }
   ],
   "source": [
    "sorted(lst) # 기본적으로 오름차순으로 정렬\n",
    "id(sorted(lst))"
   ]
  },
  {
   "cell_type": "code",
   "execution_count": 31,
   "metadata": {
    "colab": {},
    "colab_type": "code",
    "id": "V2h3lsyGjiBn",
    "outputId": "051b1050-f337-491a-ebf3-b24077342e2a"
   },
   "outputs": [
    {
     "data": {
      "text/plain": [
       "[5, 4, 3, 2, 1]"
      ]
     },
     "execution_count": 31,
     "metadata": {},
     "output_type": "execute_result"
    }
   ],
   "source": [
    "sorted(lst,reverse=True) # reverse=True하면 내림차순 정렬"
   ]
  },
  {
   "cell_type": "markdown",
   "metadata": {},
   "source": [
    "<hr>"
   ]
  },
  {
   "cell_type": "markdown",
   "metadata": {
    "colab_type": "text",
    "id": "X5IVPTZbjiAd"
   },
   "source": [
    "# \\[ 2. Tuple \\]\n",
    "\n",
    "\n",
    "Tuple(튜플)은 여러 원소로 구성되고 순서가 있다는 점에서 리스트와 비슷하지만, 리스트와 달리 한 번 생성하면 **값을 변경할 수 없는 자료형**입니다.\n",
    "    "
   ]
  },
  {
   "cell_type": "markdown",
   "metadata": {
    "colab_type": "text",
    "id": "RSwiIbB0px9u"
   },
   "source": [
    "## 1.Tuple의 특징 및 조작 방법\n",
    "\n",
    "\n",
    "+ Tuple도 앞서 변수 생성시에 사용했던 `=`을 동일하게 사용하되, tuple을 구성하고자 하는 데이터를 괄호 연산자 `(`와 `)`로 감싸주어 생성합니다.\n",
    "+ Tuple은 list와 마찬가지로 구성하는 데이터에 순서가 있다는 특징을 가지지만, 한 번 생성한 tuple은 구성 요소를 **제거하거나 수정할 수 없습니다.**"
   ]
  },
  {
   "cell_type": "markdown",
   "metadata": {
    "colab_type": "text",
    "id": "MCMFFUZ7jiAe"
   },
   "source": [
    "### (1) Tuple 생성하기\n",
    "Tuple 역시 `=`을 이용해 변수를 생성하되, `(`와 `)`로 감싸주거나 `tuple()` 로 생성해야 합니다. "
   ]
  },
  {
   "cell_type": "code",
   "execution_count": 32,
   "metadata": {
    "colab": {},
    "colab_type": "code",
    "id": "sgmAIck_jiAg",
    "outputId": "0ca1395b-5704-4989-99b3-44b0c74dabee"
   },
   "outputs": [
    {
     "data": {
      "text/plain": [
       "()"
      ]
     },
     "execution_count": 32,
     "metadata": {},
     "output_type": "execute_result"
    }
   ],
   "source": [
    "# 비어있는 Tuple를 생성\n",
    "tpl = ()\n",
    "tpl = tuple()\n",
    "tpl"
   ]
  },
  {
   "cell_type": "code",
   "execution_count": 33,
   "metadata": {
    "colab": {},
    "colab_type": "code",
    "id": "NYLDQJ3ejiAj",
    "outputId": "0142eebe-2e97-423b-da06-913ba75d690d"
   },
   "outputs": [
    {
     "data": {
      "text/plain": [
       "(1, 2, 3, 4, 5)"
      ]
     },
     "execution_count": 33,
     "metadata": {},
     "output_type": "execute_result"
    }
   ],
   "source": [
    "# 여러개의 숫자들을 저장\n",
    "tpl = (1,2,3,4,5)\n",
    "tpl"
   ]
  },
  {
   "cell_type": "code",
   "execution_count": 34,
   "metadata": {
    "colab": {},
    "colab_type": "code",
    "id": "XWvSi-USjiAl",
    "outputId": "74bae380-90c2-4d2f-e0fb-3ba079d65404"
   },
   "outputs": [
    {
     "data": {
      "text/plain": [
       "(1, 2, 3, 5.5, 'str1')"
      ]
     },
     "execution_count": 34,
     "metadata": {},
     "output_type": "execute_result"
    }
   ],
   "source": [
    "# 정수 이외의 실수나 text도 담을 수 있음\n",
    "tpl = (1,2,3,5.5,\"str1\")\n",
    "tpl"
   ]
  },
  {
   "cell_type": "code",
   "execution_count": 35,
   "metadata": {
    "colab": {},
    "colab_type": "code",
    "id": "N0YtV0MqjiAp",
    "outputId": "02fe86e8-7a4d-412a-bba6-8f155bbd250d"
   },
   "outputs": [
    {
     "data": {
      "text/plain": [
       "(1, 2, 3, 4, (1, 2, 3, 5.5, 'str1'))"
      ]
     },
     "execution_count": 35,
     "metadata": {},
     "output_type": "execute_result"
    }
   ],
   "source": [
    "# tuple 내에 tuple, 리스트 또는 변수를 담을 수 있음\n",
    "var_1 = 1\n",
    "tpl_1 = (var_1, 2,3,4, tpl)\n",
    "tpl_1"
   ]
  },
  {
   "cell_type": "markdown",
   "metadata": {
    "colab_type": "text",
    "id": "qq0MrpV2jiAs"
   },
   "source": [
    "### (2) Tuple을 구성하는 값 가져오기\n",
    "Tuple에서도 대괄호에 index를 넣어 값을 얻습니다."
   ]
  },
  {
   "cell_type": "code",
   "execution_count": 36,
   "metadata": {
    "colab": {},
    "colab_type": "code",
    "id": "qc4_a4BDjiAt"
   },
   "outputs": [],
   "source": [
    "tpl = (1,2,3,4,5)"
   ]
  },
  {
   "cell_type": "code",
   "execution_count": 37,
   "metadata": {
    "colab": {},
    "colab_type": "code",
    "id": "Pe8AHgSkjiAv",
    "outputId": "bf6399e1-10bb-4533-8b3a-04e23a2e8e4b"
   },
   "outputs": [
    {
     "data": {
      "text/plain": [
       "3"
      ]
     },
     "execution_count": 37,
     "metadata": {},
     "output_type": "execute_result"
    }
   ],
   "source": [
    "# tuple의 2번 index 값 가져오기\n",
    "# *주의 : Python 에서 index는 0부터 시작\n",
    "element_1 = tpl[2]\n",
    "element_1"
   ]
  },
  {
   "cell_type": "code",
   "execution_count": 38,
   "metadata": {
    "colab": {},
    "colab_type": "code",
    "id": "GQX41TzxjiAy",
    "outputId": "43848bde-0e87-4a1d-b02f-4e1880199c6b"
   },
   "outputs": [
    {
     "data": {
      "text/plain": [
       "4"
      ]
     },
     "execution_count": 38,
     "metadata": {},
     "output_type": "execute_result"
    }
   ],
   "source": [
    "# tuple의 마지막 값 얻기\n",
    "# 마지막 index은 -1로, 역 순으로 -2, -3으로 진행\n",
    "element_4 = tpl[-2]\n",
    "element_4"
   ]
  },
  {
   "cell_type": "code",
   "execution_count": 39,
   "metadata": {
    "colab": {},
    "colab_type": "code",
    "id": "E6DwjyWPjiA7",
    "outputId": "fb5c20c7-cf8c-4192-d819-4633aab06429"
   },
   "outputs": [
    {
     "data": {
      "text/plain": [
       "(2, 3, 4)"
      ]
     },
     "execution_count": 39,
     "metadata": {},
     "output_type": "execute_result"
    }
   ],
   "source": [
    "# tuple의 범위 지정\n",
    "# 1번째 이상 4번째 미만 값을 가져오기 위해서는 :을 이용\n",
    "element_2 = tpl[1:4]\n",
    "element_2"
   ]
  },
  {
   "cell_type": "code",
   "execution_count": 40,
   "metadata": {
    "colab": {},
    "colab_type": "code",
    "id": "H2aPV0i_jiBC",
    "outputId": "806dd40b-6b8c-4242-bd32-caa1b784ca47"
   },
   "outputs": [
    {
     "data": {
      "text/plain": [
       "(4, 5)"
      ]
     },
     "execution_count": 40,
     "metadata": {},
     "output_type": "execute_result"
    }
   ],
   "source": [
    "# tuple의 세번째 이후 값 얻기\n",
    "element_3 = tpl[3:]\n",
    "element_3"
   ]
  },
  {
   "cell_type": "code",
   "execution_count": 41,
   "metadata": {
    "colab": {},
    "colab_type": "code",
    "id": "XvkUm5THjiBI",
    "outputId": "a01db7ed-02b2-4508-ddd7-eeb13ffedaf7"
   },
   "outputs": [
    {
     "data": {
      "text/plain": [
       "(1, 3, 5)"
      ]
     },
     "execution_count": 41,
     "metadata": {},
     "output_type": "execute_result"
    }
   ],
   "source": [
    "# tuple의 범위에서 step 값을 주어 그 값만큼 건너뛰어 가져올 수 있음\n",
    "element_5 = tpl[0:5:2]\n",
    "element_5"
   ]
  },
  {
   "cell_type": "code",
   "execution_count": 42,
   "metadata": {
    "colab": {},
    "colab_type": "code",
    "id": "so4Ml0pTjiBL",
    "outputId": "740ed3cc-bd89-4876-9140-c8c9e527c401"
   },
   "outputs": [
    {
     "data": {
      "text/plain": [
       "True"
      ]
     },
     "execution_count": 42,
     "metadata": {},
     "output_type": "execute_result"
    }
   ],
   "source": [
    "# tuple에 값이 있는지는 in 연산자를 통해 알 수 있음\n",
    "1 in tpl"
   ]
  },
  {
   "cell_type": "markdown",
   "metadata": {},
   "source": [
    "### (3) Tuple의 특정 원소값 수정하기 - 불가능!\n",
    "Tuple에서 값을 수정하면 아래와 같이 에러 메시지가 나타납니다."
   ]
  },
  {
   "cell_type": "code",
   "execution_count": 43,
   "metadata": {},
   "outputs": [
    {
     "ename": "TypeError",
     "evalue": "'tuple' object does not support item assignment",
     "output_type": "error",
     "traceback": [
      "\u001b[0;31m---------------------------------------------------------------------------\u001b[0m",
      "\u001b[0;31mTypeError\u001b[0m                                 Traceback (most recent call last)",
      "\u001b[0;32m<ipython-input-43-7c6e54e594b4>\u001b[0m in \u001b[0;36m<module>\u001b[0;34m()\u001b[0m\n\u001b[1;32m      1\u001b[0m \u001b[0;31m# tpl의 세번째 값을 6으로 바꾸기\u001b[0m\u001b[0;34m\u001b[0m\u001b[0;34m\u001b[0m\u001b[0m\n\u001b[1;32m      2\u001b[0m \u001b[0mtpl\u001b[0m\u001b[0;34m=\u001b[0m \u001b[0;34m(\u001b[0m\u001b[0;36m1\u001b[0m\u001b[0;34m,\u001b[0m\u001b[0;36m2\u001b[0m\u001b[0;34m,\u001b[0m\u001b[0;36m3\u001b[0m\u001b[0;34m,\u001b[0m\u001b[0;36m4\u001b[0m\u001b[0;34m,\u001b[0m\u001b[0;36m5\u001b[0m\u001b[0;34m)\u001b[0m\u001b[0;34m\u001b[0m\u001b[0m\n\u001b[0;32m----> 3\u001b[0;31m \u001b[0mtpl\u001b[0m\u001b[0;34m[\u001b[0m\u001b[0;36m2\u001b[0m\u001b[0;34m]\u001b[0m \u001b[0;34m=\u001b[0m \u001b[0;36m6\u001b[0m\u001b[0;34m\u001b[0m\u001b[0m\n\u001b[0m",
      "\u001b[0;31mTypeError\u001b[0m: 'tuple' object does not support item assignment"
     ]
    }
   ],
   "source": [
    "# tpl의 세번째 값을 6으로 바꾸기\n",
    "tpl= (1,2,3,4,5)\n",
    "tpl[2] = 6"
   ]
  },
  {
   "cell_type": "markdown",
   "metadata": {
    "colab_type": "text",
    "id": "ikuyJLfdqaCN"
   },
   "source": [
    "## 2. Tuple의 연산자 및 함수\n",
    "\n",
    "+ Tuple의 연산자는 list의 연산자와 동일하게 작동합니다.   \n",
    "+ 더하기, 곱하기 연산자를 이용해 tuple을 확장할 수도 있고, `zip`을 이용해 두 tuple을 묶을 수도 있습니다. \n",
    "+ 혹은 내장형 함수를 이용하여 list의 길이를 측정하거나(`len()`) 원소를 정렬할 수 있습니다(`sorted()`)."
   ]
  },
  {
   "cell_type": "markdown",
   "metadata": {
    "colab_type": "text",
    "id": "jQdrBJ9kjiBN"
   },
   "source": [
    "### (1) Tuple에서 더하기(+) 연산자의 역할\n",
    "`+`, 더하기 연산을 이용하면 앞의 tuple에 뒤의 tuple을 이어 붙일 수 있습니다."
   ]
  },
  {
   "cell_type": "code",
   "execution_count": 44,
   "metadata": {
    "colab": {
     "base_uri": "https://localhost:8080/",
     "height": 34
    },
    "colab_type": "code",
    "executionInfo": {
     "elapsed": 747,
     "status": "ok",
     "timestamp": 1550995699258,
     "user": {
      "displayName": "최선열",
      "photoUrl": "",
      "userId": "00663027191814710813"
     },
     "user_tz": -540
    },
    "id": "jJFG-vxejiBO",
    "outputId": "b44d2b72-fecd-4b35-f252-7d401f025d59"
   },
   "outputs": [
    {
     "data": {
      "text/plain": [
       "(1, 2, 3, 4, 5, 6, 7, 8, 9, 10)"
      ]
     },
     "execution_count": 44,
     "metadata": {},
     "output_type": "execute_result"
    }
   ],
   "source": [
    "tpl1 = (1,2,3,4,5)\n",
    "tpl2 = (6,7,8,9,10)\n",
    "tpl1 + tpl2 # Tuple 합치기"
   ]
  },
  {
   "cell_type": "markdown",
   "metadata": {
    "colab_type": "text",
    "id": "_I_rDJdcjiBR"
   },
   "source": [
    "다만, List와 Tuple을 합칠 수는 없습니다."
   ]
  },
  {
   "cell_type": "code",
   "execution_count": 45,
   "metadata": {
    "colab": {
     "base_uri": "https://localhost:8080/",
     "height": 198
    },
    "colab_type": "code",
    "executionInfo": {
     "elapsed": 903,
     "status": "error",
     "timestamp": 1550995700015,
     "user": {
      "displayName": "최선열",
      "photoUrl": "",
      "userId": "00663027191814710813"
     },
     "user_tz": -540
    },
    "id": "rHiJeMU8jiBR",
    "outputId": "e69c0f50-93aa-4464-9487-00a5bb237deb"
   },
   "outputs": [
    {
     "ename": "TypeError",
     "evalue": "can only concatenate list (not \"tuple\") to list",
     "output_type": "error",
     "traceback": [
      "\u001b[0;31m---------------------------------------------------------------------------\u001b[0m",
      "\u001b[0;31mTypeError\u001b[0m                                 Traceback (most recent call last)",
      "\u001b[0;32m<ipython-input-45-9eede36eb104>\u001b[0m in \u001b[0;36m<module>\u001b[0;34m()\u001b[0m\n\u001b[1;32m      1\u001b[0m \u001b[0mlst1\u001b[0m \u001b[0;34m=\u001b[0m \u001b[0;34m[\u001b[0m\u001b[0;36m1\u001b[0m\u001b[0;34m,\u001b[0m\u001b[0;36m2\u001b[0m\u001b[0;34m,\u001b[0m\u001b[0;36m3\u001b[0m\u001b[0;34m,\u001b[0m\u001b[0;36m4\u001b[0m\u001b[0;34m,\u001b[0m\u001b[0;36m5\u001b[0m\u001b[0;34m]\u001b[0m\u001b[0;34m\u001b[0m\u001b[0m\n\u001b[1;32m      2\u001b[0m \u001b[0mtpl2\u001b[0m \u001b[0;34m=\u001b[0m \u001b[0;34m(\u001b[0m\u001b[0;36m6\u001b[0m\u001b[0;34m,\u001b[0m\u001b[0;36m7\u001b[0m\u001b[0;34m,\u001b[0m\u001b[0;36m8\u001b[0m\u001b[0;34m,\u001b[0m\u001b[0;36m9\u001b[0m\u001b[0;34m,\u001b[0m\u001b[0;36m10\u001b[0m\u001b[0;34m)\u001b[0m\u001b[0;34m\u001b[0m\u001b[0m\n\u001b[0;32m----> 3\u001b[0;31m \u001b[0mlst1\u001b[0m \u001b[0;34m+\u001b[0m \u001b[0mtpl2\u001b[0m \u001b[0;31m# Tuple 합치기\u001b[0m\u001b[0;34m\u001b[0m\u001b[0m\n\u001b[0m",
      "\u001b[0;31mTypeError\u001b[0m: can only concatenate list (not \"tuple\") to list"
     ]
    }
   ],
   "source": [
    "lst1 = [1,2,3,4,5]\n",
    "tpl2 = (6,7,8,9,10)\n",
    "lst1 + tpl2 # Tuple 합치기"
   ]
  },
  {
   "cell_type": "markdown",
   "metadata": {
    "colab_type": "text",
    "id": "lMXUQ3scjiBV"
   },
   "source": [
    "### (2) Tuple에서 곱하기(*) 연산자의 역할\n",
    "*, 곱하기 연산을 이용하면, 곱한 횟수만큼 tuple이 반복되는 또 다른 리스트를 만들 수 있습니다."
   ]
  },
  {
   "cell_type": "code",
   "execution_count": 46,
   "metadata": {
    "colab": {
     "base_uri": "https://localhost:8080/",
     "height": 34
    },
    "colab_type": "code",
    "executionInfo": {
     "elapsed": 483,
     "status": "ok",
     "timestamp": 1550995700309,
     "user": {
      "displayName": "최선열",
      "photoUrl": "",
      "userId": "00663027191814710813"
     },
     "user_tz": -540
    },
    "id": "DeD5EG9RjiBW",
    "outputId": "01a1391f-5a66-4875-e694-d2501451279e"
   },
   "outputs": [
    {
     "data": {
      "text/plain": [
       "(1, 2, 3, 4, 5, 1, 2, 3, 4, 5, 1, 2, 3, 4, 5)"
      ]
     },
     "execution_count": 46,
     "metadata": {},
     "output_type": "execute_result"
    }
   ],
   "source": [
    "tpl1 * 3 # Tuple 반복"
   ]
  },
  {
   "cell_type": "markdown",
   "metadata": {
    "colab_type": "text",
    "id": "ZdrjqjhajiBZ"
   },
   "source": [
    "### (3) zip을 이용해 두 tuple 교차하기\n",
    "두 튜플의 원소를 순서대로 엮어서 하나의 리스트로 만들고 싶다면 `zip()`을 이용합니다 ."
   ]
  },
  {
   "cell_type": "code",
   "execution_count": 47,
   "metadata": {
    "colab": {},
    "colab_type": "code",
    "id": "3qRsqE3AjiBZ",
    "outputId": "313c8303-c267-4113-debf-505e834a5b26"
   },
   "outputs": [
    {
     "data": {
      "text/plain": [
       "[(1, 'a'), (2, 'b'), (3, 'c'), (4, 'd'), (5, 'e')]"
      ]
     },
     "execution_count": 47,
     "metadata": {},
     "output_type": "execute_result"
    }
   ],
   "source": [
    "tpl1 = (1,2,3,4,5)\n",
    "tpl2 = (\"a\",\"b\",\"c\",\"d\",\"e\")\n",
    "\n",
    "list(zip(tpl1,tpl2)) # list와 마찬가지로 교차해서 들어갑니다.\n"
   ]
  },
  {
   "cell_type": "markdown",
   "metadata": {
    "colab_type": "text",
    "id": "9K-Vzw7NjiBd"
   },
   "source": [
    "### (4) len으로 크기 재기\n",
    "\n",
    "Tuple 내에 있는 원소의 수를 반환합니다."
   ]
  },
  {
   "cell_type": "code",
   "execution_count": 48,
   "metadata": {
    "colab": {},
    "colab_type": "code",
    "id": "Fjx7153cjiBe",
    "outputId": "d38de9f9-532f-46ea-c64b-6ca8c7042b84",
    "scrolled": true
   },
   "outputs": [
    {
     "data": {
      "text/plain": [
       "5"
      ]
     },
     "execution_count": 48,
     "metadata": {},
     "output_type": "execute_result"
    }
   ],
   "source": [
    "tpl = (1,2,3,4,5)\n",
    "len(tpl)"
   ]
  },
  {
   "cell_type": "markdown",
   "metadata": {
    "colab_type": "text",
    "id": "MxdmKAgajiBh"
   },
   "source": [
    "### (5) sorted로 정렬하기\n",
    "\n",
    "Tuple 내에 있는 원소를 정렬합니다."
   ]
  },
  {
   "cell_type": "code",
   "execution_count": 49,
   "metadata": {
    "colab": {
     "base_uri": "https://localhost:8080/",
     "height": 34
    },
    "colab_type": "code",
    "executionInfo": {
     "elapsed": 596,
     "status": "ok",
     "timestamp": 1550746180193,
     "user": {
      "displayName": "최선열",
      "photoUrl": "",
      "userId": "00663027191814710813"
     },
     "user_tz": -540
    },
    "id": "crHIItjijiBk",
    "outputId": "5230d952-5d35-48f2-8a10-4424eb4bd849"
   },
   "outputs": [
    {
     "data": {
      "text/plain": [
       "4558841024"
      ]
     },
     "execution_count": 49,
     "metadata": {},
     "output_type": "execute_result"
    }
   ],
   "source": [
    "tpl = (1,2,3,4,5)\n",
    "id(tpl)"
   ]
  },
  {
   "cell_type": "code",
   "execution_count": 50,
   "metadata": {},
   "outputs": [
    {
     "ename": "NameError",
     "evalue": "name 'id_stple' is not defined",
     "output_type": "error",
     "traceback": [
      "\u001b[0;31m---------------------------------------------------------------------------\u001b[0m",
      "\u001b[0;31mNameError\u001b[0m                                 Traceback (most recent call last)",
      "\u001b[0;32m<ipython-input-50-6e675cc0323f>\u001b[0m in \u001b[0;36m<module>\u001b[0;34m()\u001b[0m\n\u001b[1;32m      1\u001b[0m \u001b[0ms_tpl\u001b[0m \u001b[0;34m=\u001b[0m \u001b[0msorted\u001b[0m\u001b[0;34m(\u001b[0m\u001b[0mtpl\u001b[0m\u001b[0;34m)\u001b[0m \u001b[0;31m# 주의! List로 반환\u001b[0m\u001b[0;34m\u001b[0m\u001b[0m\n\u001b[0;32m----> 2\u001b[0;31m \u001b[0mid_stple\u001b[0m\u001b[0;34m\u001b[0m\u001b[0m\n\u001b[0m",
      "\u001b[0;31mNameError\u001b[0m: name 'id_stple' is not defined"
     ]
    }
   ],
   "source": [
    "s_tpl = sorted(tpl) # 주의! List로 반환\n",
    "id_stple"
   ]
  },
  {
   "cell_type": "markdown",
   "metadata": {
    "colab_type": "text",
    "id": "o-Pyw50JjiBp"
   },
   "source": [
    "#  \n",
    "\n",
    "---\n",
    "\n",
    "    Copyright(c) 2019 by Public AI. All rights reserved.\n",
    "    Writen by PAI, SeonYoul Choi ( Best10@publicai.co.kr )  last updated on 2019/02/24\n",
    "\n",
    "---"
   ]
  }
 ],
 "metadata": {
  "colab": {
   "collapsed_sections": [
    "cfL3qccYjh-6",
    "bqGuQhskjh_L",
    "Cv92CuJwjh_t",
    "9d1n-Bhfjh_5",
    "C7RSOSW7jiAF",
    "sFcHvi_wjiAS",
    "JgVOLR6FjiAW",
    "O2TjhcJXjiAa",
    "MCMFFUZ7jiAe",
    "qq0MrpV2jiAs",
    "jQdrBJ9kjiBN",
    "lMXUQ3scjiBV",
    "ZdrjqjhajiBZ",
    "9K-Vzw7NjiBd",
    "MxdmKAgajiBh"
   ],
   "name": "3_Python의 자료구조(1) List와 Tuple.ipynb",
   "provenance": [],
   "toc_visible": true,
   "version": "0.3.2"
  },
  "kernelspec": {
   "display_name": "Python 3",
   "language": "python",
   "name": "python3"
  },
  "language_info": {
   "codemirror_mode": {
    "name": "ipython",
    "version": 3
   },
   "file_extension": ".py",
   "mimetype": "text/x-python",
   "name": "python",
   "nbconvert_exporter": "python",
   "pygments_lexer": "ipython3",
   "version": "3.7.3"
  },
  "toc": {
   "base_numbering": 1,
   "nav_menu": {},
   "number_sections": false,
   "sideBar": true,
   "skip_h1_title": false,
   "title_cell": "Table of Contents",
   "title_sidebar": "Contents",
   "toc_cell": false,
   "toc_position": {},
   "toc_section_display": true,
   "toc_window_display": false
  },
  "varInspector": {
   "cols": {
    "lenName": 16,
    "lenType": 16,
    "lenVar": 40
   },
   "kernels_config": {
    "python": {
     "delete_cmd_postfix": "",
     "delete_cmd_prefix": "del ",
     "library": "var_list.py",
     "varRefreshCmd": "print(var_dic_list())"
    },
    "r": {
     "delete_cmd_postfix": ") ",
     "delete_cmd_prefix": "rm(",
     "library": "var_list.r",
     "varRefreshCmd": "cat(var_dic_list()) "
    }
   },
   "types_to_exclude": [
    "module",
    "function",
    "builtin_function_or_method",
    "instance",
    "_Feature"
   ],
   "window_display": false
  }
 },
 "nbformat": 4,
 "nbformat_minor": 2
}
