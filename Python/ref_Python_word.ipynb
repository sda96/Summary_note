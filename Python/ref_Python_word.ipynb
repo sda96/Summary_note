{
 "cells": [
  {
   "cell_type": "markdown",
   "id": "defensive-occasions",
   "metadata": {},
   "source": [
    "## 파이썬 용어집"
   ]
  },
  {
   "cell_type": "markdown",
   "id": "relevant-adobe",
   "metadata": {},
   "source": [
    "object(객체)  \n",
    "Any data with state (attributes or value) and defined behavior (methods). Also the ultimate base class of any new-style class.  \n",
    "파이썬의 객체는 어떠한 상태(속성 또는 값)와 정의된 행동(함수)를 가진 데이터를 말합니다. 또한 궁극적인 베이스는 어떠한 새로운 형식으로 쓰여진 클래스입니다.  \n",
    "\n",
    "class(클래스)  \n",
    "A template for creating user-defined objects. Class definitions normally contain method definitions which operate on instances of the class.  \n",
    "클래스는 사용자 정의 객체를 만들기 위한 형식(템플릿)입니다. 클래스 정의는 일반적으로 클래스의 인스턴스에서 작동하는 메소드 정의를 포함하고 있습니다.  \n",
    "\n",
    "attribute(속성)  \n",
    "A value associated with an object which is referenced by name using dotted expressions. For example, if an object o has an attribute a it would be referenced as o.a.  \n",
    "점 표현식을 사용하여 변수명으로 참조되어진 객체와 관련있는 값을 속성이라고 합니다. 예를 들어, 만약 객체 ```o```가 속성 ```a```를 가지고 있다면 ```o.a()``` 같이 사용되며 참조되어졌다고 할 수 있습니다.  \n",
    "\n",
    "클래스의 __init__ 생성자에서 속성이 만들어지고 각 속성에 값들이 할당되거나 새로운 전달인자를 받습니다.\n",
    "\n",
    "method(메소드)  \n",
    "A function which is defined inside a class body. If called as an attribute of an instance of that class, the method will get the instance object as its first argument (which is usually called self). See function and nested scope.  \n",
    "클래스 안에서 정의된 함수를 메소드라고 합니다. 만약 클래스(사용자 정의 객체)에 속한 인스턴스의 속성을 부른다면, 메소드는 첫번째 전달인자(argument)로 인스턴스 객체를 가져옵니다.  \n",
    "\n",
    "type(자료형)  \n",
    "The type of a Python object determines what kind of object it is; every object has a type. An object’s type is accessible as its __class__ attribute or can be retrieved with type(obj).  \n",
    "파이썬 객체의 자료형은 객체의 종류를 결정합니다. 모든 객체는 자료형을 가집니다. 객체의 자료형은 __class__ 속성이나 type(obj)로 접근이 가능합니다.  \n",
    "\n",
    "\n",
    "https://wikidocs.net/20457  \n",
    "https://docs.python.org/3/glossary.html"
   ]
  },
  {
   "cell_type": "markdown",
   "id": "welcome-sucking",
   "metadata": {},
   "source": [
    "<img src=\"https://imgur.com/1t4kqQk.jpg\">\n",
    "https://medium.com/@lokeshsharma596/is-python-call-by-value-or-call-by-reference-2dd7db74dbd0"
   ]
  },
  {
   "cell_type": "markdown",
   "id": "attractive-brook",
   "metadata": {},
   "source": [
    "자료형이란 프로그래밍을 할 때 쓰이는 숫자, 문자열 등 자료 형태로 사용하는 모든 것을 의미한다. 프로그램의 기본이자 핵심 단위가 바로 자료형이다. 계산 프로그램을 만들려면 어떤 것을 계산할지부터 알아야 하고, 데이터베이스 프로그램을 만들려면 어떤 자료형으로 저장할지부터 알아야 하는 것 처럼 기본중의 기본이라고 할 수 있다."
   ]
  },
  {
   "cell_type": "markdown",
   "id": "coupled-vacation",
   "metadata": {},
   "source": [
    "https://stackoverflow.com/questions/46312470/difference-between-methods-and-attributes-in-python  \n",
    "https://dojang.io/mod/page/view.php?id=2373"
   ]
  }
 ],
 "metadata": {
  "kernelspec": {
   "display_name": "Python 3",
   "language": "python",
   "name": "python3"
  },
  "language_info": {
   "codemirror_mode": {
    "name": "ipython",
    "version": 3
   },
   "file_extension": ".py",
   "mimetype": "text/x-python",
   "name": "python",
   "nbconvert_exporter": "python",
   "pygments_lexer": "ipython3",
   "version": "3.7.3"
  }
 },
 "nbformat": 4,
 "nbformat_minor": 5
}
