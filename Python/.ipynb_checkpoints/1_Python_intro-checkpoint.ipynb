{
 "cells": [
  {
   "cell_type": "markdown",
   "id": "printable-james",
   "metadata": {},
   "source": [
    "## 파이썬이란?"
   ]
  },
  {
   "cell_type": "markdown",
   "id": "assisted-storage",
   "metadata": {},
   "source": [
    "파이썬은 1990년 암스테르담의 귀도 반 로섬이 개발한 인터프리터 언어이다.  \n",
    "인터프리터(interpreter, 문화어: 해석기)는 프로그래밍 언어의 소스 코드를 바로 실행하는 컴퓨터 프로그램 또는 환경을 말한다. 원시 코드를 기계어로 번역하는 컴파일러와 대비된다. 인터프리터는 다음의 과정 가운데 적어도 한 가지 기능을 가진 프로그램이다.\n",
    "1. 소스 코드를 직접 실행한다.\n",
    "2. 소스 코드를 효율적인 다른 중간 코드로 변환하고, 변환한 것을 바로 실행한다\n",
    "3. 인터프리터 시스템의 일부인 컴파일러가 만든, 미리 컴파일된[1] 저장 코드의 실행을 호출한다.  \n",
    "\n",
    "인터프리터는 고급 언어로 작성된 원시코드 명령어들을 한번에 한 줄씩 읽어들여서 실행하는 프로그램이다.\n",
    "\n",
    "\"파이썬\"이라는 이름은 귀도 반 로섬이 코미디 쇼인 \"몬티 파이썬의 날아다니는 서커스\"에서 따왔다고 한다. 파이썬의 사전적인 의미는 고대 신화에 나오는 파르나소스 산의 동굴에 살던 큰 뱀을 뜻하며, 그래서 로고 모양도 뱀모양 입니다."
   ]
  },
  {
   "cell_type": "markdown",
   "id": "tested-duncan",
   "metadata": {},
   "source": [
    "## 파이썬의 장점"
   ]
  },
  {
   "cell_type": "markdown",
   "id": "laughing-court",
   "metadata": {},
   "source": [
    "1. 파이썬은 공동작업과 유지보수가 매우 쉽고 간편합니다.\n",
    "2. 파이썬의 코딩순서는 비교적 직관적으로 이해가 가능합니다.\n",
    "- ex) if 4 in [1,2,3,4]: print(\"4가 있습니다.\") -> 만약 4가 1,2,3,4중에 있으면 \"4가 있습니다\"를 출력한다.\n",
    "3. 파이썬은 문법이 비교적 쉬워 빠르게 배울 수 있다.\n",
    "4. 파이썬은 무료이며 C와의 호환성이 좋다.\n",
    "5. 파이썬은 들여쓰기를 사용하기에 가독성이 좋다."
   ]
  },
  {
   "cell_type": "markdown",
   "id": "conditional-mount",
   "metadata": {},
   "source": [
    "## 파이썬이 인공지능, 머신러닝, 데이터 과학분야에 사용되는 이유"
   ]
  },
  {
   "cell_type": "markdown",
   "id": "satellite-stage",
   "metadata": {},
   "source": [
    "1. 다양하고 상호간의 호환성이 좋은 패키지 환경\n",
    "- 차원연산이나 선형대수적 계산에 자주사용되는 넘파이와 딥러닝 모델링에 사용되는 텐서플로우끼리는 서로 호환이 잘된다.\n",
    "\n",
    "2. 파이썬의 합리적인 코딩과정은 인공지능을 만드는데 적합함\n",
    "\n",
    "3. 파이썬 사용자가 많아서 파이썬에 관련된 질문을 하고 알려주는 커뮤니티가 널리 퍼져있음 (kaggle, stackoverflow, etc...)\n",
    "\n",
    "https://technative.io/why-use-python-for-ai-and-machine-learning/"
   ]
  }
 ],
 "metadata": {
  "kernelspec": {
   "display_name": "Python 3",
   "language": "python",
   "name": "python3"
  },
  "language_info": {
   "codemirror_mode": {
    "name": "ipython",
    "version": 3
   },
   "file_extension": ".py",
   "mimetype": "text/x-python",
   "name": "python",
   "nbconvert_exporter": "python",
   "pygments_lexer": "ipython3",
   "version": "3.7.3"
  }
 },
 "nbformat": 4,
 "nbformat_minor": 5
}
