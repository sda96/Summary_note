{
 "cells": [
  {
   "cell_type": "markdown",
   "metadata": {},
   "source": [
    "# 1. 프로그래밍을 바라보는 관점\n",
    "1. 자료 구조(Data Structure)  \n",
    "\n",
    "\n",
    "- 데이터를 어떻게 구조화 할 것인가? ex) list, tuple, set, frozenset, dict, string, etc....\n",
    "- 어떻게 읽고, 어떻게 쓰는 것에 대해서 정의하고 싶은 것을 정한다.\n",
    "  \n",
    "\n",
    "2. 논리 구조(Logical Structure)\n",
    "\n",
    "\n",
    "- 문제를 해결하기 위해 어떻게 논리를 펼친 것 인가? ex) for, while, and, or .....\n",
    "  \n",
    "\n",
    "3. 궁극적으로 어떤 문제를 해결하려고 하는가?"
   ]
  },
  {
   "cell_type": "code",
   "execution_count": null,
   "metadata": {},
   "outputs": [],
   "source": []
  }
 ],
 "metadata": {
  "kernelspec": {
   "display_name": "Python 3",
   "language": "python",
   "name": "python3"
  },
  "language_info": {
   "codemirror_mode": {
    "name": "ipython",
    "version": 3
   },
   "file_extension": ".py",
   "mimetype": "text/x-python",
   "name": "python",
   "nbconvert_exporter": "python",
   "pygments_lexer": "ipython3",
   "version": "3.7.3"
  }
 },
 "nbformat": 4,
 "nbformat_minor": 2
}
