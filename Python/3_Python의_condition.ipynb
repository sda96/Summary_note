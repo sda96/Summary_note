{
 "cells": [
  {
   "cell_type": "markdown",
   "id": "decent-treasurer",
   "metadata": {},
   "source": [
    "## if 조건문"
   ]
  },
  {
   "cell_type": "markdown",
   "id": "heated-helen",
   "metadata": {},
   "source": [
    "조건문이란 들어오는 값들이 만들어진 조건에 충족을 하는지(True) 안하는지(False) 판단하는 함수입니다."
   ]
  },
  {
   "cell_type": "code",
   "execution_count": 2,
   "id": "rental-planner",
   "metadata": {},
   "outputs": [
    {
     "name": "stdout",
     "output_type": "stream",
     "text": [
      "5원 아님 6원임\n"
     ]
    }
   ],
   "source": [
    "x = 6\n",
    "if x == 5:\n",
    "    print(\"5원\")\n",
    "elif x == 6:\n",
    "    print(\"5원 아님 6원임\")\n",
    "else:\n",
    "    print(\"없음\")"
   ]
  },
  {
   "cell_type": "code",
   "execution_count": 7,
   "id": "elder-coordinator",
   "metadata": {},
   "outputs": [
    {
     "name": "stdout",
     "output_type": "stream",
     "text": [
      "True\n",
      "True\n",
      "False\n",
      "False\n",
      "False\n",
      "True\n"
     ]
    }
   ],
   "source": [
    "# 비교 연산자\n",
    "x = 3; y = 2\n",
    "print(x > y)\n",
    "print(x >= y)\n",
    "print(x < y)\n",
    "print(x <= y)\n",
    "print(x == y)\n",
    "print(x != y)"
   ]
  },
  {
   "cell_type": "code",
   "execution_count": 10,
   "id": "ethical-wrestling",
   "metadata": {},
   "outputs": [
    {
     "name": "stdout",
     "output_type": "stream",
     "text": [
      "Yes\n",
      "No\n"
     ]
    }
   ],
   "source": [
    "# and는 x와 y 모두 true이면 true 반환\n",
    "x = 3\n",
    "y = 2\n",
    "if x == 3 and y == 2:\n",
    "    print(\"Yes\")\n",
    "else:\n",
    "    print(\"No\")\n",
    "\n",
    "if x == 3 and y == 1:\n",
    "    print(\"Yes\")\n",
    "else:\n",
    "    print(\"No\")"
   ]
  },
  {
   "cell_type": "code",
   "execution_count": 12,
   "id": "ranking-webmaster",
   "metadata": {},
   "outputs": [
    {
     "name": "stdout",
     "output_type": "stream",
     "text": [
      "Yes\n",
      "Yes\n"
     ]
    }
   ],
   "source": [
    "# or은 x와 y 둘중 하나만 true이면 true 반환\n",
    "x = 3\n",
    "y = 2\n",
    "if x == 3 or y == 2:\n",
    "    print(\"Yes\")\n",
    "else:\n",
    "    print(\"No\")\n",
    "\n",
    "if x == 3 or y == 1:\n",
    "    print(\"Yes\")\n",
    "else:\n",
    "    print(\"No\")"
   ]
  },
  {
   "cell_type": "code",
   "execution_count": 14,
   "id": "solved-semester",
   "metadata": {},
   "outputs": [
    {
     "name": "stdout",
     "output_type": "stream",
     "text": [
      "띠용\n"
     ]
    }
   ],
   "source": [
    "# x가 거짓이면 true를 반환\n",
    "x = \"\" # False\n",
    "if not x: # True\n",
    "    print(\"띠용\")\n",
    "else:\n",
    "    print(\"안띠용\")"
   ]
  },
  {
   "cell_type": "code",
   "execution_count": 15,
   "id": "circular-group",
   "metadata": {},
   "outputs": [
    {
     "name": "stdout",
     "output_type": "stream",
     "text": [
      "True\n",
      "False\n"
     ]
    }
   ],
   "source": [
    "# in 조건문\n",
    "print(1 in [1,2,3])\n",
    "print(1 not in [1,2,3])"
   ]
  },
  {
   "cell_type": "code",
   "execution_count": 17,
   "id": "representative-familiar",
   "metadata": {},
   "outputs": [],
   "source": [
    "# pass는 말그대로 그냥 지나가는 함수\n",
    "x = 0\n",
    "if x == 5:\n",
    "    print(\"5원\")\n",
    "elif x == 6:\n",
    "    print(\"5원 아님 6원임\")\n",
    "else:\n",
    "    pass"
   ]
  },
  {
   "cell_type": "markdown",
   "id": "naval-semiconductor",
   "metadata": {},
   "source": [
    "## while 반복문"
   ]
  },
  {
   "cell_type": "markdown",
   "id": "derived-capacity",
   "metadata": {},
   "source": [
    "조건문이 참인 동안에는 while문 아래에 속하는 문장을 반복해서 수행합니다."
   ]
  },
  {
   "cell_type": "code",
   "execution_count": 20,
   "id": "cutting-pierre",
   "metadata": {},
   "outputs": [
    {
     "name": "stdout",
     "output_type": "stream",
     "text": [
      "나무를 1번 찍었습니다.\n",
      "나무를 2번 찍었습니다.\n",
      "나무를 3번 찍었습니다.\n",
      "나무를 4번 찍었습니다.\n",
      "나무를 5번 찍었습니다.\n",
      "나무를 6번 찍었습니다.\n",
      "나무를 7번 찍었습니다.\n",
      "나무를 8번 찍었습니다.\n",
      "나무를 9번 찍었습니다.\n",
      "나무를 10번 찍었습니다.\n",
      "나무가 넘어갑니다.\n"
     ]
    }
   ],
   "source": [
    "treeHit = 0\n",
    "while treeHit < 10:\n",
    "    treeHit += 1\n",
    "    print(\"나무를 {}번 찍었습니다.\".format(treeHit))\n",
    "    if treeHit == 10:\n",
    "        print(\"나무가 넘어갑니다.\")"
   ]
  },
  {
   "cell_type": "code",
   "execution_count": 24,
   "id": "sudden-wilderness",
   "metadata": {},
   "outputs": [
    {
     "name": "stdout",
     "output_type": "stream",
     "text": [
      "원하는 숫자를 넣어주세요. 2\n",
      "꽝입니다. 경품은 없습니다.\n",
      "원하는 숫자를 넣어주세요. 3\n",
      "꽝입니다. 경품은 없습니다.\n",
      "원하는 숫자를 넣어주세요. 25\n",
      "꽝입니다. 경품은 없습니다.\n",
      "추첨권이 모두 소진되었습니다.\n"
     ]
    }
   ],
   "source": [
    "number = 0\n",
    "while True:\n",
    "    x = int(input(\"원하는 숫자를 넣어주세요. \"))\n",
    "    if x == 250:\n",
    "        print(\"당첨입니다. 경품은 무형의 잔향입니다.\")\n",
    "        break\n",
    "    else:\n",
    "        print(\"꽝입니다. 경품은 없습니다.\")\n",
    "    number += 1\n",
    "    if number == 3:\n",
    "        print(\"추첨권이 모두 소진되었습니다.\")\n",
    "        break"
   ]
  },
  {
   "cell_type": "code",
   "execution_count": 35,
   "id": "proper-branch",
   "metadata": {},
   "outputs": [
    {
     "name": "stdout",
     "output_type": "stream",
     "text": [
      "2\n",
      "4\n",
      "6\n",
      "8\n",
      "10\n"
     ]
    }
   ],
   "source": [
    "i = 0\n",
    "while True:\n",
    "    i += 1 \n",
    "    if i % 2 == 0: # 나머지가 0이면\n",
    "        print(i)\n",
    "        if i == 10:\n",
    "            break\n",
    "        continue        "
   ]
  },
  {
   "cell_type": "code",
   "execution_count": 36,
   "id": "joint-tongue",
   "metadata": {},
   "outputs": [
    {
     "name": "stdout",
     "output_type": "stream",
     "text": [
      "2\n",
      "8\n",
      "34\n",
      "144\n"
     ]
    }
   ],
   "source": [
    "# 피보나치 수열\n",
    "# 0,1,1,2,3,5,8,13 ...\n",
    "i = 0\n",
    "a = 0\n",
    "b = 1\n",
    "c = 1\n",
    "# 피보나치 수열을 10번 반복하여 그중에서 짝수인 값만 출력합니다.\n",
    "while i < 10:\n",
    "    i += 1\n",
    "    d = b + c\n",
    "    b = c\n",
    "    c = d\n",
    "    if d % 2 == 0:\n",
    "        print(d)\n",
    "        continue"
   ]
  },
  {
   "cell_type": "markdown",
   "id": "retained-telephone",
   "metadata": {},
   "source": [
    "## for 순환문"
   ]
  },
  {
   "cell_type": "markdown",
   "id": "aquatic-march",
   "metadata": {},
   "source": [
    "for문은 순환문이라고 부르며 리스트나, 튜플, 문자열등의 컨테이너 자료형의 첫 번째 값부터 마지막 값까지 차례대로 변수에 대입하여 for문 아래의 문장을 수행합니다."
   ]
  },
  {
   "cell_type": "code",
   "execution_count": 37,
   "id": "interior-folder",
   "metadata": {},
   "outputs": [
    {
     "name": "stdout",
     "output_type": "stream",
     "text": [
      "1\n",
      "3\n",
      "5\n"
     ]
    }
   ],
   "source": [
    "a = [(1, 2), (3, 4), (5, 6)]\n",
    "for i,j in a:\n",
    "    print(i)"
   ]
  },
  {
   "cell_type": "code",
   "execution_count": 38,
   "id": "centered-implement",
   "metadata": {},
   "outputs": [
    {
     "name": "stdout",
     "output_type": "stream",
     "text": [
      "8697464\n",
      "48\n"
     ]
    },
    {
     "data": {
      "text/plain": [
       "9999"
      ]
     },
     "execution_count": 38,
     "metadata": {},
     "output_type": "execute_result"
    }
   ],
   "source": [
    "# range와 리스트 컴프리핸션의 메모리 효율 비교\n",
    "a = [n for n in range(1000000)] # a는 이미 생성된 값이 담겨있음\n",
    "b = range(1000000) # b는 range 클래스를 리턴하는 방식\n",
    "\n",
    "import sys\n",
    "print(sys.getsizeof(a))\n",
    "print(sys.getsizeof(b))\n",
    "# 똑같이 100만개의 숫자를 가지고 있지만 메모리 효율이 range가 훨씬 좋다.\n",
    "# range는 생성 조건만 보관하고 있어 미리 생성하지 않은 값은 인덱스에 접근이 안될거라 생각하지만 인덱스로 접근시 바로 생성하도록 구현되어 있음\n",
    "b[9999]"
   ]
  },
  {
   "cell_type": "code",
   "execution_count": 39,
   "id": "suburban-leonard",
   "metadata": {},
   "outputs": [
    {
     "name": "stdout",
     "output_type": "stream",
     "text": [
      "[1, 2, 3, 2, 45, 2, 5]\n",
      "<enumerate object at 0x000002589E7F9D80>\n",
      "[(0, 1), (1, 2), (2, 3), (3, 2), (4, 45), (5, 2), (6, 5)]\n",
      "0 1\n",
      "1 2\n",
      "2 3\n",
      "3 2\n",
      "4 45\n",
      "5 2\n",
      "6 5\n"
     ]
    }
   ],
   "source": [
    "# enumerate 는 열거하다는 뜻의 함수로 순서가 있는 자료형을 인덱스를 포함한 enumerate 객체로 리턴함\n",
    "a = [1,2,3,2,45,2,5]\n",
    "print(a)\n",
    "print(enumerate(a))\n",
    "print(list(enumerate(a)))\n",
    "\n",
    "for i, v in enumerate(a):\n",
    "    print(i, v)"
   ]
  }
 ],
 "metadata": {
  "kernelspec": {
   "display_name": "Python 3",
   "language": "python",
   "name": "python3"
  },
  "language_info": {
   "codemirror_mode": {
    "name": "ipython",
    "version": 3
   },
   "file_extension": ".py",
   "mimetype": "text/x-python",
   "name": "python",
   "nbconvert_exporter": "python",
   "pygments_lexer": "ipython3",
   "version": "3.7.3"
  }
 },
 "nbformat": 4,
 "nbformat_minor": 5
}
