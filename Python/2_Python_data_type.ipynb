{
 "cells": [
  {
   "cell_type": "markdown",
   "id": "victorian-liabilities",
   "metadata": {},
   "source": [
    "## 파이썬의 변수(variable)"
   ]
  },
  {
   "cell_type": "markdown",
   "id": "physical-minute",
   "metadata": {},
   "source": [
    "파이썬에서 사용하는 변수는 객체를 가리키는 것이라고도 말할 수 있다.  \n",
    "객체란 우리가 보아온 자료형을 포함한 \"파이썬에서 사용되는 모든 것\"을 뜻하는 말이다.\n",
    "<img src=\"https://imgur.com/KeZ7Fk1.jpg\">\n",
    "예를 들어, A = 3 이라는 코드가 있을 때, 3이라는 값을 가지는 정수형 객체가 자동으로 메모리에 생성된다. A는 변수의 이름이며, 3이라는 정수형 객체가 저장된 메모리 위치를 가리키게 된다. 즉, 변수 A는 객체가 저장된 메모리의 위치를 가리키는 레퍼런스라고도 할 수 있다."
   ]
  },
  {
   "cell_type": "markdown",
   "id": "decimal-samuel",
   "metadata": {},
   "source": [
    "Python 에서도 컴퓨터의 메모리 공간에 값을 담아 저장하고, 거기에 이름을 붙여 그 값을 가져올 수 있는데, 이 메모리 공간은 이름을 가진 \"변수\"라고 합니다.\n",
    "\n",
    "변수를 만드는 것을 변수를 '선언(declare)'한다고 표현하기도 하는데, 다른 언어와 다르게 Python 에서는 변수를 선언하는 명령어 없이, 변수에 값을 할당(혹은 저장)하는 순간에 변수가 만들어집니다.  \n",
    "변수에는 **값**을 저장할 수도 있고, **변수**를 저장할 수도 있으며, **연산 결과**를 저장할 수도 있습니다.\n",
    "\n",
    "<img src=\"https://imgur.com/1t4kqQk.jpg\">\n",
    "https://medium.com/@lokeshsharma596/is-python-call-by-value-or-call-by-reference-2dd7db74dbd0"
   ]
  },
  {
   "cell_type": "markdown",
   "id": "anonymous-cisco",
   "metadata": {},
   "source": [
    "## 파이썬의 자료형(data type)"
   ]
  },
  {
   "cell_type": "markdown",
   "id": "attractive-brook",
   "metadata": {},
   "source": [
    "자료형이란 프로그래밍을 할 때 쓰이는 숫자, 문자열 등 자료 형태로 사용하는 모든 것을 의미한다. 프로그램의 기본이자 핵심 단위가 바로 자료형이다. 계산 프로그램을 만들려면 어떤 것을 계산할지부터 알아야 하고, 데이터베이스 프로그램을 만들려면 어떤 자료형으로 저장할지부터 알아야 하는 것 처럼 기본중의 기본이라고 할 수 있다."
   ]
  },
  {
   "cell_type": "markdown",
   "id": "focal-license",
   "metadata": {},
   "source": [
    "## 자료형들의 특징"
   ]
  },
  {
   "cell_type": "markdown",
   "id": "naughty-tampa",
   "metadata": {},
   "source": [
    "#### sequence(연속성)  \n",
    "An iterable which supports efficient element access using integer indices via the __getitem__() special method and defines a __len__() method that returns the length of the sequence. Some built-in sequence types are list, str, tuple, and bytes. Note that dict also supports __getitem__() and __len__(), but is considered a mapping rather than a sequence because the lookups use arbitrary immutable keys rather than integers.  \n",
    "iterable(순환성)은 __getitem__ 이라는 특별한 메소드를 통하여 정수 인덱스를 이용한 효율적인 원소 접근을 지원하고 __len__ 메소드를 사용하여 sequence(연속성)의 길이를 정의합니다. 몇개의 내장 sequence 형태의 자료형은 list, tuple, byte가 있습니다. dict도 또한 __getitem__ 과 __len__ 을 지원하지만 sequence 보다는 mapping 형태의 자료형입니다. 왜냐하면 keys는 정수로 인덱싱하기보다는 immutable은 keys로 인덱싱하기 때문입니다.\n",
    "\n",
    "The collections.abc.Sequence abstract base class defines a much richer interface that goes beyond just __getitem__() and __len__(), adding count(), index(), __contains__(), and __reversed__(). Types that implement this expanded interface can be registered explicitly using register().   \n",
    "sequence는 단순히 getitem, len 뿐만 아니라 다른 메소드들도 가지고 있습니다. 확장되어진 인터페이스를 가진 자료형은 register 함수를 사용하여 등록되어질수 있습니다.\n",
    "\n",
    "#### iterable(순환성)  \n",
    "An object capable of returning its members one at a time. Examples of iterables include all sequence types (such as list, str, and tuple) and some non-sequence types like dict, file objects, and objects of any classes you define with an __iter__() method or with a __getitem__() method that implements Sequence semantics.  \n",
    "객체는 그들의 원소를 한번에 하나씩 출력가능합니다. itearble한 예시로는 list, str, type과 같은 sequence 자료형이 포함됩니다. 그리고 non-sequence 자료형중에서는 dict가 있습니다.\n",
    "\n",
    "Iterables can be used in a for loop and in many other places where a sequence is needed (zip(), map(), …). When an iterable object is passed as an argument to the built-in function iter(), it returns an iterator for the object. This iterator is good for one pass over the set of values. When using iterables, it is usually not necessary to call iter() or deal with iterator objects yourself. The for statement does that automatically for you, creating a temporary unnamed variable to hold the iterator for the duration of the loop. See also iterator, sequence, and generator.  \n",
    "itreable은 순환문에 사용되어지거나 다른 분야에서는 zip, map과 같은 sequnece에 사용되어 집니다. iterable 객체가 내장함수인 iter()에 전달인자로 들어가면, 객체에서 iterator를 반환합니다. 이 iterator는 값들의 집합에서 하나씩 통과하기 좋습니다. iterable을 사용할 때, iter()함수를 호출하거나, 혹은 iterator 객체 자체를 다룹니다. 자동적으로 나오는 상태에서는, 일회성의 이름없는 변수를 반복문이 끝날때까지 만들어 냅니다.\n",
    "\n",
    "#### iterator\n",
    "An object representing a stream of data.  \n",
    "데이터의 흐름을 나타내는 객체입니다.  \n",
    "Repeated calls to the iterator’s __next__() method (or passing it to the built-in function next()) return successive items in the stream.  \n",
    "iterator의 __next__ 메소드에서 반복적인 호출은 흐름에서 연속적인 값을 반환합니다.  \n",
    "When no more data are available a StopIteration exception is raised instead.  \n",
    "더 이상 불러올 데이터가 없을 때 Stopiteration 예외문이 대신 반환됩니다.  \n",
    "At this point, the iterator object is exhausted and any further calls to its __next__() method just raise StopIteration again.  \n",
    "이 점에서, iterator 객체가 소진되고 나서는 __next__ 메소드를 호출하더라도 StopIteration이 다시 반환됩니다.  \n",
    "Iterators are required to have an __iter__() method that returns the iterator object itself so every iterator is also iterable and may be used in most places where other iterables are accepted.  \n",
    "iterator는 __iter__ 메소드를 가지고 있어야 합니다. 이 메소드는 iterator 객체를 반환하며 그래서 모든 iterator는 iterable 하고 대부분의 환경에서 다른 iterable이 사용되는 사용될지도 모릅니다.  \n",
    "One notable exception is code which attempts multiple iteration passes.  \n",
    "한가지 주목한 만한 예외는 다양한 iteration이 통과하는 코드 입니다.  \n",
    "A container object (such as a list) produces a fresh new iterator each time you pass it to the iter() function or use it in a for loop.  \n",
    "list와 같은 컨테이너형 객체는 새로운 iterator를 매번 iter 함수를 지나갈때 마다 혹은 순환문에 사용됩니다.  \n",
    "Attempting this with an iterator will just return the same exhausted iterator object used in the previous iteration pass, making it appear like an empty container.\n",
    "iterator로 이러한 시도를 하면 소진된 iterator 객체를 이미 사용된 이전 iteration 순서에서 반환할거야, 이러한 형태가 마치 비어있는 컨테이너와 같이 만들어 줍니다.  \n",
    "More information can be found in Iterator Types.  \n",
    "더 많은 정보는 iterator types에서 찾을 수 있습니다.\n",
    "\n",
    "\n",
    "#### mutable(비고정성)\n",
    "Mutable objects can change their value but keep their id(). See also immutable.\n",
    "\n",
    "#### immutable(고정성)\n",
    "An object with a fixed value. Immutable objects include numbers, strings and tuples. Such an object cannot be altered. A new object has to be created if a different value has to be stored. They play an important role in places where a constant hash value is needed, for example as a key in a dictionary.\n",
    "\n",
    "#### hashable(해시값이 있는)\n",
    "An object is hashable if it has a hash value which never changes during its lifetime (it needs a __hash__() method), and can be compared to other objects (it needs an __eq__() method). Hashable objects which compare equal must have the same hash value.\n",
    "\n",
    "Hashability makes an object usable as a dictionary key and a set member, because these data structures use the hash value internally.\n",
    "\n",
    "Most of Python’s immutable built-in objects are hashable; mutable containers (such as lists or dictionaries) are not; immutable containers (such as tuples and frozensets) are only hashable if their elements are hashable. Objects which are instances of user-defined classes are hashable by default. They all compare unequal (except with themselves), and their hash value is derived from their id().\n",
    "\n",
    "#### mapping(짝맞춤성)\n",
    "A container object that supports arbitrary key lookups and implements the methods specified in the Mapping or MutableMapping abstract base classes. Examples include dict, collections.defaultdict, collections.OrderedDict and collections.Counter."
   ]
  },
  {
   "cell_type": "markdown",
   "id": "czech-burlington",
   "metadata": {},
   "source": [
    "- [sequence(order)](https://python.flowdas.com/library/collections.html)\n",
    "> A sequence is a group of items with a deterministic ordering.(순서를 가지고 있는)\n",
    "\n",
    "- [mutable , immutable ](https://www.geeksforgeeks.org/mutable-vs-immutable-objects-in-python/)\n",
    "> Whenever an object is instantiated, it is assigned a unique object id. The type of the object is defined at the runtime and it can’t be changed afterwards. However, it’s state can be changed if it is a mutable object.\n",
    "To summarise the difference, mutable objects can change their state or contents and immutable objects can’t change their state or content.  \n",
    "`Immutable Objects` : These are of in-built types like int, float, bool, string, unicode, tuple. In simple words, an immutable object can’t be changed after it is created  \n",
    "`Mutable Objects` : These are of type list, dict, set . Custom classes are generally mutables  \n",
    "❖`state` : The contents of the memory locations, at any given point in the program’s execution, is called the program’s state.\n",
    "\n",
    "\n",
    "- [hashable](https://docs.python.org/2/glossary.html)\n",
    " > An object is hashable if it has a hash value which never changes during its lifetime (it needs a __hash__() method), and can be compared to other objects\n",
    "\n",
    "- [mapping](https://docs.python.org/2.0/lib/typesmapping.html)\n",
    "> A mapping object maps values of one type (the key type) to arbitrary objects. Mappings are mutable objects. There is currently only one standard mapping type, the dictionary. \n",
    "\n",
    "- [collections](https://python.flowdas.com/library/collections.html)\n",
    "> Python collection, unlike a sequence, does not have a deterministic ordering.\n",
    "\n",
    "- [iterable](https://www.pythonlikeyoumeanit.com/Module2_EssentialsOfPython/Iterables.html)\n",
    "> An iterable is any Python object capable of returning its members one at a time, permitting it to be iterated over in a for-loop.\n",
    "\n",
    "\n"
   ]
  },
  {
   "cell_type": "markdown",
   "id": "hazardous-prisoner",
   "metadata": {},
   "source": [
    "### 숫자형"
   ]
  },
  {
   "cell_type": "code",
   "execution_count": 4,
   "id": "executive-angola",
   "metadata": {},
   "outputs": [],
   "source": [
    "a = 123 # 정수형\n",
    "b = 1.2 # 실수형\n",
    "c = 0o177 # 8진수\n",
    "d = 0x8ff # 16진수\n",
    "e = 1+2j # 복소수"
   ]
  },
  {
   "cell_type": "code",
   "execution_count": 6,
   "id": "sustainable-terry",
   "metadata": {},
   "outputs": [
    {
     "data": {
      "text/plain": [
       "1.0"
      ]
     },
     "execution_count": 6,
     "metadata": {},
     "output_type": "execute_result"
    }
   ],
   "source": [
    "e.real # 복소수의 실수 부분"
   ]
  },
  {
   "cell_type": "code",
   "execution_count": 7,
   "id": "fifty-nylon",
   "metadata": {},
   "outputs": [
    {
     "data": {
      "text/plain": [
       "2.0"
      ]
     },
     "execution_count": 7,
     "metadata": {},
     "output_type": "execute_result"
    }
   ],
   "source": [
    "e.imag # 복소수의 허수 부분"
   ]
  },
  {
   "cell_type": "code",
   "execution_count": 10,
   "id": "subjective-holiday",
   "metadata": {},
   "outputs": [
    {
     "data": {
      "text/plain": [
       "(1-2j)"
      ]
     },
     "execution_count": 10,
     "metadata": {},
     "output_type": "execute_result"
    }
   ],
   "source": [
    "e.conjugate() # 복소수의 켤레복소수"
   ]
  },
  {
   "cell_type": "code",
   "execution_count": 11,
   "id": "still-vietnam",
   "metadata": {},
   "outputs": [
    {
     "data": {
      "text/plain": [
       "2.23606797749979"
      ]
     },
     "execution_count": 11,
     "metadata": {},
     "output_type": "execute_result"
    }
   ],
   "source": [
    "abs(e) # 복소수의 절댓값"
   ]
  },
  {
   "cell_type": "code",
   "execution_count": 15,
   "id": "distinct-ensemble",
   "metadata": {},
   "outputs": [
    {
     "data": {
      "text/plain": [
       "2"
      ]
     },
     "execution_count": 15,
     "metadata": {},
     "output_type": "execute_result"
    }
   ],
   "source": [
    "3 + 4 # 더하기\n",
    "3 - 4 # 빼기\n",
    "3 / 4 # 나누기\n",
    "3 * 4 # 곱하기\n",
    "3 ** 4 # 3의 4승\n",
    "6 // 4 # 몫\n",
    "6 % 4 # 나머지 "
   ]
  },
  {
   "cell_type": "code",
   "execution_count": 1,
   "id": "precise-norwegian",
   "metadata": {},
   "outputs": [
    {
     "name": "stdout",
     "output_type": "stream",
     "text": [
      "1.6666666666666667\n",
      "1\n",
      "2\n",
      "(1, 2)\n"
     ]
    }
   ],
   "source": [
    "# 나눗셈 연산자\n",
    "print(5 / 3) # 나누기\n",
    "print(5 // 3) # 몫\n",
    "print(5 % 3) # 나머지\n",
    "print(divmod(5, 3)) # 파이썬 내장 함수 divmod : (몫, 나머지)"
   ]
  },
  {
   "cell_type": "markdown",
   "id": "affiliated-provider",
   "metadata": {},
   "source": [
    "### 문자형"
   ]
  },
  {
   "cell_type": "code",
   "execution_count": 16,
   "id": "differential-buying",
   "metadata": {},
   "outputs": [
    {
     "data": {
      "text/plain": [
       "'Hello World'"
      ]
     },
     "execution_count": 16,
     "metadata": {},
     "output_type": "execute_result"
    }
   ],
   "source": [
    "\"Hello World\" # 기본 문자형"
   ]
  },
  {
   "cell_type": "code",
   "execution_count": 2,
   "id": "preceding-freeze",
   "metadata": {},
   "outputs": [
    {
     "name": "stdout",
     "output_type": "stream",
     "text": [
      "A! B@\n",
      "A!,B@\n",
      "A! B@ A! B@\n"
     ]
    }
   ],
   "source": [
    "print(\"A!\", \"B@\") # 콤마로 띄어쓰기\n",
    "print(\"A!\", \"B@\", sep=\",\") # 구분자 콤마\n",
    "\n",
    "print(\"A!\", \"B@\", end=\" \") # 개행 막기\n",
    "print(\"A!\", \"B@\") "
   ]
  },
  {
   "cell_type": "code",
   "execution_count": 27,
   "id": "assigned-validity",
   "metadata": {},
   "outputs": [
    {
     "data": {
      "text/plain": [
       "'\\n한칸\\n두칸\\n세칸\\n'"
      ]
     },
     "execution_count": 27,
     "metadata": {},
     "output_type": "execute_result"
    }
   ],
   "source": [
    "\"\"\"\n",
    "한칸\n",
    "두칸\n",
    "세칸\n",
    "\"\"\" # 따옴표를 둘러싸서 문자형으로 만듦"
   ]
  },
  {
   "cell_type": "code",
   "execution_count": 19,
   "id": "swiss-academy",
   "metadata": {},
   "outputs": [
    {
     "data": {
      "text/plain": [
       "\"Python's favorite food is perl \""
      ]
     },
     "execution_count": 19,
     "metadata": {},
     "output_type": "execute_result"
    }
   ],
   "source": [
    "\"Python's favorite food is perl \""
   ]
  },
  {
   "cell_type": "code",
   "execution_count": 28,
   "id": "sitting-refrigerator",
   "metadata": {},
   "outputs": [
    {
     "name": "stdout",
     "output_type": "stream",
     "text": [
      "one\n",
      "two\n",
      "three\n",
      "one\ttwo\tthree\n",
      "one\\two\\three\n",
      "one'two'three\n"
     ]
    }
   ],
   "source": [
    "print(\"one\\ntwo\\nthree\") # \\n은 줄바꿈\n",
    "print(\"one\\ttwo\\tthree\") # \\t은 탭 간격\n",
    "print(\"one\\\\two\\\\three\") # \\\\은 \\표시\n",
    "print(\"one\\'two\\'three\") # \\'은 '표시"
   ]
  },
  {
   "cell_type": "code",
   "execution_count": 31,
   "id": "metropolitan-residence",
   "metadata": {},
   "outputs": [
    {
     "data": {
      "text/plain": [
       "'1 더하기 1은 귀요미'"
      ]
     },
     "execution_count": 31,
     "metadata": {},
     "output_type": "execute_result"
    }
   ],
   "source": [
    "\"1\" + \" \" + \"더하기\" + \" \" + \"1\" + \"은\" + \" \" + \"귀요미\" # 문자열 더하기"
   ]
  },
  {
   "cell_type": "code",
   "execution_count": 36,
   "id": "flush-socket",
   "metadata": {},
   "outputs": [
    {
     "data": {
      "text/plain": [
       "'귀엽귀귀엽귀귀엽귀귀엽귀귀엽귀'"
      ]
     },
     "execution_count": 36,
     "metadata": {},
     "output_type": "execute_result"
    }
   ],
   "source": [
    "\"귀엽귀\" * 5 # 문자열 곱하기"
   ]
  },
  {
   "cell_type": "code",
   "execution_count": 55,
   "id": "headed-currency",
   "metadata": {},
   "outputs": [
    {
     "data": {
      "text/plain": [
       "'Life'"
      ]
     },
     "execution_count": 55,
     "metadata": {},
     "output_type": "execute_result"
    }
   ],
   "source": [
    "a = \"Life is short, You need Python\"\n",
    "a[0:4] # 문자열 인덱싱 0,1,2,3"
   ]
  },
  {
   "cell_type": "code",
   "execution_count": 50,
   "id": "challenging-hotel",
   "metadata": {},
   "outputs": [
    {
     "name": "stdout",
     "output_type": "stream",
     "text": [
      "n\n",
      "Life is short, You need \n",
      "Python\n",
      "Lf ssot o edPto\n",
      "nohtyP deen uoY ,trohs si efiL\n"
     ]
    }
   ],
   "source": [
    "print(a[-1]) # 인덱싱\n",
    "print(a[:-6]) # 슬라이싱\n",
    "print(a[-6:]) # 슬라이싱\n",
    "print(a[::2]) # 0,2,4,6,8, ....\n",
    "print(a[::-1]) # 역순"
   ]
  },
  {
   "cell_type": "code",
   "execution_count": 57,
   "id": "lovely-journalism",
   "metadata": {},
   "outputs": [
    {
     "ename": "TypeError",
     "evalue": "'str' object does not support item assignment",
     "output_type": "error",
     "traceback": [
      "\u001b[1;31m---------------------------------------------------------------------------\u001b[0m",
      "\u001b[1;31mTypeError\u001b[0m                                 Traceback (most recent call last)",
      "\u001b[1;32m<ipython-input-57-0566c43f6078>\u001b[0m in \u001b[0;36m<module>\u001b[1;34m\u001b[0m\n\u001b[0;32m      1\u001b[0m \u001b[1;31m# 문자열과 튜플은 immutable하므로 값 변경이 불가능함\u001b[0m\u001b[1;33m\u001b[0m\u001b[1;33m\u001b[0m\u001b[1;33m\u001b[0m\u001b[0m\n\u001b[1;32m----> 2\u001b[1;33m \u001b[0ma\u001b[0m\u001b[1;33m[\u001b[0m\u001b[1;36m0\u001b[0m\u001b[1;33m]\u001b[0m \u001b[1;33m=\u001b[0m \u001b[1;34m\"R\"\u001b[0m\u001b[1;33m\u001b[0m\u001b[1;33m\u001b[0m\u001b[0m\n\u001b[0m",
      "\u001b[1;31mTypeError\u001b[0m: 'str' object does not support item assignment"
     ]
    }
   ],
   "source": [
    "# 문자열과 튜플은 immutable하므로 값 변경이 불가능함\n",
    "a[0] = \"R\""
   ]
  },
  {
   "cell_type": "code",
   "execution_count": 60,
   "id": "attempted-target",
   "metadata": {},
   "outputs": [
    {
     "data": {
      "text/plain": [
       "'Python'"
      ]
     },
     "execution_count": 60,
     "metadata": {},
     "output_type": "execute_result"
    }
   ],
   "source": [
    "a = \"Pithon\"\n",
    "a[:1] + \"y\" + a[2:]"
   ]
  },
  {
   "cell_type": "markdown",
   "id": "cardiovascular-acoustic",
   "metadata": {},
   "source": [
    "### 문자형 포맷팅"
   ]
  },
  {
   "cell_type": "code",
   "execution_count": 61,
   "id": "cleared-accessory",
   "metadata": {},
   "outputs": [
    {
     "data": {
      "text/plain": [
       "'I eat 3 apples.'"
      ]
     },
     "execution_count": 61,
     "metadata": {},
     "output_type": "execute_result"
    }
   ],
   "source": [
    "\"I eat %d apples.\" % 3 # 숫자 대입"
   ]
  },
  {
   "cell_type": "code",
   "execution_count": 62,
   "id": "clear-integrity",
   "metadata": {},
   "outputs": [
    {
     "data": {
      "text/plain": [
       "'I eat five apples.'"
      ]
     },
     "execution_count": 62,
     "metadata": {},
     "output_type": "execute_result"
    }
   ],
   "source": [
    "\"I eat %s apples.\" % \"five\" # 문자 대입"
   ]
  },
  {
   "cell_type": "code",
   "execution_count": 64,
   "id": "hungry-toilet",
   "metadata": {},
   "outputs": [
    {
     "data": {
      "text/plain": [
       "'I ate 10 apples, so i was sick for three days'"
      ]
     },
     "execution_count": 64,
     "metadata": {},
     "output_type": "execute_result"
    }
   ],
   "source": [
    "number = 10\n",
    "day = \"three\"\n",
    "\"I ate %d apples, so i was sick for %s days\" % (number, day)"
   ]
  },
  {
   "cell_type": "code",
   "execution_count": 70,
   "id": "rocky-reduction",
   "metadata": {},
   "outputs": [
    {
     "data": {
      "text/plain": [
       "'rate is 3.25'"
      ]
     },
     "execution_count": 70,
     "metadata": {},
     "output_type": "execute_result"
    }
   ],
   "source": [
    "\"rate is %.2f\" % 3.2451 # 부동 소수점 둘째 자리"
   ]
  },
  {
   "cell_type": "code",
   "execution_count": 73,
   "id": "owned-boxing",
   "metadata": {},
   "outputs": [
    {
     "data": {
      "text/plain": [
       "'        hi James'"
      ]
     },
     "execution_count": 73,
     "metadata": {},
     "output_type": "execute_result"
    }
   ],
   "source": [
    "\"%10s James\" % \"hi\" # 10칸 오른쪽 정렬"
   ]
  },
  {
   "cell_type": "code",
   "execution_count": 75,
   "id": "northern-territory",
   "metadata": {},
   "outputs": [
    {
     "data": {
      "text/plain": [
       "'hi         James'"
      ]
     },
     "execution_count": 75,
     "metadata": {},
     "output_type": "execute_result"
    }
   ],
   "source": [
    "\"%-10s James\" % \"hi\" # 10칸 왼쪽 정렬"
   ]
  },
  {
   "cell_type": "code",
   "execution_count": 77,
   "id": "basic-measurement",
   "metadata": {},
   "outputs": [
    {
     "data": {
      "text/plain": [
       "'    3.4215'"
      ]
     },
     "execution_count": 77,
     "metadata": {},
     "output_type": "execute_result"
    }
   ],
   "source": [
    "\"%10.4f\" % 3.42152331 # 10칸 오른쪽 정렬 소수점 넷째 자리"
   ]
  },
  {
   "cell_type": "code",
   "execution_count": 89,
   "id": "critical-drain",
   "metadata": {},
   "outputs": [
    {
     "data": {
      "text/plain": [
       "'I eat 4 apples on my own !'"
      ]
     },
     "execution_count": 89,
     "metadata": {},
     "output_type": "execute_result"
    }
   ],
   "source": [
    "\"I eat {1} apples on my own {0}\".format(\"!\",4) # format 함수를 통한 포맷팅"
   ]
  },
  {
   "cell_type": "code",
   "execution_count": 90,
   "id": "pending-aside",
   "metadata": {},
   "outputs": [
    {
     "data": {
      "text/plain": [
       "'I eat 4 apples on my own !'"
      ]
     },
     "execution_count": 90,
     "metadata": {},
     "output_type": "execute_result"
    }
   ],
   "source": [
    "\"I eat {number} apples on my own {0}\".format(\"!\",number = 4) # format 함수를 통한 포맷팅"
   ]
  },
  {
   "cell_type": "code",
   "execution_count": 92,
   "id": "different-palace",
   "metadata": {},
   "outputs": [
    {
     "data": {
      "text/plain": [
       "'hi        '"
      ]
     },
     "execution_count": 92,
     "metadata": {},
     "output_type": "execute_result"
    }
   ],
   "source": [
    "\"{0:<10}\".format(\"hi\") # 왼쪽 정렬 오른쪽 10칸"
   ]
  },
  {
   "cell_type": "code",
   "execution_count": 93,
   "id": "driving-buffer",
   "metadata": {},
   "outputs": [
    {
     "data": {
      "text/plain": [
       "'    hi    '"
      ]
     },
     "execution_count": 93,
     "metadata": {},
     "output_type": "execute_result"
    }
   ],
   "source": [
    "\"{0:^10}\".format(\"hi\") # 가운데 정렬 오른쪽 10칸"
   ]
  },
  {
   "cell_type": "code",
   "execution_count": 95,
   "id": "alternative-minutes",
   "metadata": {},
   "outputs": [
    {
     "data": {
      "text/plain": [
       "'====hi===='"
      ]
     },
     "execution_count": 95,
     "metadata": {},
     "output_type": "execute_result"
    }
   ],
   "source": [
    "\"{0:=^10}\".format(\"hi\") # 공백채우기"
   ]
  },
  {
   "cell_type": "code",
   "execution_count": 96,
   "id": "olive-orange",
   "metadata": {},
   "outputs": [
    {
     "data": {
      "text/plain": [
       "'hi!!!!!!!!'"
      ]
     },
     "execution_count": 96,
     "metadata": {},
     "output_type": "execute_result"
    }
   ],
   "source": [
    "\"{0:!<10}\".format(\"hi\") # 왼쪽정렬 오른쪽 10칸"
   ]
  },
  {
   "cell_type": "code",
   "execution_count": 97,
   "id": "hollywood-ferry",
   "metadata": {},
   "outputs": [
    {
     "data": {
      "text/plain": [
       "'3.1416'"
      ]
     },
     "execution_count": 97,
     "metadata": {},
     "output_type": "execute_result"
    }
   ],
   "source": [
    "y = 3.1415921736\n",
    "\"{0:0.4f}\".format(y) # 소수점 넷째 자리"
   ]
  },
  {
   "cell_type": "code",
   "execution_count": 99,
   "id": "affecting-brighton",
   "metadata": {},
   "outputs": [
    {
     "data": {
      "text/plain": [
       "'3.1416    '"
      ]
     },
     "execution_count": 99,
     "metadata": {},
     "output_type": "execute_result"
    }
   ],
   "source": [
    "\"{0:<10.4f}\".format(y) # 칸 10개 왼쪽 정렬 소수점 넷째 자리"
   ]
  },
  {
   "cell_type": "code",
   "execution_count": 100,
   "id": "simplified-being",
   "metadata": {},
   "outputs": [
    {
     "data": {
      "text/plain": [
       "'{and}'"
      ]
     },
     "execution_count": 100,
     "metadata": {},
     "output_type": "execute_result"
    }
   ],
   "source": [
    "\"{{and}}\".format()"
   ]
  },
  {
   "cell_type": "markdown",
   "id": "accepted-argument",
   "metadata": {},
   "source": [
    "### 문자형 관련 함수"
   ]
  },
  {
   "cell_type": "code",
   "execution_count": 78,
   "id": "failing-demand",
   "metadata": {},
   "outputs": [
    {
     "data": {
      "text/plain": [
       "2"
      ]
     },
     "execution_count": 78,
     "metadata": {},
     "output_type": "execute_result"
    }
   ],
   "source": [
    "a = \"hobby\"\n",
    "a.count(\"b\") # b 갯수 세기"
   ]
  },
  {
   "cell_type": "code",
   "execution_count": 80,
   "id": "digital-endorsement",
   "metadata": {},
   "outputs": [
    {
     "data": {
      "text/plain": [
       "10"
      ]
     },
     "execution_count": 80,
     "metadata": {},
     "output_type": "execute_result"
    }
   ],
   "source": [
    "a = \"Python is best choice\"\n",
    "a.find(\"b\") # b가 처음 나온 인덱스값 출력"
   ]
  },
  {
   "cell_type": "code",
   "execution_count": 81,
   "id": "noticed-province",
   "metadata": {},
   "outputs": [
    {
     "data": {
      "text/plain": [
       "-1"
      ]
     },
     "execution_count": 81,
     "metadata": {},
     "output_type": "execute_result"
    }
   ],
   "source": [
    "a.find(\"k\") # 검색한게 존재하지 않으면 -1 출력"
   ]
  },
  {
   "cell_type": "code",
   "execution_count": 82,
   "id": "united-medicare",
   "metadata": {},
   "outputs": [
    {
     "data": {
      "text/plain": [
       "10"
      ]
     },
     "execution_count": 82,
     "metadata": {},
     "output_type": "execute_result"
    }
   ],
   "source": [
    "a.index(\"b\") # b 인덱스값 출력"
   ]
  },
  {
   "cell_type": "code",
   "execution_count": 83,
   "id": "endless-avenue",
   "metadata": {},
   "outputs": [
    {
     "data": {
      "text/plain": [
       "'a,b,c,d'"
      ]
     },
     "execution_count": 83,
     "metadata": {},
     "output_type": "execute_result"
    }
   ],
   "source": [
    "a = \",\"\n",
    "a.join(\"abcd\") # 문자열 삽입"
   ]
  },
  {
   "cell_type": "code",
   "execution_count": 86,
   "id": "scientific-pathology",
   "metadata": {},
   "outputs": [
    {
     "data": {
      "text/plain": [
       "['a', 'b', 'c', 'd']"
      ]
     },
     "execution_count": 86,
     "metadata": {},
     "output_type": "execute_result"
    }
   ],
   "source": [
    "a = \"a,b,c,d\"\n",
    "a.split(\",\") # 문자열 분리"
   ]
  },
  {
   "cell_type": "code",
   "execution_count": 87,
   "id": "incoming-elder",
   "metadata": {},
   "outputs": [
    {
     "name": "stdout",
     "output_type": "stream",
     "text": [
      "HELLOW\n",
      "hellow\n"
     ]
    }
   ],
   "source": [
    "a = \"Hellow\"\n",
    "print(a.upper()) # 모두 대문자로\n",
    "print(a.lower()) # 모두 소문자로"
   ]
  },
  {
   "cell_type": "code",
   "execution_count": 88,
   "id": "transparent-colleague",
   "metadata": {},
   "outputs": [
    {
     "name": "stdout",
     "output_type": "stream",
     "text": [
      "hi    \n",
      "    hi\n",
      "hi\n"
     ]
    }
   ],
   "source": [
    "a = \"    hi    \"\n",
    "print(a.lstrip()) # 왼쪽 공백 제거\n",
    "print(a.rstrip()) # 오른쪽 공백 제거\n",
    "print(a.strip()) # 양쪽 공백 제거"
   ]
  },
  {
   "cell_type": "markdown",
   "id": "peripheral-monitoring",
   "metadata": {},
   "source": [
    "### 리스트 자료형"
   ]
  },
  {
   "cell_type": "code",
   "execution_count": 7,
   "id": "basic-northwest",
   "metadata": {},
   "outputs": [],
   "source": [
    "# 변수명 = [원소1, 원소2 원소3,....] \n",
    "odd = [1,3,5,7,8,9]"
   ]
  },
  {
   "cell_type": "code",
   "execution_count": 10,
   "id": "intelligent-canadian",
   "metadata": {},
   "outputs": [
    {
     "data": {
      "text/plain": [
       "'a'"
      ]
     },
     "execution_count": 10,
     "metadata": {},
     "output_type": "execute_result"
    }
   ],
   "source": [
    "# 인덱싱의 시작은 1이 아니라 0부터 시작입니다.\n",
    "a = [1,2,3,[\"a\",\"b\",\"c\"]]\n",
    "a[-1][0]"
   ]
  },
  {
   "cell_type": "code",
   "execution_count": 11,
   "id": "sapphire-small",
   "metadata": {},
   "outputs": [
    {
     "data": {
      "text/plain": [
       "[1, 2, 3, 4, 5, 6]"
      ]
     },
     "execution_count": 11,
     "metadata": {},
     "output_type": "execute_result"
    }
   ],
   "source": [
    "# 리스트 더하기\n",
    "a = [1,2,3]\n",
    "b = [4,5,6]\n",
    "a + b"
   ]
  },
  {
   "cell_type": "code",
   "execution_count": 12,
   "id": "ancient-review",
   "metadata": {},
   "outputs": [
    {
     "data": {
      "text/plain": [
       "[1, 2, 3, 1, 2, 3]"
      ]
     },
     "execution_count": 12,
     "metadata": {},
     "output_type": "execute_result"
    }
   ],
   "source": [
    "# 리스트 곱하기\n",
    "[1,2,3] * 2"
   ]
  },
  {
   "cell_type": "code",
   "execution_count": 13,
   "id": "prostate-pulse",
   "metadata": {},
   "outputs": [
    {
     "data": {
      "text/plain": [
       "[1, 2, 4]"
      ]
     },
     "execution_count": 13,
     "metadata": {},
     "output_type": "execute_result"
    }
   ],
   "source": [
    "# 리스트 원소 변경\n",
    "a = [1,2,3]\n",
    "a[2] = 4\n",
    "a"
   ]
  },
  {
   "cell_type": "code",
   "execution_count": 16,
   "id": "expired-soundtrack",
   "metadata": {},
   "outputs": [
    {
     "data": {
      "text/plain": [
       "[1, 'a', 'b', 'c', 'b', 4]"
      ]
     },
     "execution_count": 16,
     "metadata": {},
     "output_type": "execute_result"
    }
   ],
   "source": [
    "# 리스트 원소 범위로 변경\n",
    "a[1:2] = [\"a\",\"b\",\"c\"]\n",
    "a"
   ]
  },
  {
   "cell_type": "code",
   "execution_count": 17,
   "id": "solid-hayes",
   "metadata": {},
   "outputs": [
    {
     "data": {
      "text/plain": [
       "[1, ['d', 'f'], 'b', 'c', 'b', 4]"
      ]
     },
     "execution_count": 17,
     "metadata": {},
     "output_type": "execute_result"
    }
   ],
   "source": [
    "# 범위로 변경안할 시 이렇게 바뀜\n",
    "a[1] = [\"d\",\"f\"]\n",
    "a"
   ]
  },
  {
   "cell_type": "code",
   "execution_count": 18,
   "id": "worst-developer",
   "metadata": {},
   "outputs": [
    {
     "data": {
      "text/plain": [
       "[1, 'c', 'b', 4]"
      ]
     },
     "execution_count": 18,
     "metadata": {},
     "output_type": "execute_result"
    }
   ],
   "source": [
    "# 인덱스 1~3번째 자리 제거\n",
    "a[1:3] = []\n",
    "a"
   ]
  },
  {
   "cell_type": "code",
   "execution_count": 19,
   "id": "animal-estimate",
   "metadata": {},
   "outputs": [
    {
     "data": {
      "text/plain": [
       "['c', 'b', 4]"
      ]
     },
     "execution_count": 19,
     "metadata": {},
     "output_type": "execute_result"
    }
   ],
   "source": [
    "# del함수를 이용하여 인덱스 0번째 원소 제거\n",
    "del a[0]\n",
    "a"
   ]
  },
  {
   "cell_type": "code",
   "execution_count": 20,
   "id": "roman-yukon",
   "metadata": {},
   "outputs": [
    {
     "data": {
      "text/plain": [
       "[1, 2, 3, 4]"
      ]
     },
     "execution_count": 20,
     "metadata": {},
     "output_type": "execute_result"
    }
   ],
   "source": [
    "# 기존 리스트에 4 추가\n",
    "a = [1,2,3]\n",
    "a.append(4)\n",
    "a"
   ]
  },
  {
   "cell_type": "code",
   "execution_count": 27,
   "id": "protecting-finding",
   "metadata": {},
   "outputs": [
    {
     "data": {
      "text/plain": [
       "[1, 2, 4, 5, 5, 6, 7, 7]"
      ]
     },
     "execution_count": 27,
     "metadata": {},
     "output_type": "execute_result"
    }
   ],
   "source": [
    "# 오름차순 정렬\n",
    "a = [2,4,5,6,7,1,5,7]\n",
    "a.sort()\n",
    "a"
   ]
  },
  {
   "cell_type": "code",
   "execution_count": 28,
   "id": "split-breast",
   "metadata": {},
   "outputs": [
    {
     "data": {
      "text/plain": [
       "[7, 7, 6, 5, 5, 4, 2, 1]"
      ]
     },
     "execution_count": 28,
     "metadata": {},
     "output_type": "execute_result"
    }
   ],
   "source": [
    "# 내림차순 정렬\n",
    "a = [2,4,5,6,7,1,5,7]\n",
    "a.sort(reverse=True)\n",
    "a"
   ]
  },
  {
   "cell_type": "code",
   "execution_count": 29,
   "id": "clean-harvard",
   "metadata": {},
   "outputs": [
    {
     "data": {
      "text/plain": [
       "3"
      ]
     },
     "execution_count": 29,
     "metadata": {},
     "output_type": "execute_result"
    }
   ],
   "source": [
    "# 해당 값의 인덱스 출력\n",
    "a = [1,2,3,4,5]\n",
    "a.index(4)"
   ]
  },
  {
   "cell_type": "code",
   "execution_count": 30,
   "id": "level-speech",
   "metadata": {},
   "outputs": [
    {
     "data": {
      "text/plain": [
       "[4, 1, 2, 3]"
      ]
     },
     "execution_count": 30,
     "metadata": {},
     "output_type": "execute_result"
    }
   ],
   "source": [
    "# 0번째 인덱스에 4 삽입\n",
    "a = [1,2,3]\n",
    "a.insert(0,4)\n",
    "a"
   ]
  },
  {
   "cell_type": "code",
   "execution_count": 31,
   "id": "complete-nerve",
   "metadata": {},
   "outputs": [
    {
     "data": {
      "text/plain": [
       "[4, 1, 2]"
      ]
     },
     "execution_count": 31,
     "metadata": {},
     "output_type": "execute_result"
    }
   ],
   "source": [
    "# 0번쨰 인덱스로 부터 처음으로 값이 3으로 나온 원소 제거\n",
    "a.remove(3)\n",
    "a"
   ]
  },
  {
   "cell_type": "code",
   "execution_count": 37,
   "id": "bottom-relay",
   "metadata": {},
   "outputs": [
    {
     "data": {
      "text/plain": [
       "([1, 3], 2)"
      ]
     },
     "execution_count": 37,
     "metadata": {},
     "output_type": "execute_result"
    }
   ],
   "source": [
    "# 1번째 인덱스의 원소가 튀어나오게 만들어서 a에서는 제거되고 c에 할당됨\n",
    "a = [1,2,3]\n",
    "c = a.pop(1)\n",
    "a,c"
   ]
  },
  {
   "cell_type": "code",
   "execution_count": 39,
   "id": "impressed-rolling",
   "metadata": {},
   "outputs": [
    {
     "data": {
      "text/plain": [
       "2"
      ]
     },
     "execution_count": 39,
     "metadata": {},
     "output_type": "execute_result"
    }
   ],
   "source": [
    "# 값이 1인 원소이 개수를 세줌\n",
    "a = [1,2,3,1]\n",
    "a.count(1)"
   ]
  },
  {
   "cell_type": "code",
   "execution_count": 42,
   "id": "eastern-evaluation",
   "metadata": {},
   "outputs": [
    {
     "name": "stdout",
     "output_type": "stream",
     "text": [
      "[1, 2, 3, 4, 5]\n",
      "[1, 2, 3, [4, 5]]\n"
     ]
    }
   ],
   "source": [
    "# extend는 원래 리스트에서 다른 리스트내의 원소들을 그대로 추가해줌\n",
    "a = [1,2,3]\n",
    "a.extend([4,5])\n",
    "print(a)\n",
    "b = [1,2,3]\n",
    "b.append([4,5])\n",
    "print(b)"
   ]
  },
  {
   "cell_type": "code",
   "execution_count": 43,
   "id": "north-married",
   "metadata": {},
   "outputs": [
    {
     "data": {
      "text/plain": [
       "[1, 2, 3, 4, 5]"
      ]
     },
     "execution_count": 43,
     "metadata": {},
     "output_type": "execute_result"
    }
   ],
   "source": [
    "# extend 와 동일\n",
    "a = [1,2,3]\n",
    "a += [4,5]\n",
    "a"
   ]
  },
  {
   "cell_type": "markdown",
   "id": "inside-nancy",
   "metadata": {},
   "source": [
    "### 튜플 자료형"
   ]
  },
  {
   "cell_type": "markdown",
   "id": "recreational-cooling",
   "metadata": {},
   "source": [
    "튜플은 리스트와 형태가 비슷하지만 약간의 차이점을 가지고 있습니다.\n",
    "- 각 값 뒤에 꼭 쉼표(,)를 붙여야 합니다.\n",
    "- 값을 바꿀 수 없습니다."
   ]
  },
  {
   "cell_type": "code",
   "execution_count": 4,
   "id": "going-music",
   "metadata": {},
   "outputs": [
    {
     "name": "stdout",
     "output_type": "stream",
     "text": [
      "()\n",
      "(1,)\n",
      "(1, 2, 3)\n",
      "1 2 3\n",
      "(1, 2, (3, 4))\n"
     ]
    }
   ],
   "source": [
    "print(())\n",
    "print((1,))\n",
    "print((1,2,3))\n",
    "print(1,2,3)\n",
    "print((1,2,(3,4)))"
   ]
  },
  {
   "cell_type": "code",
   "execution_count": 5,
   "id": "composite-builder",
   "metadata": {},
   "outputs": [
    {
     "ename": "TypeError",
     "evalue": "'tuple' object doesn't support item deletion",
     "output_type": "error",
     "traceback": [
      "\u001b[1;31m---------------------------------------------------------------------------\u001b[0m",
      "\u001b[1;31mTypeError\u001b[0m                                 Traceback (most recent call last)",
      "\u001b[1;32m<ipython-input-5-4c5d5ee719f8>\u001b[0m in \u001b[0;36m<module>\u001b[1;34m\u001b[0m\n\u001b[0;32m      1\u001b[0m \u001b[1;31m# 값을 바꾸거나 지우려고 하면 에러가 발생\u001b[0m\u001b[1;33m\u001b[0m\u001b[1;33m\u001b[0m\u001b[1;33m\u001b[0m\u001b[0m\n\u001b[0;32m      2\u001b[0m \u001b[0mt1\u001b[0m \u001b[1;33m=\u001b[0m \u001b[1;33m(\u001b[0m\u001b[1;36m1\u001b[0m\u001b[1;33m,\u001b[0m\u001b[1;36m2\u001b[0m\u001b[1;33m,\u001b[0m\u001b[1;34m\"a\"\u001b[0m\u001b[1;33m,\u001b[0m\u001b[1;34m\"b\"\u001b[0m\u001b[1;33m)\u001b[0m\u001b[1;33m\u001b[0m\u001b[1;33m\u001b[0m\u001b[0m\n\u001b[1;32m----> 3\u001b[1;33m \u001b[1;32mdel\u001b[0m \u001b[0mt1\u001b[0m\u001b[1;33m[\u001b[0m\u001b[1;36m0\u001b[0m\u001b[1;33m]\u001b[0m\u001b[1;33m\u001b[0m\u001b[1;33m\u001b[0m\u001b[0m\n\u001b[0m",
      "\u001b[1;31mTypeError\u001b[0m: 'tuple' object doesn't support item deletion"
     ]
    }
   ],
   "source": [
    "# 값을 바꾸거나 지우려고 하면 에러가 발생\n",
    "t1 = (1,2,\"a\",\"b\")\n",
    "del t1[0]"
   ]
  },
  {
   "cell_type": "code",
   "execution_count": 6,
   "id": "going-prayer",
   "metadata": {},
   "outputs": [
    {
     "ename": "TypeError",
     "evalue": "'tuple' object does not support item assignment",
     "output_type": "error",
     "traceback": [
      "\u001b[1;31m---------------------------------------------------------------------------\u001b[0m",
      "\u001b[1;31mTypeError\u001b[0m                                 Traceback (most recent call last)",
      "\u001b[1;32m<ipython-input-6-febaef70d198>\u001b[0m in \u001b[0;36m<module>\u001b[1;34m\u001b[0m\n\u001b[1;32m----> 1\u001b[1;33m \u001b[0mt1\u001b[0m\u001b[1;33m[\u001b[0m\u001b[1;36m0\u001b[0m\u001b[1;33m]\u001b[0m \u001b[1;33m=\u001b[0m \u001b[1;36m0\u001b[0m\u001b[1;33m\u001b[0m\u001b[1;33m\u001b[0m\u001b[0m\n\u001b[0m",
      "\u001b[1;31mTypeError\u001b[0m: 'tuple' object does not support item assignment"
     ]
    }
   ],
   "source": [
    "t1[0] = 0"
   ]
  },
  {
   "cell_type": "code",
   "execution_count": 7,
   "id": "direct-antenna",
   "metadata": {},
   "outputs": [
    {
     "data": {
      "text/plain": [
       "1"
      ]
     },
     "execution_count": 7,
     "metadata": {},
     "output_type": "execute_result"
    }
   ],
   "source": [
    "t1[0] # 인덱싱"
   ]
  },
  {
   "cell_type": "code",
   "execution_count": 9,
   "id": "specified-diabetes",
   "metadata": {},
   "outputs": [
    {
     "data": {
      "text/plain": [
       "('a', 'b')"
      ]
     },
     "execution_count": 9,
     "metadata": {},
     "output_type": "execute_result"
    }
   ],
   "source": [
    "t1[2:] # 슬라이싱"
   ]
  },
  {
   "cell_type": "code",
   "execution_count": 11,
   "id": "greenhouse-regular",
   "metadata": {},
   "outputs": [
    {
     "data": {
      "text/plain": [
       "(1, 2, 3, 4)"
      ]
     },
     "execution_count": 11,
     "metadata": {},
     "output_type": "execute_result"
    }
   ],
   "source": [
    "(1,2) + (3,4) # 튜플 더하기"
   ]
  },
  {
   "cell_type": "code",
   "execution_count": 12,
   "id": "ancient-broadcast",
   "metadata": {},
   "outputs": [
    {
     "data": {
      "text/plain": [
       "(1, 2, 'a', 'b', 1, 2, 'a', 'b', 1, 2, 'a', 'b')"
      ]
     },
     "execution_count": 12,
     "metadata": {},
     "output_type": "execute_result"
    }
   ],
   "source": [
    "t1 * 3 # 튜플 곱하기"
   ]
  },
  {
   "cell_type": "markdown",
   "id": "broke-crisis",
   "metadata": {},
   "source": [
    "### 딕셔너리 자료형"
   ]
  },
  {
   "cell_type": "markdown",
   "id": "corporate-frontier",
   "metadata": {},
   "source": [
    "딕셔너리 자료형의 각 원소는 key와 value를 가지는 대응쌍 구조를 가집니다."
   ]
  },
  {
   "cell_type": "code",
   "execution_count": 15,
   "id": "strong-linux",
   "metadata": {},
   "outputs": [
    {
     "data": {
      "text/plain": [
       "{'name': 'pey', 'phone': 8201092703748, 'birth': 404}"
      ]
     },
     "execution_count": 15,
     "metadata": {},
     "output_type": "execute_result"
    }
   ],
   "source": [
    "# name, phone, birth는 key이고 나머지는 value 입니다.\n",
    "dic = {\"name\":\"pey\",\"phone\":8201092703748,\"birth\":404}\n",
    "dic"
   ]
  },
  {
   "cell_type": "code",
   "execution_count": 17,
   "id": "quarterly-lloyd",
   "metadata": {},
   "outputs": [
    {
     "data": {
      "text/plain": [
       "{1: 'a', 2: 'b'}"
      ]
     },
     "execution_count": 17,
     "metadata": {},
     "output_type": "execute_result"
    }
   ],
   "source": [
    "# 딕셔너리 쌍 추가하기\n",
    "a = {1:\"a\"}\n",
    "a[2] = \"b\"\n",
    "a"
   ]
  },
  {
   "cell_type": "code",
   "execution_count": 18,
   "id": "comprehensive-status",
   "metadata": {},
   "outputs": [
    {
     "data": {
      "text/plain": [
       "{1: 'a'}"
      ]
     },
     "execution_count": 18,
     "metadata": {},
     "output_type": "execute_result"
    }
   ],
   "source": [
    "# 딕셔너리 쌍 제거하기\n",
    "del a[2]\n",
    "a"
   ]
  },
  {
   "cell_type": "code",
   "execution_count": 19,
   "id": "baking-bumper",
   "metadata": {},
   "outputs": [
    {
     "data": {
      "text/plain": [
       "20"
      ]
     },
     "execution_count": 19,
     "metadata": {},
     "output_type": "execute_result"
    }
   ],
   "source": [
    "# 딕셔너리 key값으로 value값 인덱싱\n",
    "grade = {\"pey\":10,\"alice\":20}\n",
    "grade[\"alice\"]"
   ]
  },
  {
   "cell_type": "code",
   "execution_count": 21,
   "id": "cognitive-stretch",
   "metadata": {},
   "outputs": [
    {
     "data": {
      "text/plain": [
       "'c'"
      ]
     },
     "execution_count": 21,
     "metadata": {},
     "output_type": "execute_result"
    }
   ],
   "source": [
    "# 단 key는 고유한 값으로 하나의 key를 제외하고는 모두 무시되버림\n",
    "a = {1:\"a\",2:\"b\",1:\"c\"}\n",
    "a[1] # \"a\"가 무시됨"
   ]
  },
  {
   "cell_type": "markdown",
   "id": "monetary-stability",
   "metadata": {},
   "source": [
    "#### 딕셔너리 관련함수들"
   ]
  },
  {
   "cell_type": "code",
   "execution_count": 40,
   "id": "mature-daisy",
   "metadata": {},
   "outputs": [
    {
     "data": {
      "text/plain": [
       "dict_keys(['name', 'phone', 'birth'])"
      ]
     },
     "execution_count": 40,
     "metadata": {},
     "output_type": "execute_result"
    }
   ],
   "source": [
    "# key값만 가져오기\n",
    "a = {\"name\":\"pey\",\"phone\":\"01092703748\",\"birth\":\"0404\"}\n",
    "a.keys() # list와 다르므로 list()를 씌워주어야 함"
   ]
  },
  {
   "cell_type": "code",
   "execution_count": 41,
   "id": "signal-analysis",
   "metadata": {},
   "outputs": [
    {
     "data": {
      "text/plain": [
       "dict_values(['pey', '01092703748', '0404'])"
      ]
     },
     "execution_count": 41,
     "metadata": {},
     "output_type": "execute_result"
    }
   ],
   "source": [
    "# value값만 가져오기\n",
    "a.values()"
   ]
  },
  {
   "cell_type": "code",
   "execution_count": 42,
   "id": "sixth-glory",
   "metadata": {},
   "outputs": [
    {
     "data": {
      "text/plain": [
       "dict_items([('name', 'pey'), ('phone', '01092703748'), ('birth', '0404')])"
      ]
     },
     "execution_count": 42,
     "metadata": {},
     "output_type": "execute_result"
    }
   ],
   "source": [
    "# 대응쌍 모두 가져오기\n",
    "a.items()"
   ]
  },
  {
   "cell_type": "code",
   "execution_count": 43,
   "id": "executed-frontier",
   "metadata": {},
   "outputs": [
    {
     "data": {
      "text/plain": [
       "'pey'"
      ]
     },
     "execution_count": 43,
     "metadata": {},
     "output_type": "execute_result"
    }
   ],
   "source": [
    "# key에 맞는 value 가져오기\n",
    "a.get(\"name\")"
   ]
  },
  {
   "cell_type": "code",
   "execution_count": 46,
   "id": "activated-feedback",
   "metadata": {},
   "outputs": [
    {
     "data": {
      "text/plain": [
       "'boys'"
      ]
     },
     "execution_count": 46,
     "metadata": {},
     "output_type": "execute_result"
    }
   ],
   "source": [
    "# 검색한 내용과 맞는 key가 없으면 미리 지정한 값으로 반환\n",
    "a.get(\"sex\",\"boys\")"
   ]
  },
  {
   "cell_type": "code",
   "execution_count": 36,
   "id": "fresh-overhead",
   "metadata": {},
   "outputs": [
    {
     "name": "stdout",
     "output_type": "stream",
     "text": [
      "2229245587744\n",
      "2229245893872\n"
     ]
    }
   ],
   "source": [
    "# 새로운 메모리 주소에 동일한 값 복사\n",
    "print(id(a))\n",
    "print(id(a.copy()))"
   ]
  },
  {
   "cell_type": "code",
   "execution_count": 37,
   "id": "descending-aluminum",
   "metadata": {},
   "outputs": [
    {
     "name": "stdout",
     "output_type": "stream",
     "text": [
      "{'phone': '01092703748', 'birth': '0404'}\n",
      "pey\n"
     ]
    }
   ],
   "source": [
    "# 기존 dic에서 해당하는 key를 없에고 value를 반환\n",
    "b = a.pop(\"name\")\n",
    "print(a)\n",
    "print(b)"
   ]
  },
  {
   "cell_type": "code",
   "execution_count": 39,
   "id": "coordinate-transportation",
   "metadata": {},
   "outputs": [
    {
     "data": {
      "text/plain": [
       "{}"
      ]
     },
     "execution_count": 39,
     "metadata": {},
     "output_type": "execute_result"
    }
   ],
   "source": [
    "# 딕셔너리 자료형의 값들 모두 제거\n",
    "a.clear()\n",
    "a"
   ]
  },
  {
   "cell_type": "code",
   "execution_count": 48,
   "id": "iraqi-leadership",
   "metadata": {},
   "outputs": [
    {
     "data": {
      "text/plain": [
       "True"
      ]
     },
     "execution_count": 48,
     "metadata": {},
     "output_type": "execute_result"
    }
   ],
   "source": [
    "# 해당 key가 딕셔너리 안에 잇는지 조사하기\n",
    "a = {\"name\":\"pey\",\"phone\":\"01092703748\",\"birth\":\"0404\"}\n",
    "\"name\" in a"
   ]
  },
  {
   "cell_type": "code",
   "execution_count": 49,
   "id": "exact-jefferson",
   "metadata": {},
   "outputs": [
    {
     "data": {
      "text/plain": [
       "False"
      ]
     },
     "execution_count": 49,
     "metadata": {},
     "output_type": "execute_result"
    }
   ],
   "source": [
    "\"sex\" in a"
   ]
  },
  {
   "cell_type": "markdown",
   "id": "later-length",
   "metadata": {},
   "source": [
    "### 집합 자료형"
   ]
  },
  {
   "cell_type": "markdown",
   "id": "worst-cambridge",
   "metadata": {},
   "source": [
    "집합 자료형은 set() 함수로 사용이 가능하며 특징은 2가지가 있습니다.\n",
    "- 중복을 허용하지 않습니다.\n",
    "- 리스트나 튜플은 순서가 존재하지만 집합 자료형은 순서가 없습니다. 그러므로 집합 자료형을 인덱싱하려면 리스트나 튜플로 변환한 후 인덱싱을 해야 합니다."
   ]
  },
  {
   "cell_type": "code",
   "execution_count": 50,
   "id": "vocational-father",
   "metadata": {},
   "outputs": [
    {
     "data": {
      "text/plain": [
       "{'e', 'h', 'l', 'o'}"
      ]
     },
     "execution_count": 50,
     "metadata": {},
     "output_type": "execute_result"
    }
   ],
   "source": [
    "a = \"hello\"\n",
    "set(a)"
   ]
  },
  {
   "cell_type": "code",
   "execution_count": 64,
   "id": "interested-activation",
   "metadata": {},
   "outputs": [],
   "source": [
    "s1 = set([1,2,3,4,5,6])\n",
    "s2 = set([4,5,6,7,8,9])"
   ]
  },
  {
   "cell_type": "code",
   "execution_count": 65,
   "id": "invalid-airline",
   "metadata": {},
   "outputs": [
    {
     "name": "stdout",
     "output_type": "stream",
     "text": [
      "{4, 5, 6}\n",
      "{4, 5, 6}\n"
     ]
    }
   ],
   "source": [
    "# 교집합\n",
    "print(s1 & s2 )\n",
    "print(s1.intersection(s2))"
   ]
  },
  {
   "cell_type": "code",
   "execution_count": 66,
   "id": "developing-stuart",
   "metadata": {},
   "outputs": [
    {
     "name": "stdout",
     "output_type": "stream",
     "text": [
      "{1, 2, 3, 4, 5, 6, 7, 8, 9}\n",
      "{1, 2, 3, 4, 5, 6, 7, 8, 9}\n"
     ]
    }
   ],
   "source": [
    "# 합집합\n",
    "print(s1 | s2 )\n",
    "print(s1.union(s2))"
   ]
  },
  {
   "cell_type": "code",
   "execution_count": 67,
   "id": "potential-carol",
   "metadata": {},
   "outputs": [
    {
     "name": "stdout",
     "output_type": "stream",
     "text": [
      "{1, 2, 3}\n",
      "{1, 2, 3}\n"
     ]
    }
   ],
   "source": [
    "# 차집합\n",
    "print(s1 - s2 )\n",
    "print(s1.difference(s2))"
   ]
  },
  {
   "cell_type": "code",
   "execution_count": 68,
   "id": "moving-gossip",
   "metadata": {},
   "outputs": [
    {
     "name": "stdout",
     "output_type": "stream",
     "text": [
      "{1, 2, 3, 4, 5, 6}\n",
      "{1, 2, 3}\n"
     ]
    }
   ],
   "source": [
    "# 차집합의 결과로 업데이트 시킴\n",
    "print(s1)\n",
    "s1.difference_update(s2)\n",
    "print(s1)"
   ]
  },
  {
   "cell_type": "code",
   "execution_count": 69,
   "id": "significant-smith",
   "metadata": {},
   "outputs": [
    {
     "data": {
      "text/plain": [
       "{1, 2, 3, 4}"
      ]
     },
     "execution_count": 69,
     "metadata": {},
     "output_type": "execute_result"
    }
   ],
   "source": [
    "# 값 추가하기\n",
    "s1 = set([1,2,3])\n",
    "s1.add(4)\n",
    "s1"
   ]
  },
  {
   "cell_type": "code",
   "execution_count": 70,
   "id": "suburban-omega",
   "metadata": {},
   "outputs": [
    {
     "data": {
      "text/plain": [
       "{1, 2, 3, 4, 5, 6}"
      ]
     },
     "execution_count": 70,
     "metadata": {},
     "output_type": "execute_result"
    }
   ],
   "source": [
    "# 값 여러개 추가하기\n",
    "s1 = set([1,2,3])\n",
    "s1.update([4,5,6])\n",
    "s1"
   ]
  },
  {
   "cell_type": "code",
   "execution_count": 72,
   "id": "documented-snake",
   "metadata": {},
   "outputs": [
    {
     "data": {
      "text/plain": [
       "{1, 3}"
      ]
     },
     "execution_count": 72,
     "metadata": {},
     "output_type": "execute_result"
    }
   ],
   "source": [
    "# 특정 값 제거하기\n",
    "s1 = set([1,2,3])\n",
    "s1.remove(2)\n",
    "s1"
   ]
  },
  {
   "cell_type": "markdown",
   "id": "behind-cathedral",
   "metadata": {},
   "source": [
    "### 자료형의 참과 거짓"
   ]
  },
  {
   "cell_type": "code",
   "execution_count": 76,
   "id": "former-significance",
   "metadata": {},
   "outputs": [
    {
     "name": "stdout",
     "output_type": "stream",
     "text": [
      "True\n",
      "False\n"
     ]
    }
   ],
   "source": [
    "# 문자열 참과 거짓\n",
    "if \"python\":\n",
    "    print(\"True\")\n",
    "else:\n",
    "    print(\"False\")\n",
    "\n",
    "if \"\":\n",
    "    print(\"True\")\n",
    "else:\n",
    "    print(\"False\")"
   ]
  },
  {
   "cell_type": "code",
   "execution_count": 77,
   "id": "boxed-supplement",
   "metadata": {},
   "outputs": [
    {
     "name": "stdout",
     "output_type": "stream",
     "text": [
      "True\n",
      "False\n"
     ]
    }
   ],
   "source": [
    "# 리스트 참과 거짓\n",
    "if [1,2,3]:\n",
    "    print(\"True\")\n",
    "else:\n",
    "    print(\"False\")\n",
    "\n",
    "if []:\n",
    "    print(\"True\")\n",
    "else:\n",
    "    print(\"False\")"
   ]
  },
  {
   "cell_type": "code",
   "execution_count": 78,
   "id": "arabic-mexico",
   "metadata": {},
   "outputs": [
    {
     "name": "stdout",
     "output_type": "stream",
     "text": [
      "True\n",
      "False\n"
     ]
    }
   ],
   "source": [
    "# 튜플 참과 거짓\n",
    "if (1,2,3):\n",
    "    print(\"True\")\n",
    "else:\n",
    "    print(\"False\")\n",
    "\n",
    "if ():\n",
    "    print(\"True\")\n",
    "else:\n",
    "    print(\"False\")"
   ]
  },
  {
   "cell_type": "code",
   "execution_count": 79,
   "id": "administrative-oregon",
   "metadata": {},
   "outputs": [
    {
     "name": "stdout",
     "output_type": "stream",
     "text": [
      "True\n",
      "False\n"
     ]
    }
   ],
   "source": [
    "# 딕셔너리 참과 거짓\n",
    "if {\"python\":\"해\"}:\n",
    "    print(\"True\")\n",
    "else:\n",
    "    print(\"False\")\n",
    "\n",
    "if {}:\n",
    "    print(\"True\")\n",
    "else:\n",
    "    print(\"False\")"
   ]
  },
  {
   "cell_type": "code",
   "execution_count": 80,
   "id": "alternative-house",
   "metadata": {},
   "outputs": [
    {
     "name": "stdout",
     "output_type": "stream",
     "text": [
      "True\n",
      "False\n"
     ]
    }
   ],
   "source": [
    "# 숫자형 참과 거짓\n",
    "if 1:\n",
    "    print(\"True\")\n",
    "else:\n",
    "    print(\"False\")\n",
    "\n",
    "if 0:\n",
    "    print(\"True\")\n",
    "else:\n",
    "    print(\"False\")"
   ]
  }
 ],
 "metadata": {
  "kernelspec": {
   "display_name": "Python 3",
   "language": "python",
   "name": "python3"
  },
  "language_info": {
   "codemirror_mode": {
    "name": "ipython",
    "version": 3
   },
   "file_extension": ".py",
   "mimetype": "text/x-python",
   "name": "python",
   "nbconvert_exporter": "python",
   "pygments_lexer": "ipython3",
   "version": "3.7.3"
  }
 },
 "nbformat": 4,
 "nbformat_minor": 5
}
