{
 "cells": [
  {
   "cell_type": "markdown",
   "id": "victorian-liabilities",
   "metadata": {},
   "source": [
    "## 파이썬의 변수(variable)"
   ]
  },
  {
   "cell_type": "markdown",
   "id": "physical-minute",
   "metadata": {},
   "source": [
    "파이선에서 사용하는 변수는 객체를 가리키는 것이라고도 말할 수 있다. 객체란 우리가 보아온 자료형을 포함한 \"파이썬에서 사용되는 모든 것\"을 뜻하는 말이다.\n",
    "\n",
    "A = 3 이라는 코드가 있을 때, 3이라는 값을 가지는 정수 자료형이 자동으로 메모리에 생성된다. A는 변수의 이름이며, 3이라는 정수형 객체가 저장된 메모리 위치를 가리키게 된다. 즉, 변수 A는 객체가 저장된 메모리의 위치를 가리키는 레퍼런스라고도 할 수 있다."
   ]
  },
  {
   "cell_type": "markdown",
   "id": "decimal-samuel",
   "metadata": {},
   "source": [
    "Python 에서도 컴퓨터의 메모리 공간에 값을 담아 저장하고, 거기에 이름을 붙여 그 값을 가져올 수 있는데, 이 메모리 공간은 이름을 가진 \"변수\"라고 합니다.\n",
    "\n",
    "변수를 만드는 것을 변수를 '선언(declare)'한다고 표현하기도 하는데, 다른 언어와 다르게 Python 에서는 변수를 선언하는 명령어 없이, 변수에 값을 할당(혹은 저장)하는 순간에 변수가 만들어집니다.  \n",
    "변수에는 **값**을 저장할 수도 있고, **변수**를 저장할 수도 있으며, **연산 결과**를 저장할 수도 있습니다."
   ]
  },
  {
   "cell_type": "markdown",
   "id": "anonymous-cisco",
   "metadata": {},
   "source": [
    "## 파이썬의 자료형(data type)"
   ]
  },
  {
   "cell_type": "markdown",
   "id": "attractive-brook",
   "metadata": {},
   "source": [
    "자료형이란 프로그래밍을 할 때 쓰이는 숫자, 문자열 등 자료 형태로 사용하는 모든 것을 의미한다. 프로그램의 기본이자 핵심 단위가 바로 자료형이다. 계산 프로그램을 만들려면 어떤 것을 계산할지부터 알아야 하고, 데이터베이스 프로그램을 만들려면 어떤 자료형으로 저장할지부터 알아야 하는 것 처럼 기본중의 기본이라고 할 수 있다."
   ]
  },
  {
   "cell_type": "markdown",
   "id": "hazardous-prisoner",
   "metadata": {},
   "source": [
    "### 숫자형"
   ]
  },
  {
   "cell_type": "code",
   "execution_count": 4,
   "id": "executive-angola",
   "metadata": {},
   "outputs": [],
   "source": [
    "a = 123 # 정수형\n",
    "b = 1.2 # 실수형\n",
    "c = 0o177 # 8진수\n",
    "d = 0x8ff # 16진수\n",
    "e = 1+2j # 복소수"
   ]
  },
  {
   "cell_type": "code",
   "execution_count": 6,
   "id": "sustainable-terry",
   "metadata": {},
   "outputs": [
    {
     "data": {
      "text/plain": [
       "1.0"
      ]
     },
     "execution_count": 6,
     "metadata": {},
     "output_type": "execute_result"
    }
   ],
   "source": [
    "e.real # 복소수의 실수 부분"
   ]
  },
  {
   "cell_type": "code",
   "execution_count": 7,
   "id": "fifty-nylon",
   "metadata": {},
   "outputs": [
    {
     "data": {
      "text/plain": [
       "2.0"
      ]
     },
     "execution_count": 7,
     "metadata": {},
     "output_type": "execute_result"
    }
   ],
   "source": [
    "e.imag # 복소수의 허수 부분"
   ]
  },
  {
   "cell_type": "code",
   "execution_count": 10,
   "id": "subjective-holiday",
   "metadata": {},
   "outputs": [
    {
     "data": {
      "text/plain": [
       "(1-2j)"
      ]
     },
     "execution_count": 10,
     "metadata": {},
     "output_type": "execute_result"
    }
   ],
   "source": [
    "e.conjugate() # 복소수의 켤레복소수"
   ]
  },
  {
   "cell_type": "code",
   "execution_count": 11,
   "id": "still-vietnam",
   "metadata": {},
   "outputs": [
    {
     "data": {
      "text/plain": [
       "2.23606797749979"
      ]
     },
     "execution_count": 11,
     "metadata": {},
     "output_type": "execute_result"
    }
   ],
   "source": [
    "abs(e) # 복소수의 절댓값"
   ]
  },
  {
   "cell_type": "code",
   "execution_count": 15,
   "id": "distinct-ensemble",
   "metadata": {},
   "outputs": [
    {
     "data": {
      "text/plain": [
       "2"
      ]
     },
     "execution_count": 15,
     "metadata": {},
     "output_type": "execute_result"
    }
   ],
   "source": [
    "3 + 4 # 더하기\n",
    "3 - 4 # 빼기\n",
    "3 / 4 # 나누기\n",
    "3 * 4 # 곱하기\n",
    "3 ** 4 # 3의 4승\n",
    "6 // 4 # 몫\n",
    "6 % 4 # 나머지 "
   ]
  },
  {
   "cell_type": "markdown",
   "id": "affiliated-provider",
   "metadata": {},
   "source": [
    "### 문자형"
   ]
  },
  {
   "cell_type": "code",
   "execution_count": 16,
   "id": "differential-buying",
   "metadata": {},
   "outputs": [
    {
     "data": {
      "text/plain": [
       "'Hello World'"
      ]
     },
     "execution_count": 16,
     "metadata": {},
     "output_type": "execute_result"
    }
   ],
   "source": [
    "\"Hello World\" # 기본 문자형"
   ]
  },
  {
   "cell_type": "code",
   "execution_count": 27,
   "id": "assigned-validity",
   "metadata": {},
   "outputs": [
    {
     "data": {
      "text/plain": [
       "'\\n한칸\\n두칸\\n세칸\\n'"
      ]
     },
     "execution_count": 27,
     "metadata": {},
     "output_type": "execute_result"
    }
   ],
   "source": [
    "\"\"\"\n",
    "한칸\n",
    "두칸\n",
    "세칸\n",
    "\"\"\" # 따옴표를 둘러싸서 문자형으로 만듦"
   ]
  },
  {
   "cell_type": "code",
   "execution_count": 19,
   "id": "swiss-academy",
   "metadata": {},
   "outputs": [
    {
     "data": {
      "text/plain": [
       "\"Python's favorite food is perl \""
      ]
     },
     "execution_count": 19,
     "metadata": {},
     "output_type": "execute_result"
    }
   ],
   "source": [
    "\"Python's favorite food is perl \""
   ]
  },
  {
   "cell_type": "code",
   "execution_count": 28,
   "id": "sitting-refrigerator",
   "metadata": {},
   "outputs": [
    {
     "name": "stdout",
     "output_type": "stream",
     "text": [
      "one\n",
      "two\n",
      "three\n",
      "one\ttwo\tthree\n",
      "one\\two\\three\n",
      "one'two'three\n"
     ]
    }
   ],
   "source": [
    "print(\"one\\ntwo\\nthree\") # \\n은 줄바꿈\n",
    "print(\"one\\ttwo\\tthree\") # \\t은 탭 간격\n",
    "print(\"one\\\\two\\\\three\") # \\\\은 \\표시\n",
    "print(\"one\\'two\\'three\") # \\'은 '표시"
   ]
  },
  {
   "cell_type": "code",
   "execution_count": 31,
   "id": "metropolitan-residence",
   "metadata": {},
   "outputs": [
    {
     "data": {
      "text/plain": [
       "'1 더하기 1은 귀요미'"
      ]
     },
     "execution_count": 31,
     "metadata": {},
     "output_type": "execute_result"
    }
   ],
   "source": [
    "\"1\" + \" \" + \"더하기\" + \" \" + \"1\" + \"은\" + \" \" + \"귀요미\" # 문자열 더하기"
   ]
  },
  {
   "cell_type": "code",
   "execution_count": 36,
   "id": "flush-socket",
   "metadata": {},
   "outputs": [
    {
     "data": {
      "text/plain": [
       "'귀엽귀귀엽귀귀엽귀귀엽귀귀엽귀'"
      ]
     },
     "execution_count": 36,
     "metadata": {},
     "output_type": "execute_result"
    }
   ],
   "source": [
    "\"귀엽귀\" * 5 # 문자열 곱하기"
   ]
  },
  {
   "cell_type": "code",
   "execution_count": 55,
   "id": "headed-currency",
   "metadata": {},
   "outputs": [
    {
     "data": {
      "text/plain": [
       "'Life'"
      ]
     },
     "execution_count": 55,
     "metadata": {},
     "output_type": "execute_result"
    }
   ],
   "source": [
    "a = \"Life is short, You need Python\"\n",
    "a[0:4] # 문자열 인덱싱 0,1,2,3"
   ]
  },
  {
   "cell_type": "code",
   "execution_count": 50,
   "id": "challenging-hotel",
   "metadata": {},
   "outputs": [
    {
     "name": "stdout",
     "output_type": "stream",
     "text": [
      "n\n",
      "Life is short, You need \n",
      "Python\n",
      "Lf ssot o edPto\n",
      "nohtyP deen uoY ,trohs si efiL\n"
     ]
    }
   ],
   "source": [
    "print(a[-1]) # 인덱싱\n",
    "print(a[:-6]) # 슬라이싱\n",
    "print(a[-6:]) # 슬라이싱\n",
    "print(a[::2]) # 0,2,4,6,8, ....\n",
    "print(a[::-1]) # 역순"
   ]
  },
  {
   "cell_type": "code",
   "execution_count": 57,
   "id": "lovely-journalism",
   "metadata": {},
   "outputs": [
    {
     "ename": "TypeError",
     "evalue": "'str' object does not support item assignment",
     "output_type": "error",
     "traceback": [
      "\u001b[1;31m---------------------------------------------------------------------------\u001b[0m",
      "\u001b[1;31mTypeError\u001b[0m                                 Traceback (most recent call last)",
      "\u001b[1;32m<ipython-input-57-0566c43f6078>\u001b[0m in \u001b[0;36m<module>\u001b[1;34m\u001b[0m\n\u001b[0;32m      1\u001b[0m \u001b[1;31m# 문자열과 튜플은 immutable하므로 값 변경이 불가능함\u001b[0m\u001b[1;33m\u001b[0m\u001b[1;33m\u001b[0m\u001b[1;33m\u001b[0m\u001b[0m\n\u001b[1;32m----> 2\u001b[1;33m \u001b[0ma\u001b[0m\u001b[1;33m[\u001b[0m\u001b[1;36m0\u001b[0m\u001b[1;33m]\u001b[0m \u001b[1;33m=\u001b[0m \u001b[1;34m\"R\"\u001b[0m\u001b[1;33m\u001b[0m\u001b[1;33m\u001b[0m\u001b[0m\n\u001b[0m",
      "\u001b[1;31mTypeError\u001b[0m: 'str' object does not support item assignment"
     ]
    }
   ],
   "source": [
    "# 문자열과 튜플은 immutable하므로 값 변경이 불가능함\n",
    "a[0] = \"R\""
   ]
  },
  {
   "cell_type": "code",
   "execution_count": 60,
   "id": "attempted-target",
   "metadata": {},
   "outputs": [
    {
     "data": {
      "text/plain": [
       "'Python'"
      ]
     },
     "execution_count": 60,
     "metadata": {},
     "output_type": "execute_result"
    }
   ],
   "source": [
    "a = \"Pithon\"\n",
    "a[:1] + \"y\" + a[2:]"
   ]
  },
  {
   "cell_type": "markdown",
   "id": "cardiovascular-acoustic",
   "metadata": {},
   "source": [
    "### 문자형 포맷팅"
   ]
  },
  {
   "cell_type": "code",
   "execution_count": 61,
   "id": "cleared-accessory",
   "metadata": {},
   "outputs": [
    {
     "data": {
      "text/plain": [
       "'I eat 3 apples.'"
      ]
     },
     "execution_count": 61,
     "metadata": {},
     "output_type": "execute_result"
    }
   ],
   "source": [
    "\"I eat %d apples.\" % 3 # 숫자 대입"
   ]
  },
  {
   "cell_type": "code",
   "execution_count": 62,
   "id": "clear-integrity",
   "metadata": {},
   "outputs": [
    {
     "data": {
      "text/plain": [
       "'I eat five apples.'"
      ]
     },
     "execution_count": 62,
     "metadata": {},
     "output_type": "execute_result"
    }
   ],
   "source": [
    "\"I eat %s apples.\" % \"five\" # 문자 대입"
   ]
  },
  {
   "cell_type": "code",
   "execution_count": 64,
   "id": "hungry-toilet",
   "metadata": {},
   "outputs": [
    {
     "data": {
      "text/plain": [
       "'I ate 10 apples, so i was sick for three days'"
      ]
     },
     "execution_count": 64,
     "metadata": {},
     "output_type": "execute_result"
    }
   ],
   "source": [
    "number = 10\n",
    "day = \"three\"\n",
    "\"I ate %d apples, so i was sick for %s days\" % (number, day)"
   ]
  },
  {
   "cell_type": "code",
   "execution_count": 70,
   "id": "rocky-reduction",
   "metadata": {},
   "outputs": [
    {
     "data": {
      "text/plain": [
       "'rate is 3.25'"
      ]
     },
     "execution_count": 70,
     "metadata": {},
     "output_type": "execute_result"
    }
   ],
   "source": [
    "\"rate is %.2f\" % 3.2451 # 부동 소수점 둘째 자리"
   ]
  },
  {
   "cell_type": "code",
   "execution_count": 73,
   "id": "owned-boxing",
   "metadata": {},
   "outputs": [
    {
     "data": {
      "text/plain": [
       "'        hi James'"
      ]
     },
     "execution_count": 73,
     "metadata": {},
     "output_type": "execute_result"
    }
   ],
   "source": [
    "\"%10s James\" % \"hi\" # 10칸 오른쪽 정렬"
   ]
  },
  {
   "cell_type": "code",
   "execution_count": 75,
   "id": "northern-territory",
   "metadata": {},
   "outputs": [
    {
     "data": {
      "text/plain": [
       "'hi         James'"
      ]
     },
     "execution_count": 75,
     "metadata": {},
     "output_type": "execute_result"
    }
   ],
   "source": [
    "\"%-10s James\" % \"hi\" # 10칸 왼쪽 정렬"
   ]
  },
  {
   "cell_type": "code",
   "execution_count": 77,
   "id": "basic-measurement",
   "metadata": {},
   "outputs": [
    {
     "data": {
      "text/plain": [
       "'    3.4215'"
      ]
     },
     "execution_count": 77,
     "metadata": {},
     "output_type": "execute_result"
    }
   ],
   "source": [
    "\"%10.4f\" % 3.42152331 # 10칸 오른쪽 정렬 소수점 넷째 자리"
   ]
  },
  {
   "cell_type": "code",
   "execution_count": 89,
   "id": "critical-drain",
   "metadata": {},
   "outputs": [
    {
     "data": {
      "text/plain": [
       "'I eat 4 apples on my own !'"
      ]
     },
     "execution_count": 89,
     "metadata": {},
     "output_type": "execute_result"
    }
   ],
   "source": [
    "\"I eat {1} apples on my own {0}\".format(\"!\",4) # format 함수를 통한 포맷팅"
   ]
  },
  {
   "cell_type": "code",
   "execution_count": 90,
   "id": "pending-aside",
   "metadata": {},
   "outputs": [
    {
     "data": {
      "text/plain": [
       "'I eat 4 apples on my own !'"
      ]
     },
     "execution_count": 90,
     "metadata": {},
     "output_type": "execute_result"
    }
   ],
   "source": [
    "\"I eat {number} apples on my own {0}\".format(\"!\",number = 4) # format 함수를 통한 포맷팅"
   ]
  },
  {
   "cell_type": "code",
   "execution_count": 92,
   "id": "different-palace",
   "metadata": {},
   "outputs": [
    {
     "data": {
      "text/plain": [
       "'hi        '"
      ]
     },
     "execution_count": 92,
     "metadata": {},
     "output_type": "execute_result"
    }
   ],
   "source": [
    "\"{0:<10}\".format(\"hi\") # 왼쪽 정렬 오른쪽 10칸"
   ]
  },
  {
   "cell_type": "code",
   "execution_count": 93,
   "id": "driving-buffer",
   "metadata": {},
   "outputs": [
    {
     "data": {
      "text/plain": [
       "'    hi    '"
      ]
     },
     "execution_count": 93,
     "metadata": {},
     "output_type": "execute_result"
    }
   ],
   "source": [
    "\"{0:^10}\".format(\"hi\") # 가운데 정렬 오른쪽 10칸"
   ]
  },
  {
   "cell_type": "code",
   "execution_count": 95,
   "id": "alternative-minutes",
   "metadata": {},
   "outputs": [
    {
     "data": {
      "text/plain": [
       "'====hi===='"
      ]
     },
     "execution_count": 95,
     "metadata": {},
     "output_type": "execute_result"
    }
   ],
   "source": [
    "\"{0:=^10}\".format(\"hi\") # 공백채우기"
   ]
  },
  {
   "cell_type": "code",
   "execution_count": 96,
   "id": "olive-orange",
   "metadata": {},
   "outputs": [
    {
     "data": {
      "text/plain": [
       "'hi!!!!!!!!'"
      ]
     },
     "execution_count": 96,
     "metadata": {},
     "output_type": "execute_result"
    }
   ],
   "source": [
    "\"{0:!<10}\".format(\"hi\") # 왼쪽정렬 오른쪽 10칸"
   ]
  },
  {
   "cell_type": "code",
   "execution_count": 97,
   "id": "hollywood-ferry",
   "metadata": {},
   "outputs": [
    {
     "data": {
      "text/plain": [
       "'3.1416'"
      ]
     },
     "execution_count": 97,
     "metadata": {},
     "output_type": "execute_result"
    }
   ],
   "source": [
    "y = 3.1415921736\n",
    "\"{0:0.4f}\".format(y) # 소수점 넷째 자리"
   ]
  },
  {
   "cell_type": "code",
   "execution_count": 99,
   "id": "affecting-brighton",
   "metadata": {},
   "outputs": [
    {
     "data": {
      "text/plain": [
       "'3.1416    '"
      ]
     },
     "execution_count": 99,
     "metadata": {},
     "output_type": "execute_result"
    }
   ],
   "source": [
    "\"{0:<10.4f}\".format(y) # 칸 10개 왼쪽 정렬 소수점 넷째 자리"
   ]
  },
  {
   "cell_type": "code",
   "execution_count": 100,
   "id": "simplified-being",
   "metadata": {},
   "outputs": [
    {
     "data": {
      "text/plain": [
       "'{and}'"
      ]
     },
     "execution_count": 100,
     "metadata": {},
     "output_type": "execute_result"
    }
   ],
   "source": [
    "\"{{and}}\".format()"
   ]
  },
  {
   "cell_type": "markdown",
   "id": "accepted-argument",
   "metadata": {},
   "source": [
    "### 문자형 관련 함수"
   ]
  },
  {
   "cell_type": "code",
   "execution_count": 78,
   "id": "failing-demand",
   "metadata": {},
   "outputs": [
    {
     "data": {
      "text/plain": [
       "2"
      ]
     },
     "execution_count": 78,
     "metadata": {},
     "output_type": "execute_result"
    }
   ],
   "source": [
    "a = \"hobby\"\n",
    "a.count(\"b\") # b 갯수 세기"
   ]
  },
  {
   "cell_type": "code",
   "execution_count": 80,
   "id": "digital-endorsement",
   "metadata": {},
   "outputs": [
    {
     "data": {
      "text/plain": [
       "10"
      ]
     },
     "execution_count": 80,
     "metadata": {},
     "output_type": "execute_result"
    }
   ],
   "source": [
    "a = \"Python is best choice\"\n",
    "a.find(\"b\") # b가 처음 나온 인덱스값 출력"
   ]
  },
  {
   "cell_type": "code",
   "execution_count": 81,
   "id": "noticed-province",
   "metadata": {},
   "outputs": [
    {
     "data": {
      "text/plain": [
       "-1"
      ]
     },
     "execution_count": 81,
     "metadata": {},
     "output_type": "execute_result"
    }
   ],
   "source": [
    "a.find(\"k\") # 검색한게 존재하지 않으면 -1 출력"
   ]
  },
  {
   "cell_type": "code",
   "execution_count": 82,
   "id": "united-medicare",
   "metadata": {},
   "outputs": [
    {
     "data": {
      "text/plain": [
       "10"
      ]
     },
     "execution_count": 82,
     "metadata": {},
     "output_type": "execute_result"
    }
   ],
   "source": [
    "a.index(\"b\") # b 인덱스값 출력"
   ]
  },
  {
   "cell_type": "code",
   "execution_count": 83,
   "id": "endless-avenue",
   "metadata": {},
   "outputs": [
    {
     "data": {
      "text/plain": [
       "'a,b,c,d'"
      ]
     },
     "execution_count": 83,
     "metadata": {},
     "output_type": "execute_result"
    }
   ],
   "source": [
    "a = \",\"\n",
    "a.join(\"abcd\") # 문자열 삽입"
   ]
  },
  {
   "cell_type": "code",
   "execution_count": 86,
   "id": "scientific-pathology",
   "metadata": {},
   "outputs": [
    {
     "data": {
      "text/plain": [
       "['a', 'b', 'c', 'd']"
      ]
     },
     "execution_count": 86,
     "metadata": {},
     "output_type": "execute_result"
    }
   ],
   "source": [
    "a = \"a,b,c,d\"\n",
    "a.split(\",\") # 문자열 분리"
   ]
  },
  {
   "cell_type": "code",
   "execution_count": 87,
   "id": "incoming-elder",
   "metadata": {},
   "outputs": [
    {
     "name": "stdout",
     "output_type": "stream",
     "text": [
      "HELLOW\n",
      "hellow\n"
     ]
    }
   ],
   "source": [
    "a = \"Hellow\"\n",
    "print(a.upper()) # 모두 대문자로\n",
    "print(a.lower()) # 모두 소문자로"
   ]
  },
  {
   "cell_type": "code",
   "execution_count": 88,
   "id": "transparent-colleague",
   "metadata": {},
   "outputs": [
    {
     "name": "stdout",
     "output_type": "stream",
     "text": [
      "hi    \n",
      "    hi\n",
      "hi\n"
     ]
    }
   ],
   "source": [
    "a = \"    hi    \"\n",
    "print(a.lstrip()) # 왼쪽 공백 제거\n",
    "print(a.rstrip()) # 오른쪽 공백 제거\n",
    "print(a.strip()) # 양쪽 공백 제거"
   ]
  },
  {
   "cell_type": "markdown",
   "id": "peripheral-monitoring",
   "metadata": {},
   "source": [
    "### 리스트 자료형"
   ]
  },
  {
   "cell_type": "markdown",
   "id": "inside-nancy",
   "metadata": {},
   "source": [
    "### 튜플 자료형"
   ]
  },
  {
   "cell_type": "markdown",
   "id": "broke-crisis",
   "metadata": {},
   "source": [
    "### 딕셔너리 자료형"
   ]
  },
  {
   "cell_type": "markdown",
   "id": "later-length",
   "metadata": {},
   "source": [
    "### 집합 자료형"
   ]
  },
  {
   "cell_type": "markdown",
   "id": "behind-cathedral",
   "metadata": {},
   "source": [
    "### Boolean 자료형"
   ]
  }
 ],
 "metadata": {
  "kernelspec": {
   "display_name": "Python 3",
   "language": "python",
   "name": "python3"
  },
  "language_info": {
   "codemirror_mode": {
    "name": "ipython",
    "version": 3
   },
   "file_extension": ".py",
   "mimetype": "text/x-python",
   "name": "python",
   "nbconvert_exporter": "python",
   "pygments_lexer": "ipython3",
   "version": "3.7.3"
  }
 },
 "nbformat": 4,
 "nbformat_minor": 5
}
