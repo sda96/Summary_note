{
 "cells": [
  {
   "cell_type": "markdown",
   "metadata": {
    "colab_type": "text",
    "id": "gylcBRjAuJwh"
   },
   "source": [
    " <i><b>Public AI</b></i>\n",
    "<br>\n",
    "### **&nbsp;&nbsp;Week1. Python 기본기 다지기**\n",
    "# Section 7. Python의 함수와 패키지\n",
    "\n",
    "프로그래밍에서는 똑같은 내용을 반복하는 경우, 그 과정을 하나의 **함수**로 정의하여 재사용함으로 불필요한 코드의 반복을 피합니다. 한편, 다른 개발자들이 잘 만들어둔 함수의 모음, **패키지**를 적절히 활용하면 보다 효율적으로 프로그램을 만들 수 있습니다.<br>\n",
    "이번 Section 7에서는 함수와 패키지를 배워보겠습니다.\n"
   ]
  },
  {
   "cell_type": "markdown",
   "metadata": {},
   "source": [
    "### _Objective_\n",
    "1. **Python의 함수** : 여러번 반복 이용하게 되는 코드를 함수로 정의하고 호출하는 방법을 배웁니다. <br>\n",
    "2. **Python의 패키지** : 다른 개발자들이 이미 만들어 놓은 \"패키지\"를 가져와 사용하는 방법을 배웁니다.<br>"
   ]
  },
  {
   "cell_type": "markdown",
   "metadata": {
    "colab_type": "text",
    "id": "PhwLa--puJwi"
   },
   "source": [
    "# \\[ 1. Python의 함수 \\]\n",
    "\n",
    "\n",
    "Python에서의 함수는 수학에서의 함수와 비슷하면서도 다릅니다. 수학에서는 숫자 `input x`를 받아 수식 `function f`를 거쳐 `output f(x)`를 반환하는 것을 함수라 하죠. <br>\n",
    "Python의 함수 역시 `input x`를 받아 일련의 과정인 `function f`를 거쳐 `output f(x)`를 반환할 수 있다는 점에서 수학의 함수와 유사하지만, 수식 뿐만 아니라 다양한 종류의 데이터 처리 과정이 `function f`가 될 수 있고, 입력값이나 출력값이 필수는 아니라는 점에서 다릅니다.<br>\n",
    "함수를 만드는 방법을 배워보고, 직접 만든 함수 혹은 파이썬에 이미 정의된 내장 함수를 불러와 활용하는 방법을 살펴보겠습니다."
   ]
  },
  {
   "cell_type": "markdown",
   "metadata": {
    "colab_type": "text",
    "id": "2lpkoeG9uJwj"
   },
   "source": [
    "## 1. 함수 만들기\n",
    "\n",
    "+ 함수를 만든다는 표현을 흔히 함수를 **'정의한다'**고 합니다. \n",
    "+ 파이썬에서는 `def`라는 예약어를 이용해 함수를 정의할 수 있습니다. 이는 '정의하다'라는 뜻의 **define**의 약자입니다. \n",
    "+ 함수를 정의할 때는 **함수의 이름**이 필수로 요구되며, 필요에 따라 **매개 변수**와 **출력값**을 설정할 수 있습니다. \n",
    "+ **매개 변수**와 **출력값**는 필수가 아니기 때문에 필요에 따라 다양한 형태로 함수를 구성할 수 있습니다. "
   ]
  },
  {
   "cell_type": "markdown",
   "metadata": {
    "colab_type": "text",
    "id": "mVFGxufsuJwj"
   },
   "source": [
    "### (1) 함수 정의하기\n",
    "파이썬에서의 함수 구조는 아래와 같습니다."
   ]
  },
  {
   "cell_type": "code",
   "execution_count": null,
   "metadata": {},
   "outputs": [],
   "source": [
    "def add(a, b):\n",
    "    result = a + b\n",
    "    return result"
   ]
  },
  {
   "cell_type": "markdown",
   "metadata": {},
   "source": [
    "+ `add` : 해당 함수의 이름(**필수**) \n",
    "+ `a,b` : 함수에 전달되는 입력값, 매개변수(*옵션*)\n",
    "+  `return` : 함수가 내보낼 출력값(*옵션*)"
   ]
  },
  {
   "cell_type": "markdown",
   "metadata": {},
   "source": [
    "위 함수는 `def` 예약어 다음에 함수를 호출할 때 사용할 함수의 이름 `add`를 제시하고 괄호 안에 함수에 전달할 입력값, 즉 **매개변수(parameter)** `a`와 `b`를 설정하였습니다. 이 함수는 두 입력값을 받아 처리하겠다는 뜻이죠. 두 번째 줄을 보면 입력받은 두 값, `a`와 `b`를 더해서 `result`라는 변수에 담고 있습니다. 그리고 마지막 줄에서 예약어 `return`을 이용해 `result`값을 함수의 출력값으로 반환하고 있습니다."
   ]
  },
  {
   "cell_type": "markdown",
   "metadata": {},
   "source": [
    "### (2) 함수 호출하기\n",
    "함수를 호출해보겠습니다."
   ]
  },
  {
   "cell_type": "code",
   "execution_count": null,
   "metadata": {
    "colab": {
     "base_uri": "https://localhost:8080/",
     "height": 34
    },
    "colab_type": "code",
    "executionInfo": {
     "elapsed": 984,
     "status": "ok",
     "timestamp": 1550800502984,
     "user": {
      "displayName": "최선열",
      "photoUrl": "",
      "userId": "00663027191814710813"
     },
     "user_tz": -540
    },
    "id": "Y_JWvAojuJwo",
    "outputId": "a49a41f5-ecc1-4902-9352-763f57c57758"
   },
   "outputs": [],
   "source": [
    "y = add(3,5) # 매개변수 a,b에 각각 3,5 값을 입력\n",
    "y # 결과는 y에 담을 수 있음"
   ]
  },
  {
   "cell_type": "markdown",
   "metadata": {},
   "source": [
    "함수 `add`는 3,5를 입력받아 8이라는 결과값을 출력하였습니다. 여기서 매개변수에 입력한 3과 5를 **인수(argument)**라고 부릅니다. 이처럼 매개변수가 있는 함수를 호출할 때 인수를 설정하지 않으면 아래와 같은 오류를 반환합니다. "
   ]
  },
  {
   "cell_type": "code",
   "execution_count": null,
   "metadata": {},
   "outputs": [],
   "source": [
    "add() "
   ]
  },
  {
   "cell_type": "markdown",
   "metadata": {
    "colab_type": "text",
    "id": "3HmlT-zNuJwu"
   },
   "source": [
    "### (3) 매개변수와 출력값 여부에 따라 함수 정의하기\n",
    "앞서 정의한 함수는 매개변수와 출력값이 모두 존재하는 함수였지만, 매개변수와 출력값이 함수 정의에 반드시 들어가야할 필수 요소는 아닙니다. 매개변수가 없는 함수를 정의할 때는 매개변수를 입력받는 괄호 안을 빈칸으로 남겨두고,  출력값이 없는 함수를 정의할 때는 `return` 문을 이용한 결과값을 제시하지 않으면 됩니다. 결과값이 없으면 함수 안에 정의된 문장만 실행되기 때문에 함수를 y에 할당하더라도, y가 받는 값이 없음을 확인할 수 있습니다. "
   ]
  },
  {
   "cell_type": "markdown",
   "metadata": {
    "colab_type": "text",
    "id": "2Upmg5J8uJwu"
   },
   "source": [
    "#### 1. 매개변수와 출력값이 모두 없는 함수"
   ]
  },
  {
   "cell_type": "code",
   "execution_count": null,
   "metadata": {
    "colab": {},
    "colab_type": "code",
    "id": "M95YhRmBuJwv",
    "outputId": "e3a5d4b6-91c3-478b-cf57-e150732237d0"
   },
   "outputs": [],
   "source": [
    "# 함수를 정의하기\n",
    "def make_a_sound():\n",
    "    print(\"Quack\")\n",
    "    \n",
    "# 함수를 호출하기\n",
    "y = make_a_sound()"
   ]
  },
  {
   "cell_type": "code",
   "execution_count": null,
   "metadata": {
    "colab": {},
    "colab_type": "code",
    "id": "OYLrtnAjuJwz"
   },
   "outputs": [],
   "source": [
    "y # None, 즉 아무 값도 없음을 의미"
   ]
  },
  {
   "cell_type": "markdown",
   "metadata": {
    "colab_type": "text",
    "id": "CCTPOlXNuJw2"
   },
   "source": [
    "#### 2. 매개변수만 없는 함수"
   ]
  },
  {
   "cell_type": "code",
   "execution_count": null,
   "metadata": {
    "colab": {},
    "colab_type": "code",
    "id": "zngDFR76uJw2"
   },
   "outputs": [],
   "source": [
    "# 함수를 정의하기\n",
    "def agree():\n",
    "    return True\n",
    "\n",
    "# 함수를 호출하기\n",
    "y = agree()"
   ]
  },
  {
   "cell_type": "code",
   "execution_count": null,
   "metadata": {
    "colab": {},
    "colab_type": "code",
    "id": "KBOgEylruJw5",
    "outputId": "6ca85116-1c2d-4243-97d4-39460390a03c"
   },
   "outputs": [],
   "source": [
    "y"
   ]
  },
  {
   "cell_type": "markdown",
   "metadata": {
    "colab_type": "text",
    "id": "qSnYnh4luJw-"
   },
   "source": [
    "#### 3. 반환값만 없는 함수"
   ]
  },
  {
   "cell_type": "code",
   "execution_count": null,
   "metadata": {
    "colab": {},
    "colab_type": "code",
    "id": "FwbJQlXcuJw_",
    "outputId": "49ff3707-f828-4618-bfd0-0ab516cc8d1e"
   },
   "outputs": [],
   "source": [
    "# 함수를 정의하기\n",
    "def hello_by(name):\n",
    "    print(\"안녕하세요, {}님\".format(name))\n",
    "    \n",
    "# 함수를 호출하기\n",
    "y = hello_by(\"철수\")"
   ]
  },
  {
   "cell_type": "markdown",
   "metadata": {
    "colab_type": "text",
    "id": "9bR9zPKjuJxZ"
   },
   "source": [
    "### (4) 매개변수의 디폴트 값 설정하기\n",
    "함수의 매개변수에는 아무 인자를 전달하지 않아도 적용될 기본값(또는 디폴트 값)을 지정할 수 있습니다. 함수를 정의할 때 인자 옆에 등호(`=`)와 함께 값을 지정하면 됩니다. 함수 호출시 인자를 입력하지 않으면 이때 지정해둔 값을 기본값으로 불러옵니다."
   ]
  },
  {
   "cell_type": "code",
   "execution_count": null,
   "metadata": {
    "colab": {},
    "colab_type": "code",
    "id": "KmaYHQCKuJxa"
   },
   "outputs": [],
   "source": [
    "def print_with_arguments(name=\"'미상'\", age=20):\n",
    "    print(\"당신의 이름은 {}이며, 나이는 {}입니다.\".format(name, age))"
   ]
  },
  {
   "cell_type": "code",
   "execution_count": null,
   "metadata": {
    "colab": {},
    "colab_type": "code",
    "id": "2pcXZyXOuJxc",
    "outputId": "6ba5c74f-17ca-42de-f88d-2ea776d130e5"
   },
   "outputs": [],
   "source": [
    "# 모든 인자가 지정되었을 때\n",
    "print_with_arguments(\"철수\", 32)"
   ]
  },
  {
   "cell_type": "code",
   "execution_count": null,
   "metadata": {
    "colab": {},
    "colab_type": "code",
    "id": "Abuh3mt_uJxh",
    "outputId": "1b5209a3-1e64-44ac-bd83-18f78894216e"
   },
   "outputs": [],
   "source": [
    "# 인자는 기본적으로 순서대로 채워들어갑니다.\n",
    "print_with_arguments(\"철수\")"
   ]
  },
  {
   "cell_type": "code",
   "execution_count": null,
   "metadata": {
    "colab": {},
    "colab_type": "code",
    "id": "kJgT6supuJxk",
    "outputId": "38c32d26-1341-486c-ae1c-ab95ae8d1735"
   },
   "outputs": [],
   "source": [
    "# 기본값으로 이름에는 \"\", age에는 20\n",
    "print_with_arguments()"
   ]
  },
  {
   "cell_type": "code",
   "execution_count": null,
   "metadata": {
    "colab": {},
    "colab_type": "code",
    "id": "2I7qG3UEuJxm",
    "outputId": "fbe671b4-01dd-40a9-928b-afc52dfce4cd"
   },
   "outputs": [],
   "source": [
    "# 인자를 넣을 때, 다음과 같이 인자를 지정할 수 있습니다.\n",
    "print_with_arguments(name='철수',age=32) "
   ]
  },
  {
   "cell_type": "code",
   "execution_count": null,
   "metadata": {
    "colab": {},
    "colab_type": "code",
    "id": "JcTtk8Z7uJxq",
    "outputId": "b8e10500-ec9e-4457-8e07-867304603ccd"
   },
   "outputs": [],
   "source": [
    "# age에만 값을 지정하고 싶은 경우 아래와 같이 지정할 수 있습니다.\n",
    "print_with_arguments(age=32) "
   ]
  },
  {
   "cell_type": "markdown",
   "metadata": {
    "colab_type": "text",
    "id": "WReA62p3uJxC"
   },
   "source": [
    "<br>\n",
    "## 2. 파이썬의 함수 종류\n",
    "\n",
    "+ 파이썬에는 이처럼 직접 함수를 정의하여 사용하는 **사용자 정의 함수** 외에도, 아무 설정 없이 바로 사용할 수 있는 **내장함수**, 이름 없이 사용하는 **익명함수** 등이 있습니다. "
   ]
  },
  {
   "cell_type": "markdown",
   "metadata": {
    "colab_type": "text",
    "id": "xREZ5KJ8uJxC"
   },
   "source": [
    "### (1) 파이썬 내장 함수 활용하기\n",
    "파이썬에는 아무 설정 없이 바로 사용할 수 있는 함수가 내장되어 있는데, 이를 **내장 함수**(built-in functions)가 존재합니다. 따라서 간단한 기능을 구현할 때는 필요한 함수를 정의하기 전에 이미 정의된 내장 함수는 없는지 살펴보는 것이 좋습니다. 이전에 배운 `len`, `sorted`도 내장 함수였으며, 이 외에도 `sum`, `max`, `min`, `abs` 등 기본적인 연산은 대부분 내장 함수로 정의되어 있습니다. "
   ]
  },
  {
   "cell_type": "markdown",
   "metadata": {
    "colab_type": "text",
    "id": "z-fWdiacuJxD"
   },
   "source": [
    "#### 1. sum : 리스트의 원소들의 합을 구합니다."
   ]
  },
  {
   "cell_type": "code",
   "execution_count": null,
   "metadata": {
    "colab": {},
    "colab_type": "code",
    "id": "2IL9m-4iuJxE",
    "outputId": "ad9721e3-b228-442f-88e8-62ea465eea61"
   },
   "outputs": [],
   "source": [
    "lst1 = [1,2,3,4,5]\n",
    "sum(lst1)"
   ]
  },
  {
   "cell_type": "markdown",
   "metadata": {
    "colab_type": "text",
    "id": "eAU6C2JFuJxI"
   },
   "source": [
    "#### 2. max : 리스트 중 제일 큰 값을 반환합니다."
   ]
  },
  {
   "cell_type": "code",
   "execution_count": null,
   "metadata": {
    "colab": {},
    "colab_type": "code",
    "id": "_x6OsVZOuJxI",
    "outputId": "7fadc5b9-2514-4848-8afb-c31a602392ae"
   },
   "outputs": [],
   "source": [
    "lst1 = [1,2,3,4,5]\n",
    "max(lst1)"
   ]
  },
  {
   "cell_type": "markdown",
   "metadata": {
    "colab_type": "text",
    "id": "mlhv3F1KuJxL"
   },
   "source": [
    "#### 3. min : 리스트 중 제일 작은 값을 반환합니다."
   ]
  },
  {
   "cell_type": "code",
   "execution_count": null,
   "metadata": {
    "colab": {},
    "colab_type": "code",
    "id": "gSDQ_0VluJxN",
    "outputId": "ba18621e-4c6e-4979-9ce2-92144b13617a"
   },
   "outputs": [],
   "source": [
    "lst1 = [1,2,3,4,5]\n",
    "min(lst1)"
   ]
  },
  {
   "cell_type": "markdown",
   "metadata": {
    "colab_type": "text",
    "id": "WjhVLp66uJxQ"
   },
   "source": [
    "#### 4. abs : 절대값으로 바꾸어 줍니다"
   ]
  },
  {
   "cell_type": "code",
   "execution_count": null,
   "metadata": {
    "colab": {},
    "colab_type": "code",
    "id": "h4g7CSgFuJxQ",
    "outputId": "9aee613a-9633-4cce-fbe5-cbbda043b624"
   },
   "outputs": [],
   "source": [
    "abs(-1.7)"
   ]
  },
  {
   "cell_type": "markdown",
   "metadata": {},
   "source": [
    "#### 5. map : 자료구조 내 원소에 하나씩 적용하여 반환합니다."
   ]
  },
  {
   "cell_type": "code",
   "execution_count": null,
   "metadata": {},
   "outputs": [],
   "source": [
    "def add_1(x):\n",
    "    return x + 1\n",
    "\n",
    "lst1 = [1,2,3,4,5]\n",
    "list(map(add_1, lst1))"
   ]
  },
  {
   "cell_type": "markdown",
   "metadata": {},
   "source": [
    "#### 6. filter : 자료구조 내 원소에서 조건에 맞는 원소만을 모아 반환합니다."
   ]
  },
  {
   "cell_type": "code",
   "execution_count": null,
   "metadata": {},
   "outputs": [],
   "source": [
    "def is_even(x):\n",
    "    return x % 2 == 0\n",
    "\n",
    "lst1 = [1,2,3,4,5]\n",
    "list(filter(is_even, lst1))"
   ]
  },
  {
   "cell_type": "markdown",
   "metadata": {},
   "source": [
    "### (2) 익명함수 `lambda` 활용하기\n",
    "앞서 사용자 정의 함수를 만들 때 함수의 이름이 필수라고 설명했는데, 파이썬에는 함수의 이름 없이 함수를 만드는 방법도 있습니다. 바로 **익명 함수**라는 개념입니다. 익명 함수는 함수명을 정의해 사용하는 함수처럼 이름으로 함수를 호출해 재사용하는 것은 불가능하지만, 한줄로 간결하게 만들수 있어 복잡하지 않고 간단한 함수를 구현할 때 용이합니다. 단, 한 줄이 넘어가는 코드의 경우에는 익명함수 사용시 가독성이 떨어질 수 있으므로 주의해야 합니다. \n",
    "<br>\n",
    "앞서 정의했던 함수를 익명함수로 바꿔보겠습니다. "
   ]
  },
  {
   "cell_type": "code",
   "execution_count": null,
   "metadata": {},
   "outputs": [],
   "source": [
    "def add(x, y):\n",
    "    return x + y\n",
    "\n",
    "add(1, 2)"
   ]
  },
  {
   "cell_type": "markdown",
   "metadata": {},
   "source": [
    "위와 같은 함수는 익명함수를 사용하면 아래처럼 간결하게 나타낼 수 있습니다."
   ]
  },
  {
   "cell_type": "code",
   "execution_count": null,
   "metadata": {},
   "outputs": [],
   "source": [
    "add_by_lambda = lambda x, y : x + y\n",
    "add_by_lambda(1, 2)"
   ]
  },
  {
   "cell_type": "markdown",
   "metadata": {},
   "source": [
    "예약어 `lambda` 다음에 매개변수를 제시하고, `:` 다음에 표현식을 써서 정의할 수 있습니다. 위 함수는 매개변수 `x`와 `y`를 받아 `x+y` 연산을 하는 함수입니다. "
   ]
  },
  {
   "cell_type": "markdown",
   "metadata": {},
   "source": [
    "`lambda`는 아래와 같이 한 줄로 끝나는 간단한 함수 경우에 유용하게 사용됩니다."
   ]
  },
  {
   "cell_type": "code",
   "execution_count": null,
   "metadata": {},
   "outputs": [],
   "source": [
    "def add_1(x):\n",
    "    return x + 1\n",
    "\n",
    "lst1 = [1,2,3,4,5]\n",
    "list(map(add_1, lst1))"
   ]
  },
  {
   "cell_type": "code",
   "execution_count": null,
   "metadata": {},
   "outputs": [],
   "source": [
    "lst1 = [1,2,3,4,5]\n",
    "list(map(lambda x : x + 1, lst1)) "
   ]
  },
  {
   "cell_type": "markdown",
   "metadata": {},
   "source": [
    "### [Advanced] (3) generator 함수 구성하기\n",
    "\n",
    "앞서 `python의 제어문(2) 순회문`에서 `Generator Expression`에 대해 우리는 배웠습니다. \n",
    "\n",
    "````python\n",
    "(i*100 for i in (1,2,3,4,5)) # generator compression\n",
    "````\n",
    "\n",
    "여기에 등장한 Generator는 사실 일종의 함수입니다. 위의 Generator Compression을 함수 형태로 정의할 수 있습니다."
   ]
  },
  {
   "cell_type": "code",
   "execution_count": null,
   "metadata": {},
   "outputs": [],
   "source": [
    "def generator():\n",
    "    for i in (1,2,3,4,5):\n",
    "        yield i * 100"
   ]
  },
  {
   "cell_type": "markdown",
   "metadata": {},
   "source": [
    "함수와 유일한 차이점은 `return` 대신 `yield`가 들어간다는 점입니다. 위의 형태로 구성된 generator는 `Generator Expression`와 동일한 방식으로 동작합니다."
   ]
  },
  {
   "cell_type": "code",
   "execution_count": null,
   "metadata": {},
   "outputs": [],
   "source": [
    "generator_sample = generator() # = (i*100 for i in (1,2,3,4,5))\n",
    "print(next(generator_sample))\n",
    "print(next(generator_sample))\n",
    "print(next(generator_sample))\n",
    "print(next(generator_sample))\n",
    "print(next(generator_sample))"
   ]
  },
  {
   "cell_type": "markdown",
   "metadata": {},
   "source": [
    "next는 generator 안에 있는 원소를 꺼내오는 것이기 때문에, 남은 것이 없으면 오류를 반환합니다. "
   ]
  },
  {
   "cell_type": "code",
   "execution_count": null,
   "metadata": {},
   "outputs": [],
   "source": [
    "print(next(generator_sample))"
   ]
  },
  {
   "cell_type": "code",
   "execution_count": null,
   "metadata": {},
   "outputs": [],
   "source": [
    "for item in generator():\n",
    "    print(item)"
   ]
  },
  {
   "cell_type": "markdown",
   "metadata": {
    "colab_type": "text",
    "id": "QiLOWxDKuJxt"
   },
   "source": [
    "# \\[ 2. Python의 패키지 \\]\n",
    "\n",
    "패키지란 디렉토리 구조로 관리되는 코드의 집합을 뜻합니다. 패키지를 활용하면 다른 개발자들이 만들고 성능이 검증되었고 효율적으로 설계된 모듈을 손쉽게 쓸 수 있습니다. <br>\n",
    "특히 Python에는 데이터를 다루는 패키지(예: Numpy, Pandas, Scipy 등)가 다른 언어에 비해 특히 잘 구성되어 있으므로 패키지를 적극적으로 활용하기를 추천합니다. <br>\n",
    "Python에서 패키지를 설치하고 불러와 활용해보는 방법을 배워보겠습니다."
   ]
  },
  {
   "cell_type": "markdown",
   "metadata": {},
   "source": [
    "## 1. `pip`으로 패키지 관리하기\n",
    "\n",
    "+ 파이썬의 패키지들은 패키지 관리 시스템인 `pip`를 통해, 손쉽게 패키지를 설치, 제거할 수 있습니다.\n",
    "+ 콘솔창에서는 `pip 명령어`로 조작 가능하며, 주피터 노트북 환경에서는 `!pip 명령어`로 동일하게 조작할 수 있습니다. "
   ]
  },
  {
   "cell_type": "markdown",
   "metadata": {},
   "source": [
    "### (1) 설치된 패키지 리스트 확인하기\n",
    "`pip list`를 통해 설치된 패키지에는 어떤 것이 있는지 확인할 수 있습니다."
   ]
  },
  {
   "cell_type": "code",
   "execution_count": null,
   "metadata": {},
   "outputs": [],
   "source": [
    "# 현재 설치된 패키지 리스트 확인하기\n",
    "!pip list"
   ]
  },
  {
   "cell_type": "markdown",
   "metadata": {},
   "source": [
    "### (2) 패키지 다운로드하기\n",
    "`pip install <package name>`를 통해 패키지를 다운로드 할 수 있습니다.\n",
    "   "
   ]
  },
  {
   "cell_type": "code",
   "execution_count": null,
   "metadata": {},
   "outputs": [],
   "source": [
    "# 패키지 설치하기 (wget : 파일을 다운로드하는 것을 도와주는 패키지)\n",
    "!pip install wget"
   ]
  },
  {
   "cell_type": "markdown",
   "metadata": {},
   "source": [
    "### (3) 패키지 가져오기\n",
    "`import <package name>`를 통해 다운로드 한 패키지를 가져올 수 있습니다. "
   ]
  },
  {
   "cell_type": "code",
   "execution_count": null,
   "metadata": {},
   "outputs": [],
   "source": [
    "import wget"
   ]
  },
  {
   "cell_type": "markdown",
   "metadata": {},
   "source": [
    "패키지 안의 매소드가 어떤 매개변수를 요구하는지 파악하고 싶다면 `?패키지명.매소드명`을 이용할 수 있습니다. 아래 내용을 살펴보면, `wget` 패키지에는 url을 다운받을 수 있는 `dowmload`라는 매소드는 `url`이라는 매개변수가 필요하며, `out`과 `bar` 매개변수에는 디폴트 값이 지정되어 있음을 알 수 있습니다.  "
   ]
  },
  {
   "cell_type": "code",
   "execution_count": null,
   "metadata": {},
   "outputs": [],
   "source": [
    "# 아래 이미지 다운로드를 현재 폴더로 다운로드 하기\n",
    "wget.download(\"https://upload.wikimedia.org/wikipedia/commons/thumb/8/88/Ward_Cunningham_-_Commons-1.jpg/400px-Ward_Cunningham_-_Commons-1.jpg\")"
   ]
  },
  {
   "cell_type": "code",
   "execution_count": null,
   "metadata": {},
   "outputs": [],
   "source": [
    "# 현재 폴더 내 파일들 검색\n",
    "!ls"
   ]
  },
  {
   "cell_type": "markdown",
   "metadata": {},
   "source": [
    "### (4) 패키지 지우기\n",
    "\n",
    "   * `pip uninstall -y <package name>`를 통해 설치한 패키지를 지울수 있습니다."
   ]
  },
  {
   "cell_type": "code",
   "execution_count": null,
   "metadata": {},
   "outputs": [],
   "source": [
    "# 설치된 패키지 지우기\n",
    "!pip uninstall -y wget "
   ]
  },
  {
   "cell_type": "markdown",
   "metadata": {
    "colab_type": "text",
    "id": "MTZevRuFXG5i"
   },
   "source": [
    "## 2. 패키지를 호출하는 다양한 방법 익히기\n",
    "\n",
    "+ `import` 예약어를 통해 패키지를 호출하면 패키지 안에서 기본으로 불러와지도록 설정된 모듈만 불러오게 됩니다. \n",
    "+ 패키지 안에서 필요한 모듈만 특정하여 가져오려면 `from`과 예약어와 함께 `import`를 사용합니다. \n",
    "+ 반복적으로 사용되는 패키지에는 `as` 예약어를 이용해 별칭을 붙여서(Aliasing) 간편하게 사용할 수도 있습니다."
   ]
  },
  {
   "cell_type": "markdown",
   "metadata": {
    "colab_type": "text",
    "id": "uAV_0b8KuJyb"
   },
   "source": [
    "### (1) 패키지 내 특정 모듈만 가져오기\n",
    "\n",
    "random이라는 패키지 안에 있는 다양한 메소드 중 shuffle만 가져오고 싶을 때에는 `from`을 이용하면 됩니다."
   ]
  },
  {
   "cell_type": "code",
   "execution_count": null,
   "metadata": {
    "colab": {},
    "colab_type": "code",
    "id": "qcQk4N9GuJyc"
   },
   "outputs": [],
   "source": [
    "from random import shuffle"
   ]
  },
  {
   "cell_type": "code",
   "execution_count": null,
   "metadata": {
    "colab": {},
    "colab_type": "code",
    "id": "IKSu091puJye",
    "outputId": "d48b13b9-53ad-4d1c-c74b-5ddaf94b3615"
   },
   "outputs": [],
   "source": [
    "lst1 = [1,2,3,4,5]\n",
    "shuffle(lst1)\n",
    "lst1"
   ]
  },
  {
   "cell_type": "markdown",
   "metadata": {
    "colab_type": "text",
    "id": "y7u0m-6rmAue"
   },
   "source": [
    "다음과 같이 콤마(`,`)를 이용해 특정 패키지 안의 여러개 매소드를 한 번에 호출할 수도 있습니다."
   ]
  },
  {
   "cell_type": "code",
   "execution_count": null,
   "metadata": {
    "colab": {},
    "colab_type": "code",
    "id": "BqlpaMA6mLGL"
   },
   "outputs": [],
   "source": [
    "from random import choice, randint"
   ]
  },
  {
   "cell_type": "code",
   "execution_count": null,
   "metadata": {
    "colab": {
     "base_uri": "https://localhost:8080/",
     "height": 34
    },
    "colab_type": "code",
    "executionInfo": {
     "elapsed": 759,
     "status": "ok",
     "timestamp": 1550812111191,
     "user": {
      "displayName": "최선열",
      "photoUrl": "",
      "userId": "00663027191814710813"
     },
     "user_tz": -540
    },
    "id": "bM0jtR-rmm2G",
    "outputId": "3d239275-f485-466a-ec32-55503e191296"
   },
   "outputs": [],
   "source": [
    "lst1 = [1,2,3,4,5]\n",
    "random.choice(lst1)"
   ]
  },
  {
   "cell_type": "markdown",
   "metadata": {
    "colab_type": "text",
    "id": "I-_A6Tzwmz-8"
   },
   "source": [
    "다음과 같이 * ( wildcard ; 와일드카드)를 사용하여 모듈 내의 모든 메소드를 한번에 호출할 수도 있습니다. 이때는 메소드 앞에 패키지명을 특정하지 않아도 메소드를 바로 사용할 수 있습니다. <br>"
   ]
  },
  {
   "cell_type": "code",
   "execution_count": null,
   "metadata": {
    "colab": {},
    "colab_type": "code",
    "id": "agNt4-LKmxDI"
   },
   "outputs": [],
   "source": [
    "from random import *"
   ]
  },
  {
   "cell_type": "code",
   "execution_count": null,
   "metadata": {
    "colab": {
     "base_uri": "https://localhost:8080/",
     "height": 68
    },
    "colab_type": "code",
    "executionInfo": {
     "elapsed": 613,
     "status": "ok",
     "timestamp": 1550812727025,
     "user": {
      "displayName": "최선열",
      "photoUrl": "",
      "userId": "00663027191814710813"
     },
     "user_tz": -540
    },
    "id": "IKM4KxRYozcm",
    "outputId": "7cc4b65a-d846-4321-b2eb-4460a9f4af32"
   },
   "outputs": [],
   "source": [
    "lst1 = [1,2,3,4,5]\n",
    "print(choice(lst1)) # random 패키지의 choice 메소드를 random.choice 가 아닌 choice로 바로 활용 \n",
    "shuffle(lst1) # random 패키지의 shuffle 메소드를 random.shuffle 가 아닌 suffle로 바로 활용\n",
    "print(lst1)\n",
    "print(randint(5,10))"
   ]
  },
  {
   "cell_type": "markdown",
   "metadata": {
    "colab_type": "text",
    "id": "w6S5A-dMuJyh"
   },
   "source": [
    "### (2) 별칭으로 패키지 불러오기\n",
    "\n",
    "패키지에는 numpy처럼 짧은 이름을 가진 패키지도 있지만, beutifulsoup 처럼 긴 이름을 가진 패키지도 있습니다. 패키지 이름이 매번 명시하기에는 길거나 매우 빈번하게 사용하는 패키지의 경우, 파이썬에서는 다음과 같이 **`as`를 통해**  별칭으로 바꿔 불러올 수 있습니다.\n",
    "<br>\n",
    "<br>\n",
    "가령 `numpy`는 `np`로, `pandas`는 `pd`로 줄여서 불러오는 관행이 있습니다.  "
   ]
  },
  {
   "cell_type": "code",
   "execution_count": null,
   "metadata": {
    "colab": {
     "base_uri": "https://localhost:8080/",
     "height": 34
    },
    "colab_type": "code",
    "executionInfo": {
     "elapsed": 1462,
     "status": "ok",
     "timestamp": 1550812888958,
     "user": {
      "displayName": "최선열",
      "photoUrl": "",
      "userId": "00663027191814710813"
     },
     "user_tz": -540
    },
    "id": "haDUA_n4uJyh",
    "outputId": "002d80cc-b699-432e-90a2-12096c8c9cf7"
   },
   "outputs": [],
   "source": [
    "import numpy as np\n",
    "\n",
    "lst1 = [1,2,3,4,5]\n",
    "np.add(lst1, 1)"
   ]
  },
  {
   "cell_type": "markdown",
   "metadata": {
    "colab_type": "text",
    "id": "E5xyqXf2uJxt"
   },
   "source": [
    "<br>\n",
    "## 3. Python의 표준 패키지 활용하기\n",
    "\n",
    "+ 파이썬은 다양한 표준 패키지(혹은 표준 라이브러리)를 지원합니다.\n",
    "+ 표준 패키지 중 자주 사용되는 time 패키지, os 패키지, random 패키지를 예로 들어 패키지를 어떤식으로 사용하는지 익혀봅시다."
   ]
  },
  {
   "cell_type": "markdown",
   "metadata": {
    "colab_type": "text",
    "id": "mHW0cYdCuJxt"
   },
   "source": [
    "### (1) time 패키지\n",
    "`time`은 시간을 측정하는 패키지입니다. `time` 패키지 안에 있는 `time` 메소드 호출할 때는 `time.time()`으로 표현합니다. "
   ]
  },
  {
   "cell_type": "code",
   "execution_count": null,
   "metadata": {
    "colab": {},
    "colab_type": "code",
    "id": "3ymqoDrruJxv"
   },
   "outputs": [],
   "source": [
    "import time"
   ]
  },
  {
   "cell_type": "code",
   "execution_count": null,
   "metadata": {
    "colab": {
     "base_uri": "https://localhost:8080/",
     "height": 34
    },
    "colab_type": "code",
    "executionInfo": {
     "elapsed": 703,
     "status": "ok",
     "timestamp": 1550807558503,
     "user": {
      "displayName": "최선열",
      "photoUrl": "",
      "userId": "00663027191814710813"
     },
     "user_tz": -540
    },
    "id": "epveDb4HuJxw",
    "outputId": "da31f917-0fc8-40e8-a1a7-5ea5d681ec26"
   },
   "outputs": [],
   "source": [
    "time.time() # 현재 초단위로 측정되고 있는 OS의 시간을 반환. "
   ]
  },
  {
   "cell_type": "markdown",
   "metadata": {
    "colab_type": "text",
    "id": "vBAsHxHeuJx0"
   },
   "source": [
    "`time.time()`는 주로 다음과 같이 프로그램이 동작하는 데 얼마나 시간이 걸리는지 측정하는 데에 많이 쓰입니다."
   ]
  },
  {
   "cell_type": "code",
   "execution_count": null,
   "metadata": {
    "colab": {
     "base_uri": "https://localhost:8080/",
     "height": 34
    },
    "colab_type": "code",
    "executionInfo": {
     "elapsed": 633,
     "status": "ok",
     "timestamp": 1550807743477,
     "user": {
      "displayName": "최선열",
      "photoUrl": "",
      "userId": "00663027191814710813"
     },
     "user_tz": -540
    },
    "id": "0TBZEv7MuJx1",
    "outputId": "d742d163-dbf7-4657-f956-179cdf6b5c17"
   },
   "outputs": [],
   "source": [
    "start = time.time()\n",
    "# \n",
    "total = 1\n",
    "for i in range(1,1000):\n",
    "    total *= i\n",
    "\n",
    "end = time.time()\n",
    "\n",
    "print(end - start)"
   ]
  },
  {
   "cell_type": "markdown",
   "metadata": {
    "colab_type": "text",
    "id": "TsE6URWluJx3"
   },
   "source": [
    "### (2) os 패키지\n",
    "\n",
    "OS(운영체제) 내에 있는 여러 기능들을 파이썬에서 이용할 수 있도록 만든 패키지입니다."
   ]
  },
  {
   "cell_type": "code",
   "execution_count": null,
   "metadata": {
    "colab": {},
    "colab_type": "code",
    "id": "frBlfN4buJx4"
   },
   "outputs": [],
   "source": [
    "import os"
   ]
  },
  {
   "cell_type": "markdown",
   "metadata": {
    "colab_type": "text",
    "id": "QfkEY9iquJx6"
   },
   "source": [
    "`listdir` 메소드를 이용하면 디렉토리 내 파일 이름 가져오거나, 상위 폴더에 있는 파일을 전부 가져올 수 있습니다. "
   ]
  },
  {
   "cell_type": "code",
   "execution_count": null,
   "metadata": {
    "colab": {
     "base_uri": "https://localhost:8080/",
     "height": 34
    },
    "colab_type": "code",
    "executionInfo": {
     "elapsed": 581,
     "status": "ok",
     "timestamp": 1550807756202,
     "user": {
      "displayName": "최선열",
      "photoUrl": "",
      "userId": "00663027191814710813"
     },
     "user_tz": -540
    },
    "id": "VXJyvlgEuJx7",
    "outputId": "3a2ff6b1-8e70-492c-861f-757d28e77674"
   },
   "outputs": [],
   "source": [
    "os.listdir(\"./\") # os 패키지 내 listdir 메소드 사용. 현재 폴더에 있는 파일들을 가져옴"
   ]
  },
  {
   "cell_type": "code",
   "execution_count": null,
   "metadata": {
    "colab": {
     "base_uri": "https://localhost:8080/",
     "height": 442
    },
    "colab_type": "code",
    "executionInfo": {
     "elapsed": 581,
     "status": "ok",
     "timestamp": 1550807760259,
     "user": {
      "displayName": "최선열",
      "photoUrl": "",
      "userId": "00663027191814710813"
     },
     "user_tz": -540
    },
    "id": "TZWI4iiyuJx8",
    "outputId": "657725de-2bcf-4479-9514-469a47260bd5"
   },
   "outputs": [],
   "source": [
    "os.listdir(\"../\") # 상위 폴더에 있는 파일들을 가져옴"
   ]
  },
  {
   "cell_type": "markdown",
   "metadata": {
    "colab_type": "text",
    "id": "00lKkR7auJx_"
   },
   "source": [
    "파일경로 문자열에서 파일명과 디렉토리 분리하는 작업도 `path.split(파일경로)`을 이용해 간단하게 할 수 있습니다. "
   ]
  },
  {
   "cell_type": "code",
   "execution_count": null,
   "metadata": {
    "colab": {
     "base_uri": "https://localhost:8080/",
     "height": 34
    },
    "colab_type": "code",
    "executionInfo": {
     "elapsed": 600,
     "status": "ok",
     "timestamp": 1550807762651,
     "user": {
      "displayName": "최선열",
      "photoUrl": "",
      "userId": "00663027191814710813"
     },
     "user_tz": -540
    },
    "id": "aGBssGftuJx_",
    "outputId": "7e55e601-3322-4669-86a4-c8960f92e5b3"
   },
   "outputs": [],
   "source": [
    "file_path = \"/images/cat.png\" \n",
    "os.path.split(file_path) # 디렉토리와 파일이름을 나누기"
   ]
  },
  {
   "cell_type": "markdown",
   "metadata": {
    "colab_type": "text",
    "id": "4R4GVuicuJyC"
   },
   "source": [
    "### (3) random\n",
    "`random`은 파이썬에서 무작위로 값을 만들어주거나, 고르거나, 섞을 때 주로 이용하는 패키지입니다."
   ]
  },
  {
   "cell_type": "code",
   "execution_count": null,
   "metadata": {
    "colab": {},
    "colab_type": "code",
    "id": "GSH6wdLxuJyD"
   },
   "outputs": [],
   "source": [
    "import random"
   ]
  },
  {
   "cell_type": "markdown",
   "metadata": {
    "colab_type": "text",
    "id": "5UlnzoB4uJyE"
   },
   "source": [
    "`random` 패키지의 `random` 메소드를 사용하면 무작위로 0~1 사이의 값이 반환됩니다. "
   ]
  },
  {
   "cell_type": "code",
   "execution_count": null,
   "metadata": {
    "colab": {
     "base_uri": "https://localhost:8080/",
     "height": 34
    },
    "colab_type": "code",
    "executionInfo": {
     "elapsed": 676,
     "status": "ok",
     "timestamp": 1550807800432,
     "user": {
      "displayName": "최선열",
      "photoUrl": "",
      "userId": "00663027191814710813"
     },
     "user_tz": -540
    },
    "id": "hGL_B_dduJyE",
    "outputId": "2fb48eff-7d8a-49aa-fd64-46e964e5fc1f"
   },
   "outputs": [],
   "source": [
    "random.random()"
   ]
  },
  {
   "cell_type": "markdown",
   "metadata": {
    "colab_type": "text",
    "id": "nhcliZtquJyH"
   },
   "source": [
    "`random`패키지의 `randint`를 이용하면 a,b 사이의 정수(a<=값<=b) 중 하나를 무작위로 반환합니다. "
   ]
  },
  {
   "cell_type": "code",
   "execution_count": null,
   "metadata": {
    "colab": {
     "base_uri": "https://localhost:8080/",
     "height": 34
    },
    "colab_type": "code",
    "executionInfo": {
     "elapsed": 621,
     "status": "ok",
     "timestamp": 1550807809606,
     "user": {
      "displayName": "최선열",
      "photoUrl": "",
      "userId": "00663027191814710813"
     },
     "user_tz": -540
    },
    "id": "CvzXlkWBuJyI",
    "outputId": "328d3d90-1b4b-49ac-bf55-d2ab95f354b4"
   },
   "outputs": [],
   "source": [
    "a = 5\n",
    "b = 10\n",
    "random.randint(a,b)"
   ]
  },
  {
   "cell_type": "markdown",
   "metadata": {
    "colab_type": "text",
    "id": "wmNkiLSduJyM"
   },
   "source": [
    "`random`패키지의 `choice`를 이용하면 리스트 중 하나의 요소를 무작위로 꺼내줍니다. "
   ]
  },
  {
   "cell_type": "code",
   "execution_count": null,
   "metadata": {
    "colab": {},
    "colab_type": "code",
    "id": "pMymnwRhuJyQ",
    "outputId": "5499cc93-f646-4661-f381-ad1069d00dff"
   },
   "outputs": [],
   "source": [
    "lst1 = [1,2,3,4,5]\n",
    "random.choice(lst1)"
   ]
  },
  {
   "cell_type": "markdown",
   "metadata": {
    "colab_type": "text",
    "id": "W2nod0xvuJyU"
   },
   "source": [
    "`random` 패키지의 `shuffle`를 이용하면 리스트의 순서를 무작위로 섞어줍니다. "
   ]
  },
  {
   "cell_type": "code",
   "execution_count": null,
   "metadata": {
    "colab": {
     "base_uri": "https://localhost:8080/",
     "height": 34
    },
    "colab_type": "code",
    "executionInfo": {
     "elapsed": 592,
     "status": "ok",
     "timestamp": 1550808005726,
     "user": {
      "displayName": "최선열",
      "photoUrl": "",
      "userId": "00663027191814710813"
     },
     "user_tz": -540
    },
    "id": "1gqhF5hEuJyW",
    "outputId": "ffdf6558-eff5-4f23-f3ac-4fe696a4e8b7"
   },
   "outputs": [],
   "source": [
    "lst1 = [1,2,3,4,5]\n",
    "random.shuffle(lst1)\n",
    "lst1"
   ]
  },
  {
   "cell_type": "markdown",
   "metadata": {
    "colab_type": "text",
    "id": "NKVGfRi2uJyj"
   },
   "source": [
    "#  \n",
    "\n",
    "---\n",
    "\n",
    "    Copyright(c) 2019 by Public AI. All rights reserved.\n",
    "    Writen by PAI, SangJae Kang ( rocketgrowthsj@publicai.co.kr )  last updated on 2019/02/22\n",
    "---"
   ]
  }
 ],
 "metadata": {
  "colab": {
   "collapsed_sections": [
    "FkAkLgIouJwk",
    "2Upmg5J8uJwu",
    "CCTPOlXNuJw2",
    "qSnYnh4luJw-",
    "xREZ5KJ8uJxC",
    "z-fWdiacuJxD",
    "eAU6C2JFuJxI",
    "mlhv3F1KuJxL",
    "WjhVLp66uJxQ",
    "9bR9zPKjuJxZ",
    "mHW0cYdCuJxt",
    "TsE6URWluJx3",
    "QfkEY9iquJx6",
    "00lKkR7auJx_",
    "4R4GVuicuJyC",
    "5UlnzoB4uJyE",
    "nhcliZtquJyH",
    "wmNkiLSduJyM",
    "W2nod0xvuJyU",
    "uAV_0b8KuJyb",
    "w6S5A-dMuJyh"
   ],
   "name": "7_Python의 함수와 패키지들.ipynb",
   "provenance": [],
   "toc_visible": true,
   "version": "0.3.2"
  },
  "kernelspec": {
   "display_name": "Python 3",
   "language": "python",
   "name": "python3"
  },
  "language_info": {
   "codemirror_mode": {
    "name": "ipython",
    "version": 3
   },
   "file_extension": ".py",
   "mimetype": "text/x-python",
   "name": "python",
   "nbconvert_exporter": "python",
   "pygments_lexer": "ipython3",
   "version": "3.6.6"
  },
  "toc": {
   "base_numbering": 1,
   "nav_menu": {},
   "number_sections": false,
   "sideBar": true,
   "skip_h1_title": false,
   "title_cell": "Table of Contents",
   "title_sidebar": "Contents",
   "toc_cell": false,
   "toc_position": {},
   "toc_section_display": true,
   "toc_window_display": false
  },
  "varInspector": {
   "cols": {
    "lenName": 16,
    "lenType": 16,
    "lenVar": 40
   },
   "kernels_config": {
    "python": {
     "delete_cmd_postfix": "",
     "delete_cmd_prefix": "del ",
     "library": "var_list.py",
     "varRefreshCmd": "print(var_dic_list())"
    },
    "r": {
     "delete_cmd_postfix": ") ",
     "delete_cmd_prefix": "rm(",
     "library": "var_list.r",
     "varRefreshCmd": "cat(var_dic_list()) "
    }
   },
   "types_to_exclude": [
    "module",
    "function",
    "builtin_function_or_method",
    "instance",
    "_Feature"
   ],
   "window_display": false
  }
 },
 "nbformat": 4,
 "nbformat_minor": 2
}
