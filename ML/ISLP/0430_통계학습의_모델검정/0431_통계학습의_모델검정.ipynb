{
 "cells": [
  {
   "cell_type": "markdown",
   "metadata": {},
   "source": [
    "## 1부 3장 재표본추출 방법"
   ]
  },
  {
   "cell_type": "markdown",
   "metadata": {},
   "source": [
    "앞에 1장과 2장에서는 단순히 모델을 만드는 방법에 대하여 다루었습니다. 해당 장에서는 앞서 만들어진 모델들이 출력한 결과가 정말 믿을 만한 정보인지 검정하는 방법인 재표본추출 방법에 대하여 배워보겠습니다."
   ]
  },
  {
   "cell_type": "markdown",
   "metadata": {},
   "source": [
    "### 3.1 교차검증\n",
    "교차검증은 모델의 성능을 평가하거나 모델의 유연성을 선택하는데 도움을 줍니다."
   ]
  },
  {
   "cell_type": "code",
   "execution_count": 35,
   "metadata": {},
   "outputs": [],
   "source": [
    "import numpy as np\n",
    "import pandas as pd\n",
    "import matplotlib.pyplot as plt\n",
    "from sklearn.linear_model import LinearRegression\n",
    "from sklearn.model_selection import train_test_split, LeaveOneOut\n",
    "from sklearn.model_selection import cross_val_score, KFold\n",
    "from sklearn.linear_model import LinearRegression\n",
    "plt.rc('font', family='Malgun Gothic') # plt 한글깨짐 방지\n",
    "plt.rcParams['axes.unicode_minus'] = False # plt 마이너스 깨짐 방지"
   ]
  },
  {
   "cell_type": "code",
   "execution_count": 36,
   "metadata": {},
   "outputs": [
    {
     "data": {
      "text/html": [
       "<div>\n",
       "<style scoped>\n",
       "    .dataframe tbody tr th:only-of-type {\n",
       "        vertical-align: middle;\n",
       "    }\n",
       "\n",
       "    .dataframe tbody tr th {\n",
       "        vertical-align: top;\n",
       "    }\n",
       "\n",
       "    .dataframe thead th {\n",
       "        text-align: right;\n",
       "    }\n",
       "</style>\n",
       "<table border=\"1\" class=\"dataframe\">\n",
       "  <thead>\n",
       "    <tr style=\"text-align: right;\">\n",
       "      <th></th>\n",
       "      <th>mpg</th>\n",
       "      <th>cylinders</th>\n",
       "      <th>displacement</th>\n",
       "      <th>horsepower</th>\n",
       "      <th>weight</th>\n",
       "      <th>acceleration</th>\n",
       "      <th>year</th>\n",
       "      <th>origin</th>\n",
       "      <th>name</th>\n",
       "    </tr>\n",
       "  </thead>\n",
       "  <tbody>\n",
       "    <tr>\n",
       "      <th>0</th>\n",
       "      <td>18.0</td>\n",
       "      <td>8</td>\n",
       "      <td>307.0</td>\n",
       "      <td>130</td>\n",
       "      <td>3504</td>\n",
       "      <td>12.0</td>\n",
       "      <td>70</td>\n",
       "      <td>1</td>\n",
       "      <td>chevrolet chevelle malibu</td>\n",
       "    </tr>\n",
       "    <tr>\n",
       "      <th>1</th>\n",
       "      <td>15.0</td>\n",
       "      <td>8</td>\n",
       "      <td>350.0</td>\n",
       "      <td>165</td>\n",
       "      <td>3693</td>\n",
       "      <td>11.5</td>\n",
       "      <td>70</td>\n",
       "      <td>1</td>\n",
       "      <td>buick skylark 320</td>\n",
       "    </tr>\n",
       "    <tr>\n",
       "      <th>2</th>\n",
       "      <td>18.0</td>\n",
       "      <td>8</td>\n",
       "      <td>318.0</td>\n",
       "      <td>150</td>\n",
       "      <td>3436</td>\n",
       "      <td>11.0</td>\n",
       "      <td>70</td>\n",
       "      <td>1</td>\n",
       "      <td>plymouth satellite</td>\n",
       "    </tr>\n",
       "    <tr>\n",
       "      <th>3</th>\n",
       "      <td>16.0</td>\n",
       "      <td>8</td>\n",
       "      <td>304.0</td>\n",
       "      <td>150</td>\n",
       "      <td>3433</td>\n",
       "      <td>12.0</td>\n",
       "      <td>70</td>\n",
       "      <td>1</td>\n",
       "      <td>amc rebel sst</td>\n",
       "    </tr>\n",
       "    <tr>\n",
       "      <th>4</th>\n",
       "      <td>17.0</td>\n",
       "      <td>8</td>\n",
       "      <td>302.0</td>\n",
       "      <td>140</td>\n",
       "      <td>3449</td>\n",
       "      <td>10.5</td>\n",
       "      <td>70</td>\n",
       "      <td>1</td>\n",
       "      <td>ford torino</td>\n",
       "    </tr>\n",
       "  </tbody>\n",
       "</table>\n",
       "</div>"
      ],
      "text/plain": [
       "    mpg  cylinders  displacement horsepower  weight  acceleration  year  \\\n",
       "0  18.0          8         307.0        130    3504          12.0    70   \n",
       "1  15.0          8         350.0        165    3693          11.5    70   \n",
       "2  18.0          8         318.0        150    3436          11.0    70   \n",
       "3  16.0          8         304.0        150    3433          12.0    70   \n",
       "4  17.0          8         302.0        140    3449          10.5    70   \n",
       "\n",
       "   origin                       name  \n",
       "0       1  chevrolet chevelle malibu  \n",
       "1       1          buick skylark 320  \n",
       "2       1         plymouth satellite  \n",
       "3       1              amc rebel sst  \n",
       "4       1                ford torino  "
      ]
     },
     "execution_count": 36,
     "metadata": {},
     "output_type": "execute_result"
    }
   ],
   "source": [
    "data = pd.read_csv(\"./data/Auto.csv\")\n",
    "data = data.loc[data[\"horsepower\"] != \"?\",:].reset_index().drop(columns=[\"index\"])\n",
    "data.head()"
   ]
  },
  {
   "cell_type": "code",
   "execution_count": 37,
   "metadata": {},
   "outputs": [
    {
     "name": "stdout",
     "output_type": "stream",
     "text": [
      "<class 'pandas.core.frame.DataFrame'>\n",
      "RangeIndex: 392 entries, 0 to 391\n",
      "Data columns (total 9 columns):\n",
      " #   Column        Non-Null Count  Dtype  \n",
      "---  ------        --------------  -----  \n",
      " 0   mpg           392 non-null    float64\n",
      " 1   cylinders     392 non-null    int64  \n",
      " 2   displacement  392 non-null    float64\n",
      " 3   horsepower    392 non-null    object \n",
      " 4   weight        392 non-null    int64  \n",
      " 5   acceleration  392 non-null    float64\n",
      " 6   year          392 non-null    int64  \n",
      " 7   origin        392 non-null    int64  \n",
      " 8   name          392 non-null    object \n",
      "dtypes: float64(3), int64(4), object(2)\n",
      "memory usage: 27.7+ KB\n"
     ]
    }
   ],
   "source": [
    "data.info()"
   ]
  },
  {
   "cell_type": "code",
   "execution_count": 39,
   "metadata": {},
   "outputs": [],
   "source": [
    "x = data[\"horsepower\"].to_numpy().astype(np.float32).reshape(-1,1)\n",
    "y = data[\"mpg\"].to_numpy().astype(np.float32).reshape(-1,1)"
   ]
  },
  {
   "cell_type": "markdown",
   "metadata": {},
   "source": [
    "#### 3.1.1 검증셋 기법"
   ]
  },
  {
   "cell_type": "markdown",
   "metadata": {},
   "source": [
    "검증셋 기법은 데이터를 일정 비율로 훈련 데이터와 검증 데이터로 나누는 방식을 의미합니다. 나뉘는 비율은 작성자 마음대로 나눌 수 있지만, 일반적으로 (훈련 8 : 검증 2) 의 비율로 나눕니다.\n",
    "\n",
    "검증셋 기법을 사용하는 이유는 학습 데이터로 훈련을 거친 모델이 출력한 결과가 믿을 만한 결과인지 검증하기 위해서 입니다."
   ]
  },
  {
   "cell_type": "markdown",
   "metadata": {},
   "source": [
    "sklearn에서 제공하는 패키지인 ```train_test_split()```을 사용하여 (훈련 8 : 검증 2)의 비율로 나누겠습니다."
   ]
  },
  {
   "cell_type": "code",
   "execution_count": 41,
   "metadata": {},
   "outputs": [],
   "source": [
    "x_train,x_test,y_train,y_test = train_test_split(x,y,test_size=0.2,random_state=20)"
   ]
  },
  {
   "cell_type": "markdown",
   "metadata": {},
   "source": [
    "선형회귀모델을 적합하는데 전체 데이터의 80%인 훈련 데이터만 모델에 적합시키겠습니다."
   ]
  },
  {
   "cell_type": "code",
   "execution_count": 42,
   "metadata": {},
   "outputs": [
    {
     "data": {
      "text/plain": [
       "LinearRegression()"
      ]
     },
     "execution_count": 42,
     "metadata": {},
     "output_type": "execute_result"
    }
   ],
   "source": [
    "model = LinearRegression()\n",
    "model.fit(x_train,y_train)"
   ]
  },
  {
   "cell_type": "markdown",
   "metadata": {},
   "source": [
    "훈련 데이터에 적합된 모델의 성능을 검증하기 위하여 검증 데이터를 넣어서 확인한 결과 해당 모델은 약 58%의 정확도를 가진다는 것을 알 수 가 있엇습니다."
   ]
  },
  {
   "cell_type": "code",
   "execution_count": 44,
   "metadata": {},
   "outputs": [
    {
     "data": {
      "text/plain": [
       "0.585637657200264"
      ]
     },
     "execution_count": 44,
     "metadata": {},
     "output_type": "execute_result"
    }
   ],
   "source": [
    "model.score(x_test,y_test)"
   ]
  },
  {
   "cell_type": "markdown",
   "metadata": {},
   "source": [
    "다른 검증 방법들과 비교하기 위하여 MSE를 구하겠습니다. 검증셋 기법을 사용하여 나온 모델의 MSE는 아래와 같습니다."
   ]
  },
  {
   "cell_type": "code",
   "execution_count": 46,
   "metadata": {},
   "outputs": [
    {
     "name": "stdout",
     "output_type": "stream",
     "text": [
      "MSE : 26.901 \n"
     ]
    }
   ],
   "source": [
    "mse_1 = np.mean((model.predict(x_test) - y_test) ** 2,axis=0)\n",
    "print(\"MSE : %.3f \" % mse_1[0])"
   ]
  },
  {
   "cell_type": "markdown",
   "metadata": {},
   "source": [
    "#### 3.1.2 LOO(Leave-One-Out) 교차검증"
   ]
  },
  {
   "cell_type": "markdown",
   "metadata": {},
   "source": [
    "LOO 교차 검증은 이전에 검증셋 기법과 비슷하지만 훈련 데이터의 개수와 검증 데이터의 개수가 다릅니다. 검증 셋 기법의 경우 훈련 데이터와 검증 데이터를 일정 비율로 나누지만 LOO 교차 검증은 검증 데이터를 1개로 두고 남은 데이터를 훈련 데이터로 하여 모델을 적합하는데 아래의 그림과 같이 21번의 모델을 적합시킵니다. 각각의 모델들은 훈련 데이터에 과대적합되어진 좋지 않은 모델이지만 각 모델들의 결과에 평균을 사용하여 과대적합을 방지하고 성능이 더 좋아진 모델이 만들어 집니다."
   ]
  },
  {
   "cell_type": "markdown",
   "metadata": {},
   "source": [
    "<img src=\"https://imgur.com/pp8qHxK.jpg\">"
   ]
  },
  {
   "cell_type": "markdown",
   "metadata": {},
   "source": [
    "sklearn 패키지에서 지원하는 ```LeaveOneOut()```함수를 사용하여 LOO 교차검증 방법을 적용해보겠습니다."
   ]
  },
  {
   "cell_type": "code",
   "execution_count": 52,
   "metadata": {},
   "outputs": [],
   "source": [
    "cv = LeaveOneOut()\n",
    "# enumerate splits\n",
    "y_true, y_pred = list(), list()\n",
    "for train_ix, test_ix in cv.split(x):\n",
    "    # split data\n",
    "    x_train, x_test = x[train_ix, :], x[test_ix, :]\n",
    "    y_train, y_test = y[train_ix], y[test_ix]\n",
    "    # fit model\n",
    "    model = LinearRegression()\n",
    "    model.fit(x_train,y_train)\n",
    "    # evaluate model\n",
    "    yhat = model.predict(x_test)\n",
    "    # store\n",
    "    y_true.append(y_test[0])\n",
    "    y_pred.append(yhat[0])\n",
    "\n",
    "int_y_true = np.concatenate([i.astype(np.int32)for i in y_true],axis=0).reshape(-1,1)\n",
    "int_y_pred = np.concatenate([j.astype(np.int32)for j in y_pred],axis=0).reshape(-1,1)"
   ]
  },
  {
   "cell_type": "code",
   "execution_count": 53,
   "metadata": {},
   "outputs": [
    {
     "name": "stdout",
     "output_type": "stream",
     "text": [
      "LOO 추정치 : 24.012755102040817\n"
     ]
    }
   ],
   "source": [
    "mse_i = (int_y_pred - int_y_true)**2\n",
    "cv = np.mean(mse_i ,axis=0)\n",
    "print(\"LOO 교차검증이 적용된 평균 MSE : {}\".format(cv[0]))"
   ]
  },
  {
   "cell_type": "markdown",
   "metadata": {},
   "source": [
    "#### 3.1.3 k-fold 교차검증"
   ]
  },
  {
   "cell_type": "markdown",
   "metadata": {},
   "source": [
    "k-fold 교차검증은 LOO 교차검증과 다르게 검증 데이터의 개수가 더 많습니다. 예를 들어서 아래의 GIF파일과 같이 총 40개의 데이터가 있을 때 이를 4 - fold 교차 검증을 하면 4등분이 된 데이터가 순차적으로 10개의 검증 데이터와 30개의 훈련 데이터로 모델을 적합시키게 됩니다. 그 결과 4개의 모델의 MSE를 구하여 평균을 매기면 K-fold 교차검증 이 적용된 모델의 MSE가 나오게 됩니다."
   ]
  },
  {
   "cell_type": "markdown",
   "metadata": {},
   "source": [
    "![Alt Text](https://imgur.com/IDvJHNE.gif)"
   ]
  },
  {
   "cell_type": "code",
   "execution_count": 132,
   "metadata": {},
   "outputs": [],
   "source": [
    "kf = KFold(n_splits=4)\n",
    "# enumerate splits\n",
    "y_true, y_pred = list(), list()\n",
    "for train_ix, test_ix in kf.split(x):\n",
    "    # split data\n",
    "    x_train, x_test = x[train_ix, :], x[test_ix, :]\n",
    "    y_train, y_test = y[train_ix], y[test_ix]\n",
    "    # fit model\n",
    "    model = LinearRegression()\n",
    "    model.fit(x_train,y_train)\n",
    "    # evaluate model\n",
    "    yhat = model.predict(x_test)\n",
    "    # store\n",
    "    y_true.append(y_test)\n",
    "    y_pred.append(yhat)"
   ]
  },
  {
   "cell_type": "code",
   "execution_count": 133,
   "metadata": {},
   "outputs": [
    {
     "name": "stdout",
     "output_type": "stream",
     "text": [
      "MSE_0 : [27.62368]\n",
      "MSE_1 : [27.969906]\n",
      "MSE_2 : [16.484219]\n",
      "MSE_3 : [71.446785]\n",
      "k-fold 추정치 : 35.88114929199219\n"
     ]
    }
   ],
   "source": [
    "mse = []\n",
    "for i in range(len(y_true)):\n",
    "    mse_i = np.mean(((y_true[i] - y_pred[i]) ** 2),axis=0)\n",
    "    mse.append(mse_i)\n",
    "    print(\"MSE_{} : {}\".format(i,mse_i))\n",
    "mse = np.array(mse)\n",
    "print(\"k-fold 추정치 : {}\".format(np.mean(mse)))"
   ]
  },
  {
   "cell_type": "markdown",
   "metadata": {},
   "source": [
    "### 3.2 붓스트랩\n",
    "붓스트랩은 모집단에서 추출한 표본을 다시 추출하여 붓스트랩 데이터를 만들어 표본의 분포와 표본의 대표성을 검증하는 역할을 하게 됩니다. 붓스트랩이 교차검증과 다른점은 붓스트랩은 중복이 허용된 반복추출을 한다는 점이 있습니다."
   ]
  },
  {
   "cell_type": "markdown",
   "metadata": {},
   "source": [
    "<img src=\"https://imgur.com/F3US8S2.jpg\">"
   ]
  },
  {
   "cell_type": "markdown",
   "metadata": {},
   "source": [
    "붓스트랩이 사용되는 경우\n",
    "- 붓스트랩은 표본에서 나온 단일 통계치의 신뢰구간을 알고 싶거나 확률변수의 정확한 분포를 모르는 경우 측정된 통계치의 신뢰도를 가늠하기 위해서 사용됩니다. \n",
    "- 단순히 표본의 개수가 부족한 경우에도 사용이 됩니다.\n",
    "- 훈련 데이터셋의 데이터 분포가 고르지 않은 경우에도 사용이 됩니다.\n",
    "- 파라미터 추정의 정확도 또는 주어진 모델의 정확도를 측정하는데 활용됩니다. \n",
    "\n",
    "일반적으로 모집단으로 부터 얻은 표본들로 통계량을 구할 수가 있습니다 예를 들어 한국 남자의 평균 신장을 알고자 하는데 실제로는 모든 한국 남자의 신장을 측정할 수 없으니 일부(N명)을 추출하여 측정하였습니다. 여기서 우리는 N명의 평균 신장을 구할 수 있습니다. 하지만 이 N명의 평균 신장이 정말로 한국 남자 전체의 평균 신장을 대표할 수 있을까요? 이 N명으로 구한 평균 신장이 얼마나 믿을 만한 수치인지 알기 위해서는 표준 오차나 신뢰구간을 구해야 합니다. "
   ]
  },
  {
   "cell_type": "markdown",
   "metadata": {},
   "source": [
    "#### 3.2.1 통계량의 정확도 추정"
   ]
  },
  {
   "cell_type": "markdown",
   "metadata": {},
   "source": [
    "비교하고자 하는 통계량을 정확도를 추정하기 위하여 500개의 임의의 난수를 모집단이라고 하고 500개의 모집단에서 300개의 표본을 중복없이 추출하겠습니다. 붓스트랩 표본으로는 500개의 모집단에서 300개의 표본을 중복을 허용하여 1000번 추출하였을 때의 평균을 구하겠습니다. 구한 결과 단일 표본의 통계량 보다 붓스트랩 표본의 통계량이 모수에 더 가깝게 나왔습니다."
   ]
  },
  {
   "cell_type": "code",
   "execution_count": 22,
   "metadata": {},
   "outputs": [
    {
     "name": "stdout",
     "output_type": "stream",
     "text": [
      "모집단 평균 : 249.869\n",
      "단일 표본 평균 : 250.44\n",
      "붓스트랩 평균 : 249.96040233333335\n"
     ]
    }
   ],
   "source": [
    "# 모집단 500개\n",
    "pop = np.random.randint(0,500 , size=1000)\n",
    "# 표본 300개\n",
    "sample = np.random.choice(pop, size=300) #so n=300\n",
    "\n",
    "sample_mean = []\n",
    "bootstrap_sample = []\n",
    "# 붓스트랩 표본 10000개\n",
    "for _ in range(10000):  #so B=10000\n",
    "    sample_n = np.random.choice(pop, size=300,replace = True)\n",
    "    sample_mean.append(sample_n.mean())\n",
    "\n",
    "\n",
    "print(\"모집단 평균 : {}\".format(np.mean(pop)))\n",
    "print(\"단일 표본 평균 : {}\".format(np.mean(sample)))\n",
    "print(\"붓스트랩 평균 : {}\".format(np.mean(sample_mean)))"
   ]
  },
  {
   "cell_type": "markdown",
   "metadata": {},
   "source": [
    "모집단의 평균과 붓스트랩의 평균이 유사하게 나왔습니다. 그렇다면 데이터의 분포도 유사한지 확인하기 위하여 히스토그램을 그려서 비교하겠습니다."
   ]
  },
  {
   "cell_type": "code",
   "execution_count": 16,
   "metadata": {},
   "outputs": [
    {
     "data": {
      "image/png": "[encoded data removed]",
      "text/plain": [
       "<Figure size 720x216 with 3 Axes>"
      ]
     },
     "metadata": {
      "needs_background": "light"
     },
     "output_type": "display_data"
    }
   ],
   "source": [
    "fig, ax = plt.subplots(1,3,figsize=(10,3))\n",
    "ax[0].hist(pop)\n",
    "ax[0].set_title(\"모집단의 데이터 분포\")\n",
    "ax[1].hist(sample)\n",
    "ax[1].set_title(\"표본의 데이터 분포\")\n",
    "ax[2].hist(sample_n)\n",
    "ax[2].set_title(\"붓스트랩의 데이터 분포\")\n",
    "plt.show()"
   ]
  },
  {
   "cell_type": "markdown",
   "metadata": {},
   "source": [
    "모집단의 평균과 붓스트랩 표본의 통계량은 유사하였지만 데이터 분포는 단일 표본의 분포와 더 유사하게 나왔습니다. "
   ]
  },
  {
   "cell_type": "markdown",
   "metadata": {},
   "source": [
    "#### 3.2.2 모델의 정확도 추정"
   ]
  },
  {
   "cell_type": "markdown",
   "metadata": {},
   "source": [
    "교차검증에서 사용한 데이터로 단순선형회귀모델을 만들어서 모집단으로 만든 모델, 단일 표본으로 만든 모델, 붓스트랩 표본으로 만들어진 모델들의 MSE를 비교하여 모델의 정확도를 추정하여 보겠습니다."
   ]
  },
  {
   "cell_type": "code",
   "execution_count": 26,
   "metadata": {},
   "outputs": [
    {
     "name": "stdout",
     "output_type": "stream",
     "text": [
      "392개 모집단 회귀모델의 MSE : 23.943660736083984\n"
     ]
    }
   ],
   "source": [
    "x = data[\"horsepower\"].to_numpy().astype(np.float32).reshape(-1,1)\n",
    "y = data[\"mpg\"].to_numpy().astype(np.float32).reshape(-1,1)\n",
    "\n",
    "model = LinearRegression()\n",
    "model.fit(x,y)\n",
    "y_pred = model.predict(x)\n",
    "pop_mse = np.mean((y - y_pred)**2,axis=0)[0]\n",
    "print(\"392개 모집단 회귀모델의 MSE : {}\".format(pop_mse))"
   ]
  },
  {
   "cell_type": "code",
   "execution_count": 32,
   "metadata": {},
   "outputs": [
    {
     "name": "stdout",
     "output_type": "stream",
     "text": [
      "100개 표본 회귀모델의 MSE : 20.868268966674805\n"
     ]
    }
   ],
   "source": [
    "indices = np.random.choice(len(data),100,replace=False)\n",
    "sample = data.iloc[indices,:].reset_index().drop(columns=[\"index\"])\n",
    "\n",
    "x = sample[\"horsepower\"].to_numpy().astype(np.float32).reshape(-1,1)\n",
    "y = sample[\"mpg\"].to_numpy().astype(np.float32).reshape(-1,1)\n",
    "\n",
    "model = LinearRegression()\n",
    "model.fit(x,y)\n",
    "y_pred = model.predict(x)\n",
    "sample_mse = np.mean((y - y_pred)**2,axis=0)[0]\n",
    "print(\"100개 표본 회귀모델의 MSE : {}\".format(sample_mse))"
   ]
  },
  {
   "cell_type": "code",
   "execution_count": 33,
   "metadata": {},
   "outputs": [
    {
     "name": "stdout",
     "output_type": "stream",
     "text": [
      "1000개 붓스트랩 회귀모델의 평균 MSE : 23.339004516601562\n"
     ]
    }
   ],
   "source": [
    "bootstrap_mse = []\n",
    "for _ in range(1000):\n",
    "    indices = np.random.choice(len(data),100,replace=True)\n",
    "    bootstrap = data.iloc[indices,:].reset_index().drop(columns=[\"index\"])\n",
    "    \n",
    "    x = bootstrap[\"horsepower\"].to_numpy().astype(np.float32).reshape(-1,1)\n",
    "    y = bootstrap[\"mpg\"].to_numpy().astype(np.float32).reshape(-1,1)\n",
    "    \n",
    "    model = LinearRegression()\n",
    "    model.fit(x,y)\n",
    "    y_pred = model.predict(x)\n",
    "    mse = np.mean((y - y_pred)**2,axis=0)[0]\n",
    "    bootstrap_mse.append(mse)\n",
    "    \n",
    "bootstrap_mse = np.array(bootstrap_mse).mean(axis=0)\n",
    "print(\"1000개 붓스트랩 회귀모델의 평균 MSE : {}\".format(bootstrap_mse))"
   ]
  },
  {
   "cell_type": "markdown",
   "metadata": {},
   "source": [
    "1000개의 붓스트랩 회귀모델의 평균 MSE가 모집단 회귀모델의 MSE와 굉장히 유사하기에 단일 표본 회귀모델보다 잘 적합되었다고 볼 수 있습니다."
   ]
  }
 ],
 "metadata": {
  "kernelspec": {
   "display_name": "Python 3",
   "language": "python",
   "name": "python3"
  },
  "language_info": {
   "codemirror_mode": {
    "name": "ipython",
    "version": 3
   },
   "file_extension": ".py",
   "mimetype": "text/x-python",
   "name": "python",
   "nbconvert_exporter": "python",
   "pygments_lexer": "ipython3",
   "version": "3.8.3"
  }
 },
 "nbformat": 4,
 "nbformat_minor": 4
}
