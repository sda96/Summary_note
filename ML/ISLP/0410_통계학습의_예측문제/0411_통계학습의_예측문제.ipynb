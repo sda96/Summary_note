{
 "cells": [
  {
   "cell_type": "markdown",
   "metadata": {
    "id": "k044VcaRzl1P"
   },
   "source": [
    "# 4. 통계학습 코스 1 : ISLP"
   ]
  },
  {
   "cell_type": "markdown",
   "metadata": {
    "id": "YrlQ57TTIAgI"
   },
   "source": [
    "## 통계학습 코스 1 : ISLP 강의 전체 목차  \n",
    "해당 강의의 토픽은 아래와 같이 진행하겠습니다.\n",
    "\n",
    "intro  \n",
    "- 통계학습이란\n",
    "\n",
    "1부 - 모수적 방법을 사용한 모델\n",
    "- 선형 회귀 모델 \n",
    "- 로지스틱 회귀 모델과 판별 분석 모델\n",
    "- 회귀 모델 성능 개선 방법\n",
    "- 회귀 모델 성능 타당성 검정 방법\n",
    "\n",
    "2부 - 비모수적 방법을 사용한 모델\n",
    "- 선형성을 넘어서\n",
    "- 트리기반의 모델\n",
    "- 서포트 벡터 머신 모델\n",
    "- 비지도 학습 모델"
   ]
  },
  {
   "cell_type": "markdown",
   "metadata": {
    "id": "y6T1qM8zNtXG"
   },
   "source": [
    "## intro"
   ]
  },
  {
   "cell_type": "markdown",
   "metadata": {
    "id": "xwe__LslI6YN"
   },
   "source": [
    "### 기계학습과 통계학습\n",
    "<img src = 'https://imgur.com/edUP8UV.jpg' width=400 height=500 />"
   ]
  },
  {
   "cell_type": "markdown",
   "metadata": {
    "id": "vGzQtFZyRFt4"
   },
   "source": [
    "### 통계학습을 배워야 하는 이유\n",
    "1. 통계학습을 학습함으로써 모델의 이해도를 높이고 모델을 보다 효율적으로 활용이 가능해집니다.  \n",
    "\n",
    "\n",
    "2. 모델에 대한 이해도가 높아지면 데이터 상황에 맞는 모델을 적재적소에 사용하는 능력이 길러지게 됩니다.\n",
    "\n",
    "\n",
    "3. 모델의 결과로 나온 정확도가 정말 믿을 만한 척도인가에 대한 평가를 하여 모델의 신뢰성에 대한 의구심을 해결시켜 줍니다.  "
   ]
  },
  {
   "cell_type": "markdown",
   "metadata": {
    "id": "GXFTD3_wRduU"
   },
   "source": [
    "### 통계학습의 개요\n",
    "\n",
    "\n",
    "- 통계학습은 입력변수를 활용하여 출력변수를 정확하게 예측이나 분류문제를 해결하는 모델을 만드는 것 입니다.\n",
    "\n",
    "\n",
    "- 통계학습 모델이 이루는 구성요소는 입력변수와 출력변수 그리고 랜덤 오차항이 있습니다.\n",
    "\n",
    "\n",
    "- 아래의 그림에서 가장 정확한 모델 𝑓를 구하는 것이 목표 입니다\n",
    "\n",
    "\n",
    "<img src = 'https://imgur.com/WiLjVOe.jpg' width=400 height=500 />"
   ]
  },
  {
   "cell_type": "markdown",
   "metadata": {},
   "source": [
    "### 모수적 방법과 비모수적 방법\n",
    "- 가장 정확한 모델 𝑓를 구하는 방법으로는 모수적 방법과 비모수적 방법이 있습니다.\n",
    "\n",
    "\n",
    "- 모수적 방법은 모델 𝑓를 특정 모델이라고 가정하여 모수를 추정하는 방법입니다.\n",
    "\n",
    "\n",
    "- 비모수적 방법은 모델 𝑓를 특정 모델이라고 가정하지 않고 모수를 추정하는 방법입니다."
   ]
  },
  {
   "cell_type": "markdown",
   "metadata": {
    "id": "plUlvz7VRvx9"
   },
   "source": [
    "### 통계학습의 분류 - 모수적 방법\n",
    "\n",
    "모수적 방법의 특징\n",
    "- 선택한 특정 가정을 가진 모델이 모델 𝑓와 적합하지 않는 경우가 있음\n",
    "\n",
    "\n",
    "- 데이터의 개수가 적을 수록 신뢰성이 떨어짐  \n",
    "\n",
    "<img src = 'https://imgur.com/bC9w7FE.jpg' width=600 height=500 />"
   ]
  },
  {
   "cell_type": "markdown",
   "metadata": {
    "id": "D3e1_73LRv1l"
   },
   "source": [
    "### 통계학습의 분류 - 비모수적 방법\n",
    "\n",
    "비모수적 방법의 특징\n",
    "- 모수적 방법에 비해서 모델 𝑓의 형태를 적합되어질 가능성이 높음\n",
    "\n",
    "\n",
    "- 모수적 방법에 비해서 훨씬 많은 데이터가 요구되어짐\n",
    "\n",
    "\n",
    "<img src = 'https://imgur.com/7tWs14a.jpg' width=600 height=500 />"
   ]
  },
  {
   "cell_type": "markdown",
   "metadata": {
    "id": "vE8NNEVxRv6u"
   },
   "source": [
    "### 모수적 방법을 쓰는 이유\n",
    "\n",
    "- 비모수적 방법에 이용되는 유연한 모델들은 𝑓를 추정하는데 매우 복잡하게 되어 입력변수와 출력변수의 관계를 해석하기 어렵습니다.\n",
    "\n",
    "\n",
    "- 너무 유연한 모델을 사용하게 되면 모델의 파라미터 수가 많아지고 모델이 복잡해지기 때문에 과적합의 문제를 초래 할 수 있습니다.\n",
    "\n",
    "\n",
    "- 너무 유연한 모델은 파라미터 수에 따라서 차원이 증가하게 되는데 차원이 증가할 수록 개별 차원 내 학습할 데이터 수가 적어지는 현상으로 모델의 성능이 저하 될 수 있습니다.\n",
    "\n",
    "\n",
    "<img src = 'https://imgur.com/8K23LGq.jpg' width=600 height=500 />"
   ]
  },
  {
   "cell_type": "markdown",
   "metadata": {
    "id": "6RfwhlnxTS9_"
   },
   "source": [
    "## 1. 선형회귀모델"
   ]
  },
  {
   "cell_type": "markdown",
   "metadata": {
    "id": "OQ4W3FO5fS9H"
   },
   "source": [
    "intro에서 모수적 방법을 사용하는 이유에 대하여 알아보았으니 이제 모수적 방법을 사용한 가장 기본적인 모델인 회귀모델에 대하여 알아보겠습니다."
   ]
  },
  {
   "cell_type": "markdown",
   "metadata": {
    "id": "qS2tR_ZYT4xW"
   },
   "source": [
    "### 1.1 단순선형회귀모델 [참고사이트](http://hleecaster.com/ml-linear-regression-example/)\n",
    "단순선형회귀모델은 회귀모델의 가장 기본적인 형태로 1개의 연속형 입력변수로 1개의 연속형 출력변수를 예측하는 모델입니다. 식으로 표현하자면\n",
    "$$\\hat{y_i} = b_0 + b_1x_1 + \\epsilon,    \\epsilon \\sim N(0,\\sigma^2)$$\n",
    "\n",
    "위의 식에서 $b_0$와$b_1$은 추정해야하는 모수이고 뒤에 오차항($\\epsilon$)의 가정 부분은 해당 모델은 정규분포를 따르기 때문에 모수적 방법을 이용한다는 의미입니다."
   ]
  },
  {
   "cell_type": "markdown",
   "metadata": {},
   "source": [
    "#### 1.1.1 데이터의 구조파악"
   ]
  },
  {
   "cell_type": "markdown",
   "metadata": {},
   "source": [
    "Boston 데이터를 활용하여 출력변수 medv를 예측하는 단순선형회귀모델을 실습해보겠습니다."
   ]
  },
  {
   "cell_type": "code",
   "execution_count": 183,
   "metadata": {
    "id": "UkOMUDYIXbaY"
   },
   "outputs": [],
   "source": [
    "import pandas as pd\n",
    "import numpy as np\n",
    "import matplotlib.pyplot as plt\n",
    "%matplotlib inline  \n",
    "import seaborn as sns    \n",
    "from sklearn.linear_model import LinearRegression\n",
    "import statsmodels.api as sm\n",
    "from sklearn.metrics import mean_squared_error\n",
    "from statsmodels.sandbox.regression.predstd import wls_prediction_std\n",
    "from sklearn.preprocessing import PolynomialFeatures\n",
    "from statsmodels.formula.api import ols\n",
    "import scipy.stats"
   ]
  },
  {
   "cell_type": "markdown",
   "metadata": {},
   "source": [
    "분석할 데이터인 Boston 자료를 불러오고 데이터의 형태를 보겠습니다."
   ]
  },
  {
   "cell_type": "code",
   "execution_count": 3,
   "metadata": {
    "colab": {
     "base_uri": "https://localhost:8080/",
     "height": 419
    },
    "executionInfo": {
     "elapsed": 1007,
     "status": "ok",
     "timestamp": 1604883104360,
     "user": {
      "displayName": "박창현",
      "photoUrl": "",
      "userId": "11960134067794952674"
     },
     "user_tz": -540
    },
    "id": "jDk94rcrX3Qg",
    "outputId": "1de14059-8c3d-4ad5-87fb-62358e6c111f"
   },
   "outputs": [
    {
     "data": {
      "text/html": [
       "<div>\n",
       "<style scoped>\n",
       "    .dataframe tbody tr th:only-of-type {\n",
       "        vertical-align: middle;\n",
       "    }\n",
       "\n",
       "    .dataframe tbody tr th {\n",
       "        vertical-align: top;\n",
       "    }\n",
       "\n",
       "    .dataframe thead th {\n",
       "        text-align: right;\n",
       "    }\n",
       "</style>\n",
       "<table border=\"1\" class=\"dataframe\">\n",
       "  <thead>\n",
       "    <tr style=\"text-align: right;\">\n",
       "      <th></th>\n",
       "      <th>crim</th>\n",
       "      <th>zn</th>\n",
       "      <th>indus</th>\n",
       "      <th>chas</th>\n",
       "      <th>nox</th>\n",
       "      <th>rm</th>\n",
       "      <th>age</th>\n",
       "      <th>dis</th>\n",
       "      <th>rad</th>\n",
       "      <th>tax</th>\n",
       "      <th>ptratio</th>\n",
       "      <th>black</th>\n",
       "      <th>lstat</th>\n",
       "      <th>medv</th>\n",
       "    </tr>\n",
       "  </thead>\n",
       "  <tbody>\n",
       "    <tr>\n",
       "      <th>0</th>\n",
       "      <td>0.00632</td>\n",
       "      <td>18.0</td>\n",
       "      <td>2.31</td>\n",
       "      <td>0</td>\n",
       "      <td>0.538</td>\n",
       "      <td>6.575</td>\n",
       "      <td>65.2</td>\n",
       "      <td>4.0900</td>\n",
       "      <td>1</td>\n",
       "      <td>296</td>\n",
       "      <td>15.3</td>\n",
       "      <td>396.90</td>\n",
       "      <td>4.98</td>\n",
       "      <td>24.0</td>\n",
       "    </tr>\n",
       "    <tr>\n",
       "      <th>1</th>\n",
       "      <td>0.02731</td>\n",
       "      <td>0.0</td>\n",
       "      <td>7.07</td>\n",
       "      <td>0</td>\n",
       "      <td>0.469</td>\n",
       "      <td>6.421</td>\n",
       "      <td>78.9</td>\n",
       "      <td>4.9671</td>\n",
       "      <td>2</td>\n",
       "      <td>242</td>\n",
       "      <td>17.8</td>\n",
       "      <td>396.90</td>\n",
       "      <td>9.14</td>\n",
       "      <td>21.6</td>\n",
       "    </tr>\n",
       "    <tr>\n",
       "      <th>2</th>\n",
       "      <td>0.02729</td>\n",
       "      <td>0.0</td>\n",
       "      <td>7.07</td>\n",
       "      <td>0</td>\n",
       "      <td>0.469</td>\n",
       "      <td>7.185</td>\n",
       "      <td>61.1</td>\n",
       "      <td>4.9671</td>\n",
       "      <td>2</td>\n",
       "      <td>242</td>\n",
       "      <td>17.8</td>\n",
       "      <td>392.83</td>\n",
       "      <td>4.03</td>\n",
       "      <td>34.7</td>\n",
       "    </tr>\n",
       "    <tr>\n",
       "      <th>3</th>\n",
       "      <td>0.03237</td>\n",
       "      <td>0.0</td>\n",
       "      <td>2.18</td>\n",
       "      <td>0</td>\n",
       "      <td>0.458</td>\n",
       "      <td>6.998</td>\n",
       "      <td>45.8</td>\n",
       "      <td>6.0622</td>\n",
       "      <td>3</td>\n",
       "      <td>222</td>\n",
       "      <td>18.7</td>\n",
       "      <td>394.63</td>\n",
       "      <td>2.94</td>\n",
       "      <td>33.4</td>\n",
       "    </tr>\n",
       "    <tr>\n",
       "      <th>4</th>\n",
       "      <td>0.06905</td>\n",
       "      <td>0.0</td>\n",
       "      <td>2.18</td>\n",
       "      <td>0</td>\n",
       "      <td>0.458</td>\n",
       "      <td>7.147</td>\n",
       "      <td>54.2</td>\n",
       "      <td>6.0622</td>\n",
       "      <td>3</td>\n",
       "      <td>222</td>\n",
       "      <td>18.7</td>\n",
       "      <td>396.90</td>\n",
       "      <td>5.33</td>\n",
       "      <td>36.2</td>\n",
       "    </tr>\n",
       "    <tr>\n",
       "      <th>...</th>\n",
       "      <td>...</td>\n",
       "      <td>...</td>\n",
       "      <td>...</td>\n",
       "      <td>...</td>\n",
       "      <td>...</td>\n",
       "      <td>...</td>\n",
       "      <td>...</td>\n",
       "      <td>...</td>\n",
       "      <td>...</td>\n",
       "      <td>...</td>\n",
       "      <td>...</td>\n",
       "      <td>...</td>\n",
       "      <td>...</td>\n",
       "      <td>...</td>\n",
       "    </tr>\n",
       "    <tr>\n",
       "      <th>501</th>\n",
       "      <td>0.06263</td>\n",
       "      <td>0.0</td>\n",
       "      <td>11.93</td>\n",
       "      <td>0</td>\n",
       "      <td>0.573</td>\n",
       "      <td>6.593</td>\n",
       "      <td>69.1</td>\n",
       "      <td>2.4786</td>\n",
       "      <td>1</td>\n",
       "      <td>273</td>\n",
       "      <td>21.0</td>\n",
       "      <td>391.99</td>\n",
       "      <td>9.67</td>\n",
       "      <td>22.4</td>\n",
       "    </tr>\n",
       "    <tr>\n",
       "      <th>502</th>\n",
       "      <td>0.04527</td>\n",
       "      <td>0.0</td>\n",
       "      <td>11.93</td>\n",
       "      <td>0</td>\n",
       "      <td>0.573</td>\n",
       "      <td>6.120</td>\n",
       "      <td>76.7</td>\n",
       "      <td>2.2875</td>\n",
       "      <td>1</td>\n",
       "      <td>273</td>\n",
       "      <td>21.0</td>\n",
       "      <td>396.90</td>\n",
       "      <td>9.08</td>\n",
       "      <td>20.6</td>\n",
       "    </tr>\n",
       "    <tr>\n",
       "      <th>503</th>\n",
       "      <td>0.06076</td>\n",
       "      <td>0.0</td>\n",
       "      <td>11.93</td>\n",
       "      <td>0</td>\n",
       "      <td>0.573</td>\n",
       "      <td>6.976</td>\n",
       "      <td>91.0</td>\n",
       "      <td>2.1675</td>\n",
       "      <td>1</td>\n",
       "      <td>273</td>\n",
       "      <td>21.0</td>\n",
       "      <td>396.90</td>\n",
       "      <td>5.64</td>\n",
       "      <td>23.9</td>\n",
       "    </tr>\n",
       "    <tr>\n",
       "      <th>504</th>\n",
       "      <td>0.10959</td>\n",
       "      <td>0.0</td>\n",
       "      <td>11.93</td>\n",
       "      <td>0</td>\n",
       "      <td>0.573</td>\n",
       "      <td>6.794</td>\n",
       "      <td>89.3</td>\n",
       "      <td>2.3889</td>\n",
       "      <td>1</td>\n",
       "      <td>273</td>\n",
       "      <td>21.0</td>\n",
       "      <td>393.45</td>\n",
       "      <td>6.48</td>\n",
       "      <td>22.0</td>\n",
       "    </tr>\n",
       "    <tr>\n",
       "      <th>505</th>\n",
       "      <td>0.04741</td>\n",
       "      <td>0.0</td>\n",
       "      <td>11.93</td>\n",
       "      <td>0</td>\n",
       "      <td>0.573</td>\n",
       "      <td>6.030</td>\n",
       "      <td>80.8</td>\n",
       "      <td>2.5050</td>\n",
       "      <td>1</td>\n",
       "      <td>273</td>\n",
       "      <td>21.0</td>\n",
       "      <td>396.90</td>\n",
       "      <td>7.88</td>\n",
       "      <td>11.9</td>\n",
       "    </tr>\n",
       "  </tbody>\n",
       "</table>\n",
       "<p>506 rows × 14 columns</p>\n",
       "</div>"
      ],
      "text/plain": [
       "        crim    zn  indus  chas    nox     rm   age     dis  rad  tax  \\\n",
       "0    0.00632  18.0   2.31     0  0.538  6.575  65.2  4.0900    1  296   \n",
       "1    0.02731   0.0   7.07     0  0.469  6.421  78.9  4.9671    2  242   \n",
       "2    0.02729   0.0   7.07     0  0.469  7.185  61.1  4.9671    2  242   \n",
       "3    0.03237   0.0   2.18     0  0.458  6.998  45.8  6.0622    3  222   \n",
       "4    0.06905   0.0   2.18     0  0.458  7.147  54.2  6.0622    3  222   \n",
       "..       ...   ...    ...   ...    ...    ...   ...     ...  ...  ...   \n",
       "501  0.06263   0.0  11.93     0  0.573  6.593  69.1  2.4786    1  273   \n",
       "502  0.04527   0.0  11.93     0  0.573  6.120  76.7  2.2875    1  273   \n",
       "503  0.06076   0.0  11.93     0  0.573  6.976  91.0  2.1675    1  273   \n",
       "504  0.10959   0.0  11.93     0  0.573  6.794  89.3  2.3889    1  273   \n",
       "505  0.04741   0.0  11.93     0  0.573  6.030  80.8  2.5050    1  273   \n",
       "\n",
       "     ptratio   black  lstat  medv  \n",
       "0       15.3  396.90   4.98  24.0  \n",
       "1       17.8  396.90   9.14  21.6  \n",
       "2       17.8  392.83   4.03  34.7  \n",
       "3       18.7  394.63   2.94  33.4  \n",
       "4       18.7  396.90   5.33  36.2  \n",
       "..       ...     ...    ...   ...  \n",
       "501     21.0  391.99   9.67  22.4  \n",
       "502     21.0  396.90   9.08  20.6  \n",
       "503     21.0  396.90   5.64  23.9  \n",
       "504     21.0  393.45   6.48  22.0  \n",
       "505     21.0  396.90   7.88  11.9  \n",
       "\n",
       "[506 rows x 14 columns]"
      ]
     },
     "execution_count": 3,
     "metadata": {},
     "output_type": "execute_result"
    }
   ],
   "source": [
    "data = pd.read_csv(\"./data/Boston.csv\")\n",
    "data"
   ]
  },
  {
   "cell_type": "markdown",
   "metadata": {},
   "source": [
    "데이터의 각 변수별 데이터 타입과 결측값을 확인하면 11개의 실수형 변수와 3개의 정수형 변수가 존재한다는 것을 알 수가 있었습니다."
   ]
  },
  {
   "cell_type": "code",
   "execution_count": 4,
   "metadata": {
    "colab": {
     "base_uri": "https://localhost:8080/"
    },
    "executionInfo": {
     "elapsed": 1007,
     "status": "ok",
     "timestamp": 1604883281226,
     "user": {
      "displayName": "박창현",
      "photoUrl": "",
      "userId": "11960134067794952674"
     },
     "user_tz": -540
    },
    "id": "TQM2Ev1tfvKZ",
    "outputId": "1216ad77-5d82-438e-cc0a-4eeae5182384"
   },
   "outputs": [
    {
     "name": "stdout",
     "output_type": "stream",
     "text": [
      "<class 'pandas.core.frame.DataFrame'>\n",
      "RangeIndex: 506 entries, 0 to 505\n",
      "Data columns (total 14 columns):\n",
      " #   Column   Non-Null Count  Dtype  \n",
      "---  ------   --------------  -----  \n",
      " 0   crim     506 non-null    float64\n",
      " 1   zn       506 non-null    float64\n",
      " 2   indus    506 non-null    float64\n",
      " 3   chas     506 non-null    int64  \n",
      " 4   nox      506 non-null    float64\n",
      " 5   rm       506 non-null    float64\n",
      " 6   age      506 non-null    float64\n",
      " 7   dis      506 non-null    float64\n",
      " 8   rad      506 non-null    int64  \n",
      " 9   tax      506 non-null    int64  \n",
      " 10  ptratio  506 non-null    float64\n",
      " 11  black    506 non-null    float64\n",
      " 12  lstat    506 non-null    float64\n",
      " 13  medv     506 non-null    float64\n",
      "dtypes: float64(11), int64(3)\n",
      "memory usage: 55.5 KB\n"
     ]
    }
   ],
   "source": [
    "data.info()"
   ]
  },
  {
   "cell_type": "markdown",
   "metadata": {},
   "source": [
    "#### 1.1.2 상관분석"
   ]
  },
  {
   "cell_type": "markdown",
   "metadata": {},
   "source": [
    "앞서 데이터의 구조와 형태를 파악했으니 이제 출력변수인 medv와 관련성이 높다고 판단되는 입력변수를 상관분석을 통하여 선택하겠습니다. "
   ]
  },
  {
   "cell_type": "markdown",
   "metadata": {},
   "source": [
    "상관분석은 변수간의 상관관계를 파악하는 분석으로 상관계수가 0에 가까울 수록 관련성이 낮고 절대값 1 에 가까우면 관련성이 높다고 파악할 수 있습니다. 상관계수를 구하는 식은 아래와 같습니다.$$r = {cov(x,y) \\over \\sqrt{var(x)var(y)}}, \\quad -1< r < 1$$여기서 $cov(x,y)$는 변수 x와 변수y의 공분산을 의미하며 var(x)는 x의 분산을 의미합니다.\n"
   ]
  },
  {
   "cell_type": "code",
   "execution_count": 5,
   "metadata": {
    "colab": {
     "base_uri": "https://localhost:8080/",
     "height": 592
    },
    "executionInfo": {
     "elapsed": 2063,
     "status": "ok",
     "timestamp": 1604883150123,
     "user": {
      "displayName": "박창현",
      "photoUrl": "",
      "userId": "11960134067794952674"
     },
     "user_tz": -540
    },
    "id": "Uo5aNXZufEAq",
    "outputId": "c2746370-9f6a-4155-d84b-14b16d5d7a80"
   },
   "outputs": [
    {
     "data": {
      "image/png": "[encoded data removed]",
      "text/plain": [
       "<Figure size 720x720 with 2 Axes>"
      ]
     },
     "metadata": {
      "needs_background": "light"
     },
     "output_type": "display_data"
    }
   ],
   "source": [
    "df = data.corr()\n",
    "# 그림 사이즈 지정\n",
    "fig, ax = plt.subplots( figsize=(10,10) )\n",
    "\n",
    "# 삼각형 마스크를 만든다(위 쪽 삼각형에 True, 아래 삼각형에 False)\n",
    "mask = np.zeros_like(df, dtype=np.bool)\n",
    "mask[np.triu_indices_from(mask)] = True\n",
    "\n",
    "# 히트맵을 그린다\n",
    "sns.heatmap(df, \n",
    "            cmap='Blues', \n",
    "            annot = True,   # 실제 값을 표시한다\n",
    "            mask=mask,      # 표시하지 않을 마스크 부분을 지정한다\n",
    "            linewidths=.5,  # 경계면 실선으로 구분하기\n",
    "            cbar_kws={\"shrink\": .5},# 컬러바 크기 절반으로 줄이기\n",
    "            vmin = -1,vmax = 1   # 컬러바 범위 -1 ~ 1\n",
    "           )  \n",
    "plt.show()"
   ]
  },
  {
   "cell_type": "markdown",
   "metadata": {},
   "source": [
    "종속변수 medv와 상관계수가 -0.74로 가장 관련성이 높다고 판단되는 변수인 lstat를 독립변수로 사용하여 단순선형회귀모델을 만들어 보겠습니다."
   ]
  },
  {
   "cell_type": "markdown",
   "metadata": {},
   "source": [
    "#### 1.1.3 OLS(최소제곱법)"
   ]
  },
  {
   "cell_type": "code",
   "execution_count": 6,
   "metadata": {
    "id": "SlxHFwk5qROX"
   },
   "outputs": [],
   "source": [
    "X = data[\"lstat\"].to_numpy().reshape(-1,1)\n",
    "X = sm.add_constant(X) # 선형모델에 상수항을 추가함\n",
    "Y = data[\"medv\"].to_numpy().reshape(-1,1)"
   ]
  },
  {
   "cell_type": "markdown",
   "metadata": {},
   "source": [
    "단순선형회귀모델이 모수 $b_0$와 $b_1$을 추정하는 방법으로 OLS(Ordinary Least Squares)라고 불리우는 보통최소제곱법을 사용하겠습니다. 보통최소제곱법이란 오차의 제곱합이 최소가 되는 모수를 구하는 방법으로 식은 아래와 같습니다. $$\\sum^n_{i=1}(y_i - \\hat{y_i})^2$$ \n",
    "여기서 오차란 실측값과 예측값간의 차이를 의미합니다."
   ]
  },
  {
   "cell_type": "code",
   "execution_count": 7,
   "metadata": {
    "colab": {
     "base_uri": "https://localhost:8080/"
    },
    "executionInfo": {
     "elapsed": 1646,
     "status": "ok",
     "timestamp": 1604905268778,
     "user": {
      "displayName": "박창현",
      "photoUrl": "",
      "userId": "11960134067794952674"
     },
     "user_tz": -540
    },
    "id": "_qkPaHg0YBce",
    "outputId": "33573864-2ab4-4c98-fa19-94c4bf97f353"
   },
   "outputs": [
    {
     "name": "stdout",
     "output_type": "stream",
     "text": [
      "                            OLS Regression Results                            \n",
      "==============================================================================\n",
      "Dep. Variable:                      y   R-squared:                       0.544\n",
      "Model:                            OLS   Adj. R-squared:                  0.543\n",
      "Method:                 Least Squares   F-statistic:                     601.6\n",
      "Date:                Fri, 18 Dec 2020   Prob (F-statistic):           5.08e-88\n",
      "Time:                        09:21:51   Log-Likelihood:                -1641.5\n",
      "No. Observations:                 506   AIC:                             3287.\n",
      "Df Residuals:                     504   BIC:                             3295.\n",
      "Df Model:                           1                                         \n",
      "Covariance Type:            nonrobust                                         \n",
      "==============================================================================\n",
      "                 coef    std err          t      P>|t|      [0.025      0.975]\n",
      "------------------------------------------------------------------------------\n",
      "const         34.5538      0.563     61.415      0.000      33.448      35.659\n",
      "x1            -0.9500      0.039    -24.528      0.000      -1.026      -0.874\n",
      "==============================================================================\n",
      "Omnibus:                      137.043   Durbin-Watson:                   0.892\n",
      "Prob(Omnibus):                  0.000   Jarque-Bera (JB):              291.373\n",
      "Skew:                           1.453   Prob(JB):                     5.36e-64\n",
      "Kurtosis:                       5.319   Cond. No.                         29.7\n",
      "==============================================================================\n",
      "\n",
      "Warnings:\n",
      "[1] Standard Errors assume that the covariance matrix of the errors is correctly specified.\n"
     ]
    }
   ],
   "source": [
    "model = sm.OLS(Y,X).fit()\n",
    "print(model.summary())"
   ]
  },
  {
   "cell_type": "markdown",
   "metadata": {},
   "source": [
    "#### 1.1.4 추정된 모수와 결정계수"
   ]
  },
  {
   "cell_type": "markdown",
   "metadata": {},
   "source": [
    "statsmodel 패키지에 있는 보통최소제곱법을 사용하여 위와 같은 결과가 나왔습니다. 위의 결과에서 집중해야하는 단어는 R-squared, const, x1입니다. "
   ]
  },
  {
   "cell_type": "code",
   "execution_count": 8,
   "metadata": {
    "colab": {
     "base_uri": "https://localhost:8080/"
    },
    "executionInfo": {
     "elapsed": 955,
     "status": "ok",
     "timestamp": 1604893115719,
     "user": {
      "displayName": "박창현",
      "photoUrl": "",
      "userId": "11960134067794952674"
     },
     "user_tz": -540
    },
    "id": "vPXhA_z-D1jj",
    "outputId": "091193c9-cd0f-4b52-e476-599166b04996"
   },
   "outputs": [
    {
     "name": "stdout",
     "output_type": "stream",
     "text": [
      "b0의 계수 : 34.55384087938312\n",
      "b1의 계수 : -0.9500493537579906\n",
      "R-squared : 0.5441462975864797\n"
     ]
    }
   ],
   "source": [
    "print(\"b0의 계수 : {}\\nb1의 계수 : {}\".format(model.params[0],model.params[1]))\n",
    "print(\"R-squared : {}\".format(model.rsquared))"
   ]
  },
  {
   "cell_type": "markdown",
   "metadata": {},
   "source": [
    "OLS에서 추정한 회귀 모델을 식으로 표현하면 $$\\hat{y}_i = 34.533 - 0.95x_i$$ $b_0$와 $b_1$에 맞는 회귀모델을 산점도에 그린 결과 아래와 같습니다."
   ]
  },
  {
   "cell_type": "code",
   "execution_count": 9,
   "metadata": {
    "colab": {
     "base_uri": "https://localhost:8080/",
     "height": 265
    },
    "executionInfo": {
     "elapsed": 1157,
     "status": "ok",
     "timestamp": 1604887179187,
     "user": {
      "displayName": "박창현",
      "photoUrl": "",
      "userId": "11960134067794952674"
     },
     "user_tz": -540
    },
    "id": "FonxlsRpuJmY",
    "outputId": "4bb57e4f-80f0-4fee-e2f8-c98595b80c24"
   },
   "outputs": [
    {
     "data": {
      "image/png": "[encoded data removed]",
      "text/plain": [
       "<Figure size 432x288 with 1 Axes>"
      ]
     },
     "metadata": {
      "needs_background": "light"
     },
     "output_type": "display_data"
    }
   ],
   "source": [
    "plt.plot(X[:,1],Y,'o')\n",
    "plt.plot(X[:,1],model.predict(X))\n",
    "plt.show()"
   ]
  },
  {
   "cell_type": "markdown",
   "metadata": {},
   "source": [
    "R-squared은 결정계수라고 불리우며 모델을 평가하는 척도로써 활용됩니다. 결정계수란 전체 제곱합 중에서 회귀 제곱합이 설명하는 비중으로 모형의 설명력을 의미하며 식은 아래와 같습니다. $$R^2 = 1 - {RSS \\over TSS}$$OLS를 통하여 나온 결정계수는 0.54가 나왔으며 이 의미는 데이터의 약 54%를 위에서 구한 회귀모델로 설명이 가능하다는 의미입니다. 여기서 주의할점은 입력변수가 증가할 수록 결정계수가 증가하기 때문에 이때는 수정된 결정계수인 Adj. R-squared를 보고 판단해야 합니다."
   ]
  },
  {
   "cell_type": "markdown",
   "metadata": {},
   "source": [
    "#### 1.1.5 신뢰구간"
   ]
  },
  {
   "cell_type": "markdown",
   "metadata": {},
   "source": [
    "위에서 OLS를 통하여 모수들을 추정하였습니다. 추정된 모수로 95% 신뢰구간을 표현하면 아래와 같습니다."
   ]
  },
  {
   "cell_type": "code",
   "execution_count": 10,
   "metadata": {
    "colab": {
     "base_uri": "https://localhost:8080/",
     "height": 392
    },
    "executionInfo": {
     "elapsed": 1134,
     "status": "ok",
     "timestamp": 1604893866162,
     "user": {
      "displayName": "박창현",
      "photoUrl": "",
      "userId": "11960134067794952674"
     },
     "user_tz": -540
    },
    "id": "7Q0b3rIHFeqi",
    "outputId": "3c7739ac-9d00-4159-9807-1dba055a25e8"
   },
   "outputs": [
    {
     "data": {
      "text/plain": [
       "<matplotlib.legend.Legend at 0x1df346f5ac0>"
      ]
     },
     "execution_count": 10,
     "metadata": {},
     "output_type": "execute_result"
    },
    {
     "data": {
      "image/png": "[encoded data removed]",
      "text/plain": [
       "<Figure size 576x432 with 1 Axes>"
      ]
     },
     "metadata": {
      "needs_background": "light"
     },
     "output_type": "display_data"
    }
   ],
   "source": [
    "prst, conf_up, conf_low = wls_prediction_std(model)\n",
    "fig, ax = plt.subplots(figsize=(8,6))\n",
    "ax.plot(X[:,1],Y,\"o\",label=\"raw\")\n",
    "ax.plot(X[:,1],model.predict(X),\"r--\",label=\"predict\")\n",
    "ax.plot(X[:,1],conf_up,\"g-\",label=\"conf_up\")\n",
    "ax.plot(X[:,1],conf_low,\"g-\",label=\"conf_low\")\n",
    "ax.legend()"
   ]
  },
  {
   "cell_type": "markdown",
   "metadata": {},
   "source": [
    "여기서 95% 신뢰구간이란 말은 모수, 즉 실측값이 구간안에 포함되어있을 확률이 95%라는 의미로 모델을 100개의 신뢰구간속에 95번은 실측값이 포함되어져 있을거라는 의미 입니다. 그림을 예시로 들자면 총 100개의 선이 있을 때 파랑색 선은 실측값이 포함되어진 신뢰구간은 95개이며 빨간색 선은 실측값이 포함되어지지 않은 신뢰구간은 5개 이므로 95%의 신뢰구간을 만족한다고 할 수 있습니다. \n",
    "<img src = \"https://imgur.com/PfJpT72.jpg\" width = 600 height = 500>"
   ]
  },
  {
   "cell_type": "markdown",
   "metadata": {},
   "source": [
    "지금까지 OLS를 통하여 단순회귀모델의 모수들을 추정하였습니다. 추정된 모수를 가지고 회귀선과 회귀선의 신뢰구간을 구하였습니다. 마지막으로 완성되어진 모델의 신뢰성 및 타당성을 검증하는 척도인 MSE를 알아보겠습니다. "
   ]
  },
  {
   "cell_type": "markdown",
   "metadata": {},
   "source": [
    "#### 1.1.6 MSE(평균제곱오차)"
   ]
  },
  {
   "cell_type": "markdown",
   "metadata": {},
   "source": [
    "MSE는 Mean Square Error라고 불리며 평균제곱오차라고도 알려져 있습니다. 모델 평가의 척도로 사용되는 지표로 수치가 작을수록 좋은 모델이라는 의미 입니다. 공식은 아래와 같습니다. $$MSE = \\sum^n_{i=1}({(y_i - \\hat{y_i})^2  \\over n}$$ "
   ]
  },
  {
   "cell_type": "markdown",
   "metadata": {},
   "source": [
    "$y_i$는 실측치, $\\hat{y}$는 모델의 예측값, n은 실측치의 개수를 의미합니다. 계산되어진 MSE를 다른 모델들의 MSE와 비교하여 어떤 모델이 더 적합이 잘되었는지 판단하는 기준이 됩니다. "
   ]
  },
  {
   "cell_type": "code",
   "execution_count": 11,
   "metadata": {
    "colab": {
     "base_uri": "https://localhost:8080/"
    },
    "executionInfo": {
     "elapsed": 1109,
     "status": "ok",
     "timestamp": 1604895173842,
     "user": {
      "displayName": "박창현",
      "photoUrl": "",
      "userId": "11960134067794952674"
     },
     "user_tz": -540
    },
    "id": "9Q2iF2b2LXgL",
    "outputId": "c40ef8b6-d532-45f9-a051-5f4c7be2e723"
   },
   "outputs": [
    {
     "name": "stdout",
     "output_type": "stream",
     "text": [
      "numpy의 Mean Square Error(평균 제곱 오차) : 38.48296722989415\n"
     ]
    }
   ],
   "source": [
    "# numpy를 활용한 평균제곱오차의 계산\n",
    "y_pred = model.predict(X).reshape(-1,1)\n",
    "print(f\"numpy의 Mean Square Error(평균 제곱 오차) : {np.mean((Y-y_pred)**2)}\")"
   ]
  },
  {
   "cell_type": "code",
   "execution_count": 12,
   "metadata": {
    "colab": {
     "base_uri": "https://localhost:8080/"
    },
    "executionInfo": {
     "elapsed": 998,
     "status": "ok",
     "timestamp": 1604895172116,
     "user": {
      "displayName": "박창현",
      "photoUrl": "",
      "userId": "11960134067794952674"
     },
     "user_tz": -540
    },
    "id": "IHiPklNUJMoF",
    "outputId": "3e6f66eb-1c86-4582-8aef-6828284bcd62"
   },
   "outputs": [
    {
     "name": "stdout",
     "output_type": "stream",
     "text": [
      "패키지의 Mean Square Error(평균 제곱 오차) : 38.48296722989415\n"
     ]
    }
   ],
   "source": [
    "# 패키지를 사용한 평균제곱오차의 계산\n",
    "MSE = mean_squared_error(y_true=Y,y_pred=model.predict(X).reshape(-1,1))\n",
    "print(f\"패키지의 Mean Square Error(평균 제곱 오차) : {MSE}\")"
   ]
  },
  {
   "cell_type": "markdown",
   "metadata": {},
   "source": [
    "해당 척도를 이용하여 앞으로 나오는 모델들과의 성능을 비교해보겠습니다."
   ]
  },
  {
   "cell_type": "markdown",
   "metadata": {
    "id": "Z5jRYr-Iy2Hl"
   },
   "source": [
    "### 1.2 다항회귀모델"
   ]
  },
  {
   "cell_type": "markdown",
   "metadata": {},
   "source": [
    "단순선형회귀모델에서 예측값과 신뢰구간을 구하였는데 막상 raw 데이터의 분포를 보니 직선의 형태로는 완전히 예측하기 힘들어 보입니다. 해당 데이터와 같이 약간의 곡선이 들어간 데이터를 좀 더 정확도 높게 예측하려면 모델의 예측값도 곡선을 그려야 합니다. 곡선 형태의 데이터를 예측하는 모델인 다항회귀모델을 만들어 보겠습니다."
   ]
  },
  {
   "cell_type": "markdown",
   "metadata": {},
   "source": [
    "sm.OLS.from_formula 함수를 사용하여 pandas 데이터 프레임 형태로부터 회귀모델을 만들 수 있습니다. 마찬가지로 해당 패키지를 사용하여 다항 회귀모델을 만들면 아래와 같습니다."
   ]
  },
  {
   "cell_type": "code",
   "execution_count": 108,
   "metadata": {},
   "outputs": [
    {
     "name": "stdout",
     "output_type": "stream",
     "text": [
      "                            OLS Regression Results                            \n",
      "==============================================================================\n",
      "Dep. Variable:                   medv   R-squared:                       0.641\n",
      "Model:                            OLS   Adj. R-squared:                  0.639\n",
      "Method:                 Least Squares   F-statistic:                     448.5\n",
      "Date:                Thu, 17 Dec 2020   Prob (F-statistic):          1.56e-112\n",
      "Time:                        10:43:41   Log-Likelihood:                -1581.3\n",
      "No. Observations:                 506   AIC:                             3169.\n",
      "Df Residuals:                     503   BIC:                             3181.\n",
      "Df Model:                           2                                         \n",
      "Covariance Type:            nonrobust                                         \n",
      "=================================================================================\n",
      "                    coef    std err          t      P>|t|      [0.025      0.975]\n",
      "---------------------------------------------------------------------------------\n",
      "Intercept        42.8620      0.872     49.149      0.000      41.149      44.575\n",
      "lstat            -2.3328      0.124    -18.843      0.000      -2.576      -2.090\n",
      "I(lstat ** 2)     0.0435      0.004     11.628      0.000       0.036       0.051\n",
      "==============================================================================\n",
      "Omnibus:                      107.006   Durbin-Watson:                   0.921\n",
      "Prob(Omnibus):                  0.000   Jarque-Bera (JB):              228.388\n",
      "Skew:                           1.128   Prob(JB):                     2.55e-50\n",
      "Kurtosis:                       5.397   Cond. No.                     1.13e+03\n",
      "==============================================================================\n",
      "\n",
      "Warnings:\n",
      "[1] Standard Errors assume that the covariance matrix of the errors is correctly specified.\n",
      "[2] The condition number is large, 1.13e+03. This might indicate that there are\n",
      "strong multicollinearity or other numerical problems.\n"
     ]
    }
   ],
   "source": [
    "pol_X = data[\"lstat\"]\n",
    "pol_Y = data[\"medv\"]\n",
    "poly_df = pd.concat([pol_X,pol_Y], axis=1)\n",
    "poly_model = sm.OLS.from_formula(\"medv ~ lstat + I(lstat**2)\", data=poly_df).fit()\n",
    "print(poly_model.summary())"
   ]
  },
  {
   "cell_type": "markdown",
   "metadata": {},
   "source": [
    "다항회귀모델을 식으로 표현하면 $$\\hat{y}_i = 42.862 - 2.3328x_i + 0.0435x^2_i$$ 해당 다항회귀모델의 예측값을 산점도 위에 표현을 하면 아래와 같습니다."
   ]
  },
  {
   "cell_type": "code",
   "execution_count": 119,
   "metadata": {
    "colab": {
     "base_uri": "https://localhost:8080/",
     "height": 265
    },
    "executionInfo": {
     "elapsed": 1751,
     "status": "ok",
     "timestamp": 1604909688540,
     "user": {
      "displayName": "박창현",
      "photoUrl": "",
      "userId": "11960134067794952674"
     },
     "user_tz": -540
    },
    "id": "F6mImZ63NQ1c",
    "outputId": "f25a8523-778f-473d-c7b7-da19bfdf6728"
   },
   "outputs": [
    {
     "data": {
      "image/png": "[encoded data removed]",
      "text/plain": [
       "<Figure size 432x288 with 1 Axes>"
      ]
     },
     "metadata": {
      "needs_background": "light"
     },
     "output_type": "display_data"
    }
   ],
   "source": [
    "plt.plot(pol_X, pol_Y, 'o')\n",
    "plt.plot(pol_X, poly_model.predict(pol_X), 'o')\n",
    "plt.show()"
   ]
  },
  {
   "cell_type": "markdown",
   "metadata": {},
   "source": [
    "예측값의 신뢰구간을 그리게 되면 아래와 같이 나오는데 이전 단순선형회귀모델보다 더 많은 실측값이 신뢰구간안에 포함되어져서 기존 단순선형회귀모델보다 더 잘 적합된 모델이라는 것을 알 수가 있었습니다."
   ]
  },
  {
   "cell_type": "code",
   "execution_count": 127,
   "metadata": {
    "colab": {
     "base_uri": "https://localhost:8080/",
     "height": 392
    },
    "executionInfo": {
     "elapsed": 1335,
     "status": "ok",
     "timestamp": 1604897003432,
     "user": {
      "displayName": "박창현",
      "photoUrl": "",
      "userId": "11960134067794952674"
     },
     "user_tz": -540
    },
    "id": "P1EZh4cjLXcV",
    "outputId": "6cd99736-52e9-4a24-e3f7-c7d35df80dd8"
   },
   "outputs": [
    {
     "data": {
      "text/plain": [
       "<matplotlib.legend.Legend at 0x29d5691c100>"
      ]
     },
     "execution_count": 127,
     "metadata": {},
     "output_type": "execute_result"
    },
    {
     "data": {
      "image/png": "[encoded data removed]",
      "text/plain": [
       "<Figure size 576x432 with 1 Axes>"
      ]
     },
     "metadata": {
      "needs_background": "light"
     },
     "output_type": "display_data"
    }
   ],
   "source": [
    "from statsmodels.sandbox.regression.predstd import wls_prediction_std\n",
    "prst, conf_up, conf_low = wls_prediction_std(poly_model)\n",
    "fig, ax = plt.subplots(figsize=(8,6))\n",
    "ax.plot(pol_X,pol_Y,\"o\",label=\"raw\")\n",
    "ax.plot(pol_X,poly_model.predict(pol_X),'o',label=\"predict\")\n",
    "ax.plot(pol_X,conf_up,'o',label=\"conf_up\")\n",
    "ax.plot(pol_X,conf_low,'o',label=\"conf_low\")\n",
    "ax.legend()"
   ]
  },
  {
   "cell_type": "markdown",
   "metadata": {},
   "source": [
    "모델의 평가척도가 되는 MSE와 비교하여도 기존에는 MSE가 38이었지만 현재 다항회귀모델의 MSE는 30으로 수치가 더 낮기에 다항회귀모델이 현재 데이터에 더 잘 적합되어있다고 판단할 수 있습니다."
   ]
  },
  {
   "cell_type": "code",
   "execution_count": 147,
   "metadata": {
    "colab": {
     "base_uri": "https://localhost:8080/"
    },
    "executionInfo": {
     "elapsed": 1156,
     "status": "ok",
     "timestamp": 1604897044835,
     "user": {
      "displayName": "박창현",
      "photoUrl": "",
      "userId": "11960134067794952674"
     },
     "user_tz": -540
    },
    "id": "qVHpQ5q2UExZ",
    "outputId": "e47a35a5-95b5-482d-e726-1b3bc711a3be"
   },
   "outputs": [
    {
     "name": "stdout",
     "output_type": "stream",
     "text": [
      "다항선형회귀모델의 Mean Square Error(평균 제곱 오차) : 30.33052007585372\n"
     ]
    }
   ],
   "source": [
    "# 패키지를 사용한 평균제곱오차의 계산\n",
    "# 단순선형회귀모델에 비하여 MSE가 크게 감소하였습니다.\n",
    "MSE = mean_squared_error(y_true=pol_Y,y_pred=poly_model.predict(pol_X))\n",
    "print(f\"다항선형회귀모델의 Mean Square Error(평균 제곱 오차) : {MSE}\")"
   ]
  },
  {
   "cell_type": "markdown",
   "metadata": {},
   "source": [
    "지금까지 모델들은 훈련데이터에서의 MSE를 구하여서 비교하였습니다. 하지만 저희들이 원하는 것은 훈련데이터를 사용되지 않은 검정데이터에서의 MSE가 가장 낮은 모델을 찾는 것입니다. 그러므로 모델 구축에 사용될 훈련데이터와 모델 검증에 사용될 검증데이터를 나누어서 두 데이터에 대한 모델의 MSE를 비교하고 어떤 형태의 모델에서 검정 MSE의 수치가 가장 작은지 알아보겠습니다."
   ]
  },
  {
   "cell_type": "markdown",
   "metadata": {},
   "source": [
    "훈련에 사용되지 않는 검증용 데이터를 만들기 위해서 sklearn 패키지의 train_test_split 함수를 이용하여 8:2의 비율로 나누겠습니다."
   ]
  },
  {
   "cell_type": "code",
   "execution_count": 143,
   "metadata": {},
   "outputs": [],
   "source": [
    "from sklearn.model_selection import train_test_split\n",
    "X = data[\"lstat\"].to_numpy().reshape(-1,1)\n",
    "Y = data[\"medv\"].to_numpy().reshape(-1,1)\n",
    "X_train, X_val, Y_train, Y_val =train_test_split(X, Y, test_size=0.2, random_state=13)"
   ]
  },
  {
   "cell_type": "markdown",
   "metadata": {},
   "source": [
    "훈련데이터로 구축된 다항회귀모델을 유연성을 조절하여 훈련 MSE와 검정 MSE를 구하겠습니다."
   ]
  },
  {
   "cell_type": "code",
   "execution_count": 146,
   "metadata": {},
   "outputs": [],
   "source": [
    "def poly_regression(X_train, Y_train, X_val, Y_val,degree):\n",
    "    poly = PolynomialFeatures(degree=degree)\n",
    "    X_train_poly = poly.fit_transform(X_train)\n",
    "    pol_reg = LinearRegression()\n",
    "    pol_reg.fit(X_train_poly,Y_train)\n",
    "    X_val_poly = poly.transform(X_val)\n",
    "    \n",
    "    tr_pred = pol_reg.predict(X_train_poly)\n",
    "    val_pred = pol_reg.predict(X_val_poly)\n",
    "    \n",
    "    tr_mse = mean_squared_error(Y_train, tr_pred)\n",
    "    val_mse = mean_squared_error(Y_val, val_pred)\n",
    "    \n",
    "    \n",
    "    return tr_mse, val_mse"
   ]
  },
  {
   "cell_type": "markdown",
   "metadata": {},
   "source": [
    "훈련 MSE와 검정 MSE를 유연성에 따라서 비교해본 결과 유연한 모델일 수록 훈련MSE는 급격히가 줄어든 뒤 유연성 3 이후부터는 특별한 변화없이 일정한 수준의 MSE를 보여주고 있습니다. 하지만 검정 MSE의 경우 일정한 수준의 MSE를 유지하다고 유연성 9 이후부터 급격하게 증가하는 부분이 발생합니다. 이와 같이 검정 MSE의 값이 급격히 증가하기 이전의 유연성을 선택하는 것이 좋습니다."
   ]
  },
  {
   "cell_type": "code",
   "execution_count": 148,
   "metadata": {},
   "outputs": [
    {
     "data": {
      "image/png": "[encoded data removed]",
      "text/plain": [
       "<Figure size 432x288 with 1 Axes>"
      ]
     },
     "metadata": {
      "needs_background": "light"
     },
     "output_type": "display_data"
    }
   ],
   "source": [
    "bucket_mse = []\n",
    "for i in range(12):\n",
    "    mse = poly_regression(X_train, Y_train, X_val, Y_val, i)\n",
    "    bucket_mse.append(mse)\n",
    "bucket_mse = np.array(bucket_mse)\n",
    "bucket_mse = (bucket_mse - np.mean(bucket_mse, axis=0)) / np.std(bucket_mse, axis=0)\n",
    "x_axis = np.arange(len(bucket_mse)) + 1\n",
    "plt.plot(x_axis, bucket_mse[:,0], label = \"train_mse\")\n",
    "plt.plot(x_axis, bucket_mse[:,1], label = \"val_mse\")\n",
    "plt.legend()\n",
    "plt.xlabel(\"Flexibility\")\n",
    "plt.ylabel(\"MSE\")\n",
    "plt.show()"
   ]
  },
  {
   "cell_type": "markdown",
   "metadata": {},
   "source": [
    "급격히 MSE가 증가하는 부분에서 과적합이 발생하였다고 하며 이는 모델이 훈련 데이터에 너무 적합이 되어 검정 데이터에 대해서는 예측력이 떨어지는 현상을 말합니다. "
   ]
  },
  {
   "cell_type": "markdown",
   "metadata": {
    "id": "oEWwdG-JT4zy"
   },
   "source": [
    "### 1.3 다중선형회귀모델"
   ]
  },
  {
   "cell_type": "markdown",
   "metadata": {},
   "source": [
    "지금까지는 1개의 입력변수로 출력변수를 예측하는 모델을 다루었습니다. 하지만 현실적인 데이터들에서는 입력변수들이 2개 이상으로 존재하는 경우가 많습니다. 이러한 데이터의 상황에 맞추어 2개 이상의 입력변수를 가지고 출력변수를 예측하는 다중회귀모델에 대하여 배우겠습니다.\n",
    "\n",
    "\n",
    "다중선형회귀모델을 사용하게 될 경우 분석할 입력변수의 개수가 증가하면서 기존 단순선형모델에서 없던 새로운 문제가 발생합니다. 그건 다중공선성 문제라고 하며 다중공선성 문제는 입력변수간의 관련성이 높아서 출력변수에 영향을 끼치는 문제입니다. 다중공선성 문제가 발생하면 출력변수에 영향을 끼친 원인을 명확히 구분하기 애매해집니다. 그래서 보통은 변수선택법과 변수변환을 통하여 다중공선성 문제를 해결하는데 기존 다중선형회귀모델에서도 상호작용 항을 이용하여 원인을 구분할 수 있습니다."
   ]
  },
  {
   "cell_type": "markdown",
   "metadata": {},
   "source": [
    "다중회귀모델은 이전에 다항회귀모델에서 사용한 형태와 비슷하며 전체 데이터가 있는 데이터프레임에서 입력변수와 출력변수를 나누고 \"출력변수 ~ 입력변수\" 형태를 취하기만 하면 쉽게 다중회귀모델을 만들고 분석도 가능합니다. 상호작용 항이 있는 다중회귀분석을 하면 아래와 같습니다."
   ]
  },
  {
   "cell_type": "code",
   "execution_count": 143,
   "metadata": {
    "colab": {
     "base_uri": "https://localhost:8080/"
    },
    "executionInfo": {
     "elapsed": 1036,
     "status": "ok",
     "timestamp": 1604911694588,
     "user": {
      "displayName": "박창현",
      "photoUrl": "",
      "userId": "11960134067794952674"
     },
     "user_tz": -540
    },
    "id": "RuKVm74072US",
    "outputId": "f05e5961-f96a-4048-df49-2036aa1775da"
   },
   "outputs": [
    {
     "name": "stdout",
     "output_type": "stream",
     "text": [
      "                            OLS Regression Results                            \n",
      "==============================================================================\n",
      "Dep. Variable:                   medv   R-squared:                       0.556\n",
      "Model:                            OLS   Adj. R-squared:                  0.553\n",
      "Method:                 Least Squares   F-statistic:                     209.3\n",
      "Date:                Thu, 17 Dec 2020   Prob (F-statistic):           4.94e-88\n",
      "Time:                        12:30:34   Log-Likelihood:                -1635.0\n",
      "No. Observations:                 506   AIC:                             3278.\n",
      "Df Residuals:                     502   BIC:                             3295.\n",
      "Df Model:                           3                                         \n",
      "Covariance Type:            nonrobust                                         \n",
      "==============================================================================\n",
      "                 coef    std err          t      P>|t|      [0.025      0.975]\n",
      "------------------------------------------------------------------------------\n",
      "Intercept     35.0292      0.616     56.905      0.000      33.820      36.239\n",
      "lstat         -0.9684      0.047    -20.612      0.000      -1.061      -0.876\n",
      "crim          -0.3622      0.103     -3.524      0.000      -0.564      -0.160\n",
      "crim:lstat     0.0145      0.005      3.027      0.003       0.005       0.024\n",
      "==============================================================================\n",
      "Omnibus:                      151.523   Durbin-Watson:                   0.844\n",
      "Prob(Omnibus):                  0.000   Jarque-Bera (JB):              361.843\n",
      "Skew:                           1.539   Prob(JB):                     2.67e-79\n",
      "Kurtosis:                       5.772   Cond. No.                         474.\n",
      "==============================================================================\n",
      "\n",
      "Warnings:\n",
      "[1] Standard Errors assume that the covariance matrix of the errors is correctly specified.\n"
     ]
    }
   ],
   "source": [
    "# 상호작용 항\n",
    "import statsmodels.formula.api as smf\n",
    "multi_inter_model = smf.ols(formula = \"medv~lstat + crim + crim*lstat \",data=data).fit()\n",
    "print(multi_inter_model.summary())"
   ]
  },
  {
   "cell_type": "markdown",
   "metadata": {},
   "source": [
    "medv를 출력변수로 하고 lstat, crim, lstat과 crim의 상호작용 항을 입력변수로 하는 다중선형회귀모델을 만든결과 위와 같이 나왔으며 이를 식으로 표현하면 $$\\hat{y}_i = 35.0292 - 0.9684x_{1i} - 0.3622x_{2i} + 0.0145x_{3i}$$ MSE는 기존에 단순선형회귀모델보다는 잘 적합되어 있다고 할 수 있지만 다항회귀모델에 비하면 부족하다고 판단할 수 있습니다."
   ]
  },
  {
   "cell_type": "code",
   "execution_count": 146,
   "metadata": {},
   "outputs": [
    {
     "name": "stdout",
     "output_type": "stream",
     "text": [
      "다중선형회귀모델의 Mean Square Error(평균 제곱 오차) : 37.50782149605498\n"
     ]
    }
   ],
   "source": [
    "MSE = mean_squared_error(data[\"medv\"], multi_inter_model.predict(data[[\"lstat\",\"crim\"]]))\n",
    "print(f\"다중선형회귀모델의 Mean Square Error(평균 제곱 오차) : {MSE}\")"
   ]
  },
  {
   "cell_type": "markdown",
   "metadata": {
    "id": "2eX2DxO6T440"
   },
   "source": [
    "### 1.4 질적 설명 변수"
   ]
  },
  {
   "cell_type": "markdown",
   "metadata": {},
   "source": [
    "데이터는 흔히 숫자형인 양적 데이터와 숫자형 이외의 데이터인 질적 데이터로 나뉘며 지금까지는 숫자형 데이터를 입력변수로 삼아서 회귀모델을 만들었습니다. 지금부터는 문자형 데이터를 이용한 회귀모델을 만들어 보도록 하겠습니다."
   ]
  },
  {
   "cell_type": "markdown",
   "metadata": {},
   "source": [
    "데이터는 400개의 지점의 어린이용 카시트 매출관련 데이터입니다."
   ]
  },
  {
   "cell_type": "code",
   "execution_count": 149,
   "metadata": {
    "colab": {
     "base_uri": "https://localhost:8080/",
     "height": 419
    },
    "executionInfo": {
     "elapsed": 958,
     "status": "ok",
     "timestamp": 1604912298925,
     "user": {
      "displayName": "박창현",
      "photoUrl": "",
      "userId": "11960134067794952674"
     },
     "user_tz": -540
    },
    "id": "6bNNCpuACfTS",
    "outputId": "a99317c3-ea98-43d2-fcc9-0007c78f5bbc"
   },
   "outputs": [
    {
     "name": "stdout",
     "output_type": "stream",
     "text": [
      "데이터 개수 : 400    변수의 개수 : 11\n"
     ]
    },
    {
     "data": {
      "text/html": [
       "<div>\n",
       "<style scoped>\n",
       "    .dataframe tbody tr th:only-of-type {\n",
       "        vertical-align: middle;\n",
       "    }\n",
       "\n",
       "    .dataframe tbody tr th {\n",
       "        vertical-align: top;\n",
       "    }\n",
       "\n",
       "    .dataframe thead th {\n",
       "        text-align: right;\n",
       "    }\n",
       "</style>\n",
       "<table border=\"1\" class=\"dataframe\">\n",
       "  <thead>\n",
       "    <tr style=\"text-align: right;\">\n",
       "      <th></th>\n",
       "      <th>Sales</th>\n",
       "      <th>CompPrice</th>\n",
       "      <th>Income</th>\n",
       "      <th>Advertising</th>\n",
       "      <th>Population</th>\n",
       "      <th>Price</th>\n",
       "      <th>ShelveLoc</th>\n",
       "      <th>Age</th>\n",
       "      <th>Education</th>\n",
       "      <th>Urban</th>\n",
       "      <th>US</th>\n",
       "    </tr>\n",
       "  </thead>\n",
       "  <tbody>\n",
       "    <tr>\n",
       "      <th>1</th>\n",
       "      <td>9.50</td>\n",
       "      <td>138</td>\n",
       "      <td>73</td>\n",
       "      <td>11</td>\n",
       "      <td>276</td>\n",
       "      <td>120</td>\n",
       "      <td>Bad</td>\n",
       "      <td>42</td>\n",
       "      <td>17</td>\n",
       "      <td>Yes</td>\n",
       "      <td>Yes</td>\n",
       "    </tr>\n",
       "    <tr>\n",
       "      <th>2</th>\n",
       "      <td>11.22</td>\n",
       "      <td>111</td>\n",
       "      <td>48</td>\n",
       "      <td>16</td>\n",
       "      <td>260</td>\n",
       "      <td>83</td>\n",
       "      <td>Good</td>\n",
       "      <td>65</td>\n",
       "      <td>10</td>\n",
       "      <td>Yes</td>\n",
       "      <td>Yes</td>\n",
       "    </tr>\n",
       "    <tr>\n",
       "      <th>3</th>\n",
       "      <td>10.06</td>\n",
       "      <td>113</td>\n",
       "      <td>35</td>\n",
       "      <td>10</td>\n",
       "      <td>269</td>\n",
       "      <td>80</td>\n",
       "      <td>Medium</td>\n",
       "      <td>59</td>\n",
       "      <td>12</td>\n",
       "      <td>Yes</td>\n",
       "      <td>Yes</td>\n",
       "    </tr>\n",
       "    <tr>\n",
       "      <th>4</th>\n",
       "      <td>7.40</td>\n",
       "      <td>117</td>\n",
       "      <td>100</td>\n",
       "      <td>4</td>\n",
       "      <td>466</td>\n",
       "      <td>97</td>\n",
       "      <td>Medium</td>\n",
       "      <td>55</td>\n",
       "      <td>14</td>\n",
       "      <td>Yes</td>\n",
       "      <td>Yes</td>\n",
       "    </tr>\n",
       "    <tr>\n",
       "      <th>5</th>\n",
       "      <td>4.15</td>\n",
       "      <td>141</td>\n",
       "      <td>64</td>\n",
       "      <td>3</td>\n",
       "      <td>340</td>\n",
       "      <td>128</td>\n",
       "      <td>Bad</td>\n",
       "      <td>38</td>\n",
       "      <td>13</td>\n",
       "      <td>Yes</td>\n",
       "      <td>No</td>\n",
       "    </tr>\n",
       "    <tr>\n",
       "      <th>...</th>\n",
       "      <td>...</td>\n",
       "      <td>...</td>\n",
       "      <td>...</td>\n",
       "      <td>...</td>\n",
       "      <td>...</td>\n",
       "      <td>...</td>\n",
       "      <td>...</td>\n",
       "      <td>...</td>\n",
       "      <td>...</td>\n",
       "      <td>...</td>\n",
       "      <td>...</td>\n",
       "    </tr>\n",
       "    <tr>\n",
       "      <th>396</th>\n",
       "      <td>12.57</td>\n",
       "      <td>138</td>\n",
       "      <td>108</td>\n",
       "      <td>17</td>\n",
       "      <td>203</td>\n",
       "      <td>128</td>\n",
       "      <td>Good</td>\n",
       "      <td>33</td>\n",
       "      <td>14</td>\n",
       "      <td>Yes</td>\n",
       "      <td>Yes</td>\n",
       "    </tr>\n",
       "    <tr>\n",
       "      <th>397</th>\n",
       "      <td>6.14</td>\n",
       "      <td>139</td>\n",
       "      <td>23</td>\n",
       "      <td>3</td>\n",
       "      <td>37</td>\n",
       "      <td>120</td>\n",
       "      <td>Medium</td>\n",
       "      <td>55</td>\n",
       "      <td>11</td>\n",
       "      <td>No</td>\n",
       "      <td>Yes</td>\n",
       "    </tr>\n",
       "    <tr>\n",
       "      <th>398</th>\n",
       "      <td>7.41</td>\n",
       "      <td>162</td>\n",
       "      <td>26</td>\n",
       "      <td>12</td>\n",
       "      <td>368</td>\n",
       "      <td>159</td>\n",
       "      <td>Medium</td>\n",
       "      <td>40</td>\n",
       "      <td>18</td>\n",
       "      <td>Yes</td>\n",
       "      <td>Yes</td>\n",
       "    </tr>\n",
       "    <tr>\n",
       "      <th>399</th>\n",
       "      <td>5.94</td>\n",
       "      <td>100</td>\n",
       "      <td>79</td>\n",
       "      <td>7</td>\n",
       "      <td>284</td>\n",
       "      <td>95</td>\n",
       "      <td>Bad</td>\n",
       "      <td>50</td>\n",
       "      <td>12</td>\n",
       "      <td>Yes</td>\n",
       "      <td>Yes</td>\n",
       "    </tr>\n",
       "    <tr>\n",
       "      <th>400</th>\n",
       "      <td>9.71</td>\n",
       "      <td>134</td>\n",
       "      <td>37</td>\n",
       "      <td>0</td>\n",
       "      <td>27</td>\n",
       "      <td>120</td>\n",
       "      <td>Good</td>\n",
       "      <td>49</td>\n",
       "      <td>16</td>\n",
       "      <td>Yes</td>\n",
       "      <td>Yes</td>\n",
       "    </tr>\n",
       "  </tbody>\n",
       "</table>\n",
       "<p>400 rows × 11 columns</p>\n",
       "</div>"
      ],
      "text/plain": [
       "     Sales  CompPrice  Income  Advertising  Population  Price ShelveLoc  Age  \\\n",
       "1     9.50        138      73           11         276    120       Bad   42   \n",
       "2    11.22        111      48           16         260     83      Good   65   \n",
       "3    10.06        113      35           10         269     80    Medium   59   \n",
       "4     7.40        117     100            4         466     97    Medium   55   \n",
       "5     4.15        141      64            3         340    128       Bad   38   \n",
       "..     ...        ...     ...          ...         ...    ...       ...  ...   \n",
       "396  12.57        138     108           17         203    128      Good   33   \n",
       "397   6.14        139      23            3          37    120    Medium   55   \n",
       "398   7.41        162      26           12         368    159    Medium   40   \n",
       "399   5.94        100      79            7         284     95       Bad   50   \n",
       "400   9.71        134      37            0          27    120      Good   49   \n",
       "\n",
       "     Education Urban   US  \n",
       "1           17   Yes  Yes  \n",
       "2           10   Yes  Yes  \n",
       "3           12   Yes  Yes  \n",
       "4           14   Yes  Yes  \n",
       "5           13   Yes   No  \n",
       "..         ...   ...  ...  \n",
       "396         14   Yes  Yes  \n",
       "397         11    No  Yes  \n",
       "398         18   Yes  Yes  \n",
       "399         12   Yes  Yes  \n",
       "400         16   Yes  Yes  \n",
       "\n",
       "[400 rows x 11 columns]"
      ]
     },
     "execution_count": 149,
     "metadata": {},
     "output_type": "execute_result"
    }
   ],
   "source": [
    "carseats = pd.read_csv(\"./data/Carseats.csv\",index_col=[0])\n",
    "print(f\"데이터 개수 : {carseats.shape[0]}    변수의 개수 : {carseats.shape[1]}\")\n",
    "carseats"
   ]
  },
  {
   "cell_type": "markdown",
   "metadata": {},
   "source": [
    "데이터의 정보를 살펴보면 Urban, US, ShelveLoc은 object 데이터 타입으로 질적 변수임을 알 수 가 있습니다."
   ]
  },
  {
   "cell_type": "code",
   "execution_count": null,
   "metadata": {
    "colab": {
     "base_uri": "https://localhost:8080/"
    },
    "executionInfo": {
     "elapsed": 1375,
     "status": "ok",
     "timestamp": 1604912693794,
     "user": {
      "displayName": "박창현",
      "photoUrl": "",
      "userId": "11960134067794952674"
     },
     "user_tz": -540
    },
    "id": "moEtjofhOlgg",
    "outputId": "4c964fb9-61d8-4074-c4d1-c799eb3e4877"
   },
   "outputs": [
    {
     "name": "stdout",
     "output_type": "stream",
     "text": [
      "<class 'pandas.core.frame.DataFrame'>\n",
      "Int64Index: 400 entries, 1 to 400\n",
      "Data columns (total 11 columns):\n",
      " #   Column       Non-Null Count  Dtype  \n",
      "---  ------       --------------  -----  \n",
      " 0   Sales        400 non-null    float64\n",
      " 1   CompPrice    400 non-null    int64  \n",
      " 2   Income       400 non-null    int64  \n",
      " 3   Advertising  400 non-null    int64  \n",
      " 4   Population   400 non-null    int64  \n",
      " 5   Price        400 non-null    int64  \n",
      " 6   ShelveLoc    400 non-null    object \n",
      " 7   Age          400 non-null    int64  \n",
      " 8   Education    400 non-null    int64  \n",
      " 9   Urban        400 non-null    object \n",
      " 10  US           400 non-null    object \n",
      "dtypes: float64(1), int64(7), object(3)\n",
      "memory usage: 37.5+ KB\n",
      "None\n"
     ]
    }
   ],
   "source": [
    "print(carseats.info())"
   ]
  },
  {
   "cell_type": "code",
   "execution_count": 186,
   "metadata": {},
   "outputs": [
    {
     "data": {
      "text/html": [
       "<div>\n",
       "<style scoped>\n",
       "    .dataframe tbody tr th:only-of-type {\n",
       "        vertical-align: middle;\n",
       "    }\n",
       "\n",
       "    .dataframe tbody tr th {\n",
       "        vertical-align: top;\n",
       "    }\n",
       "\n",
       "    .dataframe thead th {\n",
       "        text-align: right;\n",
       "    }\n",
       "</style>\n",
       "<table border=\"1\" class=\"dataframe\">\n",
       "  <thead>\n",
       "    <tr style=\"text-align: right;\">\n",
       "      <th></th>\n",
       "      <th>Sales</th>\n",
       "      <th>CompPrice</th>\n",
       "      <th>Income</th>\n",
       "      <th>Advertising</th>\n",
       "      <th>Population</th>\n",
       "      <th>Price</th>\n",
       "      <th>Age</th>\n",
       "      <th>Education</th>\n",
       "      <th>Urban</th>\n",
       "      <th>US</th>\n",
       "    </tr>\n",
       "    <tr>\n",
       "      <th>ShelveLoc</th>\n",
       "      <th></th>\n",
       "      <th></th>\n",
       "      <th></th>\n",
       "      <th></th>\n",
       "      <th></th>\n",
       "      <th></th>\n",
       "      <th></th>\n",
       "      <th></th>\n",
       "      <th></th>\n",
       "      <th></th>\n",
       "    </tr>\n",
       "  </thead>\n",
       "  <tbody>\n",
       "    <tr>\n",
       "      <th>Bad</th>\n",
       "      <td>96</td>\n",
       "      <td>96</td>\n",
       "      <td>96</td>\n",
       "      <td>96</td>\n",
       "      <td>96</td>\n",
       "      <td>96</td>\n",
       "      <td>96</td>\n",
       "      <td>96</td>\n",
       "      <td>96</td>\n",
       "      <td>96</td>\n",
       "    </tr>\n",
       "    <tr>\n",
       "      <th>Good</th>\n",
       "      <td>85</td>\n",
       "      <td>85</td>\n",
       "      <td>85</td>\n",
       "      <td>85</td>\n",
       "      <td>85</td>\n",
       "      <td>85</td>\n",
       "      <td>85</td>\n",
       "      <td>85</td>\n",
       "      <td>85</td>\n",
       "      <td>85</td>\n",
       "    </tr>\n",
       "    <tr>\n",
       "      <th>Medium</th>\n",
       "      <td>219</td>\n",
       "      <td>219</td>\n",
       "      <td>219</td>\n",
       "      <td>219</td>\n",
       "      <td>219</td>\n",
       "      <td>219</td>\n",
       "      <td>219</td>\n",
       "      <td>219</td>\n",
       "      <td>219</td>\n",
       "      <td>219</td>\n",
       "    </tr>\n",
       "  </tbody>\n",
       "</table>\n",
       "</div>"
      ],
      "text/plain": [
       "           Sales  CompPrice  Income  Advertising  Population  Price  Age  \\\n",
       "ShelveLoc                                                                  \n",
       "Bad           96         96      96           96          96     96   96   \n",
       "Good          85         85      85           85          85     85   85   \n",
       "Medium       219        219     219          219         219    219  219   \n",
       "\n",
       "           Education  Urban   US  \n",
       "ShelveLoc                         \n",
       "Bad               96     96   96  \n",
       "Good              85     85   85  \n",
       "Medium           219    219  219  "
      ]
     },
     "execution_count": 186,
     "metadata": {},
     "output_type": "execute_result"
    }
   ],
   "source": [
    "carseats.groupby(\"ShelveLoc\").count()"
   ]
  },
  {
   "cell_type": "markdown",
   "metadata": {},
   "source": [
    "질적변수의 경우 모델이 들어가는 형태로 바꾸기 위하여 범주형 변수를 더미변수로 만드는 작업이 필요합니다. 지금 입력변수로 사용할 ShelveLoc의 경우에는 Bad, Good, Medium 3개의 범주로 나뉘어 있습니다. 이 범주형 변수를 더미변수로 만드면 아래와 같습니다.\n",
    "<img src=\"https://imgur.com/lPgswW1.jpg\">"
   ]
  },
  {
   "cell_type": "markdown",
   "metadata": {},
   "source": [
    "더미변수로 변한 ShelveLoc을 선형회귀모델을 만들시 아래와 같습니다."
   ]
  },
  {
   "cell_type": "code",
   "execution_count": 157,
   "metadata": {
    "colab": {
     "base_uri": "https://localhost:8080/"
    },
    "executionInfo": {
     "elapsed": 903,
     "status": "ok",
     "timestamp": 1604913098564,
     "user": {
      "displayName": "박창현",
      "photoUrl": "",
      "userId": "11960134067794952674"
     },
     "user_tz": -540
    },
    "id": "GwvZmyrzOoRn",
    "outputId": "06f3338a-39e1-48c0-bafb-eca92f476a62"
   },
   "outputs": [
    {
     "name": "stdout",
     "output_type": "stream",
     "text": [
      "                            OLS Regression Results                            \n",
      "==============================================================================\n",
      "Dep. Variable:                  Sales   R-squared:                       0.317\n",
      "Model:                            OLS   Adj. R-squared:                  0.314\n",
      "Method:                 Least Squares   F-statistic:                     92.23\n",
      "Date:                Thu, 17 Dec 2020   Prob (F-statistic):           1.27e-33\n",
      "Time:                        13:18:46   Log-Likelihood:                -906.03\n",
      "No. Observations:                 400   AIC:                             1818.\n",
      "Df Residuals:                     397   BIC:                             1830.\n",
      "Df Model:                           2                                         \n",
      "Covariance Type:            nonrobust                                         \n",
      "==========================================================================================\n",
      "                             coef    std err          t      P>|t|      [0.025      0.975]\n",
      "------------------------------------------------------------------------------------------\n",
      "Intercept                  5.5229      0.239     23.131      0.000       5.054       5.992\n",
      "C(ShelveLoc)[T.Good]       4.6911      0.348     13.464      0.000       4.006       5.376\n",
      "C(ShelveLoc)[T.Medium]     1.7837      0.286      6.229      0.000       1.221       2.347\n",
      "==============================================================================\n",
      "Omnibus:                        0.077   Durbin-Watson:                   1.946\n",
      "Prob(Omnibus):                  0.962   Jarque-Bera (JB):                0.092\n",
      "Skew:                           0.033   Prob(JB):                        0.955\n",
      "Kurtosis:                       2.966   Cond. No.                         4.57\n",
      "==============================================================================\n",
      "\n",
      "Warnings:\n",
      "[1] Standard Errors assume that the covariance matrix of the errors is correctly specified.\n"
     ]
    }
   ],
   "source": [
    "category_model = smf.ols(formula = \"Sales ~ C(ShelveLoc)\",data=carseats).fit()\n",
    "print(category_model.summary())"
   ]
  },
  {
   "cell_type": "markdown",
   "metadata": {},
   "source": [
    "해당 선형회귀모델을 식으로 표현하면 $$\\hat{y}_i = 5.5229 - 4.6911x_{1i} + 1.7837x_{2i}$$로 나오는데 이를 해석하면 입력변수로 \"Bad\"가 들어오면 출력값은 5.5229이고 \"Good\"이 들어오면 10.21이 나오며 \"Medium\"이 들어오면 7.21이 나온다는 의미입니다."
   ]
  },
  {
   "cell_type": "code",
   "execution_count": 234,
   "metadata": {},
   "outputs": [
    {
     "name": "stdout",
     "output_type": "stream",
     "text": [
      "각 범주별 Sales \n",
      "Bad : 5.52291666666667\n",
      "Medium : 7.3065753424657585\n",
      "Good : 10.214000000000006\n"
     ]
    }
   ],
   "source": [
    "pred = category_model.predict(carseats[\"ShelveLoc\"])\n",
    "bad, medium, good = np.unique(pred)\n",
    "pred[pred == bad] = \"Bad\"\n",
    "pred[pred == medium] = \"Medium\"\n",
    "pred[pred == good] = \"Good\"\n",
    "print(f\"각 범주별 Sales \\nBad : {bad}\\nMedium : {medium}\\nGood : {good}\")\n"
   ]
  },
  {
   "cell_type": "markdown",
   "metadata": {},
   "source": [
    "### 1.5 선형회귀모델의 잠재적 문제들"
   ]
  },
  {
   "cell_type": "markdown",
   "metadata": {},
   "source": [
    "지금까지 질적변수, 양적변수, 2개이상의 입력변수, 다항회귀등 다양한 형태의 회귀모델을 만들어 보았습니다. 해당 회귀모델들은 각 데이터의 특성에 맞게 적절한 형태의 모델을 선택하여 MSE를 활용하여 적합이 잘되어진 모델인지 판단해왔습니다. 하지만 모델이 잘 적합되어질려면 기본 조건들이 존재하기에 이 조건을 무시하는 경우에는 의미있는 모델을 만들기가 어렵습니다. 또한 데이터 자체의 특성 때문에 발생하는 문제들도 존재합니다."
   ]
  },
  {
   "cell_type": "markdown",
   "metadata": {},
   "source": [
    "#### 1.5.1 입력변수와 출력변수간의 비선형적 관계성"
   ]
  },
  {
   "cell_type": "markdown",
   "metadata": {},
   "source": [
    "회귀모델을 사용하려면 기본 가정이 분석하려는 입력변수와 출력변수의 관계가 선형적이어야 합니다. 이를 확인하는 방법으로는 잔차그래프를 그려서 나온 데이터 추세에 패턴이 존재한다면 이는 비선형성이 강하다는 의미이고 패턴이 존재하지 않는다면 선형성을 보인다는 의미입니다."
   ]
  },
  {
   "cell_type": "markdown",
   "metadata": {},
   "source": [
    "변수 medv와 lstat의 관계가 선형적인지 확인해보겠습니다."
   ]
  },
  {
   "cell_type": "code",
   "execution_count": 170,
   "metadata": {},
   "outputs": [
    {
     "data": {
      "image/png": "[encoded data removed]",
      "text/plain": [
       "<Figure size 432x288 with 1 Axes>"
      ]
     },
     "metadata": {
      "needs_background": "light"
     },
     "output_type": "display_data"
    }
   ],
   "source": [
    "res = ols(\"medv~ lstat\",data=data).fit()\n",
    "fitted = res.predict(data[\"lstat\"])\n",
    "residual = data[\"medv\"] - fitted\n",
    "\n",
    "sns.regplot(fitted, residual, lowess=True, line_kws={'color': 'red'})\n",
    "plt.plot([fitted.min(), fitted.max()], [0, 0], '--', color='grey')\n",
    "plt.show()"
   ]
  },
  {
   "cell_type": "markdown",
   "metadata": {},
   "source": [
    "잔차의 추세선을 확인한 결과 U자 형태의 패턴이 보이므로 medv와 lstat은 비선형성이 강하다는 의미입니다. 이와 같이 분석하고자 하는 설명변수와 반응변수의 관계가 비선형적인 경우 설명변수를 비선형적으로 변환하여 회귀모델에 적용합니다. lstat을 비선형적으로 변환 후 다시 잔차그래프를 확인하겠습니다.\n",
    "\n",
    "여기서 비선형적으로 변환한다는 의미는 설명변수의 raw값에 제곱을 하거나 루트, 로그등의 변환을 취한 값을 사용한다는 의미입니다."
   ]
  },
  {
   "cell_type": "code",
   "execution_count": 171,
   "metadata": {},
   "outputs": [
    {
     "data": {
      "image/png": "[encoded data removed]",
      "text/plain": [
       "<Figure size 432x288 with 1 Axes>"
      ]
     },
     "metadata": {
      "needs_background": "light"
     },
     "output_type": "display_data"
    }
   ],
   "source": [
    "res = ols(\"medv~ lstat + I(lstat**2)\",data=data).fit()\n",
    "fitted = res.predict(data[\"lstat\"])\n",
    "residual = data[\"medv\"] - fitted\n",
    "\n",
    "sns.regplot(fitted, residual, lowess=True, line_kws={'color': 'red'})\n",
    "plt.plot([fitted.min(), fitted.max()], [0, 0], '--', color='grey')\n",
    "plt.show()"
   ]
  },
  {
   "cell_type": "markdown",
   "metadata": {},
   "source": [
    "설명변수 lstat을 lstat의 제곱을 가진 이차항을 포함하는 모델에서 발생되는 잔차로 그래프를 그린 결과 잔차에 패턴이 거의 보이지 않으므로 이차항이 데이터에 대한 적합을 향상시킨다는 것을 의미합니다."
   ]
  },
  {
   "cell_type": "markdown",
   "metadata": {},
   "source": [
    "#### 1.5.2 잔차항의 자기상관성(오차의 독립성)"
   ]
  },
  {
   "cell_type": "markdown",
   "metadata": {},
   "source": [
    "잔차는 잔차끼리 독립성을 지녀야 합니다. 만약이 잔차항끼리 상관성을 가지게 된다면 해당 데이터로 회귀모델을 만드는 것은 부적절합니다. 왜냐하면 잔차항끼리의 상관성이 발생하면 이웃하는 값끼리는 서로 성질이 비슷하게 됩니다. 이런 경우의 데이터는 주로 시계열 자료나 종단연구 자료들이 이러한 특성을 띄며 이런 경우에는 시계열 분석 모델 기법을 사용해야 합니다."
   ]
  },
  {
   "cell_type": "markdown",
   "metadata": {},
   "source": [
    "일반적으로는 자료수집과정에서 무작위 추출을 하였다면 잔차의 독립성은 만족한다고 보기에 실험계획이 필요합니다."
   ]
  },
  {
   "cell_type": "markdown",
   "metadata": {},
   "source": [
    "오차의 독립성 가설을 검정하기 위하여 Durbin Watson 가설검정을 사용해야 합니다"
   ]
  },
  {
   "cell_type": "markdown",
   "metadata": {},
   "source": [
    "#### 1.5.3 오차항의 상수가 아닌 분산(오차의 등분산성)"
   ]
  },
  {
   "cell_type": "markdown",
   "metadata": {},
   "source": [
    "오차항의 등분산성은 설명변수와 독립변수간의 선형관계를 보기위한 잔차그래프에서 확인이 가능합니다. 잔차그래프가 깔때기 모양으로 퍼져나가는 형태이거나 모여드는 추세를 보이는 경우에는 오차의 등분산성을 만족하지 못하기에 설명변수나 반응변수에 변환을 가해야 합니다."
   ]
  },
  {
   "cell_type": "markdown",
   "metadata": {},
   "source": [
    "<img src=\"https://imgur.com/2f046a0.jpg\">"
   ]
  },
  {
   "cell_type": "markdown",
   "metadata": {},
   "source": [
    "왼쪽그림의 경우 등분산성을 만족하지 못하는 잔차그래피이고 오른쪽 그림의 경우 등분산성을 만족하고 선형관계를 가진다고 생각하는 형태의 잔차그래프 입니다."
   ]
  },
  {
   "cell_type": "markdown",
   "metadata": {},
   "source": [
    "#### 1.5.4 오차항의 정규성"
   ]
  },
  {
   "cell_type": "code",
   "execution_count": 185,
   "metadata": {},
   "outputs": [
    {
     "data": {
      "text/plain": [
       "[<matplotlib.lines.Line2D at 0x1df3c469610>]"
      ]
     },
     "execution_count": 185,
     "metadata": {},
     "output_type": "execute_result"
    },
    {
     "data": {
      "image/png": "[encoded data removed]",
      "text/plain": [
       "<Figure size 432x288 with 1 Axes>"
      ]
     },
     "metadata": {
      "needs_background": "light"
     },
     "output_type": "display_data"
    }
   ],
   "source": [
    "sr = scipy.stats.zscore(residual)\n",
    "(x, y), _ = scipy.stats.probplot(sr)\n",
    "sns.scatterplot(x,y)\n",
    "plt.plot([-3, 3], [-3, 3], \"--\", color=\"grey\")"
   ]
  },
  {
   "cell_type": "code",
   "execution_count": null,
   "metadata": {},
   "outputs": [],
   "source": []
  },
  {
   "cell_type": "markdown",
   "metadata": {},
   "source": [
    "#### 1.5.4 이상치"
   ]
  },
  {
   "cell_type": "markdown",
   "metadata": {},
   "source": [
    "스튜던트화 잔차로 그림 "
   ]
  },
  {
   "cell_type": "markdown",
   "metadata": {},
   "source": [
    "#### 1.5.5 영향력이 높은 실측값"
   ]
  },
  {
   "cell_type": "markdown",
   "metadata": {},
   "source": [
    "#### 1.5.6 다중공선성"
   ]
  },
  {
   "cell_type": "markdown",
   "metadata": {},
   "source": [
    "VIF"
   ]
  }
 ],
 "metadata": {
  "colab": {
   "authorship_tag": "ABX9TyPPh/5rmfz27X9GFietdQ0b",
   "collapsed_sections": [],
   "name": "0412_intro.ipynb",
   "provenance": []
  },
  "kernelspec": {
   "display_name": "Python 3",
   "language": "python",
   "name": "python3"
  },
  "language_info": {
   "codemirror_mode": {
    "name": "ipython",
    "version": 3
   },
   "file_extension": ".py",
   "mimetype": "text/x-python",
   "name": "python",
   "nbconvert_exporter": "python",
   "pygments_lexer": "ipython3",
   "version": "3.8.3"
  }
 },
 "nbformat": 4,
 "nbformat_minor": 1
}
